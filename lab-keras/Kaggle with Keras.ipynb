{
 "cells": [
  {
   "cell_type": "code",
   "execution_count": 1,
   "metadata": {},
   "outputs": [
    {
     "name": "stderr",
     "output_type": "stream",
     "text": [
      "Using TensorFlow backend.\n",
      "/Users/ajinthchristudas/anaconda/lib/python3.6/importlib/_bootstrap.py:205: RuntimeWarning: compiletime version 3.5 of module 'tensorflow.python.framework.fast_tensor_util' does not match runtime version 3.6\n",
      "  return f(*args, **kwds)\n",
      "/Users/ajinthchristudas/anaconda/lib/python3.6/site-packages/sklearn/cross_validation.py:41: DeprecationWarning: This module was deprecated in version 0.18 in favor of the model_selection module into which all the refactored classes and functions are moved. Also note that the interface of the new CV iterators are different from that of this module. This module will be removed in 0.20.\n",
      "  \"This module will be removed in 0.20.\", DeprecationWarning)\n"
     ]
    }
   ],
   "source": [
    "import pandas as pd\n",
    "from keras.models import Sequential\n",
    "from keras.layers import Dense, Input, Dropout\n",
    "from keras.utils import np_utils\n",
    "from sklearn.model_selection import train_test_split\n",
    "import matplotlib.pyplot as plt\n",
    "%matplotlib inline\n",
    "\n",
    "\n",
    "from keras.models import Sequential\n",
    "from keras.layers import Dense, Dropout\n",
    "from keras import losses\n",
    "\n",
    "from sklearn.cross_validation import train_test_split\n",
    "from sklearn.preprocessing import StandardScaler, LabelEncoder\n",
    "from keras.utils import to_categorical"
   ]
  },
  {
   "cell_type": "markdown",
   "metadata": {},
   "source": [
    "### Load training data\n",
    "\n",
    "Load `train.csv` from Kaggle into a pandas DataFrame."
   ]
  },
  {
   "cell_type": "code",
   "execution_count": 2,
   "metadata": {
    "collapsed": true
   },
   "outputs": [],
   "source": [
    "train = pd.read_csv('train.csv')"
   ]
  },
  {
   "cell_type": "code",
   "execution_count": 3,
   "metadata": {},
   "outputs": [
    {
     "data": {
      "text/html": [
       "<div>\n",
       "<style scoped>\n",
       "    .dataframe tbody tr th:only-of-type {\n",
       "        vertical-align: middle;\n",
       "    }\n",
       "\n",
       "    .dataframe tbody tr th {\n",
       "        vertical-align: top;\n",
       "    }\n",
       "\n",
       "    .dataframe thead th {\n",
       "        text-align: right;\n",
       "    }\n",
       "</style>\n",
       "<table border=\"1\" class=\"dataframe\">\n",
       "  <thead>\n",
       "    <tr style=\"text-align: right;\">\n",
       "      <th></th>\n",
       "      <th>label</th>\n",
       "      <th>pixel0</th>\n",
       "      <th>pixel1</th>\n",
       "      <th>pixel2</th>\n",
       "      <th>pixel3</th>\n",
       "      <th>pixel4</th>\n",
       "      <th>pixel5</th>\n",
       "      <th>pixel6</th>\n",
       "      <th>pixel7</th>\n",
       "      <th>pixel8</th>\n",
       "      <th>...</th>\n",
       "      <th>pixel774</th>\n",
       "      <th>pixel775</th>\n",
       "      <th>pixel776</th>\n",
       "      <th>pixel777</th>\n",
       "      <th>pixel778</th>\n",
       "      <th>pixel779</th>\n",
       "      <th>pixel780</th>\n",
       "      <th>pixel781</th>\n",
       "      <th>pixel782</th>\n",
       "      <th>pixel783</th>\n",
       "    </tr>\n",
       "  </thead>\n",
       "  <tbody>\n",
       "    <tr>\n",
       "      <th>0</th>\n",
       "      <td>1</td>\n",
       "      <td>0</td>\n",
       "      <td>0</td>\n",
       "      <td>0</td>\n",
       "      <td>0</td>\n",
       "      <td>0</td>\n",
       "      <td>0</td>\n",
       "      <td>0</td>\n",
       "      <td>0</td>\n",
       "      <td>0</td>\n",
       "      <td>...</td>\n",
       "      <td>0</td>\n",
       "      <td>0</td>\n",
       "      <td>0</td>\n",
       "      <td>0</td>\n",
       "      <td>0</td>\n",
       "      <td>0</td>\n",
       "      <td>0</td>\n",
       "      <td>0</td>\n",
       "      <td>0</td>\n",
       "      <td>0</td>\n",
       "    </tr>\n",
       "    <tr>\n",
       "      <th>1</th>\n",
       "      <td>0</td>\n",
       "      <td>0</td>\n",
       "      <td>0</td>\n",
       "      <td>0</td>\n",
       "      <td>0</td>\n",
       "      <td>0</td>\n",
       "      <td>0</td>\n",
       "      <td>0</td>\n",
       "      <td>0</td>\n",
       "      <td>0</td>\n",
       "      <td>...</td>\n",
       "      <td>0</td>\n",
       "      <td>0</td>\n",
       "      <td>0</td>\n",
       "      <td>0</td>\n",
       "      <td>0</td>\n",
       "      <td>0</td>\n",
       "      <td>0</td>\n",
       "      <td>0</td>\n",
       "      <td>0</td>\n",
       "      <td>0</td>\n",
       "    </tr>\n",
       "    <tr>\n",
       "      <th>2</th>\n",
       "      <td>1</td>\n",
       "      <td>0</td>\n",
       "      <td>0</td>\n",
       "      <td>0</td>\n",
       "      <td>0</td>\n",
       "      <td>0</td>\n",
       "      <td>0</td>\n",
       "      <td>0</td>\n",
       "      <td>0</td>\n",
       "      <td>0</td>\n",
       "      <td>...</td>\n",
       "      <td>0</td>\n",
       "      <td>0</td>\n",
       "      <td>0</td>\n",
       "      <td>0</td>\n",
       "      <td>0</td>\n",
       "      <td>0</td>\n",
       "      <td>0</td>\n",
       "      <td>0</td>\n",
       "      <td>0</td>\n",
       "      <td>0</td>\n",
       "    </tr>\n",
       "    <tr>\n",
       "      <th>3</th>\n",
       "      <td>4</td>\n",
       "      <td>0</td>\n",
       "      <td>0</td>\n",
       "      <td>0</td>\n",
       "      <td>0</td>\n",
       "      <td>0</td>\n",
       "      <td>0</td>\n",
       "      <td>0</td>\n",
       "      <td>0</td>\n",
       "      <td>0</td>\n",
       "      <td>...</td>\n",
       "      <td>0</td>\n",
       "      <td>0</td>\n",
       "      <td>0</td>\n",
       "      <td>0</td>\n",
       "      <td>0</td>\n",
       "      <td>0</td>\n",
       "      <td>0</td>\n",
       "      <td>0</td>\n",
       "      <td>0</td>\n",
       "      <td>0</td>\n",
       "    </tr>\n",
       "    <tr>\n",
       "      <th>4</th>\n",
       "      <td>0</td>\n",
       "      <td>0</td>\n",
       "      <td>0</td>\n",
       "      <td>0</td>\n",
       "      <td>0</td>\n",
       "      <td>0</td>\n",
       "      <td>0</td>\n",
       "      <td>0</td>\n",
       "      <td>0</td>\n",
       "      <td>0</td>\n",
       "      <td>...</td>\n",
       "      <td>0</td>\n",
       "      <td>0</td>\n",
       "      <td>0</td>\n",
       "      <td>0</td>\n",
       "      <td>0</td>\n",
       "      <td>0</td>\n",
       "      <td>0</td>\n",
       "      <td>0</td>\n",
       "      <td>0</td>\n",
       "      <td>0</td>\n",
       "    </tr>\n",
       "  </tbody>\n",
       "</table>\n",
       "<p>5 rows × 785 columns</p>\n",
       "</div>"
      ],
      "text/plain": [
       "   label  pixel0  pixel1  pixel2  pixel3  pixel4  pixel5  pixel6  pixel7  \\\n",
       "0      1       0       0       0       0       0       0       0       0   \n",
       "1      0       0       0       0       0       0       0       0       0   \n",
       "2      1       0       0       0       0       0       0       0       0   \n",
       "3      4       0       0       0       0       0       0       0       0   \n",
       "4      0       0       0       0       0       0       0       0       0   \n",
       "\n",
       "   pixel8    ...     pixel774  pixel775  pixel776  pixel777  pixel778  \\\n",
       "0       0    ...            0         0         0         0         0   \n",
       "1       0    ...            0         0         0         0         0   \n",
       "2       0    ...            0         0         0         0         0   \n",
       "3       0    ...            0         0         0         0         0   \n",
       "4       0    ...            0         0         0         0         0   \n",
       "\n",
       "   pixel779  pixel780  pixel781  pixel782  pixel783  \n",
       "0         0         0         0         0         0  \n",
       "1         0         0         0         0         0  \n",
       "2         0         0         0         0         0  \n",
       "3         0         0         0         0         0  \n",
       "4         0         0         0         0         0  \n",
       "\n",
       "[5 rows x 785 columns]"
      ]
     },
     "execution_count": 3,
     "metadata": {},
     "output_type": "execute_result"
    }
   ],
   "source": [
    "train.head()"
   ]
  },
  {
   "cell_type": "code",
   "execution_count": 4,
   "metadata": {},
   "outputs": [
    {
     "name": "stdout",
     "output_type": "stream",
     "text": [
      "<class 'numpy.ndarray'>\n",
      "<class 'pandas.core.series.Series'>\n",
      "X Shape  (42000, 784)\n",
      "Y Shape  (42000,)\n"
     ]
    }
   ],
   "source": [
    "X = train[train.columns[1:]].values\n",
    "y = train['label']\n",
    "\n",
    "print (type(X))\n",
    "print (type(y))\n",
    "\n",
    "\n",
    "print ('X Shape ', X.shape)\n",
    "print ('Y Shape ', y.shape)"
   ]
  },
  {
   "cell_type": "markdown",
   "metadata": {},
   "source": [
    "# Analyzing the Training Digits "
   ]
  },
  {
   "cell_type": "code",
   "execution_count": 5,
   "metadata": {},
   "outputs": [
    {
     "data": {
      "image/png": "[encoded data removed]",
      "text/plain": [
       "<matplotlib.figure.Figure at 0x11b52f4e0>"
      ]
     },
     "metadata": {},
     "output_type": "display_data"
    }
   ],
   "source": [
    "fig, ax = plt.subplots(nrows=2, ncols=5)\n",
    "\n",
    "ax = ax.flatten()\n",
    "\n",
    "for i in range(10): \n",
    "    \n",
    "    img = X[y==i][0].reshape(28,28)\n",
    "    ax[i].imshow(img, cmap='Greys')\n",
    "    \n",
    "plt.tight_layout()\n",
    "plt.show()"
   ]
  },
  {
   "cell_type": "markdown",
   "metadata": {},
   "source": [
    "### Preprocessing\n",
    "\n",
    "1. When dealing with image data, you need to normalize your `X` by dividing each value by the max number of pixels (255).\n",
    "2. Since this is a multiclass classification problem, keras needs `y` to be a one-hot encoded matrix"
   ]
  },
  {
   "cell_type": "code",
   "execution_count": 6,
   "metadata": {
    "collapsed": true
   },
   "outputs": [],
   "source": [
    "X = X/255.\n",
    "y = to_categorical(y)"
   ]
  },
  {
   "cell_type": "code",
   "execution_count": 8,
   "metadata": {},
   "outputs": [
    {
     "name": "stdout",
     "output_type": "stream",
     "text": [
      "X Shape  (42000, 784)\n",
      "Y Shape  (42000, 10)\n"
     ]
    }
   ],
   "source": [
    "print ('X Shape ', X.shape)\n",
    "print ('Y Shape ', y.shape)"
   ]
  },
  {
   "cell_type": "code",
   "execution_count": 15,
   "metadata": {},
   "outputs": [
    {
     "data": {
      "text/plain": [
       "array([[ 0.,  0.,  0., ...,  0.,  0.,  0.],\n",
       "       [ 0.,  0.,  0., ...,  0.,  0.,  0.],\n",
       "       [ 0.,  0.,  0., ...,  0.,  0.,  0.],\n",
       "       [ 0.,  0.,  0., ...,  0.,  0.,  0.],\n",
       "       [ 0.,  0.,  0., ...,  0.,  0.,  0.]])"
      ]
     },
     "execution_count": 15,
     "metadata": {},
     "output_type": "execute_result"
    }
   ],
   "source": [
    "X[5:10]"
   ]
  },
  {
   "cell_type": "markdown",
   "metadata": {},
   "source": [
    "### Train/Test Split\n",
    "\n",
    "We want to create a validation set that the model will never see to approximate how it's going to do with Kaggle's `test.csv`. Use `sklearn`'s `train_test_split` to do this."
   ]
  },
  {
   "cell_type": "code",
   "execution_count": 9,
   "metadata": {
    "collapsed": true
   },
   "outputs": [],
   "source": [
    "X_train, X_test, y_train, y_test = train_test_split(X,y, test_size = 0.2)"
   ]
  },
  {
   "cell_type": "markdown",
   "metadata": {},
   "source": [
    "### Create your neural network\n",
    "\n",
    "Create a neural network using the `Dense` and `Dropout` layers from `keras`. Your activation function for the final output layer needs to be `softmax` to accomidate the ten different classes."
   ]
  },
  {
   "cell_type": "code",
   "execution_count": 118,
   "metadata": {},
   "outputs": [
    {
     "name": "stdout",
     "output_type": "stream",
     "text": [
      "Train on 33600 samples, validate on 8400 samples\n",
      "Epoch 1/50\n",
      "33600/33600 [==============================] - 8s 251us/step - loss: 0.9713 - acc: 0.6690 - val_loss: 0.2626 - val_acc: 0.9260\n",
      "Epoch 2/50\n",
      "33600/33600 [==============================] - 8s 224us/step - loss: 0.3376 - acc: 0.9104 - val_loss: 0.1856 - val_acc: 0.9482\n",
      "Epoch 3/50\n",
      "33600/33600 [==============================] - 7s 221us/step - loss: 0.2548 - acc: 0.9335 - val_loss: 0.1567 - val_acc: 0.9551\n",
      "Epoch 4/50\n",
      "33600/33600 [==============================] - 7s 221us/step - loss: 0.2159 - acc: 0.9439 - val_loss: 0.1394 - val_acc: 0.9617\n",
      "Epoch 5/50\n",
      "33600/33600 [==============================] - 7s 223us/step - loss: 0.1915 - acc: 0.9511 - val_loss: 0.1299 - val_acc: 0.9632\n",
      "Epoch 6/50\n",
      "33600/33600 [==============================] - 8s 229us/step - loss: 0.1664 - acc: 0.9574 - val_loss: 0.1282 - val_acc: 0.9676\n",
      "Epoch 7/50\n",
      "33600/33600 [==============================] - 8s 241us/step - loss: 0.1519 - acc: 0.9609 - val_loss: 0.1258 - val_acc: 0.9655\n",
      "Epoch 8/50\n",
      "33600/33600 [==============================] - 9s 262us/step - loss: 0.1428 - acc: 0.9643 - val_loss: 0.1109 - val_acc: 0.9688\n",
      "Epoch 9/50\n",
      "33600/33600 [==============================] - 8s 250us/step - loss: 0.1312 - acc: 0.9663 - val_loss: 0.1173 - val_acc: 0.9708\n",
      "Epoch 10/50\n",
      "33600/33600 [==============================] - 7s 212us/step - loss: 0.1229 - acc: 0.9683 - val_loss: 0.1116 - val_acc: 0.9699\n",
      "Epoch 11/50\n",
      "33600/33600 [==============================] - 9s 253us/step - loss: 0.1213 - acc: 0.9696 - val_loss: 0.1042 - val_acc: 0.9725\n",
      "Epoch 12/50\n",
      "33600/33600 [==============================] - 10s 286us/step - loss: 0.1123 - acc: 0.9715 - val_loss: 0.1148 - val_acc: 0.9705\n",
      "Epoch 13/50\n",
      "33600/33600 [==============================] - 9s 257us/step - loss: 0.1074 - acc: 0.9719 - val_loss: 0.1055 - val_acc: 0.9739\n",
      "Epoch 14/50\n",
      "33600/33600 [==============================] - 7s 205us/step - loss: 0.0948 - acc: 0.9750 - val_loss: 0.1107 - val_acc: 0.9742\n",
      "Epoch 15/50\n",
      "33600/33600 [==============================] - 8s 226us/step - loss: 0.0918 - acc: 0.9754 - val_loss: 0.0971 - val_acc: 0.9750\n",
      "Epoch 16/50\n",
      "33600/33600 [==============================] - 7s 204us/step - loss: 0.0911 - acc: 0.9751 - val_loss: 0.0985 - val_acc: 0.9750\n",
      "Epoch 17/50\n",
      "33600/33600 [==============================] - 7s 205us/step - loss: 0.0828 - acc: 0.9790 - val_loss: 0.1022 - val_acc: 0.9756\n",
      "Epoch 18/50\n",
      "33600/33600 [==============================] - 7s 206us/step - loss: 0.0894 - acc: 0.9777 - val_loss: 0.0980 - val_acc: 0.9755\n",
      "Epoch 19/50\n",
      "33600/33600 [==============================] - 7s 210us/step - loss: 0.0807 - acc: 0.9789 - val_loss: 0.1148 - val_acc: 0.9720\n",
      "Epoch 20/50\n",
      "33600/33600 [==============================] - 8s 243us/step - loss: 0.0796 - acc: 0.9797 - val_loss: 0.1093 - val_acc: 0.9735\n",
      "Epoch 21/50\n",
      "33600/33600 [==============================] - 8s 239us/step - loss: 0.0763 - acc: 0.9806 - val_loss: 0.0972 - val_acc: 0.9745\n",
      "Epoch 22/50\n",
      "33600/33600 [==============================] - 8s 227us/step - loss: 0.0747 - acc: 0.9809 - val_loss: 0.0983 - val_acc: 0.9751\n",
      "Epoch 23/50\n",
      "33600/33600 [==============================] - 8s 238us/step - loss: 0.0672 - acc: 0.9826 - val_loss: 0.0992 - val_acc: 0.9760\n",
      "Epoch 24/50\n",
      "33600/33600 [==============================] - 7s 220us/step - loss: 0.0722 - acc: 0.9804 - val_loss: 0.0968 - val_acc: 0.9767\n",
      "Epoch 25/50\n",
      "33600/33600 [==============================] - 9s 279us/step - loss: 0.0680 - acc: 0.9831 - val_loss: 0.0890 - val_acc: 0.9802\n",
      "Epoch 26/50\n",
      "33600/33600 [==============================] - 10s 299us/step - loss: 0.0651 - acc: 0.9838 - val_loss: 0.0994 - val_acc: 0.9762\n",
      "Epoch 27/50\n",
      "33600/33600 [==============================] - 8s 225us/step - loss: 0.0630 - acc: 0.9833 - val_loss: 0.1006 - val_acc: 0.9771\n",
      "Epoch 28/50\n",
      "33600/33600 [==============================] - 7s 216us/step - loss: 0.0691 - acc: 0.9824 - val_loss: 0.1020 - val_acc: 0.9758\n",
      "Epoch 29/50\n",
      "33600/33600 [==============================] - 8s 234us/step - loss: 0.0640 - acc: 0.9829 - val_loss: 0.1011 - val_acc: 0.9771\n",
      "Epoch 30/50\n",
      "33600/33600 [==============================] - 8s 244us/step - loss: 0.0557 - acc: 0.9851 - val_loss: 0.1106 - val_acc: 0.9755\n",
      "Epoch 31/50\n",
      "33600/33600 [==============================] - 8s 234us/step - loss: 0.0653 - acc: 0.9844 - val_loss: 0.0994 - val_acc: 0.9788\n",
      "Epoch 32/50\n",
      "33600/33600 [==============================] - 8s 237us/step - loss: 0.0626 - acc: 0.9843 - val_loss: 0.0981 - val_acc: 0.9773\n",
      "Epoch 33/50\n",
      "33600/33600 [==============================] - 8s 236us/step - loss: 0.0558 - acc: 0.9862 - val_loss: 0.0912 - val_acc: 0.9776\n",
      "Epoch 34/50\n",
      "33600/33600 [==============================] - 8s 237us/step - loss: 0.0584 - acc: 0.9853 - val_loss: 0.1059 - val_acc: 0.9768\n",
      "Epoch 35/50\n",
      "33600/33600 [==============================] - 8s 237us/step - loss: 0.0528 - acc: 0.9862 - val_loss: 0.0991 - val_acc: 0.9769\n",
      "Epoch 36/50\n",
      "33600/33600 [==============================] - 8s 236us/step - loss: 0.0538 - acc: 0.9862 - val_loss: 0.0964 - val_acc: 0.9764\n",
      "Epoch 37/50\n",
      "33600/33600 [==============================] - 8s 232us/step - loss: 0.0518 - acc: 0.9867 - val_loss: 0.1041 - val_acc: 0.9765\n",
      "Epoch 38/50\n",
      "33600/33600 [==============================] - 8s 232us/step - loss: 0.0534 - acc: 0.9863 - val_loss: 0.0988 - val_acc: 0.9777\n",
      "Epoch 39/50\n",
      "33600/33600 [==============================] - 8s 230us/step - loss: 0.0519 - acc: 0.9869 - val_loss: 0.0973 - val_acc: 0.9787\n",
      "Epoch 40/50\n",
      "33600/33600 [==============================] - 8s 228us/step - loss: 0.0482 - acc: 0.9876 - val_loss: 0.0904 - val_acc: 0.9795\n",
      "Epoch 41/50\n",
      "33600/33600 [==============================] - 8s 226us/step - loss: 0.0479 - acc: 0.9876 - val_loss: 0.0945 - val_acc: 0.9782\n",
      "Epoch 42/50\n",
      "33600/33600 [==============================] - 8s 228us/step - loss: 0.0466 - acc: 0.9883 - val_loss: 0.0931 - val_acc: 0.9783\n",
      "Epoch 43/50\n",
      "33600/33600 [==============================] - 8s 229us/step - loss: 0.0405 - acc: 0.9896 - val_loss: 0.1072 - val_acc: 0.9787\n",
      "Epoch 44/50\n",
      "33600/33600 [==============================] - 8s 228us/step - loss: 0.0466 - acc: 0.9885 - val_loss: 0.1003 - val_acc: 0.9786\n",
      "Epoch 45/50\n",
      "33600/33600 [==============================] - 8s 228us/step - loss: 0.0469 - acc: 0.9880 - val_loss: 0.0932 - val_acc: 0.9792\n",
      "Epoch 46/50\n",
      "33600/33600 [==============================] - 8s 228us/step - loss: 0.0427 - acc: 0.9888 - val_loss: 0.0993 - val_acc: 0.9788\n",
      "Epoch 47/50\n",
      "33600/33600 [==============================] - 8s 228us/step - loss: 0.0439 - acc: 0.9888 - val_loss: 0.1031 - val_acc: 0.9785\n",
      "Epoch 48/50\n",
      "33600/33600 [==============================] - 8s 230us/step - loss: 0.0472 - acc: 0.9889 - val_loss: 0.1071 - val_acc: 0.9792\n",
      "Epoch 49/50\n",
      "33600/33600 [==============================] - 8s 228us/step - loss: 0.0436 - acc: 0.9896 - val_loss: 0.1014 - val_acc: 0.9799\n",
      "Epoch 50/50\n",
      "33600/33600 [==============================] - 8s 228us/step - loss: 0.0420 - acc: 0.9896 - val_loss: 0.0985 - val_acc: 0.9788\n"
     ]
    },
    {
     "data": {
      "text/plain": [
       "<keras.callbacks.History at 0x146967f28>"
      ]
     },
     "execution_count": 118,
     "metadata": {},
     "output_type": "execute_result"
    }
   ],
   "source": [
    "model = Sequential()\n",
    "\n",
    "model.add(Dense(X_train.shape[1], input_dim = X_train.shape[1], activation='relu'))\n",
    "\n",
    "model.add(Dropout(.5))\n",
    "model.add(Dense(int(X_train.shape[1]/2), activation='relu'))\n",
    "model.add(Dense(int(X_train.shape[1]/4), activation='relu'))\n",
    "model.add(Dense(int(X_train.shape[1]/8), activation='relu'))\n",
    "model.add(Dense(int(X_train.shape[1]/16), activation='relu'))\n",
    "\n",
    "model.add(Dense(y.shape[1], activation='softmax'))\n",
    "\n",
    "model.compile(optimizer='adam', loss='categorical_crossentropy', metrics=['accuracy'])\n",
    "model.fit(X_train, y_train, validation_data=(X_test, y_test), epochs=50, batch_size=100)"
   ]
  },
  {
   "cell_type": "markdown",
   "metadata": {},
   "source": [
    "### Compile your model\n",
    "\n",
    "Since this is a multiclass classification problem, your loss function is `categorical_crossentropy`."
   ]
  },
  {
   "cell_type": "code",
   "execution_count": 119,
   "metadata": {
    "collapsed": true
   },
   "outputs": [],
   "source": [
    "# Done in the previous step "
   ]
  },
  {
   "cell_type": "markdown",
   "metadata": {},
   "source": [
    "### Fit the model\n",
    "\n",
    "Use your X_test, y_test from the `train_test_split` step for the `validation_data` parameter."
   ]
  },
  {
   "cell_type": "code",
   "execution_count": 120,
   "metadata": {
    "collapsed": true
   },
   "outputs": [],
   "source": [
    "# Done in the Previous step "
   ]
  },
  {
   "cell_type": "markdown",
   "metadata": {},
   "source": [
    "### Load in Kaggle's `test.csv`\n",
    "\n",
    "Be sure to do the **same** preprocessing you did for your training `X`."
   ]
  },
  {
   "cell_type": "code",
   "execution_count": 121,
   "metadata": {
    "collapsed": true
   },
   "outputs": [],
   "source": [
    "test = pd.read_csv('test.csv')"
   ]
  },
  {
   "cell_type": "code",
   "execution_count": 122,
   "metadata": {
    "collapsed": true
   },
   "outputs": [],
   "source": [
    "X = test.values"
   ]
  },
  {
   "cell_type": "code",
   "execution_count": 123,
   "metadata": {
    "collapsed": true
   },
   "outputs": [],
   "source": [
    "X = X/255."
   ]
  },
  {
   "cell_type": "markdown",
   "metadata": {},
   "source": [
    "### Create your predictions\n",
    "\n",
    "Use `predict_classes` to get the actual numerical values (0-9)."
   ]
  },
  {
   "cell_type": "code",
   "execution_count": 124,
   "metadata": {
    "collapsed": true
   },
   "outputs": [],
   "source": [
    "pred = model.predict_classes(X)"
   ]
  },
  {
   "cell_type": "code",
   "execution_count": 125,
   "metadata": {},
   "outputs": [
    {
     "data": {
      "text/plain": [
       "array([2, 0, 9, 9, 3, 7, 0, 3, 0, 3, 5, 7, 4, 0, 4, 3, 3, 1, 9, 0, 9, 1, 1,\n",
       "       5, 7])"
      ]
     },
     "execution_count": 125,
     "metadata": {},
     "output_type": "execute_result"
    }
   ],
   "source": [
    "pred[:25]"
   ]
  },
  {
   "cell_type": "markdown",
   "metadata": {},
   "source": [
    "### Prepare your submission\n",
    "\n",
    "1. Add your predictions to a column called `Label`\n",
    "2. You'll need to manually create the `ImageId` column, which is just a list of 1..[NUMBER OF TEST SAMPLES]"
   ]
  },
  {
   "cell_type": "code",
   "execution_count": 128,
   "metadata": {
    "collapsed": true
   },
   "outputs": [],
   "source": [
    "Label = pred"
   ]
  },
  {
   "cell_type": "markdown",
   "metadata": {},
   "source": [
    "### Create your submission csv\n",
    "\n",
    "Remember to set `index=False`!"
   ]
  },
  {
   "cell_type": "code",
   "execution_count": 129,
   "metadata": {
    "collapsed": true
   },
   "outputs": [],
   "source": [
    "pd.DataFrame({\"ImageId\": list(range(1,len(Label)+1)), \"Label\": Label}).to_csv('predictions.csv', \\\n",
    "                                                                              index=False, header=True)"
   ]
  },
  {
   "cell_type": "code",
   "execution_count": null,
   "metadata": {
    "collapsed": true
   },
   "outputs": [],
   "source": []
  }
 ],
 "metadata": {
  "kernelspec": {
   "display_name": "Python 3",
   "language": "python",
   "name": "python3"
  },
  "language_info": {
   "codemirror_mode": {
    "name": "ipython",
    "version": 3
   },
   "file_extension": ".py",
   "mimetype": "text/x-python",
   "name": "python",
   "nbconvert_exporter": "python",
   "pygments_lexer": "ipython3",
   "version": "3.6.1"
  }
 },
 "nbformat": 4,
 "nbformat_minor": 2
}
