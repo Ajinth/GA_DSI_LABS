{
 "cells": [
  {
   "cell_type": "code",
   "execution_count": 25,
   "metadata": {},
   "outputs": [],
   "source": [
    "from sklearn.datasets import load_boston, load_breast_cancer, load_iris, fetch_lfw_people\n",
    "\n",
    "from keras.models import Sequential\n",
    "from keras.layers import Dense, Dropout\n",
    "from keras import losses\n",
    "from sklearn.pipeline import Pipeline\n",
    "\n",
    "from sklearn.cross_validation import train_test_split\n",
    "from sklearn.preprocessing import StandardScaler, LabelEncoder\n",
    "from keras.utils import to_categorical\n",
    "\n",
    "from keras.models import Sequential\n",
    "from keras.layers import Dense, Dropout, Conv2D, MaxPool2D, Flatten\n",
    "from keras.wrappers.scikit_learn import KerasClassifier\n",
    "from sklearn.model_selection import GridSearchCV\n",
    "\n",
    "\n",
    "import matplotlib.pyplot as plt \n",
    "%matplotlib inline"
   ]
  },
  {
   "cell_type": "markdown",
   "metadata": {},
   "source": [
    "### Load training data\n",
    "\n",
    "Load `train.csv` from Kaggle into a pandas DataFrame."
   ]
  },
  {
   "cell_type": "code",
   "execution_count": 26,
   "metadata": {
    "collapsed": true
   },
   "outputs": [],
   "source": [
    "df = pd.read_csv('train.csv')"
   ]
  },
  {
   "cell_type": "code",
   "execution_count": 27,
   "metadata": {},
   "outputs": [
    {
     "data": {
      "text/html": [
       "<div>\n",
       "<style scoped>\n",
       "    .dataframe tbody tr th:only-of-type {\n",
       "        vertical-align: middle;\n",
       "    }\n",
       "\n",
       "    .dataframe tbody tr th {\n",
       "        vertical-align: top;\n",
       "    }\n",
       "\n",
       "    .dataframe thead th {\n",
       "        text-align: right;\n",
       "    }\n",
       "</style>\n",
       "<table border=\"1\" class=\"dataframe\">\n",
       "  <thead>\n",
       "    <tr style=\"text-align: right;\">\n",
       "      <th></th>\n",
       "      <th>label</th>\n",
       "      <th>pixel0</th>\n",
       "      <th>pixel1</th>\n",
       "      <th>pixel2</th>\n",
       "      <th>pixel3</th>\n",
       "      <th>pixel4</th>\n",
       "      <th>pixel5</th>\n",
       "      <th>pixel6</th>\n",
       "      <th>pixel7</th>\n",
       "      <th>pixel8</th>\n",
       "      <th>...</th>\n",
       "      <th>pixel774</th>\n",
       "      <th>pixel775</th>\n",
       "      <th>pixel776</th>\n",
       "      <th>pixel777</th>\n",
       "      <th>pixel778</th>\n",
       "      <th>pixel779</th>\n",
       "      <th>pixel780</th>\n",
       "      <th>pixel781</th>\n",
       "      <th>pixel782</th>\n",
       "      <th>pixel783</th>\n",
       "    </tr>\n",
       "  </thead>\n",
       "  <tbody>\n",
       "    <tr>\n",
       "      <th>0</th>\n",
       "      <td>1</td>\n",
       "      <td>0</td>\n",
       "      <td>0</td>\n",
       "      <td>0</td>\n",
       "      <td>0</td>\n",
       "      <td>0</td>\n",
       "      <td>0</td>\n",
       "      <td>0</td>\n",
       "      <td>0</td>\n",
       "      <td>0</td>\n",
       "      <td>...</td>\n",
       "      <td>0</td>\n",
       "      <td>0</td>\n",
       "      <td>0</td>\n",
       "      <td>0</td>\n",
       "      <td>0</td>\n",
       "      <td>0</td>\n",
       "      <td>0</td>\n",
       "      <td>0</td>\n",
       "      <td>0</td>\n",
       "      <td>0</td>\n",
       "    </tr>\n",
       "    <tr>\n",
       "      <th>1</th>\n",
       "      <td>0</td>\n",
       "      <td>0</td>\n",
       "      <td>0</td>\n",
       "      <td>0</td>\n",
       "      <td>0</td>\n",
       "      <td>0</td>\n",
       "      <td>0</td>\n",
       "      <td>0</td>\n",
       "      <td>0</td>\n",
       "      <td>0</td>\n",
       "      <td>...</td>\n",
       "      <td>0</td>\n",
       "      <td>0</td>\n",
       "      <td>0</td>\n",
       "      <td>0</td>\n",
       "      <td>0</td>\n",
       "      <td>0</td>\n",
       "      <td>0</td>\n",
       "      <td>0</td>\n",
       "      <td>0</td>\n",
       "      <td>0</td>\n",
       "    </tr>\n",
       "    <tr>\n",
       "      <th>2</th>\n",
       "      <td>1</td>\n",
       "      <td>0</td>\n",
       "      <td>0</td>\n",
       "      <td>0</td>\n",
       "      <td>0</td>\n",
       "      <td>0</td>\n",
       "      <td>0</td>\n",
       "      <td>0</td>\n",
       "      <td>0</td>\n",
       "      <td>0</td>\n",
       "      <td>...</td>\n",
       "      <td>0</td>\n",
       "      <td>0</td>\n",
       "      <td>0</td>\n",
       "      <td>0</td>\n",
       "      <td>0</td>\n",
       "      <td>0</td>\n",
       "      <td>0</td>\n",
       "      <td>0</td>\n",
       "      <td>0</td>\n",
       "      <td>0</td>\n",
       "    </tr>\n",
       "    <tr>\n",
       "      <th>3</th>\n",
       "      <td>4</td>\n",
       "      <td>0</td>\n",
       "      <td>0</td>\n",
       "      <td>0</td>\n",
       "      <td>0</td>\n",
       "      <td>0</td>\n",
       "      <td>0</td>\n",
       "      <td>0</td>\n",
       "      <td>0</td>\n",
       "      <td>0</td>\n",
       "      <td>...</td>\n",
       "      <td>0</td>\n",
       "      <td>0</td>\n",
       "      <td>0</td>\n",
       "      <td>0</td>\n",
       "      <td>0</td>\n",
       "      <td>0</td>\n",
       "      <td>0</td>\n",
       "      <td>0</td>\n",
       "      <td>0</td>\n",
       "      <td>0</td>\n",
       "    </tr>\n",
       "    <tr>\n",
       "      <th>4</th>\n",
       "      <td>0</td>\n",
       "      <td>0</td>\n",
       "      <td>0</td>\n",
       "      <td>0</td>\n",
       "      <td>0</td>\n",
       "      <td>0</td>\n",
       "      <td>0</td>\n",
       "      <td>0</td>\n",
       "      <td>0</td>\n",
       "      <td>0</td>\n",
       "      <td>...</td>\n",
       "      <td>0</td>\n",
       "      <td>0</td>\n",
       "      <td>0</td>\n",
       "      <td>0</td>\n",
       "      <td>0</td>\n",
       "      <td>0</td>\n",
       "      <td>0</td>\n",
       "      <td>0</td>\n",
       "      <td>0</td>\n",
       "      <td>0</td>\n",
       "    </tr>\n",
       "  </tbody>\n",
       "</table>\n",
       "<p>5 rows × 785 columns</p>\n",
       "</div>"
      ],
      "text/plain": [
       "   label  pixel0  pixel1  pixel2  pixel3  pixel4  pixel5  pixel6  pixel7  \\\n",
       "0      1       0       0       0       0       0       0       0       0   \n",
       "1      0       0       0       0       0       0       0       0       0   \n",
       "2      1       0       0       0       0       0       0       0       0   \n",
       "3      4       0       0       0       0       0       0       0       0   \n",
       "4      0       0       0       0       0       0       0       0       0   \n",
       "\n",
       "   pixel8    ...     pixel774  pixel775  pixel776  pixel777  pixel778  \\\n",
       "0       0    ...            0         0         0         0         0   \n",
       "1       0    ...            0         0         0         0         0   \n",
       "2       0    ...            0         0         0         0         0   \n",
       "3       0    ...            0         0         0         0         0   \n",
       "4       0    ...            0         0         0         0         0   \n",
       "\n",
       "   pixel779  pixel780  pixel781  pixel782  pixel783  \n",
       "0         0         0         0         0         0  \n",
       "1         0         0         0         0         0  \n",
       "2         0         0         0         0         0  \n",
       "3         0         0         0         0         0  \n",
       "4         0         0         0         0         0  \n",
       "\n",
       "[5 rows x 785 columns]"
      ]
     },
     "execution_count": 27,
     "metadata": {},
     "output_type": "execute_result"
    }
   ],
   "source": [
    "df.head()"
   ]
  },
  {
   "cell_type": "code",
   "execution_count": 28,
   "metadata": {},
   "outputs": [
    {
     "data": {
      "text/plain": [
       "0    1\n",
       "1    0\n",
       "2    1\n",
       "3    4\n",
       "4    0\n",
       "Name: label, dtype: int64"
      ]
     },
     "execution_count": 28,
     "metadata": {},
     "output_type": "execute_result"
    }
   ],
   "source": [
    "df['label'].head()"
   ]
  },
  {
   "cell_type": "code",
   "execution_count": 29,
   "metadata": {},
   "outputs": [
    {
     "data": {
      "text/plain": [
       "<matplotlib.image.AxesImage at 0x131901d68>"
      ]
     },
     "execution_count": 29,
     "metadata": {},
     "output_type": "execute_result"
    },
    {
     "data": {
      "image/png": "[encoded data removed]",
      "text/plain": [
       "<matplotlib.figure.Figure at 0x10caaf3c8>"
      ]
     },
     "metadata": {},
     "output_type": "display_data"
    }
   ],
   "source": [
    "plt.imshow(df.iloc[0, 1:].values.reshape(28,28), cmap=plt.cm.gray)"
   ]
  },
  {
   "cell_type": "code",
   "execution_count": 30,
   "metadata": {},
   "outputs": [],
   "source": [
    "y = to_categorical(df['label'].values)\n",
    "\n",
    "X_train, X_test, y_train, y_test = train_test_split(df[df.columns[1:]].values, y)\n",
    "\n",
    "X_train = X_train / 255.\n",
    "X_test = X_test / 255.\n",
    "\n",
    "X_train = X_train.reshape(X_train.shape[0], 28, 28, 1)\n",
    "X_test = X_test.reshape(X_test.shape[0], 28, 28, 1)"
   ]
  },
  {
   "cell_type": "code",
   "execution_count": 61,
   "metadata": {},
   "outputs": [
    {
     "name": "stdout",
     "output_type": "stream",
     "text": [
      "Train on 31500 samples, validate on 10500 samples\n",
      "Epoch 1/30\n",
      "31500/31500 [==============================] - 18s 563us/step - loss: 0.3288 - acc: 0.9003 - val_loss: 0.1234 - val_acc: 0.9607\n",
      "Epoch 2/30\n",
      "31500/31500 [==============================] - 16s 500us/step - loss: 0.1025 - acc: 0.9684 - val_loss: 0.0839 - val_acc: 0.9746\n",
      "Epoch 3/30\n",
      "31500/31500 [==============================] - 16s 494us/step - loss: 0.0695 - acc: 0.9783 - val_loss: 0.0799 - val_acc: 0.9755\n",
      "Epoch 4/30\n",
      "31500/31500 [==============================] - 15s 479us/step - loss: 0.0562 - acc: 0.9822 - val_loss: 0.0638 - val_acc: 0.9798\n",
      "Epoch 5/30\n",
      "31500/31500 [==============================] - 15s 482us/step - loss: 0.0433 - acc: 0.9863 - val_loss: 0.0707 - val_acc: 0.9775\n",
      "Epoch 6/30\n",
      "31500/31500 [==============================] - 15s 476us/step - loss: 0.0351 - acc: 0.9887 - val_loss: 0.0591 - val_acc: 0.9818\n",
      "Epoch 7/30\n",
      "31500/31500 [==============================] - 15s 476us/step - loss: 0.0302 - acc: 0.9904 - val_loss: 0.0527 - val_acc: 0.9844\n",
      "Epoch 8/30\n",
      "31500/31500 [==============================] - 15s 479us/step - loss: 0.0258 - acc: 0.9917 - val_loss: 0.0689 - val_acc: 0.9815\n",
      "Epoch 9/30\n",
      "31500/31500 [==============================] - 15s 477us/step - loss: 0.0245 - acc: 0.9921 - val_loss: 0.0577 - val_acc: 0.9817\n",
      "Epoch 10/30\n",
      "31500/31500 [==============================] - 15s 487us/step - loss: 0.0172 - acc: 0.9945 - val_loss: 0.0563 - val_acc: 0.9838\n",
      "Epoch 11/30\n",
      "31500/31500 [==============================] - 15s 477us/step - loss: 0.0163 - acc: 0.9947 - val_loss: 0.0753 - val_acc: 0.9815\n",
      "Epoch 12/30\n",
      "31500/31500 [==============================] - 16s 495us/step - loss: 0.0159 - acc: 0.9945 - val_loss: 0.0682 - val_acc: 0.9830\n",
      "Epoch 13/30\n",
      "31500/31500 [==============================] - 16s 512us/step - loss: 0.0123 - acc: 0.9962 - val_loss: 0.0602 - val_acc: 0.9868\n",
      "Epoch 14/30\n",
      "31500/31500 [==============================] - 16s 502us/step - loss: 0.0117 - acc: 0.9963 - val_loss: 0.0691 - val_acc: 0.9831\n",
      "Epoch 15/30\n",
      "31500/31500 [==============================] - 15s 481us/step - loss: 0.0126 - acc: 0.9956 - val_loss: 0.0889 - val_acc: 0.9784\n",
      "Epoch 16/30\n",
      "31500/31500 [==============================] - 19s 612us/step - loss: 0.0103 - acc: 0.9966 - val_loss: 0.0668 - val_acc: 0.9863\n",
      "Epoch 17/30\n",
      "31500/31500 [==============================] - 14s 451us/step - loss: 0.0097 - acc: 0.9969 - val_loss: 0.0675 - val_acc: 0.9862\n",
      "Epoch 18/30\n",
      "31500/31500 [==============================] - 14s 447us/step - loss: 0.0132 - acc: 0.9961 - val_loss: 0.0681 - val_acc: 0.9840\n",
      "Epoch 19/30\n",
      "31500/31500 [==============================] - 14s 449us/step - loss: 0.0071 - acc: 0.9980 - val_loss: 0.0726 - val_acc: 0.9836\n",
      "Epoch 20/30\n",
      "31500/31500 [==============================] - 14s 442us/step - loss: 0.0068 - acc: 0.9978 - val_loss: 0.0829 - val_acc: 0.9835\n",
      "Epoch 21/30\n",
      "31500/31500 [==============================] - 16s 495us/step - loss: 0.0091 - acc: 0.9971 - val_loss: 0.0843 - val_acc: 0.9830\n",
      "Epoch 22/30\n",
      "31500/31500 [==============================] - 15s 486us/step - loss: 0.0084 - acc: 0.9973 - val_loss: 0.0795 - val_acc: 0.9826\n",
      "Epoch 23/30\n",
      "31500/31500 [==============================] - 16s 494us/step - loss: 0.0101 - acc: 0.9970 - val_loss: 0.0895 - val_acc: 0.9812\n",
      "Epoch 24/30\n",
      "31500/31500 [==============================] - 15s 490us/step - loss: 0.0077 - acc: 0.9975 - val_loss: 0.0771 - val_acc: 0.9854\n",
      "Epoch 25/30\n",
      "31500/31500 [==============================] - 16s 505us/step - loss: 0.0059 - acc: 0.9982 - val_loss: 0.0667 - val_acc: 0.9877\n",
      "Epoch 26/30\n",
      "31500/31500 [==============================] - 15s 483us/step - loss: 0.0063 - acc: 0.9980 - val_loss: 0.0771 - val_acc: 0.9861\n",
      "Epoch 27/30\n",
      "31500/31500 [==============================] - 17s 532us/step - loss: 0.0076 - acc: 0.9978 - val_loss: 0.0813 - val_acc: 0.9863\n",
      "Epoch 28/30\n",
      "31500/31500 [==============================] - 14s 453us/step - loss: 0.0062 - acc: 0.9981 - val_loss: 0.0680 - val_acc: 0.9883\n",
      "Epoch 29/30\n",
      "31500/31500 [==============================] - 14s 455us/step - loss: 0.0076 - acc: 0.9977 - val_loss: 0.0757 - val_acc: 0.9859\n",
      "Epoch 30/30\n",
      "31500/31500 [==============================] - 14s 447us/step - loss: 0.0097 - acc: 0.9974 - val_loss: 0.0805 - val_acc: 0.9873\n"
     ]
    },
    {
     "data": {
      "text/plain": [
       "<keras.callbacks.History at 0x164c4fcf8>"
      ]
     },
     "execution_count": 61,
     "metadata": {},
     "output_type": "execute_result"
    }
   ],
   "source": [
    "model = Sequential()\n",
    "model.add(Conv2D(15, kernel_size=(5,5), input_shape=(28, 28, 1), activation='relu'))\n",
    "model.add(MaxPool2D(2,2))\n",
    "model.add(Conv2D(30, kernel_size=(4,4), activation='relu'))\n",
    "model.add(MaxPool2D(2,2))\n",
    "model.add(Conv2D(45, kernel_size=(3,3), activation='relu'))\n",
    "model.add(MaxPool2D(2,2))\n",
    "\n",
    "model.add(Flatten())\n",
    "model.add(Dense(50, activation='relu'))\n",
    "\n",
    "model.add(Dense(10, activation='softmax'))\n",
    "model.compile(optimizer='adam', loss = 'categorical_crossentropy', metrics=['accuracy'])\n",
    "\n",
    "model.fit(X_train, y_train, validation_data=(X_test, y_test), epochs=30)"
   ]
  },
  {
   "cell_type": "code",
   "execution_count": 69,
   "metadata": {
    "collapsed": true
   },
   "outputs": [],
   "source": [
    "test = pd.read_csv('test.csv')"
   ]
  },
  {
   "cell_type": "code",
   "execution_count": 70,
   "metadata": {
    "collapsed": true
   },
   "outputs": [],
   "source": [
    "X = test.values"
   ]
  },
  {
   "cell_type": "code",
   "execution_count": 71,
   "metadata": {
    "collapsed": true
   },
   "outputs": [],
   "source": [
    "X = X/255."
   ]
  },
  {
   "cell_type": "code",
   "execution_count": 72,
   "metadata": {
    "collapsed": true
   },
   "outputs": [],
   "source": [
    "X = X.reshape(X.shape[0], 28, 28, 1)"
   ]
  },
  {
   "cell_type": "code",
   "execution_count": 73,
   "metadata": {},
   "outputs": [],
   "source": [
    "pred = model.predict_classes(X)"
   ]
  },
  {
   "cell_type": "code",
   "execution_count": 74,
   "metadata": {
    "collapsed": true
   },
   "outputs": [],
   "source": [
    "Label = pred"
   ]
  },
  {
   "cell_type": "code",
   "execution_count": 75,
   "metadata": {
    "collapsed": true
   },
   "outputs": [],
   "source": [
    "pd.DataFrame({\"ImageId\": list(range(1,len(Label)+1)), \"Label\": Label}).to_csv('predictions_new.csv', \\\n",
    "                                                                              index=False, header=True)"
   ]
  },
  {
   "cell_type": "code",
   "execution_count": null,
   "metadata": {
    "collapsed": true
   },
   "outputs": [],
   "source": []
  }
 ],
 "metadata": {
  "kernelspec": {
   "display_name": "Python 3",
   "language": "python",
   "name": "python3"
  },
  "language_info": {
   "codemirror_mode": {
    "name": "ipython",
    "version": 3
   },
   "file_extension": ".py",
   "mimetype": "text/x-python",
   "name": "python",
   "nbconvert_exporter": "python",
   "pygments_lexer": "ipython3",
   "version": "3.6.1"
  }
 },
 "nbformat": 4,
 "nbformat_minor": 2
}
