{
 "cells": [
  {
   "cell_type": "markdown",
   "metadata": {},
   "source": [
    "<img src=\"http://imgur.com/1ZcRyrc.png\" style=\"float: left; margin: 20px; height: 55px\">\n",
    "\n",
    "# Review CLT, Confidence Intervals, and Hypothesis Testing\n",
    "\n",
    "_Authors: Matt Brems (DC)_\n",
    "\n",
    "---"
   ]
  },
  {
   "cell_type": "markdown",
   "metadata": {},
   "source": [
    "### Read in the housing data (code provided).\n",
    "\n",
    "You can find the original data [here](https://archive.ics.uci.edu/ml/machine-learning-databases/housing/housing.data)."
   ]
  },
  {
   "cell_type": "code",
   "execution_count": 13,
   "metadata": {
    "collapsed": true
   },
   "outputs": [],
   "source": [
    "import urllib\n",
    "\n",
    "names = [\"CRIM\", \"ZN\", \"INDUS\", \"CHAS\", \"NOX\", \"RM\", \"AGE\", \"DIS\", \"RAD\", \"TAX\", \"PTRATIO\", \"B\", \"LSTAT\", \"MEDV\"]\n",
    "\n",
    "import pandas as pd\n",
    "data = pd.read_csv(\"./datasets/housing.data\", header=None, names=names, delim_whitespace=True)\n",
    "\n",
    "NOX = data['NOX'].values\n",
    "AGE = data['AGE'].values"
   ]
  },
  {
   "cell_type": "markdown",
   "metadata": {},
   "source": [
    "### 1. Find the mean, standard deviation, and the standard error of the mean for variable `AGE`"
   ]
  },
  {
   "cell_type": "code",
   "execution_count": 14,
   "metadata": {
    "collapsed": true
   },
   "outputs": [],
   "source": [
    "import numpy as np"
   ]
  },
  {
   "cell_type": "code",
   "execution_count": 15,
   "metadata": {},
   "outputs": [
    {
     "name": "stdout",
     "output_type": "stream",
     "text": [
      "Mean:  68.57490118577078\n",
      "Standard Deviation:  28.121032570236885\n",
      "Standard Error:  1.25136952526\n"
     ]
    }
   ],
   "source": [
    "data_mean = np.mean(data['AGE'])\n",
    "data_std = np.std(data['AGE'])\n",
    "data_se = np.std(data['AGE'], ddof=1)/np.sqrt(len(data))\n",
    "\n",
    "print ('Mean: ', data_mean)\n",
    "print ('Standard Deviation: ', data_std)\n",
    "print ('Standard Error: ',data_se)\n"
   ]
  },
  {
   "cell_type": "markdown",
   "metadata": {},
   "source": [
    "### 2. Generate a 90%, 95%, and 99% confidence interval for the mean value of `AGE`\n",
    "\n",
    "You can use the `scipy.stats.t.interval` function to calculate confidence interval range.\n",
    "\n",
    "```python\n",
    "# Endpoints of the range that contains alpha percent of the distribution\n",
    "stats.t.interval(alpha, df, loc=0, scale=1)\t\n",
    "```\n",
    "\n",
    "Arguments:\n",
    "- `df` = the degrees of freedom, will be the length of the vector -1.\n",
    "- `loc` = the mean of the t-distribution (your point estimate - mean of the variable)\n",
    "- `scale` = the standard deviation of the t-distribution (the standard error of your sample mean)\n",
    "\n",
    "**Interpret the results from all three confidence intervals.**"
   ]
  },
  {
   "cell_type": "code",
   "execution_count": 16,
   "metadata": {
    "collapsed": true
   },
   "outputs": [],
   "source": [
    "import scipy.stats as stats"
   ]
  },
  {
   "cell_type": "code",
   "execution_count": 17,
   "metadata": {},
   "outputs": [
    {
     "name": "stdout",
     "output_type": "stream",
     "text": [
      "90% Confidence Interval:  (66.927024617653757, 70.222777753887812)\n",
      "95% Confidence Interval:  (66.610228547031184, 70.539573824510384)\n",
      "99% Confidence Interval:  (65.989301407190993, 71.160500964350575)\n"
     ]
    }
   ],
   "source": [
    "print ('90% Confidence Interval: ',stats.t.interval(0.90, len(data['AGE'])-1, loc=np.mean(data['AGE']), scale=1))\n",
    "print ('95% Confidence Interval: ',stats.t.interval(0.95, len(data['AGE'])-1, loc=np.mean(data['AGE']), scale=1))\n",
    "print ('99% Confidence Interval: ',stats.t.interval(0.99, len(data['AGE'])-1, loc=np.mean(data['AGE']), scale=1))\n"
   ]
  },
  {
   "cell_type": "markdown",
   "metadata": {},
   "source": [
    "### 3. Did you rely on the Central Limit Theorem in question 2? Why or why not? Explain."
   ]
  },
  {
   "cell_type": "code",
   "execution_count": 18,
   "metadata": {},
   "outputs": [
    {
     "data": {
      "text/plain": [
       "(array([  14.,   31.,   29.,   42.,   32.,   38.,   39.,   42.,   71.,  168.]),\n",
       " array([   2.9 ,   12.61,   22.32,   32.03,   41.74,   51.45,   61.16,\n",
       "          70.87,   80.58,   90.29,  100.  ]),\n",
       " <a list of 10 Patch objects>)"
      ]
     },
     "execution_count": 18,
     "metadata": {},
     "output_type": "execute_result"
    },
    {
     "data": {
      "image/png": "[encoded data removed]",
      "text/plain": [
       "<matplotlib.figure.Figure at 0x10e047b00>"
      ]
     },
     "metadata": {},
     "output_type": "display_data"
    }
   ],
   "source": [
    "import matplotlib.pyplot as plt\n",
    "%matplotlib inline\n",
    "\n",
    "plt.hist(data['AGE'])"
   ]
  },
  {
   "cell_type": "code",
   "execution_count": 19,
   "metadata": {
    "collapsed": true
   },
   "outputs": [],
   "source": [
    "import matplotlib.pyplot as plt\n",
    "%matplotlib inline\n",
    "\n",
    "# A: "
   ]
  },
  {
   "cell_type": "markdown",
   "metadata": {},
   "source": [
    "### 4. For variable `NOX`, generate a 95% confidence interval for the mean and interpret it."
   ]
  },
  {
   "cell_type": "code",
   "execution_count": 20,
   "metadata": {
    "collapsed": true
   },
   "outputs": [],
   "source": [
    "# A:"
   ]
  },
  {
   "cell_type": "markdown",
   "metadata": {},
   "source": [
    "### 5. For the variable `NOX`, test the hypothesis that the mean is equal to the median. \n",
    "\n",
    "You may use scipy functions to complete this, but complete all steps listed below.\n",
    "\n",
    "1. Define hypothesis\n",
    "2. Set alpha, the confidence threshold (Let alpha = 0.05)\n",
    "3. Calculate point estimate, i.e. sample mean\n",
    "4. Calculate test statistic\n",
    "5. Find the p-value\n",
    "6. Interpret results"
   ]
  },
  {
   "cell_type": "markdown",
   "metadata": {},
   "source": [
    "**Null Hypothesis:**  Mean of Variable NOX is the same as the Median of Variable NOX\n",
    "\n",
    "**Alternate Hypothesis: **  Mean of Variable NOX is the same as the Median of Variable NOX"
   ]
  },
  {
   "cell_type": "code",
   "execution_count": 61,
   "metadata": {},
   "outputs": [],
   "source": [
    "'''Importing the scipy stats library'''\n",
    "import scipy.stats\n",
    "\n",
    "'''Calculating the mean, median, standard deviation and the standard error'''\n",
    "mean_a = np.mean(data['NOX'])\n",
    "median_a = np.median(data['NOX'])\n",
    "std_a = np.std(data['NOX'])\n",
    "se_a = std_a/np.sqrt(len(data['NOX']))\n",
    "std = np.std(data['NOX'])"
   ]
  },
  {
   "cell_type": "code",
   "execution_count": 62,
   "metadata": {},
   "outputs": [
    {
     "name": "stdout",
     "output_type": "stream",
     "text": [
      "T Statistic:  3.2440909256\n"
     ]
    }
   ],
   "source": [
    "'''Calculating the t-statistic'''\n",
    "t_statistic = (mean_a - median_a)/se_a\n",
    "print ('T Statistic: ', t_statistic)"
   ]
  },
  {
   "cell_type": "code",
   "execution_count": 63,
   "metadata": {},
   "outputs": [
    {
     "name": "stdout",
     "output_type": "stream",
     "text": [
      "P Value (Two Tail):  0.00125628603566\n"
     ]
    }
   ],
   "source": [
    "'''Calculating the p-value'''\n",
    "p_value = 1 - stats.t.cdf(t_statistic, df = len(data['NOX']) - 1)\n",
    "print ('P Value (Two Tail): ', 2*p_value)"
   ]
  },
  {
   "cell_type": "markdown",
   "metadata": {
    "collapsed": true
   },
   "source": [
    "**Result:**  The P Value for the test (two tail) is 0.0012 it is less than 0.025 (0.05/2). The t value falls in the rejection region, hence we reject the null hypothesis, and accept the alternate hypothesis"
   ]
  },
  {
   "cell_type": "markdown",
   "metadata": {},
   "source": [
    "### 7. For the variable `NOX`, test the hypothesis that the mean is greater than or equal to the median. \n",
    "\n",
    "You may use scipy functions to complete this, but complete all steps listed below.\n",
    "\n",
    "1. Define hypothesis\n",
    "2. Set alpha (Let alpha = 0.05)\n",
    "3. Calculate point estimate\n",
    "4. Calculate test statistic\n",
    "5. Find the p-value\n",
    "6. Interpret results"
   ]
  },
  {
   "cell_type": "markdown",
   "metadata": {
    "collapsed": true
   },
   "source": [
    "**Null Hypothesis:**  Mean of Variable NOX is less Median of Variable NOX\n",
    "\n",
    "**Alternate Hypothesis: **  Mean of Variable NOX is greater than or equal the Median of Variable NOX"
   ]
  },
  {
   "cell_type": "code",
   "execution_count": 55,
   "metadata": {},
   "outputs": [],
   "source": [
    "'''Importing the scipy stats library'''\n",
    "import scipy.stats\n",
    "\n",
    "'''Calculating the mean, median, standard deviation and the standard error'''\n",
    "mean_a = np.mean(data['NOX'])\n",
    "median_a = np.median(data['NOX'])\n",
    "std_a = np.std(data['NOX'])\n",
    "se_a = std_a/np.sqrt(len(data['NOX']))\n",
    "std = np.std(data['NOX'])"
   ]
  },
  {
   "cell_type": "code",
   "execution_count": 56,
   "metadata": {},
   "outputs": [
    {
     "name": "stdout",
     "output_type": "stream",
     "text": [
      "T Statistic:  3.2440909256\n"
     ]
    }
   ],
   "source": [
    "'''Calculating the t-statistic'''\n",
    "t_statistic = (mean_a - median_a)/se_a\n",
    "print ('T Statistic: ', t_statistic)"
   ]
  },
  {
   "cell_type": "code",
   "execution_count": 57,
   "metadata": {},
   "outputs": [
    {
     "name": "stdout",
     "output_type": "stream",
     "text": [
      "P Value (Two Tail):  0.000628143017828\n"
     ]
    }
   ],
   "source": [
    "'''Calculating the p-value'''\n",
    "p_value = 1 - stats.t.cdf(t_statistic, df = len(data['NOX']) - 1)\n",
    "print ('P Value (Two Tail): ', p_value)"
   ]
  },
  {
   "cell_type": "markdown",
   "metadata": {},
   "source": [
    "**Result:**  The P Value for the one tail test is 0.0006, it is less than 0.05. This means that the null hypothesis has a less than 5% chance of occuring. Hence we go ahead and reject the null hypothesis and accept the alternate hypothesis"
   ]
  },
  {
   "cell_type": "markdown",
   "metadata": {},
   "source": [
    "### 8. Compare the p-values from Exercise 5 and Exercise 7. What do you notice?"
   ]
  },
  {
   "cell_type": "markdown",
   "metadata": {
    "collapsed": true
   },
   "source": [
    "Excercise_5 is a two tail test, and Exercise_7 is a one tail test. "
   ]
  }
 ],
 "metadata": {
  "anaconda-cloud": {},
  "kernelspec": {
   "display_name": "Python 3",
   "language": "python",
   "name": "python3"
  },
  "language_info": {
   "codemirror_mode": {
    "name": "ipython",
    "version": 3
   },
   "file_extension": ".py",
   "mimetype": "text/x-python",
   "name": "python",
   "nbconvert_exporter": "python",
   "pygments_lexer": "ipython3",
   "version": "3.6.1"
  }
 },
 "nbformat": 4,
 "nbformat_minor": 1
}
