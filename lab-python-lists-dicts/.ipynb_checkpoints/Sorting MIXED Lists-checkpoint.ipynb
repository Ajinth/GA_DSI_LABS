{
 "cells": [
  {
   "cell_type": "code",
   "execution_count": 22,
   "metadata": {
    "collapsed": true
   },
   "outputs": [],
   "source": [
    "mix = [['billy', 'sam'], {'key':'value'}, 12.999, 12, 'flower', 'a', (1, 2, 3)]"
   ]
  },
  {
   "cell_type": "code",
   "execution_count": 71,
   "metadata": {},
   "outputs": [
    {
     "name": "stdout",
     "output_type": "stream",
     "text": [
      "Original Mix List::: [['billy', 'sam'], {'key': 'value'}, 12.999, 12, 'flower', 'a', (1, 2, 3)]\n",
      "Sorted Mixed List::: [12, 12.999, {'key': 'value'}, ['billy', 'sam'], 'a', 'flower', (1, 2, 3)]\n"
     ]
    }
   ],
   "source": [
    "mix = [['billy', 'sam'], {'key':'value'}, 12.999, 12, 'flower', 'a', (1, 2, 3)]\n",
    "\n",
    "new_list_list = []\n",
    "new_list_dict = []\n",
    "new_list_int_float = []\n",
    "new_list_string = []\n",
    "new_list_tuple = []\n",
    "sorted_mixed_list = []\n",
    "\n",
    "for item in mix: \n",
    "    if type(item) is list:\n",
    "        new_list_list.append(item)\n",
    "    elif type(item) is dict: \n",
    "        new_list_dict.append(item)\n",
    "    elif type(item) is int or  type(item) is float: \n",
    "        new_list_int_float.append(item)\n",
    "    elif type(item) is str: \n",
    "        new_list_string.append(item)\n",
    "    elif type(item) is tuple: \n",
    "        new_list_tuple.append(item)\n",
    "        \n",
    "\n",
    "\n",
    "sorted_mixed_list.extend(sorted(new_list_int_float))\n",
    "sorted_mixed_list.extend(new_list_dict)\n",
    "sorted_mixed_list.extend(sorted(new_list_list))\n",
    "sorted_mixed_list.extend(sorted(new_list_string))\n",
    "sorted_mixed_list.extend(new_list_tuple)\n",
    "\n",
    "print ('Original Mix List::: {}'.format(mix))\n",
    "print ('Sorted Mixed List::: {}'.format(sorted_mixed_list))"
   ]
  },
  {
   "cell_type": "code",
   "execution_count": 7,
   "metadata": {},
   "outputs": [
    {
     "name": "stdout",
     "output_type": "stream",
     "text": [
      "<class 'list'>\n",
      "<class 'dict'>\n",
      "<class 'float'>\n",
      "<class 'int'>\n",
      "<class 'str'>\n",
      "<class 'str'>\n",
      "<class 'tuple'>\n"
     ]
    }
   ],
   "source": [
    "for item in mix: \n",
    "    print (type(item))"
   ]
  },
  {
   "cell_type": "code",
   "execution_count": 72,
   "metadata": {},
   "outputs": [
    {
     "name": "stdout",
     "output_type": "stream",
     "text": [
      "Original Mix List::: [{'hope': 4, 4: [2, 34, 2], 'whatsup': 'nothing'}, 'zombies', 5.6, 'help', -2.3, ('aplus', 2, [11, 3])]\n",
      "Sorted Mixed List::: [-2.3, 5.6, {'hope': 4, 4: [2, 34, 2], 'whatsup': 'nothing'}, 'help', 'zombies', ('aplus', 2, [11, 3])]\n"
     ]
    }
   ],
   "source": [
    "new_test = [{'hope': 4, 4: [2,34,2],'whatsup':'nothing'},'zombies', 5.6, 'help', -2.3, ('aplus', 2, [11,3])]\n",
    "\n",
    "\n",
    "new_list_list = []\n",
    "new_list_dict = []\n",
    "new_list_int_float = []\n",
    "new_list_float = []\n",
    "new_list_string = []\n",
    "new_list_tuple = []\n",
    "sorted_mixed_list = []\n",
    "\n",
    "for item in new_test: \n",
    "    if type(item) is list:\n",
    "        new_list_list.append(item)\n",
    "    elif type(item) is dict: \n",
    "        new_list_dict.append(item)\n",
    "    elif type(item) is int or type(item) is float: \n",
    "        new_list_int_float.append(item)\n",
    "    elif type(item) is str: \n",
    "        new_list_string.append(item)\n",
    "    elif type(item) is tuple: \n",
    "        new_list_tuple.append(item)\n",
    "        \n",
    "sorted_mixed_list.extend(sorted(new_list_int_float))\n",
    "sorted_mixed_list.extend(new_list_dict)\n",
    "sorted_mixed_list.extend(sorted(new_list_list))\n",
    "sorted_mixed_list.extend(sorted(new_list_string))\n",
    "sorted_mixed_list.extend(new_list_tuple)\n",
    "\n",
    "print ('Original Mix List::: {}'.format(new_test))\n",
    "print ('Sorted Mixed List::: {}'.format(sorted_mixed_list))"
   ]
  },
  {
   "cell_type": "code",
   "execution_count": null,
   "metadata": {
    "collapsed": true
   },
   "outputs": [],
   "source": []
  }
 ],
 "metadata": {
  "kernelspec": {
   "display_name": "Python 3",
   "language": "python",
   "name": "python3"
  },
  "language_info": {
   "codemirror_mode": {
    "name": "ipython",
    "version": 3
   },
   "file_extension": ".py",
   "mimetype": "text/x-python",
   "name": "python",
   "nbconvert_exporter": "python",
   "pygments_lexer": "ipython3",
   "version": "3.6.1"
  }
 },
 "nbformat": 4,
 "nbformat_minor": 2
}
