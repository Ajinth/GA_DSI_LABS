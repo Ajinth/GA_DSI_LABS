{
 "cells": [
  {
   "cell_type": "markdown",
   "metadata": {},
   "source": [
    "# Filtering by age\n",
    "---\n",
    "Filter through the array of users, returning only those who are older than 18"
   ]
  },
  {
   "cell_type": "code",
   "execution_count": 20,
   "metadata": {
    "collapsed": true
   },
   "outputs": [],
   "source": [
    "users = [\n",
    "    {'name': 'John', 'age': 17},\n",
    "    {'name': 'Sally', 'age': 21},\n",
    "    {'name': 'Bill', 'age': 10},\n",
    "    {'name': 'Moe', 'age': 77},\n",
    "    {'name': 'Jane', 'age': 18},\n",
    "    {'name': 'Leslie', 'age': 19}\n",
    "]"
   ]
  },
  {
   "cell_type": "code",
   "execution_count": 21,
   "metadata": {},
   "outputs": [
    {
     "data": {
      "text/plain": [
       "[{'age': 21, 'name': 'Sally'},\n",
       " {'age': 77, 'name': 'Moe'},\n",
       " {'age': 19, 'name': 'Leslie'}]"
      ]
     },
     "execution_count": 21,
     "metadata": {},
     "output_type": "execute_result"
    }
   ],
   "source": [
    "[users for users in users if users['age']>18]"
   ]
  },
  {
   "cell_type": "code",
   "execution_count": 8,
   "metadata": {},
   "outputs": [
    {
     "data": {
      "text/plain": [
       "[{'age': 21, 'name': 'Sally'},\n",
       " {'age': 77, 'name': 'Moe'},\n",
       " {'age': 19, 'name': 'Leslie'}]"
      ]
     },
     "execution_count": 8,
     "metadata": {},
     "output_type": "execute_result"
    }
   ],
   "source": [
    "# Your filtering code goes here\n",
    "[users for users in users if users['age']>18]"
   ]
  },
  {
   "cell_type": "markdown",
   "metadata": {},
   "source": [
    "# Mapping Genders\n",
    "---\n",
    "I have a list of genders from a database:"
   ]
  },
  {
   "cell_type": "code",
   "execution_count": 9,
   "metadata": {
    "collapsed": true
   },
   "outputs": [],
   "source": [
    "genders = ['Male', 'Female', 'Female', 'Male', 'Female', 'Male', 'Male', 'Male', 'Female', 'Female', 'Male', 'Female', 'Female', 'Female']"
   ]
  },
  {
   "cell_type": "markdown",
   "metadata": {},
   "source": [
    "In order to use this list in a machine learning algorithm, we need `genders` to be converted to 1's and 0's.\n",
    "\n",
    "Create a function called `is_female` that accepts a single `gender` parameter.\n",
    "\n",
    "- If the string is 'Female', return 1\n",
    "- If the string is 'Male', return 0"
   ]
  },
  {
   "cell_type": "code",
   "execution_count": 12,
   "metadata": {
    "collapsed": true
   },
   "outputs": [],
   "source": [
    "def is_female(gender):\n",
    "    if gender=='Female': \n",
    "        return 1 \n",
    "    else: \n",
    "        return 0 "
   ]
  },
  {
   "cell_type": "code",
   "execution_count": 13,
   "metadata": {},
   "outputs": [
    {
     "data": {
      "text/plain": [
       "1"
      ]
     },
     "execution_count": 13,
     "metadata": {},
     "output_type": "execute_result"
    }
   ],
   "source": [
    "is_female('Female') # This should output 1"
   ]
  },
  {
   "cell_type": "code",
   "execution_count": 14,
   "metadata": {},
   "outputs": [
    {
     "data": {
      "text/plain": [
       "0"
      ]
     },
     "execution_count": 14,
     "metadata": {},
     "output_type": "execute_result"
    }
   ],
   "source": [
    "is_female('Male') # Should return 0"
   ]
  },
  {
   "cell_type": "markdown",
   "metadata": {},
   "source": [
    "Create a new array called `females` that maps through the `genders` array and creates a list of 1's and 0's using your `is_female` function"
   ]
  },
  {
   "cell_type": "code",
   "execution_count": 15,
   "metadata": {},
   "outputs": [
    {
     "data": {
      "text/plain": [
       "[0, 1, 1, 0, 1, 0, 0, 0, 1, 1, 0, 1, 1, 1]"
      ]
     },
     "execution_count": 15,
     "metadata": {},
     "output_type": "execute_result"
    }
   ],
   "source": [
    "females = [is_female(gender) for gender in genders]\n",
    "females"
   ]
  },
  {
   "cell_type": "code",
   "execution_count": 16,
   "metadata": {},
   "outputs": [
    {
     "data": {
      "text/plain": [
       "[0, 1, 1, 0, 1, 0, 0, 0, 1, 1, 0, 1, 1, 1]"
      ]
     },
     "execution_count": 16,
     "metadata": {},
     "output_type": "execute_result"
    }
   ],
   "source": [
    "females =  [is_female(gender) for gender in genders] # list comprehension goes here\n",
    "females"
   ]
  },
  {
   "cell_type": "markdown",
   "metadata": {},
   "source": [
    "# List of names\n",
    "---\n",
    "Convert the string of names into a list of names. Be sure to remove all commas and the word \"and\""
   ]
  },
  {
   "cell_type": "code",
   "execution_count": 38,
   "metadata": {},
   "outputs": [],
   "source": [
    "dwarves_string = \"Bashful, Doc, Dopey, Happy, Sleepy, Sneezy and Grumpy\""
   ]
  },
  {
   "cell_type": "markdown",
   "metadata": {},
   "source": [
    "Create a list called `dwarves_list` that splits `dwarves_string` on the spaces:"
   ]
  },
  {
   "cell_type": "code",
   "execution_count": 107,
   "metadata": {},
   "outputs": [
    {
     "data": {
      "text/plain": [
       "['Bashful,', 'Doc,', 'Dopey,', 'Happy,', 'Sleepy,', 'Sneezy', 'and', 'Grumpy']"
      ]
     },
     "execution_count": 107,
     "metadata": {},
     "output_type": "execute_result"
    }
   ],
   "source": [
    "dwarves_string_spaces = dwarves_string.split(' ')\n",
    "dwarves_string_spaces"
   ]
  },
  {
   "cell_type": "markdown",
   "metadata": {},
   "source": [
    "Now use list comprehension to remove the commas.\n",
    "\n",
    "NOTE: You'll still see commas in your output. Just make sure they aren't in the strings."
   ]
  },
  {
   "cell_type": "code",
   "execution_count": 111,
   "metadata": {},
   "outputs": [
    {
     "data": {
      "text/plain": [
       "['Bashful', 'Doc', 'Dopey', 'Happy', 'Sleepy', 'Sneezy', 'and', 'Grumpy']"
      ]
     },
     "execution_count": 111,
     "metadata": {},
     "output_type": "execute_result"
    }
   ],
   "source": [
    "dwarves_string_spaces_clean = [s.replace(',', '') for s in dwarves_string_spaces]\n",
    "dwarves_string_spaces_clean"
   ]
  },
  {
   "cell_type": "markdown",
   "metadata": {},
   "source": [
    "Finally, use list comprehension to remove the word 'and' from your list"
   ]
  },
  {
   "cell_type": "code",
   "execution_count": 112,
   "metadata": {},
   "outputs": [
    {
     "data": {
      "text/plain": [
       "['Bashful', 'Doc', 'Dopey', 'Happy', 'Sleepy', 'Sneezy', 'Grumpy']"
      ]
     },
     "execution_count": 112,
     "metadata": {},
     "output_type": "execute_result"
    }
   ],
   "source": [
    "[s for s in dwarves_string_spaces_clean if s !='and']"
   ]
  },
  {
   "cell_type": "markdown",
   "metadata": {},
   "source": [
    "# Sum all positives\n",
    "---\n",
    "Create a function that accepts an array of numbers. Return a sum of all positive numbers"
   ]
  },
  {
   "cell_type": "code",
   "execution_count": 56,
   "metadata": {
    "collapsed": true
   },
   "outputs": [],
   "source": [
    "def sum_positive(number_array):\n",
    "    total = 0 \n",
    "    for number in number_array:\n",
    "        if number > 0: \n",
    "            total += number \n",
    "        else: \n",
    "            continue\n",
    "    return total\n",
    "        "
   ]
  },
  {
   "cell_type": "code",
   "execution_count": 57,
   "metadata": {},
   "outputs": [
    {
     "data": {
      "text/plain": [
       "2"
      ]
     },
     "execution_count": 57,
     "metadata": {},
     "output_type": "execute_result"
    }
   ],
   "source": [
    "sum_positive([1, -2, -3, 1]) # should return 2"
   ]
  },
  {
   "cell_type": "code",
   "execution_count": 58,
   "metadata": {},
   "outputs": [
    {
     "data": {
      "text/plain": [
       "0"
      ]
     },
     "execution_count": 58,
     "metadata": {},
     "output_type": "execute_result"
    }
   ],
   "source": [
    "sum_positive([-1]) # Should return 0"
   ]
  },
  {
   "cell_type": "markdown",
   "metadata": {},
   "source": [
    "# Even numbers\n",
    "---\n",
    "Filter through the array of numbers and return only the even ones"
   ]
  },
  {
   "cell_type": "code",
   "execution_count": 60,
   "metadata": {
    "collapsed": true
   },
   "outputs": [],
   "source": [
    "numbers = [1, 2, 3, 4, 5, 6, 7, 8, 9, 10]"
   ]
  },
  {
   "cell_type": "code",
   "execution_count": 62,
   "metadata": {},
   "outputs": [
    {
     "data": {
      "text/plain": [
       "[2, 4, 6, 8, 10]"
      ]
     },
     "execution_count": 62,
     "metadata": {},
     "output_type": "execute_result"
    }
   ],
   "source": [
    "[n for n in numbers if n%2 == 0]"
   ]
  },
  {
   "cell_type": "code",
   "execution_count": 64,
   "metadata": {},
   "outputs": [],
   "source": [
    "# Expected output  [2, 4, 6, 8, 10]"
   ]
  },
  {
   "cell_type": "markdown",
   "metadata": {},
   "source": [
    "# Filter by role\n",
    "---\n",
    "Filter through this list of users and return all the students"
   ]
  },
  {
   "cell_type": "code",
   "execution_count": 67,
   "metadata": {
    "collapsed": true
   },
   "outputs": [],
   "source": [
    "users = [\n",
    "    {'name': 'Bill', 'role': 'Student'},\n",
    "    {'name': 'Jane', 'role': 'Student'},\n",
    "    {'name': 'Frank', 'role': 'Student'},\n",
    "    {'name': 'Sally', 'role': 'Teacher'}\n",
    "]"
   ]
  },
  {
   "cell_type": "code",
   "execution_count": 74,
   "metadata": {},
   "outputs": [
    {
     "data": {
      "text/plain": [
       "[{'name': 'Bill', 'role': 'Student'},\n",
       " {'name': 'Jane', 'role': 'Student'},\n",
       " {'name': 'Frank', 'role': 'Student'}]"
      ]
     },
     "execution_count": 74,
     "metadata": {},
     "output_type": "execute_result"
    }
   ],
   "source": [
    "[user for user in users if user['role']=='Student']"
   ]
  },
  {
   "cell_type": "code",
   "execution_count": 2,
   "metadata": {},
   "outputs": [
    {
     "data": {
      "text/plain": [
       "[{'name': 'Bill', 'role': 'Student'},\n",
       " {'name': 'Jane', 'role': 'Student'},\n",
       " {'name': 'Frank', 'role': 'Student'}]"
      ]
     },
     "execution_count": 2,
     "metadata": {},
     "output_type": "execute_result"
    }
   ],
   "source": [
    "# Expected output"
   ]
  },
  {
   "cell_type": "markdown",
   "metadata": {},
   "source": [
    "Do the same thing above, only this time return all the teachers."
   ]
  },
  {
   "cell_type": "code",
   "execution_count": 75,
   "metadata": {},
   "outputs": [
    {
     "data": {
      "text/plain": [
       "[{'name': 'Sally', 'role': 'Teacher'}]"
      ]
     },
     "execution_count": 75,
     "metadata": {},
     "output_type": "execute_result"
    }
   ],
   "source": [
    "[user for user in users if user['role']=='Teacher']"
   ]
  },
  {
   "cell_type": "code",
   "execution_count": 6,
   "metadata": {},
   "outputs": [
    {
     "data": {
      "text/plain": [
       "[{'name': 'Sally', 'role': 'Teacher'}]"
      ]
     },
     "execution_count": 6,
     "metadata": {},
     "output_type": "execute_result"
    }
   ],
   "source": [
    "# Expected output"
   ]
  },
  {
   "cell_type": "markdown",
   "metadata": {},
   "source": [
    "Now return all `users` who have 4 characters in their name"
   ]
  },
  {
   "cell_type": "code",
   "execution_count": 76,
   "metadata": {},
   "outputs": [
    {
     "data": {
      "text/plain": [
       "[{'name': 'Bill', 'role': 'Student'}, {'name': 'Jane', 'role': 'Student'}]"
      ]
     },
     "execution_count": 76,
     "metadata": {},
     "output_type": "execute_result"
    }
   ],
   "source": [
    "[user for user in users if len(user['name'])==4]"
   ]
  },
  {
   "cell_type": "markdown",
   "metadata": {},
   "source": [
    "# Sort numerically\n",
    "---\n",
    "Sort the list of numbers below from smallest to largets. *NOTE*: We haven't taught you how to sort a list, you'll need to look it up."
   ]
  },
  {
   "cell_type": "code",
   "execution_count": 80,
   "metadata": {
    "collapsed": true
   },
   "outputs": [],
   "source": [
    "numbers = [10, 2, -1, 0, 3, 5]"
   ]
  },
  {
   "cell_type": "code",
   "execution_count": 130,
   "metadata": {},
   "outputs": [
    {
     "data": {
      "text/plain": [
       "[-1, 0, 2, 3, 5, 10]"
      ]
     },
     "execution_count": 130,
     "metadata": {},
     "output_type": "execute_result"
    }
   ],
   "source": [
    "sorted_numbers = sorted(numbers)\n",
    "sorted_numbers"
   ]
  },
  {
   "cell_type": "markdown",
   "metadata": {},
   "source": [
    "# Mapping names\n",
    "---\n",
    "Given the list of dictionaries, return an array of full names. The result should be:\n",
    "\n",
    "```python\n",
    "['Jane Doe', 'John Kennedy', 'Ada Lovelace']\n",
    "```"
   ]
  },
  {
   "cell_type": "code",
   "execution_count": 131,
   "metadata": {
    "collapsed": true
   },
   "outputs": [],
   "source": [
    "names = [\n",
    "    {'first_name': 'Jane', 'last_name': 'Doe'},\n",
    "    {'first_name': 'John', 'last_name': 'Kennedy'},\n",
    "    {'first_name': 'Ada', 'last_name': 'Lovelace'}\n",
    "]"
   ]
  },
  {
   "cell_type": "code",
   "execution_count": 143,
   "metadata": {},
   "outputs": [
    {
     "data": {
      "text/plain": [
       "['Jane Doe', 'John Kennedy', 'Ada Lovelace']"
      ]
     },
     "execution_count": 143,
     "metadata": {},
     "output_type": "execute_result"
    }
   ],
   "source": [
    "full_names = [name['first_name']+' '+name['last_name']  for name in names]\n",
    "full_names"
   ]
  },
  {
   "cell_type": "markdown",
   "metadata": {},
   "source": [
    "Now do the same thing above, only return a list of dictionaries, with 'name' being the key. Result should be:\n",
    "```python\n",
    "[{'name':'Jane Doe'},{'name':'John Kennedy'},{'name': 'Ada Lovelace'}]\n",
    "```"
   ]
  },
  {
   "cell_type": "code",
   "execution_count": 146,
   "metadata": {},
   "outputs": [
    {
     "data": {
      "text/plain": [
       "[{'name': 'Jane Doe'}, {'name': 'John Kennedy'}, {'name': 'Ada Lovelace'}]"
      ]
     },
     "execution_count": 146,
     "metadata": {},
     "output_type": "execute_result"
    }
   ],
   "source": [
    "names = [\n",
    "    {'first_name': 'Jane', 'last_name': 'Doe'},\n",
    "    {'first_name': 'John', 'last_name': 'Kennedy'},\n",
    "    {'first_name': 'Ada', 'last_name': 'Lovelace'}\n",
    "]\n",
    "\n",
    "[{'name': name['first_name']+ ' ' +name['last_name']} for name in names]"
   ]
  },
  {
   "cell_type": "markdown",
   "metadata": {},
   "source": [
    "# Mapping a dictionary\n",
    "---\n",
    "Map through the following user dictionary and capitalize the first letter of their first and last names:\n",
    "```python\n",
    "user = {'first_name': 'john', 'last_name': 'doe'}\n",
    "```\n",
    "\n",
    "Your output should be:\n",
    "```python\n",
    "{'first_name': 'John', 'last_name': 'Doe'}\n",
    "```"
   ]
  },
  {
   "cell_type": "code",
   "execution_count": 147,
   "metadata": {},
   "outputs": [
    {
     "data": {
      "text/plain": [
       "{'first_name': 'John', 'last_name': 'Doe'}"
      ]
     },
     "execution_count": 147,
     "metadata": {},
     "output_type": "execute_result"
    }
   ],
   "source": [
    "user = {'first_name': 'john', 'last_name': 'doe'}\n",
    "{k:v.title() for k,v in user.items()}"
   ]
  },
  {
   "cell_type": "code",
   "execution_count": null,
   "metadata": {
    "collapsed": true
   },
   "outputs": [],
   "source": []
  }
 ],
 "metadata": {
  "anaconda-cloud": {},
  "kernelspec": {
   "display_name": "Python 3",
   "language": "python",
   "name": "python3"
  },
  "language_info": {
   "codemirror_mode": {
    "name": "ipython",
    "version": 3
   },
   "file_extension": ".py",
   "mimetype": "text/x-python",
   "name": "python",
   "nbconvert_exporter": "python",
   "pygments_lexer": "ipython3",
   "version": "3.6.1"
  }
 },
 "nbformat": 4,
 "nbformat_minor": 1
}
