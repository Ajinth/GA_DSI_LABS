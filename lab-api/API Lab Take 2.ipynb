{
 "cells": [
  {
   "cell_type": "code",
   "execution_count": 4,
   "metadata": {
    "collapsed": true
   },
   "outputs": [],
   "source": [
    "# Load the libararies\n",
    "import json \n",
    "import requests\n",
    "import pandas as pd\n",
    "import pprint "
   ]
  },
  {
   "cell_type": "code",
   "execution_count": 5,
   "metadata": {
    "collapsed": true
   },
   "outputs": [],
   "source": [
    "restaurant_url = 'https://fast-retreat-88305.herokuapp.com/restaurants/'"
   ]
  },
  {
   "cell_type": "code",
   "execution_count": 7,
   "metadata": {},
   "outputs": [
    {
     "ename": "JSONDecodeError",
     "evalue": "Expecting value: line 1 column 1 (char 0)",
     "output_type": "error",
     "traceback": [
      "\u001b[0;31m---------------------------------------------------------------------------\u001b[0m",
      "\u001b[0;31mJSONDecodeError\u001b[0m                           Traceback (most recent call last)",
      "\u001b[0;32m<ipython-input-7-eb961515d225>\u001b[0m in \u001b[0;36m<module>\u001b[0;34m()\u001b[0m\n\u001b[1;32m      1\u001b[0m \u001b[0mres\u001b[0m \u001b[0;34m=\u001b[0m \u001b[0mrequests\u001b[0m\u001b[0;34m.\u001b[0m\u001b[0mget\u001b[0m\u001b[0;34m(\u001b[0m\u001b[0;34m'https://fast-retreat-88305.herokuapp.com/foods'\u001b[0m\u001b[0;34m)\u001b[0m\u001b[0;34m\u001b[0m\u001b[0m\n\u001b[0;32m----> 2\u001b[0;31m \u001b[0mfoods\u001b[0m \u001b[0;34m=\u001b[0m \u001b[0mjson\u001b[0m\u001b[0;34m.\u001b[0m\u001b[0mloads\u001b[0m\u001b[0;34m(\u001b[0m\u001b[0mres\u001b[0m\u001b[0;34m.\u001b[0m\u001b[0mcontent\u001b[0m\u001b[0;34m)\u001b[0m\u001b[0;34m\u001b[0m\u001b[0m\n\u001b[0m\u001b[1;32m      3\u001b[0m \u001b[0mfoods\u001b[0m\u001b[0;34m[\u001b[0m\u001b[0;36m0\u001b[0m\u001b[0;34m]\u001b[0m\u001b[0;34m\u001b[0m\u001b[0m\n",
      "\u001b[0;32m/Users/ajinthchristudas/anaconda/lib/python3.6/json/__init__.py\u001b[0m in \u001b[0;36mloads\u001b[0;34m(s, encoding, cls, object_hook, parse_float, parse_int, parse_constant, object_pairs_hook, **kw)\u001b[0m\n\u001b[1;32m    352\u001b[0m             \u001b[0mparse_int\u001b[0m \u001b[0;32mis\u001b[0m \u001b[0;32mNone\u001b[0m \u001b[0;32mand\u001b[0m \u001b[0mparse_float\u001b[0m \u001b[0;32mis\u001b[0m \u001b[0;32mNone\u001b[0m \u001b[0;32mand\u001b[0m\u001b[0;34m\u001b[0m\u001b[0m\n\u001b[1;32m    353\u001b[0m             parse_constant is None and object_pairs_hook is None and not kw):\n\u001b[0;32m--> 354\u001b[0;31m         \u001b[0;32mreturn\u001b[0m \u001b[0m_default_decoder\u001b[0m\u001b[0;34m.\u001b[0m\u001b[0mdecode\u001b[0m\u001b[0;34m(\u001b[0m\u001b[0ms\u001b[0m\u001b[0;34m)\u001b[0m\u001b[0;34m\u001b[0m\u001b[0m\n\u001b[0m\u001b[1;32m    355\u001b[0m     \u001b[0;32mif\u001b[0m \u001b[0mcls\u001b[0m \u001b[0;32mis\u001b[0m \u001b[0;32mNone\u001b[0m\u001b[0;34m:\u001b[0m\u001b[0;34m\u001b[0m\u001b[0m\n\u001b[1;32m    356\u001b[0m         \u001b[0mcls\u001b[0m \u001b[0;34m=\u001b[0m \u001b[0mJSONDecoder\u001b[0m\u001b[0;34m\u001b[0m\u001b[0m\n",
      "\u001b[0;32m/Users/ajinthchristudas/anaconda/lib/python3.6/json/decoder.py\u001b[0m in \u001b[0;36mdecode\u001b[0;34m(self, s, _w)\u001b[0m\n\u001b[1;32m    337\u001b[0m \u001b[0;34m\u001b[0m\u001b[0m\n\u001b[1;32m    338\u001b[0m         \"\"\"\n\u001b[0;32m--> 339\u001b[0;31m         \u001b[0mobj\u001b[0m\u001b[0;34m,\u001b[0m \u001b[0mend\u001b[0m \u001b[0;34m=\u001b[0m \u001b[0mself\u001b[0m\u001b[0;34m.\u001b[0m\u001b[0mraw_decode\u001b[0m\u001b[0;34m(\u001b[0m\u001b[0ms\u001b[0m\u001b[0;34m,\u001b[0m \u001b[0midx\u001b[0m\u001b[0;34m=\u001b[0m\u001b[0m_w\u001b[0m\u001b[0;34m(\u001b[0m\u001b[0ms\u001b[0m\u001b[0;34m,\u001b[0m \u001b[0;36m0\u001b[0m\u001b[0;34m)\u001b[0m\u001b[0;34m.\u001b[0m\u001b[0mend\u001b[0m\u001b[0;34m(\u001b[0m\u001b[0;34m)\u001b[0m\u001b[0;34m)\u001b[0m\u001b[0;34m\u001b[0m\u001b[0m\n\u001b[0m\u001b[1;32m    340\u001b[0m         \u001b[0mend\u001b[0m \u001b[0;34m=\u001b[0m \u001b[0m_w\u001b[0m\u001b[0;34m(\u001b[0m\u001b[0ms\u001b[0m\u001b[0;34m,\u001b[0m \u001b[0mend\u001b[0m\u001b[0;34m)\u001b[0m\u001b[0;34m.\u001b[0m\u001b[0mend\u001b[0m\u001b[0;34m(\u001b[0m\u001b[0;34m)\u001b[0m\u001b[0;34m\u001b[0m\u001b[0m\n\u001b[1;32m    341\u001b[0m         \u001b[0;32mif\u001b[0m \u001b[0mend\u001b[0m \u001b[0;34m!=\u001b[0m \u001b[0mlen\u001b[0m\u001b[0;34m(\u001b[0m\u001b[0ms\u001b[0m\u001b[0;34m)\u001b[0m\u001b[0;34m:\u001b[0m\u001b[0;34m\u001b[0m\u001b[0m\n",
      "\u001b[0;32m/Users/ajinthchristudas/anaconda/lib/python3.6/json/decoder.py\u001b[0m in \u001b[0;36mraw_decode\u001b[0;34m(self, s, idx)\u001b[0m\n\u001b[1;32m    355\u001b[0m             \u001b[0mobj\u001b[0m\u001b[0;34m,\u001b[0m \u001b[0mend\u001b[0m \u001b[0;34m=\u001b[0m \u001b[0mself\u001b[0m\u001b[0;34m.\u001b[0m\u001b[0mscan_once\u001b[0m\u001b[0;34m(\u001b[0m\u001b[0ms\u001b[0m\u001b[0;34m,\u001b[0m \u001b[0midx\u001b[0m\u001b[0;34m)\u001b[0m\u001b[0;34m\u001b[0m\u001b[0m\n\u001b[1;32m    356\u001b[0m         \u001b[0;32mexcept\u001b[0m \u001b[0mStopIteration\u001b[0m \u001b[0;32mas\u001b[0m \u001b[0merr\u001b[0m\u001b[0;34m:\u001b[0m\u001b[0;34m\u001b[0m\u001b[0m\n\u001b[0;32m--> 357\u001b[0;31m             \u001b[0;32mraise\u001b[0m \u001b[0mJSONDecodeError\u001b[0m\u001b[0;34m(\u001b[0m\u001b[0;34m\"Expecting value\"\u001b[0m\u001b[0;34m,\u001b[0m \u001b[0ms\u001b[0m\u001b[0;34m,\u001b[0m \u001b[0merr\u001b[0m\u001b[0;34m.\u001b[0m\u001b[0mvalue\u001b[0m\u001b[0;34m)\u001b[0m \u001b[0;32mfrom\u001b[0m \u001b[0;32mNone\u001b[0m\u001b[0;34m\u001b[0m\u001b[0m\n\u001b[0m\u001b[1;32m    358\u001b[0m         \u001b[0;32mreturn\u001b[0m \u001b[0mobj\u001b[0m\u001b[0;34m,\u001b[0m \u001b[0mend\u001b[0m\u001b[0;34m\u001b[0m\u001b[0m\n",
      "\u001b[0;31mJSONDecodeError\u001b[0m: Expecting value: line 1 column 1 (char 0)"
     ]
    }
   ],
   "source": [
    "res = requests.get('https://fast-retreat-88305.herokuapp.com/foods')\n",
    "foods = json.loads(res.content)\n",
    "foods[0]"
   ]
  },
  {
   "cell_type": "markdown",
   "metadata": {},
   "source": [
    "## Step 1: Get all the foods\n",
    "\n",
    "Using the API in the [README](../README.md), get a list of all the foods"
   ]
  },
  {
   "cell_type": "code",
   "execution_count": 6,
   "metadata": {},
   "outputs": [
    {
     "ename": "JSONDecodeError",
     "evalue": "Expecting value: line 1 column 1 (char 0)",
     "output_type": "error",
     "traceback": [
      "\u001b[0;31m---------------------------------------------------------------------------\u001b[0m",
      "\u001b[0;31mJSONDecodeError\u001b[0m                           Traceback (most recent call last)",
      "\u001b[0;32m<ipython-input-6-a586aea5a70a>\u001b[0m in \u001b[0;36m<module>\u001b[0;34m()\u001b[0m\n\u001b[1;32m      3\u001b[0m \u001b[0mfood_url\u001b[0m \u001b[0;34m=\u001b[0m \u001b[0;34m'https://fast-retreat-88305.herokuapp.com/foods'\u001b[0m\u001b[0;34m\u001b[0m\u001b[0m\n\u001b[1;32m      4\u001b[0m \u001b[0mfood_res\u001b[0m \u001b[0;34m=\u001b[0m \u001b[0mrequests\u001b[0m\u001b[0;34m.\u001b[0m\u001b[0mget\u001b[0m\u001b[0;34m(\u001b[0m\u001b[0mfood_url\u001b[0m\u001b[0;34m)\u001b[0m\u001b[0;34m\u001b[0m\u001b[0m\n\u001b[0;32m----> 5\u001b[0;31m \u001b[0mfood_listd\u001b[0m \u001b[0;34m=\u001b[0m \u001b[0mfood_res\u001b[0m\u001b[0;34m.\u001b[0m\u001b[0mjson\u001b[0m\u001b[0;34m(\u001b[0m\u001b[0;34m)\u001b[0m\u001b[0;34m\u001b[0m\u001b[0m\n\u001b[0m",
      "\u001b[0;32m/Users/ajinthchristudas/anaconda/lib/python3.6/site-packages/requests/models.py\u001b[0m in \u001b[0;36mjson\u001b[0;34m(self, **kwargs)\u001b[0m\n\u001b[1;32m    883\u001b[0m                     \u001b[0;31m# used.\u001b[0m\u001b[0;34m\u001b[0m\u001b[0;34m\u001b[0m\u001b[0m\n\u001b[1;32m    884\u001b[0m                     \u001b[0;32mpass\u001b[0m\u001b[0;34m\u001b[0m\u001b[0m\n\u001b[0;32m--> 885\u001b[0;31m         \u001b[0;32mreturn\u001b[0m \u001b[0mcomplexjson\u001b[0m\u001b[0;34m.\u001b[0m\u001b[0mloads\u001b[0m\u001b[0;34m(\u001b[0m\u001b[0mself\u001b[0m\u001b[0;34m.\u001b[0m\u001b[0mtext\u001b[0m\u001b[0;34m,\u001b[0m \u001b[0;34m**\u001b[0m\u001b[0mkwargs\u001b[0m\u001b[0;34m)\u001b[0m\u001b[0;34m\u001b[0m\u001b[0m\n\u001b[0m\u001b[1;32m    886\u001b[0m \u001b[0;34m\u001b[0m\u001b[0m\n\u001b[1;32m    887\u001b[0m     \u001b[0;34m@\u001b[0m\u001b[0mproperty\u001b[0m\u001b[0;34m\u001b[0m\u001b[0m\n",
      "\u001b[0;32m/Users/ajinthchristudas/anaconda/lib/python3.6/json/__init__.py\u001b[0m in \u001b[0;36mloads\u001b[0;34m(s, encoding, cls, object_hook, parse_float, parse_int, parse_constant, object_pairs_hook, **kw)\u001b[0m\n\u001b[1;32m    352\u001b[0m             \u001b[0mparse_int\u001b[0m \u001b[0;32mis\u001b[0m \u001b[0;32mNone\u001b[0m \u001b[0;32mand\u001b[0m \u001b[0mparse_float\u001b[0m \u001b[0;32mis\u001b[0m \u001b[0;32mNone\u001b[0m \u001b[0;32mand\u001b[0m\u001b[0;34m\u001b[0m\u001b[0m\n\u001b[1;32m    353\u001b[0m             parse_constant is None and object_pairs_hook is None and not kw):\n\u001b[0;32m--> 354\u001b[0;31m         \u001b[0;32mreturn\u001b[0m \u001b[0m_default_decoder\u001b[0m\u001b[0;34m.\u001b[0m\u001b[0mdecode\u001b[0m\u001b[0;34m(\u001b[0m\u001b[0ms\u001b[0m\u001b[0;34m)\u001b[0m\u001b[0;34m\u001b[0m\u001b[0m\n\u001b[0m\u001b[1;32m    355\u001b[0m     \u001b[0;32mif\u001b[0m \u001b[0mcls\u001b[0m \u001b[0;32mis\u001b[0m \u001b[0;32mNone\u001b[0m\u001b[0;34m:\u001b[0m\u001b[0;34m\u001b[0m\u001b[0m\n\u001b[1;32m    356\u001b[0m         \u001b[0mcls\u001b[0m \u001b[0;34m=\u001b[0m \u001b[0mJSONDecoder\u001b[0m\u001b[0;34m\u001b[0m\u001b[0m\n",
      "\u001b[0;32m/Users/ajinthchristudas/anaconda/lib/python3.6/json/decoder.py\u001b[0m in \u001b[0;36mdecode\u001b[0;34m(self, s, _w)\u001b[0m\n\u001b[1;32m    337\u001b[0m \u001b[0;34m\u001b[0m\u001b[0m\n\u001b[1;32m    338\u001b[0m         \"\"\"\n\u001b[0;32m--> 339\u001b[0;31m         \u001b[0mobj\u001b[0m\u001b[0;34m,\u001b[0m \u001b[0mend\u001b[0m \u001b[0;34m=\u001b[0m \u001b[0mself\u001b[0m\u001b[0;34m.\u001b[0m\u001b[0mraw_decode\u001b[0m\u001b[0;34m(\u001b[0m\u001b[0ms\u001b[0m\u001b[0;34m,\u001b[0m \u001b[0midx\u001b[0m\u001b[0;34m=\u001b[0m\u001b[0m_w\u001b[0m\u001b[0;34m(\u001b[0m\u001b[0ms\u001b[0m\u001b[0;34m,\u001b[0m \u001b[0;36m0\u001b[0m\u001b[0;34m)\u001b[0m\u001b[0;34m.\u001b[0m\u001b[0mend\u001b[0m\u001b[0;34m(\u001b[0m\u001b[0;34m)\u001b[0m\u001b[0;34m)\u001b[0m\u001b[0;34m\u001b[0m\u001b[0m\n\u001b[0m\u001b[1;32m    340\u001b[0m         \u001b[0mend\u001b[0m \u001b[0;34m=\u001b[0m \u001b[0m_w\u001b[0m\u001b[0;34m(\u001b[0m\u001b[0ms\u001b[0m\u001b[0;34m,\u001b[0m \u001b[0mend\u001b[0m\u001b[0;34m)\u001b[0m\u001b[0;34m.\u001b[0m\u001b[0mend\u001b[0m\u001b[0;34m(\u001b[0m\u001b[0;34m)\u001b[0m\u001b[0;34m\u001b[0m\u001b[0m\n\u001b[1;32m    341\u001b[0m         \u001b[0;32mif\u001b[0m \u001b[0mend\u001b[0m \u001b[0;34m!=\u001b[0m \u001b[0mlen\u001b[0m\u001b[0;34m(\u001b[0m\u001b[0ms\u001b[0m\u001b[0;34m)\u001b[0m\u001b[0;34m:\u001b[0m\u001b[0;34m\u001b[0m\u001b[0m\n",
      "\u001b[0;32m/Users/ajinthchristudas/anaconda/lib/python3.6/json/decoder.py\u001b[0m in \u001b[0;36mraw_decode\u001b[0;34m(self, s, idx)\u001b[0m\n\u001b[1;32m    355\u001b[0m             \u001b[0mobj\u001b[0m\u001b[0;34m,\u001b[0m \u001b[0mend\u001b[0m \u001b[0;34m=\u001b[0m \u001b[0mself\u001b[0m\u001b[0;34m.\u001b[0m\u001b[0mscan_once\u001b[0m\u001b[0;34m(\u001b[0m\u001b[0ms\u001b[0m\u001b[0;34m,\u001b[0m \u001b[0midx\u001b[0m\u001b[0;34m)\u001b[0m\u001b[0;34m\u001b[0m\u001b[0m\n\u001b[1;32m    356\u001b[0m         \u001b[0;32mexcept\u001b[0m \u001b[0mStopIteration\u001b[0m \u001b[0;32mas\u001b[0m \u001b[0merr\u001b[0m\u001b[0;34m:\u001b[0m\u001b[0;34m\u001b[0m\u001b[0m\n\u001b[0;32m--> 357\u001b[0;31m             \u001b[0;32mraise\u001b[0m \u001b[0mJSONDecodeError\u001b[0m\u001b[0;34m(\u001b[0m\u001b[0;34m\"Expecting value\"\u001b[0m\u001b[0;34m,\u001b[0m \u001b[0ms\u001b[0m\u001b[0;34m,\u001b[0m \u001b[0merr\u001b[0m\u001b[0;34m.\u001b[0m\u001b[0mvalue\u001b[0m\u001b[0;34m)\u001b[0m \u001b[0;32mfrom\u001b[0m \u001b[0;32mNone\u001b[0m\u001b[0;34m\u001b[0m\u001b[0m\n\u001b[0m\u001b[1;32m    358\u001b[0m         \u001b[0;32mreturn\u001b[0m \u001b[0mobj\u001b[0m\u001b[0;34m,\u001b[0m \u001b[0mend\u001b[0m\u001b[0;34m\u001b[0m\u001b[0m\n",
      "\u001b[0;31mJSONDecodeError\u001b[0m: Expecting value: line 1 column 1 (char 0)"
     ]
    }
   ],
   "source": [
    "'''Code to grab all the food information: '''\n",
    "\n",
    "food_url = 'https://fast-retreat-88305.herokuapp.com/foods'\n",
    "food_res = requests.get(food_url)\n",
    "food_listd = food_res.json()\n",
    "\n",
    "\n",
    "\n"
   ]
  },
  {
   "cell_type": "code",
   "execution_count": null,
   "metadata": {},
   "outputs": [],
   "source": [
    "food_listd[0]"
   ]
  },
  {
   "cell_type": "code",
   "execution_count": null,
   "metadata": {
    "collapsed": true
   },
   "outputs": [],
   "source": [
    "# '''Code to grab all the restaurant information: '''\n",
    "\n",
    "restaurant_url = 'https://fast-retreat-88305.herokuapp.com/restaurants/'\n",
    "restaurant_res = requests.get(restaurant_url)\n",
    "restaurant_listd = restaurant_res.json()\n",
    "\n",
    "restaurant_res"
   ]
  },
  {
   "cell_type": "code",
   "execution_count": 6,
   "metadata": {},
   "outputs": [],
   "source": [
    "# restaurant_listd[0]"
   ]
  },
  {
   "cell_type": "code",
   "execution_count": 7,
   "metadata": {
    "collapsed": true
   },
   "outputs": [],
   "source": [
    "# '''Code to grab all the category information'''\n",
    "# cateogory_url = 'https://fast-retreat-88305.herokuapp.com/categories/'\n",
    "# category_res = requests.get(cateogory_url)\n",
    "# categories_listd = category_res.json()"
   ]
  },
  {
   "cell_type": "code",
   "execution_count": 8,
   "metadata": {},
   "outputs": [],
   "source": [
    "# categories_listd[0]\n",
    "\n",
    "forecast_url = 'https://api.openweathermap.org/data/2.5/weather'\n",
    "zip_code = input('What is your zip?')\n",
    "params = {\n",
    "    'APPID': weather_key,\n",
    "    'zip': '{},us'.format(zip_code),\n",
    "    'units': 'imperial'\n",
    "}\n",
    "\n",
    "res = requests.get(forecast_url, params)\n",
    "\n",
    "weather_dict = res.json()\n",
    "weather_dict['main']['temp']"
   ]
  },
  {
   "cell_type": "code",
   "execution_count": null,
   "metadata": {
    "collapsed": true
   },
   "outputs": [],
   "source": [
    "'''Writing a function to get the restaurants'''\n",
    "def hit_restaurant_api(restaurant_id): \n",
    "    restaurant_res = requests.get(restaurant_url)\n",
    "    restaurant_listd = restaurant_res.json()\n",
    "    "
   ]
  },
  {
   "cell_type": "markdown",
   "metadata": {},
   "source": [
    "## Step 2: Get restaurant info for each food\n",
    "\n",
    "1. For each food dictionary in your foods list, use the `restaurant_id` to get the restaurant information from the API.\n",
    "2. Add the name from said restaurant to each food dictionary\n",
    "3. **NOTE:** Cache each restaurant so that you only hit the API once per restaurant. In other words, you should only hit https://fast-retreat-88305.herokuapp.com/restaurants/1 once, even though multiple food items are associated with this particular restaurant.\n",
    "\n",
    "### Before:\n",
    "```python\n",
    "foods = [\n",
    "    {'calories': 0,\n",
    "     'carbs': 0,\n",
    "     'category_id': 1,\n",
    "     'created_at': '2017-04-17T19:43:29.444Z',\n",
    "     'fat': 0,\n",
    "     'id': 1,\n",
    "     'name': 'A&W® Diet Root Beer',\n",
    "     'restaurant_id': 1,\n",
    "     'updated_at': '2017-04-17T19:43:29.444Z',\n",
    "     'url': 'https://fast-retreat-88305.herokuapp.com/foods/1'},\n",
    "     ...\n",
    "]\n",
    "```\n",
    "\n",
    "### After:\n",
    "\n",
    "Note the addition of **`'name': 'A&W® Diet Root Beer'`** to the dictionary.\n",
    "\n",
    "```python\n",
    "foods = [\n",
    "    {'calories': 0,\n",
    "     'carbs': 0,\n",
    "     'category_id': 1,\n",
    "     'created_at': '2017-04-17T19:43:29.444Z',\n",
    "     'fat': 0,\n",
    "     'id': 1,\n",
    "     'name': 'A&W® Diet Root Beer',\n",
    "     'restaurant': 'A&W Restaurants',\n",
    "     'restaurant_id': 1,\n",
    "     'updated_at': '2017-04-17T19:43:29.444Z',\n",
    "     'url': 'https://fast-retreat-88305.herokuapp.com/foods/1'},\n",
    "     ...\n",
    "]\n",
    "```"
   ]
  },
  {
   "cell_type": "code",
   "execution_count": 93,
   "metadata": {},
   "outputs": [
    {
     "name": "stdout",
     "output_type": "stream",
     "text": [
      "{'id': 26, 'created_at': '2017-04-17T19:43:29.627Z', 'updated_at': '2017-04-17T19:43:29.627Z', 'name': 'Blue Raspberry Slushee', 'calories': 370, 'carbs': 91, 'fat': 0, 'category_ids': [1], 'restaurant_id': 1, 'url': 'https://fast-retreat-88305.herokuapp.com/foods/26', 'restaurant': 'A&W Restaurants'}\n"
     ]
    }
   ],
   "source": [
    "for item in food_listd:\n",
    "    for restaurant in restaurant_listd: \n",
    "        if item['restaurant_id'] == restaurant['id']:\n",
    "            item['restaurant'] = restaurant['name']\n",
    "        else: \n",
    "            continue\n",
    "            \n",
    "            \n",
    "print (food_listd[0])\n",
    "# print (food_listd[100])\n",
    "# print (food_listd[110])\n",
    "# print (food_listd[400])\n"
   ]
  },
  {
   "cell_type": "markdown",
   "metadata": {},
   "source": [
    "## Step 2: Get category info for each food\n",
    "\n",
    "1. For each food dictionary in your foods list, use the `category_id` to get the category information from the API.\n",
    "2. Add the name from said category to each food dictionary\n",
    "3. **NOTE:** Cache each category so that you only hit the API once per category. In other words, you should only hit https://fast-retreat-88305.herokuapp.com/categories/1 once, even though multiple food items are associated with this particular category.\n",
    "\n",
    "### Before:\n",
    "```python\n",
    "foods = [\n",
    "    {'calories': 0,\n",
    "     'carbs': 0,\n",
    "     'category_id': 1,\n",
    "     'created_at': '2017-04-17T19:43:29.444Z',\n",
    "     'fat': 0,\n",
    "     'id': 1,\n",
    "     'name': 'A&W® Diet Root Beer',\n",
    "     'restaurant': 'A&W Restaurants',\n",
    "     'restaurant_id': 1,\n",
    "     'updated_at': '2017-04-17T19:43:29.444Z',\n",
    "     'url': 'https://fast-retreat-88305.herokuapp.com/foods/1'},\n",
    "     ...\n",
    "]\n",
    "```\n",
    "\n",
    "### After:\n",
    "\n",
    "Note the addition of **`'category': 'Drinks'`** to the dictionary.\n",
    "\n",
    "```python\n",
    "foods = [\n",
    "    {'calories': 0,\n",
    "     'carbs': 0,\n",
    "     'category': 'Drinks',\n",
    "     'category_id': 1,\n",
    "     'created_at': '2017-04-17T19:43:29.444Z',\n",
    "     'fat': 0,\n",
    "     'id': 1,\n",
    "     'name': 'A&W® Diet Root Beer',\n",
    "     'restaurant': 'A&W Restaurants',\n",
    "     'restaurant_id': 1,\n",
    "     'updated_at': '2017-04-17T19:43:29.444Z',\n",
    "     'url': 'https://fast-retreat-88305.herokuapp.com/foods/1'},\n",
    "     ...\n",
    "]\n",
    "```"
   ]
  },
  {
   "cell_type": "code",
   "execution_count": 94,
   "metadata": {
    "collapsed": true
   },
   "outputs": [],
   "source": [
    "for item in food_listd:\n",
    "    for category in categories_listd: \n",
    "#         print (item['category_ids'][0])\n",
    "        if item['category_ids'][0] == category['id']:\n",
    "#             print ('Inside if')\n",
    "            item['category'] = category['name']\n",
    "        else: \n",
    "            continue\n",
    "            "
   ]
  },
  {
   "cell_type": "code",
   "execution_count": 95,
   "metadata": {},
   "outputs": [
    {
     "name": "stdout",
     "output_type": "stream",
     "text": [
      "{'calories': 370,\n",
      " 'carbs': 91,\n",
      " 'category': 'Drinks',\n",
      " 'category_ids': [1],\n",
      " 'created_at': '2017-04-17T19:43:29.627Z',\n",
      " 'fat': 0,\n",
      " 'id': 26,\n",
      " 'name': 'Blue Raspberry Slushee',\n",
      " 'restaurant': 'A&W Restaurants',\n",
      " 'restaurant_id': 1,\n",
      " 'updated_at': '2017-04-17T19:43:29.627Z',\n",
      " 'url': 'https://fast-retreat-88305.herokuapp.com/foods/26'}\n"
     ]
    }
   ],
   "source": [
    "pprint.pprint (food_listd[0])"
   ]
  },
  {
   "cell_type": "markdown",
   "metadata": {},
   "source": [
    "## Step 3: Create a `pandas` DataFrame from your list of foods\n",
    "\n",
    "**NOTE:** The shape of your DataFrame should be 4976 x 12"
   ]
  },
  {
   "cell_type": "code",
   "execution_count": 96,
   "metadata": {},
   "outputs": [
    {
     "data": {
      "text/html": [
       "<div>\n",
       "<style>\n",
       "    .dataframe thead tr:only-child th {\n",
       "        text-align: right;\n",
       "    }\n",
       "\n",
       "    .dataframe thead th {\n",
       "        text-align: left;\n",
       "    }\n",
       "\n",
       "    .dataframe tbody tr th {\n",
       "        vertical-align: top;\n",
       "    }\n",
       "</style>\n",
       "<table border=\"1\" class=\"dataframe\">\n",
       "  <thead>\n",
       "    <tr style=\"text-align: right;\">\n",
       "      <th></th>\n",
       "      <th>calories</th>\n",
       "      <th>carbs</th>\n",
       "      <th>category</th>\n",
       "      <th>category_ids</th>\n",
       "      <th>created_at</th>\n",
       "      <th>fat</th>\n",
       "      <th>id</th>\n",
       "      <th>name</th>\n",
       "      <th>restaurant</th>\n",
       "      <th>restaurant_id</th>\n",
       "      <th>updated_at</th>\n",
       "      <th>url</th>\n",
       "    </tr>\n",
       "  </thead>\n",
       "  <tbody>\n",
       "    <tr>\n",
       "      <th>0</th>\n",
       "      <td>370.0</td>\n",
       "      <td>91.0</td>\n",
       "      <td>Drinks</td>\n",
       "      <td>[1]</td>\n",
       "      <td>2017-04-17T19:43:29.627Z</td>\n",
       "      <td>0.0</td>\n",
       "      <td>26</td>\n",
       "      <td>Blue Raspberry Slushee</td>\n",
       "      <td>A&amp;W Restaurants</td>\n",
       "      <td>1.0</td>\n",
       "      <td>2017-04-17T19:43:29.627Z</td>\n",
       "      <td>https://fast-retreat-88305.herokuapp.com/foods/26</td>\n",
       "    </tr>\n",
       "    <tr>\n",
       "      <th>1</th>\n",
       "      <td>570.0</td>\n",
       "      <td>142.0</td>\n",
       "      <td>Drinks</td>\n",
       "      <td>[1]</td>\n",
       "      <td>2017-04-17T19:43:29.634Z</td>\n",
       "      <td>0.0</td>\n",
       "      <td>27</td>\n",
       "      <td>Blue Raspberry Slushee</td>\n",
       "      <td>A&amp;W Restaurants</td>\n",
       "      <td>1.0</td>\n",
       "      <td>2017-04-17T19:43:29.634Z</td>\n",
       "      <td>https://fast-retreat-88305.herokuapp.com/foods/27</td>\n",
       "    </tr>\n",
       "    <tr>\n",
       "      <th>2</th>\n",
       "      <td>740.0</td>\n",
       "      <td>182.0</td>\n",
       "      <td>Drinks</td>\n",
       "      <td>[1]</td>\n",
       "      <td>2017-04-17T19:43:29.641Z</td>\n",
       "      <td>0.0</td>\n",
       "      <td>28</td>\n",
       "      <td>Blue Raspberry Slushee</td>\n",
       "      <td>A&amp;W Restaurants</td>\n",
       "      <td>1.0</td>\n",
       "      <td>2017-04-17T19:43:29.641Z</td>\n",
       "      <td>https://fast-retreat-88305.herokuapp.com/foods/28</td>\n",
       "    </tr>\n",
       "    <tr>\n",
       "      <th>3</th>\n",
       "      <td>480.0</td>\n",
       "      <td>62.0</td>\n",
       "      <td>Sides</td>\n",
       "      <td>[3]</td>\n",
       "      <td>2017-04-17T19:43:29.653Z</td>\n",
       "      <td>27.0</td>\n",
       "      <td>29</td>\n",
       "      <td>Breaded Onion Rings (Large)</td>\n",
       "      <td>A&amp;W Restaurants</td>\n",
       "      <td>1.0</td>\n",
       "      <td>2017-04-17T19:43:29.653Z</td>\n",
       "      <td>https://fast-retreat-88305.herokuapp.com/foods/29</td>\n",
       "    </tr>\n",
       "    <tr>\n",
       "      <th>4</th>\n",
       "      <td>350.0</td>\n",
       "      <td>45.0</td>\n",
       "      <td>Sides</td>\n",
       "      <td>[3]</td>\n",
       "      <td>2017-04-17T19:43:29.659Z</td>\n",
       "      <td>16.0</td>\n",
       "      <td>30</td>\n",
       "      <td>Breaded Onion Rings (Regular)</td>\n",
       "      <td>A&amp;W Restaurants</td>\n",
       "      <td>1.0</td>\n",
       "      <td>2017-04-17T19:43:29.659Z</td>\n",
       "      <td>https://fast-retreat-88305.herokuapp.com/foods/30</td>\n",
       "    </tr>\n",
       "  </tbody>\n",
       "</table>\n",
       "</div>"
      ],
      "text/plain": [
       "   calories  carbs category category_ids                created_at   fat  id  \\\n",
       "0     370.0   91.0   Drinks          [1]  2017-04-17T19:43:29.627Z   0.0  26   \n",
       "1     570.0  142.0   Drinks          [1]  2017-04-17T19:43:29.634Z   0.0  27   \n",
       "2     740.0  182.0   Drinks          [1]  2017-04-17T19:43:29.641Z   0.0  28   \n",
       "3     480.0   62.0    Sides          [3]  2017-04-17T19:43:29.653Z  27.0  29   \n",
       "4     350.0   45.0    Sides          [3]  2017-04-17T19:43:29.659Z  16.0  30   \n",
       "\n",
       "                            name       restaurant  restaurant_id  \\\n",
       "0         Blue Raspberry Slushee  A&W Restaurants            1.0   \n",
       "1         Blue Raspberry Slushee  A&W Restaurants            1.0   \n",
       "2         Blue Raspberry Slushee  A&W Restaurants            1.0   \n",
       "3    Breaded Onion Rings (Large)  A&W Restaurants            1.0   \n",
       "4  Breaded Onion Rings (Regular)  A&W Restaurants            1.0   \n",
       "\n",
       "                 updated_at                                                url  \n",
       "0  2017-04-17T19:43:29.627Z  https://fast-retreat-88305.herokuapp.com/foods/26  \n",
       "1  2017-04-17T19:43:29.634Z  https://fast-retreat-88305.herokuapp.com/foods/27  \n",
       "2  2017-04-17T19:43:29.641Z  https://fast-retreat-88305.herokuapp.com/foods/28  \n",
       "3  2017-04-17T19:43:29.653Z  https://fast-retreat-88305.herokuapp.com/foods/29  \n",
       "4  2017-04-17T19:43:29.659Z  https://fast-retreat-88305.herokuapp.com/foods/30  "
      ]
     },
     "execution_count": 96,
     "metadata": {},
     "output_type": "execute_result"
    }
   ],
   "source": [
    "food_df = pd.DataFrame(food_listd)\n",
    "food_df.head()"
   ]
  },
  {
   "cell_type": "code",
   "execution_count": 99,
   "metadata": {},
   "outputs": [
    {
     "name": "stdout",
     "output_type": "stream",
     "text": [
      "(4976, 12)\n"
     ]
    }
   ],
   "source": [
    "print (food_df.shape)"
   ]
  },
  {
   "cell_type": "markdown",
   "metadata": {},
   "source": [
    "## Step 4: Clean up the DataFrame\n",
    "\n",
    "1. Drop any superfluous columns\n",
    "2. Capitalize each column name **in one line of code**"
   ]
  },
  {
   "cell_type": "code",
   "execution_count": 101,
   "metadata": {
    "collapsed": true
   },
   "outputs": [],
   "source": [
    "food_df.columns =   [columns.title() for columns in food_df.columns]"
   ]
  },
  {
   "cell_type": "code",
   "execution_count": 102,
   "metadata": {},
   "outputs": [
    {
     "data": {
      "text/html": [
       "<div>\n",
       "<style>\n",
       "    .dataframe thead tr:only-child th {\n",
       "        text-align: right;\n",
       "    }\n",
       "\n",
       "    .dataframe thead th {\n",
       "        text-align: left;\n",
       "    }\n",
       "\n",
       "    .dataframe tbody tr th {\n",
       "        vertical-align: top;\n",
       "    }\n",
       "</style>\n",
       "<table border=\"1\" class=\"dataframe\">\n",
       "  <thead>\n",
       "    <tr style=\"text-align: right;\">\n",
       "      <th></th>\n",
       "      <th>Calories</th>\n",
       "      <th>Carbs</th>\n",
       "      <th>Category</th>\n",
       "      <th>Category_Ids</th>\n",
       "      <th>Created_At</th>\n",
       "      <th>Fat</th>\n",
       "      <th>Id</th>\n",
       "      <th>Name</th>\n",
       "      <th>Restaurant</th>\n",
       "      <th>Restaurant_Id</th>\n",
       "      <th>Updated_At</th>\n",
       "      <th>Url</th>\n",
       "    </tr>\n",
       "  </thead>\n",
       "  <tbody>\n",
       "    <tr>\n",
       "      <th>0</th>\n",
       "      <td>370.0</td>\n",
       "      <td>91.0</td>\n",
       "      <td>Drinks</td>\n",
       "      <td>[1]</td>\n",
       "      <td>2017-04-17T19:43:29.627Z</td>\n",
       "      <td>0.0</td>\n",
       "      <td>26</td>\n",
       "      <td>Blue Raspberry Slushee</td>\n",
       "      <td>A&amp;W Restaurants</td>\n",
       "      <td>1.0</td>\n",
       "      <td>2017-04-17T19:43:29.627Z</td>\n",
       "      <td>https://fast-retreat-88305.herokuapp.com/foods/26</td>\n",
       "    </tr>\n",
       "    <tr>\n",
       "      <th>1</th>\n",
       "      <td>570.0</td>\n",
       "      <td>142.0</td>\n",
       "      <td>Drinks</td>\n",
       "      <td>[1]</td>\n",
       "      <td>2017-04-17T19:43:29.634Z</td>\n",
       "      <td>0.0</td>\n",
       "      <td>27</td>\n",
       "      <td>Blue Raspberry Slushee</td>\n",
       "      <td>A&amp;W Restaurants</td>\n",
       "      <td>1.0</td>\n",
       "      <td>2017-04-17T19:43:29.634Z</td>\n",
       "      <td>https://fast-retreat-88305.herokuapp.com/foods/27</td>\n",
       "    </tr>\n",
       "    <tr>\n",
       "      <th>2</th>\n",
       "      <td>740.0</td>\n",
       "      <td>182.0</td>\n",
       "      <td>Drinks</td>\n",
       "      <td>[1]</td>\n",
       "      <td>2017-04-17T19:43:29.641Z</td>\n",
       "      <td>0.0</td>\n",
       "      <td>28</td>\n",
       "      <td>Blue Raspberry Slushee</td>\n",
       "      <td>A&amp;W Restaurants</td>\n",
       "      <td>1.0</td>\n",
       "      <td>2017-04-17T19:43:29.641Z</td>\n",
       "      <td>https://fast-retreat-88305.herokuapp.com/foods/28</td>\n",
       "    </tr>\n",
       "    <tr>\n",
       "      <th>3</th>\n",
       "      <td>480.0</td>\n",
       "      <td>62.0</td>\n",
       "      <td>Sides</td>\n",
       "      <td>[3]</td>\n",
       "      <td>2017-04-17T19:43:29.653Z</td>\n",
       "      <td>27.0</td>\n",
       "      <td>29</td>\n",
       "      <td>Breaded Onion Rings (Large)</td>\n",
       "      <td>A&amp;W Restaurants</td>\n",
       "      <td>1.0</td>\n",
       "      <td>2017-04-17T19:43:29.653Z</td>\n",
       "      <td>https://fast-retreat-88305.herokuapp.com/foods/29</td>\n",
       "    </tr>\n",
       "    <tr>\n",
       "      <th>4</th>\n",
       "      <td>350.0</td>\n",
       "      <td>45.0</td>\n",
       "      <td>Sides</td>\n",
       "      <td>[3]</td>\n",
       "      <td>2017-04-17T19:43:29.659Z</td>\n",
       "      <td>16.0</td>\n",
       "      <td>30</td>\n",
       "      <td>Breaded Onion Rings (Regular)</td>\n",
       "      <td>A&amp;W Restaurants</td>\n",
       "      <td>1.0</td>\n",
       "      <td>2017-04-17T19:43:29.659Z</td>\n",
       "      <td>https://fast-retreat-88305.herokuapp.com/foods/30</td>\n",
       "    </tr>\n",
       "  </tbody>\n",
       "</table>\n",
       "</div>"
      ],
      "text/plain": [
       "   Calories  Carbs Category Category_Ids                Created_At   Fat  Id  \\\n",
       "0     370.0   91.0   Drinks          [1]  2017-04-17T19:43:29.627Z   0.0  26   \n",
       "1     570.0  142.0   Drinks          [1]  2017-04-17T19:43:29.634Z   0.0  27   \n",
       "2     740.0  182.0   Drinks          [1]  2017-04-17T19:43:29.641Z   0.0  28   \n",
       "3     480.0   62.0    Sides          [3]  2017-04-17T19:43:29.653Z  27.0  29   \n",
       "4     350.0   45.0    Sides          [3]  2017-04-17T19:43:29.659Z  16.0  30   \n",
       "\n",
       "                            Name       Restaurant  Restaurant_Id  \\\n",
       "0         Blue Raspberry Slushee  A&W Restaurants            1.0   \n",
       "1         Blue Raspberry Slushee  A&W Restaurants            1.0   \n",
       "2         Blue Raspberry Slushee  A&W Restaurants            1.0   \n",
       "3    Breaded Onion Rings (Large)  A&W Restaurants            1.0   \n",
       "4  Breaded Onion Rings (Regular)  A&W Restaurants            1.0   \n",
       "\n",
       "                 Updated_At                                                Url  \n",
       "0  2017-04-17T19:43:29.627Z  https://fast-retreat-88305.herokuapp.com/foods/26  \n",
       "1  2017-04-17T19:43:29.634Z  https://fast-retreat-88305.herokuapp.com/foods/27  \n",
       "2  2017-04-17T19:43:29.641Z  https://fast-retreat-88305.herokuapp.com/foods/28  \n",
       "3  2017-04-17T19:43:29.653Z  https://fast-retreat-88305.herokuapp.com/foods/29  \n",
       "4  2017-04-17T19:43:29.659Z  https://fast-retreat-88305.herokuapp.com/foods/30  "
      ]
     },
     "execution_count": 102,
     "metadata": {},
     "output_type": "execute_result"
    }
   ],
   "source": [
    "food_df.head()"
   ]
  },
  {
   "cell_type": "code",
   "execution_count": 104,
   "metadata": {},
   "outputs": [
    {
     "data": {
      "text/plain": [
       "Index(['Calories', 'Carbs', 'Fat', 'Name', 'Restaurant', 'Restaurant_Id'], dtype='object')"
      ]
     },
     "execution_count": 104,
     "metadata": {},
     "output_type": "execute_result"
    }
   ],
   "source": [
    "food_df.columns[food_df.isnull().sum()>0]"
   ]
  },
  {
   "cell_type": "code",
   "execution_count": 106,
   "metadata": {
    "collapsed": true
   },
   "outputs": [],
   "source": [
    "food_df.fillna(value='N/A', inplace=True)"
   ]
  },
  {
   "cell_type": "code",
   "execution_count": 107,
   "metadata": {},
   "outputs": [
    {
     "name": "stdout",
     "output_type": "stream",
     "text": [
      "<class 'pandas.core.frame.DataFrame'>\n",
      "RangeIndex: 4976 entries, 0 to 4975\n",
      "Data columns (total 12 columns):\n",
      "Calories         4976 non-null object\n",
      "Carbs            4976 non-null object\n",
      "Category         4976 non-null object\n",
      "Category_Ids     4976 non-null object\n",
      "Created_At       4976 non-null object\n",
      "Fat              4976 non-null object\n",
      "Id               4976 non-null int64\n",
      "Name             4976 non-null object\n",
      "Restaurant       4976 non-null object\n",
      "Restaurant_Id    4976 non-null object\n",
      "Updated_At       4976 non-null object\n",
      "Url              4976 non-null object\n",
      "dtypes: int64(1), object(11)\n",
      "memory usage: 466.6+ KB\n"
     ]
    }
   ],
   "source": [
    "food_df.info()"
   ]
  },
  {
   "cell_type": "code",
   "execution_count": null,
   "metadata": {
    "collapsed": true
   },
   "outputs": [],
   "source": []
  }
 ],
 "metadata": {
  "kernelspec": {
   "display_name": "Python 3",
   "language": "python",
   "name": "python3"
  },
  "language_info": {
   "codemirror_mode": {
    "name": "ipython",
    "version": 3
   },
   "file_extension": ".py",
   "mimetype": "text/x-python",
   "name": "python",
   "nbconvert_exporter": "python",
   "pygments_lexer": "ipython3",
   "version": "3.6.1"
  }
 },
 "nbformat": 4,
 "nbformat_minor": 2
}
