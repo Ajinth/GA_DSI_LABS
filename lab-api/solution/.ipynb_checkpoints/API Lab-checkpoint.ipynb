{
 "cells": [
  {
   "cell_type": "code",
   "execution_count": 1,
   "metadata": {
    "collapsed": true
   },
   "outputs": [],
   "source": [
    "import requests\n",
    "import json\n",
    "import pandas as pd"
   ]
  },
  {
   "cell_type": "markdown",
   "metadata": {},
   "source": [
    "## Step 1: Get all the foods\n",
    "\n",
    "Using the API in the [README](../README.md), get a list of all the foods"
   ]
  },
  {
   "cell_type": "code",
   "execution_count": 5,
   "metadata": {},
   "outputs": [
    {
     "data": {
      "text/plain": [
       "{'calories': 0,\n",
       " 'carbs': 0,\n",
       " 'category_id': 1,\n",
       " 'created_at': '2017-04-17T19:43:29.444Z',\n",
       " 'fat': 0,\n",
       " 'id': 1,\n",
       " 'name': 'A&W® Diet Root Beer',\n",
       " 'restaurant_id': 1,\n",
       " 'updated_at': '2017-04-17T19:43:29.444Z',\n",
       " 'url': 'https://fast-retreat-88305.herokuapp.com/foods/1'}"
      ]
     },
     "execution_count": 5,
     "metadata": {},
     "output_type": "execute_result"
    }
   ],
   "source": [
    "# Get all the foods\n",
    "res = requests.get('https://fast-retreat-88305.herokuapp.com/foods')\n",
    "\n",
    "# Convert the result, which is a string into a python list\n",
    "foods = json.loads(res.content)\n",
    "foods[0]"
   ]
  },
  {
   "cell_type": "markdown",
   "metadata": {},
   "source": [
    "## Step 2: Get restaurant info for each food\n",
    "\n",
    "1. For each food dictionary in your foods list, use the `restaurant_id` to get the restaurant information from the API.\n",
    "2. Add the name from said restaurant to each food dictionary\n",
    "3. **NOTE:** Cache each restaurant so that you only hit the API once per restaurant. In other words, you should only hit https://fast-retreat-88305.herokuapp.com/restaurants/1 once, even though multiple food items are associated with this particular restaurant.\n",
    "\n",
    "### Before:\n",
    "```python\n",
    "foods = [\n",
    "    {'calories': 0,\n",
    "     'carbs': 0,\n",
    "     'category_id': 1,\n",
    "     'created_at': '2017-04-17T19:43:29.444Z',\n",
    "     'fat': 0,\n",
    "     'id': 1,\n",
    "     'name': 'A&W® Diet Root Beer',\n",
    "     'restaurant_id': 1,\n",
    "     'updated_at': '2017-04-17T19:43:29.444Z',\n",
    "     'url': 'https://fast-retreat-88305.herokuapp.com/foods/1'},\n",
    "     ...\n",
    "]\n",
    "```\n",
    "\n",
    "### After:\n",
    "\n",
    "Note the addition of **`'name': 'A&W® Diet Root Beer'`** to the dictionary.\n",
    "\n",
    "```python\n",
    "foods = [\n",
    "    {'calories': 0,\n",
    "     'carbs': 0,\n",
    "     'category_id': 1,\n",
    "     'created_at': '2017-04-17T19:43:29.444Z',\n",
    "     'fat': 0,\n",
    "     'id': 1,\n",
    "     'name': 'A&W® Diet Root Beer',\n",
    "     'restaurant': 'A&W Restaurants',\n",
    "     'restaurant_id': 1,\n",
    "     'updated_at': '2017-04-17T19:43:29.444Z',\n",
    "     'url': 'https://fast-retreat-88305.herokuapp.com/foods/1'},\n",
    "     ...\n",
    "]\n",
    "```"
   ]
  },
  {
   "cell_type": "code",
   "execution_count": 8,
   "metadata": {},
   "outputs": [
    {
     "data": {
      "text/plain": [
       "{'calories': 0,\n",
       " 'carbs': 0,\n",
       " 'category_id': 1,\n",
       " 'created_at': '2017-04-17T19:43:29.444Z',\n",
       " 'fat': 0,\n",
       " 'id': 1,\n",
       " 'name': 'A&W® Diet Root Beer',\n",
       " 'restaurant': 'A&W Restaurants',\n",
       " 'restaurant_id': 1,\n",
       " 'updated_at': '2017-04-17T19:43:29.444Z',\n",
       " 'url': 'https://fast-retreat-88305.herokuapp.com/foods/1'}"
      ]
     },
     "execution_count": 8,
     "metadata": {},
     "output_type": "execute_result"
    }
   ],
   "source": [
    "# Initialize restuaurants cache\n",
    "restaurants = {}\n",
    "\n",
    "# Loop through the foods list\n",
    "for food in foods:\n",
    "    # Get the associated id of the restaurant\n",
    "    restaurant_id = food['restaurant_id']\n",
    "    \n",
    "    # Check to see if the restaurant_id is cached\n",
    "    if restaurant_id in restaurants:\n",
    "        \n",
    "        # If it is, just add the name to my food dictionary\n",
    "        food['restaurant'] = restaurants[restaurant_id]\n",
    "    else:\n",
    "        # If not, get the restaurant information\n",
    "        restaurant_res = requests.get('https://fast-retreat-88305.herokuapp.com/restaurants/{}'.format(restaurant_id))\n",
    "        \n",
    "        # Load json into a dictionary\n",
    "        restaurant = json.loads(restaurant_res.content)\n",
    "        \n",
    "        # Add the name of the restuarant to the food dictionary\n",
    "        food['restaurant'] = restaurant['name']\n",
    "        \n",
    "        # Cache the result so I only hit the API once per restaurant\n",
    "        restaurants[restaurant_id] = restaurant['name']\n",
    "foods[0]"
   ]
  },
  {
   "cell_type": "markdown",
   "metadata": {},
   "source": [
    "## Step 2: Get category info for each food\n",
    "\n",
    "1. For each food dictionary in your foods list, use the `category_id` to get the category information from the API.\n",
    "2. Add the name from said category to each food dictionary\n",
    "3. **NOTE:** Cache each category so that you only hit the API once per category. In other words, you should only hit https://fast-retreat-88305.herokuapp.com/categories/1 once, even though multiple food items are associated with this particular category.\n",
    "\n",
    "### Before:\n",
    "```python\n",
    "foods = [\n",
    "    {'calories': 0,\n",
    "     'carbs': 0,\n",
    "     'category_id': 1,\n",
    "     'created_at': '2017-04-17T19:43:29.444Z',\n",
    "     'fat': 0,\n",
    "     'id': 1,\n",
    "     'name': 'A&W® Diet Root Beer',\n",
    "     'restaurant': 'A&W Restaurants',\n",
    "     'restaurant_id': 1,\n",
    "     'updated_at': '2017-04-17T19:43:29.444Z',\n",
    "     'url': 'https://fast-retreat-88305.herokuapp.com/foods/1'},\n",
    "     ...\n",
    "]\n",
    "```\n",
    "\n",
    "### After:\n",
    "\n",
    "Note the addition of **`'category': 'Drinks'`** to the dictionary.\n",
    "\n",
    "```python\n",
    "foods = [\n",
    "    {'calories': 0,\n",
    "     'carbs': 0,\n",
    "     'category': 'Drinks',\n",
    "     'category_id': 1,\n",
    "     'created_at': '2017-04-17T19:43:29.444Z',\n",
    "     'fat': 0,\n",
    "     'id': 1,\n",
    "     'name': 'A&W® Diet Root Beer',\n",
    "     'restaurant': 'A&W Restaurants',\n",
    "     'restaurant_id': 1,\n",
    "     'updated_at': '2017-04-17T19:43:29.444Z',\n",
    "     'url': 'https://fast-retreat-88305.herokuapp.com/foods/1'},\n",
    "     ...\n",
    "]\n",
    "```"
   ]
  },
  {
   "cell_type": "code",
   "execution_count": 13,
   "metadata": {},
   "outputs": [],
   "source": [
    "# Category cache\n",
    "categories = {}\n",
    "\n",
    "for food in foods:\n",
    "    category_id = food['category_id']\n",
    "    \n",
    "    # Checking to see if I have this category in my cache\n",
    "    if category_id in categories:\n",
    "        \n",
    "        # If so, add the name (the value from the dictionary) to the food\n",
    "        food['category'] = categories[category_id]\n",
    "    else:\n",
    "        # Hit the endpoint for the category \n",
    "        category_res = requests.get('https://fast-retreat-88305.herokuapp.com/categories/{}'.format(category_id))\n",
    "        \n",
    "        # Load the result into json\n",
    "        category = json.loads(category_res.content)\n",
    "        \n",
    "        # Add the name to food dictionary\n",
    "        food['category'] = category['name']\n",
    "        \n",
    "        # Add the category to cache\n",
    "        categories[category_id] = category['name']\n"
   ]
  },
  {
   "cell_type": "markdown",
   "metadata": {},
   "source": [
    "## Step 3: Create a `pandas` DataFrame from your list of foods\n",
    "\n",
    "**NOTE:** The shape of your DataFrame should be 4976 x 12"
   ]
  },
  {
   "cell_type": "code",
   "execution_count": 14,
   "metadata": {},
   "outputs": [
    {
     "data": {
      "text/plain": [
       "(4976, 12)"
      ]
     },
     "execution_count": 14,
     "metadata": {},
     "output_type": "execute_result"
    }
   ],
   "source": [
    "df = pd.DataFrame(foods)\n",
    "df.shape"
   ]
  },
  {
   "cell_type": "markdown",
   "metadata": {},
   "source": [
    "## Step 4: Clean up the DataFrame\n",
    "\n",
    "1. Drop any superfluous columns\n",
    "2. Capitalize each column name **in one line of code**"
   ]
  },
  {
   "cell_type": "code",
   "execution_count": null,
   "metadata": {},
   "outputs": [],
   "source": [
    "# Drop it like it's hot\n",
    "df.drop(['category_id', 'created_at', 'id', 'restaurant_id', 'updated_at', 'url'], axis=1, inplace=True)"
   ]
  },
  {
   "cell_type": "code",
   "execution_count": 21,
   "metadata": {},
   "outputs": [
    {
     "data": {
      "text/html": [
       "<div>\n",
       "<style>\n",
       "    .dataframe thead tr:only-child th {\n",
       "        text-align: right;\n",
       "    }\n",
       "\n",
       "    .dataframe thead th {\n",
       "        text-align: left;\n",
       "    }\n",
       "\n",
       "    .dataframe tbody tr th {\n",
       "        vertical-align: top;\n",
       "    }\n",
       "</style>\n",
       "<table border=\"1\" class=\"dataframe\">\n",
       "  <thead>\n",
       "    <tr style=\"text-align: right;\">\n",
       "      <th></th>\n",
       "      <th>Calories</th>\n",
       "      <th>Carbs</th>\n",
       "      <th>Category</th>\n",
       "      <th>Fat</th>\n",
       "      <th>Name</th>\n",
       "      <th>Restaurant</th>\n",
       "    </tr>\n",
       "  </thead>\n",
       "  <tbody>\n",
       "    <tr>\n",
       "      <th>0</th>\n",
       "      <td>0.0</td>\n",
       "      <td>0.0</td>\n",
       "      <td>Drinks</td>\n",
       "      <td>0.0</td>\n",
       "      <td>A&amp;W® Diet Root Beer</td>\n",
       "      <td>A&amp;W Restaurants</td>\n",
       "    </tr>\n",
       "    <tr>\n",
       "      <th>1</th>\n",
       "      <td>0.0</td>\n",
       "      <td>0.0</td>\n",
       "      <td>Drinks</td>\n",
       "      <td>0.0</td>\n",
       "      <td>A&amp;W® Diet Root Beer</td>\n",
       "      <td>A&amp;W Restaurants</td>\n",
       "    </tr>\n",
       "    <tr>\n",
       "      <th>2</th>\n",
       "      <td>0.0</td>\n",
       "      <td>0.0</td>\n",
       "      <td>Drinks</td>\n",
       "      <td>0.0</td>\n",
       "      <td>A&amp;W® Diet Root Beer</td>\n",
       "      <td>A&amp;W Restaurants</td>\n",
       "    </tr>\n",
       "    <tr>\n",
       "      <th>3</th>\n",
       "      <td>0.0</td>\n",
       "      <td>0.0</td>\n",
       "      <td>Drinks</td>\n",
       "      <td>0.0</td>\n",
       "      <td>A&amp;W® Diet Root Beer</td>\n",
       "      <td>A&amp;W Restaurants</td>\n",
       "    </tr>\n",
       "    <tr>\n",
       "      <th>4</th>\n",
       "      <td>0.0</td>\n",
       "      <td>0.0</td>\n",
       "      <td>Drinks</td>\n",
       "      <td>0.0</td>\n",
       "      <td>A&amp;W® Diet Root Beer</td>\n",
       "      <td>A&amp;W Restaurants</td>\n",
       "    </tr>\n",
       "  </tbody>\n",
       "</table>\n",
       "</div>"
      ],
      "text/plain": [
       "   Calories  Carbs Category  Fat                 Name       Restaurant\n",
       "0       0.0    0.0   Drinks  0.0  A&W® Diet Root Beer  A&W Restaurants\n",
       "1       0.0    0.0   Drinks  0.0  A&W® Diet Root Beer  A&W Restaurants\n",
       "2       0.0    0.0   Drinks  0.0  A&W® Diet Root Beer  A&W Restaurants\n",
       "3       0.0    0.0   Drinks  0.0  A&W® Diet Root Beer  A&W Restaurants\n",
       "4       0.0    0.0   Drinks  0.0  A&W® Diet Root Beer  A&W Restaurants"
      ]
     },
     "execution_count": 21,
     "metadata": {},
     "output_type": "execute_result"
    }
   ],
   "source": [
    "# One line of code, boom\n",
    "df.columns = [c.title() for c in df.columns]\n",
    "df.head()"
   ]
  },
  {
   "cell_type": "code",
   "execution_count": null,
   "metadata": {
    "collapsed": true
   },
   "outputs": [],
   "source": []
  }
 ],
 "metadata": {
  "kernelspec": {
   "display_name": "Python 3",
   "language": "python",
   "name": "python3"
  },
  "language_info": {
   "codemirror_mode": {
    "name": "ipython",
    "version": 3
   },
   "file_extension": ".py",
   "mimetype": "text/x-python",
   "name": "python",
   "nbconvert_exporter": "python",
   "pygments_lexer": "ipython3",
   "version": "3.6.1"
  }
 },
 "nbformat": 4,
 "nbformat_minor": 2
}
