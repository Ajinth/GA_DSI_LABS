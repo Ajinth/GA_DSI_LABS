{
 "cells": [
  {
   "cell_type": "code",
   "execution_count": 59,
   "metadata": {
    "collapsed": true
   },
   "outputs": [],
   "source": [
    "import numpy as np\n",
    "import pandas as pd\n",
    "import matplotlib.pyplot as plt\n",
    "import seaborn as sns\n",
    "%matplotlib inline\n",
    "\n",
    "from sklearn.model_selection import train_test_split, GridSearchCV\n",
    "from sklearn.preprocessing import StandardScaler\n",
    "from sklearn.linear_model import LogisticRegression\n",
    "from sklearn.feature_selection import RFE, SelectKBest, f_classif\n",
    "from sklearn.metrics import confusion_matrix"
   ]
  },
  {
   "cell_type": "markdown",
   "metadata": {},
   "source": [
    "# Introduction\n",
    "\n",
    "Today's dataset comes from the UCI Machine Learning Repository and is a set of data on [Online News Popularity](http://archive.ics.uci.edu/ml/datasets/Online+News+Popularity) for articles shared on Mashable.\n",
    "\n",
    "The dataset can be found in this repository (`datasets/OnlineNewsPopularity.csv`) and the codebook can be found within the `datasets` folder as well (or online [here](https://git.generalassemb.ly/DSI-EAST-1/lab-feature-selection-grid-search/blob/master/datasets/OnlineNewsPopularity.names).) However, you will not need to have intimate domain knowledge to create a great model!"
   ]
  },
  {
   "cell_type": "markdown",
   "metadata": {},
   "source": [
    "## Question 1: EDA\n",
    "\n",
    "For this step, do the following:\n",
    "- Import the data in `datasets/OnlineNewsPopularity.csv`\n",
    "- Use methods like `.describe()` and `.info()` to identify if there is any missing data and any non-numeric data\n",
    "- Print out the results of `df.columns` -- are these names formatted correctly?\n",
    "- Drop any columns that do not contain numeric values\n",
    "- Drop or impute any missing data\n",
    "- Recode the `shares` column (your target) to be 1 if shares is >= 1500 and 0 otherwise"
   ]
  },
  {
   "cell_type": "code",
   "execution_count": 2,
   "metadata": {
    "collapsed": true
   },
   "outputs": [],
   "source": [
    "df = pd.read_csv('datasets/OnlineNewsPopularity.csv')"
   ]
  },
  {
   "cell_type": "code",
   "execution_count": 3,
   "metadata": {},
   "outputs": [
    {
     "data": {
      "text/html": [
       "<div>\n",
       "<style>\n",
       "    .dataframe thead tr:only-child th {\n",
       "        text-align: right;\n",
       "    }\n",
       "\n",
       "    .dataframe thead th {\n",
       "        text-align: left;\n",
       "    }\n",
       "\n",
       "    .dataframe tbody tr th {\n",
       "        vertical-align: top;\n",
       "    }\n",
       "</style>\n",
       "<table border=\"1\" class=\"dataframe\">\n",
       "  <thead>\n",
       "    <tr style=\"text-align: right;\">\n",
       "      <th></th>\n",
       "      <th>timedelta</th>\n",
       "      <th>n_tokens_title</th>\n",
       "      <th>n_tokens_content</th>\n",
       "      <th>n_unique_tokens</th>\n",
       "      <th>n_non_stop_words</th>\n",
       "      <th>n_non_stop_unique_tokens</th>\n",
       "      <th>num_hrefs</th>\n",
       "      <th>num_self_hrefs</th>\n",
       "      <th>num_imgs</th>\n",
       "      <th>num_videos</th>\n",
       "      <th>...</th>\n",
       "      <th>min_positive_polarity</th>\n",
       "      <th>max_positive_polarity</th>\n",
       "      <th>avg_negative_polarity</th>\n",
       "      <th>min_negative_polarity</th>\n",
       "      <th>max_negative_polarity</th>\n",
       "      <th>title_subjectivity</th>\n",
       "      <th>title_sentiment_polarity</th>\n",
       "      <th>abs_title_subjectivity</th>\n",
       "      <th>abs_title_sentiment_polarity</th>\n",
       "      <th>shares</th>\n",
       "    </tr>\n",
       "  </thead>\n",
       "  <tbody>\n",
       "    <tr>\n",
       "      <th>count</th>\n",
       "      <td>39644.000000</td>\n",
       "      <td>39644.000000</td>\n",
       "      <td>39644.000000</td>\n",
       "      <td>39644.000000</td>\n",
       "      <td>39644.000000</td>\n",
       "      <td>39644.000000</td>\n",
       "      <td>39644.000000</td>\n",
       "      <td>39644.000000</td>\n",
       "      <td>39644.000000</td>\n",
       "      <td>39644.000000</td>\n",
       "      <td>...</td>\n",
       "      <td>39644.000000</td>\n",
       "      <td>39644.000000</td>\n",
       "      <td>39644.000000</td>\n",
       "      <td>39644.000000</td>\n",
       "      <td>39644.000000</td>\n",
       "      <td>39644.000000</td>\n",
       "      <td>39644.000000</td>\n",
       "      <td>39644.000000</td>\n",
       "      <td>39644.000000</td>\n",
       "      <td>39644.000000</td>\n",
       "    </tr>\n",
       "    <tr>\n",
       "      <th>mean</th>\n",
       "      <td>354.530471</td>\n",
       "      <td>10.398749</td>\n",
       "      <td>546.514731</td>\n",
       "      <td>0.548216</td>\n",
       "      <td>0.996469</td>\n",
       "      <td>0.689175</td>\n",
       "      <td>10.883690</td>\n",
       "      <td>3.293638</td>\n",
       "      <td>4.544143</td>\n",
       "      <td>1.249874</td>\n",
       "      <td>...</td>\n",
       "      <td>0.095446</td>\n",
       "      <td>0.756728</td>\n",
       "      <td>-0.259524</td>\n",
       "      <td>-0.521944</td>\n",
       "      <td>-0.107500</td>\n",
       "      <td>0.282353</td>\n",
       "      <td>0.071425</td>\n",
       "      <td>0.341843</td>\n",
       "      <td>0.156064</td>\n",
       "      <td>3395.380184</td>\n",
       "    </tr>\n",
       "    <tr>\n",
       "      <th>std</th>\n",
       "      <td>214.163767</td>\n",
       "      <td>2.114037</td>\n",
       "      <td>471.107508</td>\n",
       "      <td>3.520708</td>\n",
       "      <td>5.231231</td>\n",
       "      <td>3.264816</td>\n",
       "      <td>11.332017</td>\n",
       "      <td>3.855141</td>\n",
       "      <td>8.309434</td>\n",
       "      <td>4.107855</td>\n",
       "      <td>...</td>\n",
       "      <td>0.071315</td>\n",
       "      <td>0.247786</td>\n",
       "      <td>0.127726</td>\n",
       "      <td>0.290290</td>\n",
       "      <td>0.095373</td>\n",
       "      <td>0.324247</td>\n",
       "      <td>0.265450</td>\n",
       "      <td>0.188791</td>\n",
       "      <td>0.226294</td>\n",
       "      <td>11626.950749</td>\n",
       "    </tr>\n",
       "    <tr>\n",
       "      <th>min</th>\n",
       "      <td>8.000000</td>\n",
       "      <td>2.000000</td>\n",
       "      <td>0.000000</td>\n",
       "      <td>0.000000</td>\n",
       "      <td>0.000000</td>\n",
       "      <td>0.000000</td>\n",
       "      <td>0.000000</td>\n",
       "      <td>0.000000</td>\n",
       "      <td>0.000000</td>\n",
       "      <td>0.000000</td>\n",
       "      <td>...</td>\n",
       "      <td>0.000000</td>\n",
       "      <td>0.000000</td>\n",
       "      <td>-1.000000</td>\n",
       "      <td>-1.000000</td>\n",
       "      <td>-1.000000</td>\n",
       "      <td>0.000000</td>\n",
       "      <td>-1.000000</td>\n",
       "      <td>0.000000</td>\n",
       "      <td>0.000000</td>\n",
       "      <td>1.000000</td>\n",
       "    </tr>\n",
       "    <tr>\n",
       "      <th>25%</th>\n",
       "      <td>164.000000</td>\n",
       "      <td>9.000000</td>\n",
       "      <td>246.000000</td>\n",
       "      <td>0.470870</td>\n",
       "      <td>1.000000</td>\n",
       "      <td>0.625739</td>\n",
       "      <td>4.000000</td>\n",
       "      <td>1.000000</td>\n",
       "      <td>1.000000</td>\n",
       "      <td>0.000000</td>\n",
       "      <td>...</td>\n",
       "      <td>0.050000</td>\n",
       "      <td>0.600000</td>\n",
       "      <td>-0.328383</td>\n",
       "      <td>-0.700000</td>\n",
       "      <td>-0.125000</td>\n",
       "      <td>0.000000</td>\n",
       "      <td>0.000000</td>\n",
       "      <td>0.166667</td>\n",
       "      <td>0.000000</td>\n",
       "      <td>946.000000</td>\n",
       "    </tr>\n",
       "    <tr>\n",
       "      <th>50%</th>\n",
       "      <td>339.000000</td>\n",
       "      <td>10.000000</td>\n",
       "      <td>409.000000</td>\n",
       "      <td>0.539226</td>\n",
       "      <td>1.000000</td>\n",
       "      <td>0.690476</td>\n",
       "      <td>8.000000</td>\n",
       "      <td>3.000000</td>\n",
       "      <td>1.000000</td>\n",
       "      <td>0.000000</td>\n",
       "      <td>...</td>\n",
       "      <td>0.100000</td>\n",
       "      <td>0.800000</td>\n",
       "      <td>-0.253333</td>\n",
       "      <td>-0.500000</td>\n",
       "      <td>-0.100000</td>\n",
       "      <td>0.150000</td>\n",
       "      <td>0.000000</td>\n",
       "      <td>0.500000</td>\n",
       "      <td>0.000000</td>\n",
       "      <td>1400.000000</td>\n",
       "    </tr>\n",
       "    <tr>\n",
       "      <th>75%</th>\n",
       "      <td>542.000000</td>\n",
       "      <td>12.000000</td>\n",
       "      <td>716.000000</td>\n",
       "      <td>0.608696</td>\n",
       "      <td>1.000000</td>\n",
       "      <td>0.754630</td>\n",
       "      <td>14.000000</td>\n",
       "      <td>4.000000</td>\n",
       "      <td>4.000000</td>\n",
       "      <td>1.000000</td>\n",
       "      <td>...</td>\n",
       "      <td>0.100000</td>\n",
       "      <td>1.000000</td>\n",
       "      <td>-0.186905</td>\n",
       "      <td>-0.300000</td>\n",
       "      <td>-0.050000</td>\n",
       "      <td>0.500000</td>\n",
       "      <td>0.150000</td>\n",
       "      <td>0.500000</td>\n",
       "      <td>0.250000</td>\n",
       "      <td>2800.000000</td>\n",
       "    </tr>\n",
       "    <tr>\n",
       "      <th>max</th>\n",
       "      <td>731.000000</td>\n",
       "      <td>23.000000</td>\n",
       "      <td>8474.000000</td>\n",
       "      <td>701.000000</td>\n",
       "      <td>1042.000000</td>\n",
       "      <td>650.000000</td>\n",
       "      <td>304.000000</td>\n",
       "      <td>116.000000</td>\n",
       "      <td>128.000000</td>\n",
       "      <td>91.000000</td>\n",
       "      <td>...</td>\n",
       "      <td>1.000000</td>\n",
       "      <td>1.000000</td>\n",
       "      <td>0.000000</td>\n",
       "      <td>0.000000</td>\n",
       "      <td>0.000000</td>\n",
       "      <td>1.000000</td>\n",
       "      <td>1.000000</td>\n",
       "      <td>0.500000</td>\n",
       "      <td>1.000000</td>\n",
       "      <td>843300.000000</td>\n",
       "    </tr>\n",
       "  </tbody>\n",
       "</table>\n",
       "<p>8 rows × 60 columns</p>\n",
       "</div>"
      ],
      "text/plain": [
       "          timedelta   n_tokens_title   n_tokens_content   n_unique_tokens  \\\n",
       "count  39644.000000     39644.000000       39644.000000      39644.000000   \n",
       "mean     354.530471        10.398749         546.514731          0.548216   \n",
       "std      214.163767         2.114037         471.107508          3.520708   \n",
       "min        8.000000         2.000000           0.000000          0.000000   \n",
       "25%      164.000000         9.000000         246.000000          0.470870   \n",
       "50%      339.000000        10.000000         409.000000          0.539226   \n",
       "75%      542.000000        12.000000         716.000000          0.608696   \n",
       "max      731.000000        23.000000        8474.000000        701.000000   \n",
       "\n",
       "        n_non_stop_words   n_non_stop_unique_tokens     num_hrefs  \\\n",
       "count       39644.000000               39644.000000  39644.000000   \n",
       "mean            0.996469                   0.689175     10.883690   \n",
       "std             5.231231                   3.264816     11.332017   \n",
       "min             0.000000                   0.000000      0.000000   \n",
       "25%             1.000000                   0.625739      4.000000   \n",
       "50%             1.000000                   0.690476      8.000000   \n",
       "75%             1.000000                   0.754630     14.000000   \n",
       "max          1042.000000                 650.000000    304.000000   \n",
       "\n",
       "        num_self_hrefs      num_imgs    num_videos      ...        \\\n",
       "count     39644.000000  39644.000000  39644.000000      ...         \n",
       "mean          3.293638      4.544143      1.249874      ...         \n",
       "std           3.855141      8.309434      4.107855      ...         \n",
       "min           0.000000      0.000000      0.000000      ...         \n",
       "25%           1.000000      1.000000      0.000000      ...         \n",
       "50%           3.000000      1.000000      0.000000      ...         \n",
       "75%           4.000000      4.000000      1.000000      ...         \n",
       "max         116.000000    128.000000     91.000000      ...         \n",
       "\n",
       "        min_positive_polarity   max_positive_polarity   avg_negative_polarity  \\\n",
       "count            39644.000000            39644.000000            39644.000000   \n",
       "mean                 0.095446                0.756728               -0.259524   \n",
       "std                  0.071315                0.247786                0.127726   \n",
       "min                  0.000000                0.000000               -1.000000   \n",
       "25%                  0.050000                0.600000               -0.328383   \n",
       "50%                  0.100000                0.800000               -0.253333   \n",
       "75%                  0.100000                1.000000               -0.186905   \n",
       "max                  1.000000                1.000000                0.000000   \n",
       "\n",
       "        min_negative_polarity   max_negative_polarity   title_subjectivity  \\\n",
       "count            39644.000000            39644.000000         39644.000000   \n",
       "mean                -0.521944               -0.107500             0.282353   \n",
       "std                  0.290290                0.095373             0.324247   \n",
       "min                 -1.000000               -1.000000             0.000000   \n",
       "25%                 -0.700000               -0.125000             0.000000   \n",
       "50%                 -0.500000               -0.100000             0.150000   \n",
       "75%                 -0.300000               -0.050000             0.500000   \n",
       "max                  0.000000                0.000000             1.000000   \n",
       "\n",
       "        title_sentiment_polarity   abs_title_subjectivity  \\\n",
       "count               39644.000000             39644.000000   \n",
       "mean                    0.071425                 0.341843   \n",
       "std                     0.265450                 0.188791   \n",
       "min                    -1.000000                 0.000000   \n",
       "25%                     0.000000                 0.166667   \n",
       "50%                     0.000000                 0.500000   \n",
       "75%                     0.150000                 0.500000   \n",
       "max                     1.000000                 0.500000   \n",
       "\n",
       "        abs_title_sentiment_polarity         shares  \n",
       "count                   39644.000000   39644.000000  \n",
       "mean                        0.156064    3395.380184  \n",
       "std                         0.226294   11626.950749  \n",
       "min                         0.000000       1.000000  \n",
       "25%                         0.000000     946.000000  \n",
       "50%                         0.000000    1400.000000  \n",
       "75%                         0.250000    2800.000000  \n",
       "max                         1.000000  843300.000000  \n",
       "\n",
       "[8 rows x 60 columns]"
      ]
     },
     "execution_count": 3,
     "metadata": {},
     "output_type": "execute_result"
    }
   ],
   "source": [
    "df.describe()"
   ]
  },
  {
   "cell_type": "code",
   "execution_count": 4,
   "metadata": {},
   "outputs": [
    {
     "name": "stdout",
     "output_type": "stream",
     "text": [
      "<class 'pandas.core.frame.DataFrame'>\n",
      "RangeIndex: 39644 entries, 0 to 39643\n",
      "Data columns (total 61 columns):\n",
      "url                               39644 non-null object\n",
      " timedelta                        39644 non-null float64\n",
      " n_tokens_title                   39644 non-null float64\n",
      " n_tokens_content                 39644 non-null float64\n",
      " n_unique_tokens                  39644 non-null float64\n",
      " n_non_stop_words                 39644 non-null float64\n",
      " n_non_stop_unique_tokens         39644 non-null float64\n",
      " num_hrefs                        39644 non-null float64\n",
      " num_self_hrefs                   39644 non-null float64\n",
      " num_imgs                         39644 non-null float64\n",
      " num_videos                       39644 non-null float64\n",
      " average_token_length             39644 non-null float64\n",
      " num_keywords                     39644 non-null float64\n",
      " data_channel_is_lifestyle        39644 non-null float64\n",
      " data_channel_is_entertainment    39644 non-null float64\n",
      " data_channel_is_bus              39644 non-null float64\n",
      " data_channel_is_socmed           39644 non-null float64\n",
      " data_channel_is_tech             39644 non-null float64\n",
      " data_channel_is_world            39644 non-null float64\n",
      " kw_min_min                       39644 non-null float64\n",
      " kw_max_min                       39644 non-null float64\n",
      " kw_avg_min                       39644 non-null float64\n",
      " kw_min_max                       39644 non-null float64\n",
      " kw_max_max                       39644 non-null float64\n",
      " kw_avg_max                       39644 non-null float64\n",
      " kw_min_avg                       39644 non-null float64\n",
      " kw_max_avg                       39644 non-null float64\n",
      " kw_avg_avg                       39644 non-null float64\n",
      " self_reference_min_shares        39644 non-null float64\n",
      " self_reference_max_shares        39644 non-null float64\n",
      " self_reference_avg_sharess       39644 non-null float64\n",
      " weekday_is_monday                39644 non-null float64\n",
      " weekday_is_tuesday               39644 non-null float64\n",
      " weekday_is_wednesday             39644 non-null float64\n",
      " weekday_is_thursday              39644 non-null float64\n",
      " weekday_is_friday                39644 non-null float64\n",
      " weekday_is_saturday              39644 non-null float64\n",
      " weekday_is_sunday                39644 non-null float64\n",
      " is_weekend                       39644 non-null float64\n",
      " LDA_00                           39644 non-null float64\n",
      " LDA_01                           39644 non-null float64\n",
      " LDA_02                           39644 non-null float64\n",
      " LDA_03                           39644 non-null float64\n",
      " LDA_04                           39644 non-null float64\n",
      " global_subjectivity              39644 non-null float64\n",
      " global_sentiment_polarity        39644 non-null float64\n",
      " global_rate_positive_words       39644 non-null float64\n",
      " global_rate_negative_words       39644 non-null float64\n",
      " rate_positive_words              39644 non-null float64\n",
      " rate_negative_words              39644 non-null float64\n",
      " avg_positive_polarity            39644 non-null float64\n",
      " min_positive_polarity            39644 non-null float64\n",
      " max_positive_polarity            39644 non-null float64\n",
      " avg_negative_polarity            39644 non-null float64\n",
      " min_negative_polarity            39644 non-null float64\n",
      " max_negative_polarity            39644 non-null float64\n",
      " title_subjectivity               39644 non-null float64\n",
      " title_sentiment_polarity         39644 non-null float64\n",
      " abs_title_subjectivity           39644 non-null float64\n",
      " abs_title_sentiment_polarity     39644 non-null float64\n",
      " shares                           39644 non-null int64\n",
      "dtypes: float64(59), int64(1), object(1)\n",
      "memory usage: 18.5+ MB\n"
     ]
    }
   ],
   "source": [
    "df.info()"
   ]
  },
  {
   "cell_type": "code",
   "execution_count": 5,
   "metadata": {},
   "outputs": [
    {
     "data": {
      "text/plain": [
       "0"
      ]
     },
     "execution_count": 5,
     "metadata": {},
     "output_type": "execute_result"
    }
   ],
   "source": [
    "df.isnull().sum().sum()"
   ]
  },
  {
   "cell_type": "markdown",
   "metadata": {},
   "source": [
    "```\n",
    "Instructor answer:\n",
    "\n",
    "Does not appear to be any missing data so we will go onto the required data transformation\n",
    "```"
   ]
  },
  {
   "cell_type": "code",
   "execution_count": 6,
   "metadata": {},
   "outputs": [
    {
     "data": {
      "text/plain": [
       "Index(['url', ' timedelta', ' n_tokens_title', ' n_tokens_content',\n",
       "       ' n_unique_tokens', ' n_non_stop_words', ' n_non_stop_unique_tokens',\n",
       "       ' num_hrefs', ' num_self_hrefs', ' num_imgs', ' num_videos',\n",
       "       ' average_token_length', ' num_keywords', ' data_channel_is_lifestyle',\n",
       "       ' data_channel_is_entertainment', ' data_channel_is_bus',\n",
       "       ' data_channel_is_socmed', ' data_channel_is_tech',\n",
       "       ' data_channel_is_world', ' kw_min_min', ' kw_max_min', ' kw_avg_min',\n",
       "       ' kw_min_max', ' kw_max_max', ' kw_avg_max', ' kw_min_avg',\n",
       "       ' kw_max_avg', ' kw_avg_avg', ' self_reference_min_shares',\n",
       "       ' self_reference_max_shares', ' self_reference_avg_sharess',\n",
       "       ' weekday_is_monday', ' weekday_is_tuesday', ' weekday_is_wednesday',\n",
       "       ' weekday_is_thursday', ' weekday_is_friday', ' weekday_is_saturday',\n",
       "       ' weekday_is_sunday', ' is_weekend', ' LDA_00', ' LDA_01', ' LDA_02',\n",
       "       ' LDA_03', ' LDA_04', ' global_subjectivity',\n",
       "       ' global_sentiment_polarity', ' global_rate_positive_words',\n",
       "       ' global_rate_negative_words', ' rate_positive_words',\n",
       "       ' rate_negative_words', ' avg_positive_polarity',\n",
       "       ' min_positive_polarity', ' max_positive_polarity',\n",
       "       ' avg_negative_polarity', ' min_negative_polarity',\n",
       "       ' max_negative_polarity', ' title_subjectivity',\n",
       "       ' title_sentiment_polarity', ' abs_title_subjectivity',\n",
       "       ' abs_title_sentiment_polarity', ' shares'],\n",
       "      dtype='object')"
      ]
     },
     "execution_count": 6,
     "metadata": {},
     "output_type": "execute_result"
    }
   ],
   "source": [
    "df.columns"
   ]
  },
  {
   "cell_type": "code",
   "execution_count": 7,
   "metadata": {
    "collapsed": true
   },
   "outputs": [],
   "source": [
    "df.columns = [col.strip() for col in df.columns]"
   ]
  },
  {
   "cell_type": "code",
   "execution_count": 8,
   "metadata": {},
   "outputs": [],
   "source": [
    "df = df[[col for col in df.columns if col != 'url']]\n",
    "df['shares'] = df['shares'].apply(lambda x: 1 if x >= 1500 else 0)"
   ]
  },
  {
   "cell_type": "code",
   "execution_count": 9,
   "metadata": {},
   "outputs": [
    {
     "data": {
      "text/html": [
       "<div>\n",
       "<style>\n",
       "    .dataframe thead tr:only-child th {\n",
       "        text-align: right;\n",
       "    }\n",
       "\n",
       "    .dataframe thead th {\n",
       "        text-align: left;\n",
       "    }\n",
       "\n",
       "    .dataframe tbody tr th {\n",
       "        vertical-align: top;\n",
       "    }\n",
       "</style>\n",
       "<table border=\"1\" class=\"dataframe\">\n",
       "  <thead>\n",
       "    <tr style=\"text-align: right;\">\n",
       "      <th></th>\n",
       "      <th>timedelta</th>\n",
       "      <th>n_tokens_title</th>\n",
       "      <th>n_tokens_content</th>\n",
       "      <th>n_unique_tokens</th>\n",
       "      <th>n_non_stop_words</th>\n",
       "      <th>n_non_stop_unique_tokens</th>\n",
       "      <th>num_hrefs</th>\n",
       "      <th>num_self_hrefs</th>\n",
       "      <th>num_imgs</th>\n",
       "      <th>num_videos</th>\n",
       "      <th>...</th>\n",
       "      <th>min_positive_polarity</th>\n",
       "      <th>max_positive_polarity</th>\n",
       "      <th>avg_negative_polarity</th>\n",
       "      <th>min_negative_polarity</th>\n",
       "      <th>max_negative_polarity</th>\n",
       "      <th>title_subjectivity</th>\n",
       "      <th>title_sentiment_polarity</th>\n",
       "      <th>abs_title_subjectivity</th>\n",
       "      <th>abs_title_sentiment_polarity</th>\n",
       "      <th>shares</th>\n",
       "    </tr>\n",
       "  </thead>\n",
       "  <tbody>\n",
       "    <tr>\n",
       "      <th>0</th>\n",
       "      <td>731.0</td>\n",
       "      <td>12.0</td>\n",
       "      <td>219.0</td>\n",
       "      <td>0.663594</td>\n",
       "      <td>1.0</td>\n",
       "      <td>0.815385</td>\n",
       "      <td>4.0</td>\n",
       "      <td>2.0</td>\n",
       "      <td>1.0</td>\n",
       "      <td>0.0</td>\n",
       "      <td>...</td>\n",
       "      <td>0.100000</td>\n",
       "      <td>0.7</td>\n",
       "      <td>-0.350000</td>\n",
       "      <td>-0.600</td>\n",
       "      <td>-0.200000</td>\n",
       "      <td>0.500000</td>\n",
       "      <td>-0.187500</td>\n",
       "      <td>0.000000</td>\n",
       "      <td>0.187500</td>\n",
       "      <td>0</td>\n",
       "    </tr>\n",
       "    <tr>\n",
       "      <th>1</th>\n",
       "      <td>731.0</td>\n",
       "      <td>9.0</td>\n",
       "      <td>255.0</td>\n",
       "      <td>0.604743</td>\n",
       "      <td>1.0</td>\n",
       "      <td>0.791946</td>\n",
       "      <td>3.0</td>\n",
       "      <td>1.0</td>\n",
       "      <td>1.0</td>\n",
       "      <td>0.0</td>\n",
       "      <td>...</td>\n",
       "      <td>0.033333</td>\n",
       "      <td>0.7</td>\n",
       "      <td>-0.118750</td>\n",
       "      <td>-0.125</td>\n",
       "      <td>-0.100000</td>\n",
       "      <td>0.000000</td>\n",
       "      <td>0.000000</td>\n",
       "      <td>0.500000</td>\n",
       "      <td>0.000000</td>\n",
       "      <td>0</td>\n",
       "    </tr>\n",
       "    <tr>\n",
       "      <th>2</th>\n",
       "      <td>731.0</td>\n",
       "      <td>9.0</td>\n",
       "      <td>211.0</td>\n",
       "      <td>0.575130</td>\n",
       "      <td>1.0</td>\n",
       "      <td>0.663866</td>\n",
       "      <td>3.0</td>\n",
       "      <td>1.0</td>\n",
       "      <td>1.0</td>\n",
       "      <td>0.0</td>\n",
       "      <td>...</td>\n",
       "      <td>0.100000</td>\n",
       "      <td>1.0</td>\n",
       "      <td>-0.466667</td>\n",
       "      <td>-0.800</td>\n",
       "      <td>-0.133333</td>\n",
       "      <td>0.000000</td>\n",
       "      <td>0.000000</td>\n",
       "      <td>0.500000</td>\n",
       "      <td>0.000000</td>\n",
       "      <td>1</td>\n",
       "    </tr>\n",
       "    <tr>\n",
       "      <th>3</th>\n",
       "      <td>731.0</td>\n",
       "      <td>9.0</td>\n",
       "      <td>531.0</td>\n",
       "      <td>0.503788</td>\n",
       "      <td>1.0</td>\n",
       "      <td>0.665635</td>\n",
       "      <td>9.0</td>\n",
       "      <td>0.0</td>\n",
       "      <td>1.0</td>\n",
       "      <td>0.0</td>\n",
       "      <td>...</td>\n",
       "      <td>0.136364</td>\n",
       "      <td>0.8</td>\n",
       "      <td>-0.369697</td>\n",
       "      <td>-0.600</td>\n",
       "      <td>-0.166667</td>\n",
       "      <td>0.000000</td>\n",
       "      <td>0.000000</td>\n",
       "      <td>0.500000</td>\n",
       "      <td>0.000000</td>\n",
       "      <td>0</td>\n",
       "    </tr>\n",
       "    <tr>\n",
       "      <th>4</th>\n",
       "      <td>731.0</td>\n",
       "      <td>13.0</td>\n",
       "      <td>1072.0</td>\n",
       "      <td>0.415646</td>\n",
       "      <td>1.0</td>\n",
       "      <td>0.540890</td>\n",
       "      <td>19.0</td>\n",
       "      <td>19.0</td>\n",
       "      <td>20.0</td>\n",
       "      <td>0.0</td>\n",
       "      <td>...</td>\n",
       "      <td>0.033333</td>\n",
       "      <td>1.0</td>\n",
       "      <td>-0.220192</td>\n",
       "      <td>-0.500</td>\n",
       "      <td>-0.050000</td>\n",
       "      <td>0.454545</td>\n",
       "      <td>0.136364</td>\n",
       "      <td>0.045455</td>\n",
       "      <td>0.136364</td>\n",
       "      <td>0</td>\n",
       "    </tr>\n",
       "  </tbody>\n",
       "</table>\n",
       "<p>5 rows × 60 columns</p>\n",
       "</div>"
      ],
      "text/plain": [
       "   timedelta  n_tokens_title  n_tokens_content  n_unique_tokens  \\\n",
       "0      731.0            12.0             219.0         0.663594   \n",
       "1      731.0             9.0             255.0         0.604743   \n",
       "2      731.0             9.0             211.0         0.575130   \n",
       "3      731.0             9.0             531.0         0.503788   \n",
       "4      731.0            13.0            1072.0         0.415646   \n",
       "\n",
       "   n_non_stop_words  n_non_stop_unique_tokens  num_hrefs  num_self_hrefs  \\\n",
       "0               1.0                  0.815385        4.0             2.0   \n",
       "1               1.0                  0.791946        3.0             1.0   \n",
       "2               1.0                  0.663866        3.0             1.0   \n",
       "3               1.0                  0.665635        9.0             0.0   \n",
       "4               1.0                  0.540890       19.0            19.0   \n",
       "\n",
       "   num_imgs  num_videos   ...    min_positive_polarity  max_positive_polarity  \\\n",
       "0       1.0         0.0   ...                 0.100000                    0.7   \n",
       "1       1.0         0.0   ...                 0.033333                    0.7   \n",
       "2       1.0         0.0   ...                 0.100000                    1.0   \n",
       "3       1.0         0.0   ...                 0.136364                    0.8   \n",
       "4      20.0         0.0   ...                 0.033333                    1.0   \n",
       "\n",
       "   avg_negative_polarity  min_negative_polarity  max_negative_polarity  \\\n",
       "0              -0.350000                 -0.600              -0.200000   \n",
       "1              -0.118750                 -0.125              -0.100000   \n",
       "2              -0.466667                 -0.800              -0.133333   \n",
       "3              -0.369697                 -0.600              -0.166667   \n",
       "4              -0.220192                 -0.500              -0.050000   \n",
       "\n",
       "   title_subjectivity  title_sentiment_polarity  abs_title_subjectivity  \\\n",
       "0            0.500000                 -0.187500                0.000000   \n",
       "1            0.000000                  0.000000                0.500000   \n",
       "2            0.000000                  0.000000                0.500000   \n",
       "3            0.000000                  0.000000                0.500000   \n",
       "4            0.454545                  0.136364                0.045455   \n",
       "\n",
       "   abs_title_sentiment_polarity  shares  \n",
       "0                      0.187500       0  \n",
       "1                      0.000000       0  \n",
       "2                      0.000000       1  \n",
       "3                      0.000000       0  \n",
       "4                      0.136364       0  \n",
       "\n",
       "[5 rows x 60 columns]"
      ]
     },
     "execution_count": 9,
     "metadata": {},
     "output_type": "execute_result"
    }
   ],
   "source": [
    "df.head()"
   ]
  },
  {
   "cell_type": "markdown",
   "metadata": {},
   "source": [
    "## Question 2: Correlation Table\n",
    "\n",
    "Use Seaborn and pandas to create a correlation heatmap. What patterns are apparent to you? Is this easy to use or too cluttered to make sense of?"
   ]
  },
  {
   "cell_type": "code",
   "execution_count": 11,
   "metadata": {},
   "outputs": [
    {
     "data": {
      "text/plain": [
       "<matplotlib.axes._subplots.AxesSubplot at 0x11818dc50>"
      ]
     },
     "execution_count": 11,
     "metadata": {},
     "output_type": "execute_result"
    },
    {
     "data": {
      "image/png": "[encoded data removed]",
      "text/plain": [
       "<matplotlib.figure.Figure at 0x1181492b0>"
      ]
     },
     "metadata": {},
     "output_type": "display_data"
    }
   ],
   "source": [
    "sns.heatmap(df.corr())"
   ]
  },
  {
   "cell_type": "markdown",
   "metadata": {},
   "source": [
    "```\n",
    "Instructor answer:\n",
    "\n",
    "Many of the columns do have patches of correlation, however nothing seems strongly correlated with shares. The plot is also pretty difficult to make sense of. We may want to approach this without the heatmap as well:\n",
    "```\n"
   ]
  },
  {
   "cell_type": "code",
   "execution_count": 12,
   "metadata": {},
   "outputs": [
    {
     "data": {
      "text/plain": [
       "shares                           1.000000\n",
       "kw_avg_avg                       0.162057\n",
       "LDA_02                           0.156471\n",
       "data_channel_is_world            0.150726\n",
       "is_weekend                       0.137616\n",
       "data_channel_is_entertainment    0.110558\n",
       "data_channel_is_socmed           0.110144\n",
       "weekday_is_saturday              0.106713\n",
       "data_channel_is_tech             0.095336\n",
       "kw_min_avg                       0.092386\n",
       "num_hrefs                        0.088362\n",
       "LDA_04                           0.087811\n",
       "weekday_is_sunday                0.081684\n",
       "LDA_01                           0.075640\n",
       "kw_max_avg                       0.074773\n",
       "num_keywords                     0.069840\n",
       "global_sentiment_polarity        0.069656\n",
       "global_subjectivity              0.067527\n",
       "rate_negative_words              0.067057\n",
       "num_imgs                         0.067000\n",
       "LDA_00                           0.064819\n",
       "self_reference_avg_sharess       0.063238\n",
       "LDA_03                           0.061998\n",
       "global_rate_positive_words       0.058620\n",
       "self_reference_max_shares        0.058616\n",
       "Name: shares, dtype: float64"
      ]
     },
     "execution_count": 12,
     "metadata": {},
     "output_type": "execute_result"
    }
   ],
   "source": [
    "df.corr()['shares'].apply(lambda x: abs(x)).sort_values(ascending=False).head(25)"
   ]
  },
  {
   "cell_type": "markdown",
   "metadata": {},
   "source": [
    "## 3. Train-test split\n",
    "\n",
    "Split your data frame into your target (the `shares` column) and your features (all other columns), then split those into a training and holdout (test) set. You will not use this holdout set until the end of the lab. \n",
    "\n",
    "Your test size should be `0.33` and should use the random seed `20170825`."
   ]
  },
  {
   "cell_type": "code",
   "execution_count": 15,
   "metadata": {},
   "outputs": [],
   "source": [
    "y = df['shares'].copy()\n",
    "X = df[[col for col in df.columns if col != 'shares']].copy()\n",
    "\n",
    "X_train, X_test, y_train, y_test = train_test_split(X, y,\n",
    "                                                   test_size=0.33,\n",
    "                                                    random_state=20170825)"
   ]
  },
  {
   "cell_type": "code",
   "execution_count": 16,
   "metadata": {},
   "outputs": [
    {
     "name": "stdout",
     "output_type": "stream",
     "text": [
      "(26561, 59) (13083, 59)\n"
     ]
    }
   ],
   "source": [
    "print(X_train.shape, X_test.shape)"
   ]
  },
  {
   "cell_type": "markdown",
   "metadata": {},
   "source": [
    "## 4. Feature Selection through Regularization\n",
    "\n",
    "Use a Lasso Logistic Regression to decide on a set of features to select. \n",
    "\n",
    "1. Standardize your training dataset.\n",
    "2. Fit three lasso logistic regressions with `C` of 0.1, 1.0, and 10.0. Double check with the documentation to ensure that you are fitting **Lasso** logistic regressions.\n",
    "3. Identify which columns have zero coefficients. \n",
    "4. What trends do you see? Are there any features that seem like strong contenders to be put in the model? \n",
    "    > If there are no trends yet, no worries! We're going to try other feature selection techniques as well."
   ]
  },
  {
   "cell_type": "code",
   "execution_count": 18,
   "metadata": {
    "collapsed": true
   },
   "outputs": [],
   "source": [
    "ss = StandardScaler()\n",
    "ss.fit(X_train)\n",
    "X_train_std = ss.transform(X_train)"
   ]
  },
  {
   "cell_type": "code",
   "execution_count": 21,
   "metadata": {},
   "outputs": [
    {
     "data": {
      "text/plain": [
       "LogisticRegression(C=0.1, class_weight=None, dual=False, fit_intercept=True,\n",
       "          intercept_scaling=1, max_iter=100, multi_class='ovr', n_jobs=1,\n",
       "          penalty='l1', random_state=None, solver='liblinear', tol=0.0001,\n",
       "          verbose=0, warm_start=False)"
      ]
     },
     "execution_count": 21,
     "metadata": {},
     "output_type": "execute_result"
    }
   ],
   "source": [
    "# Fitting lasso 1 with C=0.1\n",
    "\n",
    "lr_01 = LogisticRegression(penalty='l1', C=0.1)\n",
    "lr_01.fit(X_train_std, y_train)"
   ]
  },
  {
   "cell_type": "code",
   "execution_count": 22,
   "metadata": {},
   "outputs": [
    {
     "data": {
      "text/plain": [
       "LogisticRegression(C=1.0, class_weight=None, dual=False, fit_intercept=True,\n",
       "          intercept_scaling=1, max_iter=100, multi_class='ovr', n_jobs=1,\n",
       "          penalty='l1', random_state=None, solver='liblinear', tol=0.0001,\n",
       "          verbose=0, warm_start=False)"
      ]
     },
     "execution_count": 22,
     "metadata": {},
     "output_type": "execute_result"
    }
   ],
   "source": [
    "# Fitting lasso 2 with C=1.0\n",
    "\n",
    "lr_1 = LogisticRegression(penalty='l1', C=1.0)\n",
    "lr_1.fit(X_train_std, y_train)"
   ]
  },
  {
   "cell_type": "code",
   "execution_count": 23,
   "metadata": {},
   "outputs": [
    {
     "data": {
      "text/plain": [
       "LogisticRegression(C=10.0, class_weight=None, dual=False, fit_intercept=True,\n",
       "          intercept_scaling=1, max_iter=100, multi_class='ovr', n_jobs=1,\n",
       "          penalty='l1', random_state=None, solver='liblinear', tol=0.0001,\n",
       "          verbose=0, warm_start=False)"
      ]
     },
     "execution_count": 23,
     "metadata": {},
     "output_type": "execute_result"
    }
   ],
   "source": [
    "# Fitting lasso 3 with C=10.0\n",
    "\n",
    "lr_10 = LogisticRegression(penalty='l1', C=10.0)\n",
    "lr_10.fit(X_train_std, y_train)"
   ]
  },
  {
   "cell_type": "code",
   "execution_count": 37,
   "metadata": {},
   "outputs": [
    {
     "name": "stdout",
     "output_type": "stream",
     "text": [
      "C=0.1\n",
      "Drop weekday_is_thursday 0.0\n",
      "Drop weekday_is_sunday 0.0\n",
      "Drop LDA_03 0.0\n",
      "Drop global_rate_negative_words 0.0\n",
      "Drop rate_negative_words 0.0\n",
      "Drop min_negative_polarity 0.0\n",
      "\n",
      "\n",
      "C=1.0\n",
      "Drop n_unique_tokens 0.0\n",
      "Drop n_non_stop_words 0.0\n",
      "Drop LDA_01 0.0\n",
      "\n",
      "\n",
      "C=10.0\n",
      "\n",
      "\n"
     ]
    }
   ],
   "source": [
    "# Identify which columns each version suggests you should drop\n",
    "\n",
    "for model_name, model in zip(['C=0.1', 'C=1.0', 'C=10.0'], [lr_01, lr_1, lr_10]):\n",
    "    print(model_name)\n",
    "    for col, coef in zip(X_train.columns, model.coef_[0]):\n",
    "        if coef == 0.0:\n",
    "            print('Drop', col, coef)\n",
    "    print('\\n')"
   ]
  },
  {
   "cell_type": "markdown",
   "metadata": {},
   "source": [
    "```\n",
    "Instructor answer: \n",
    "\n",
    "Doesn't look like there is much of a trend. We'll hold onto these and try some other techniques.\n",
    "```"
   ]
  },
  {
   "cell_type": "markdown",
   "metadata": {},
   "source": [
    "## 5. Feature Selection with RFE\n",
    "\n",
    "Use Recursive Feature Elimination and a new Logistic Regression object to do feature selection.\n",
    "\n",
    "1. Instantiate an `RFE` object, set to cut down your input features to 50% of the input, as well as a `LogisticRegression` object.\n",
    "2. Fit your `RFE` object to your standardized features in your training set. \n",
    "3. What features does RFE suggest to drop? Are there any similarities to those features dropped by regularization?\n",
    "    > Remember that after fitting, `RFE.support_` gives you a mask of columns, where columns marked `True` are going to be kept and columns marked `False` should be dropped."
   ]
  },
  {
   "cell_type": "code",
   "execution_count": 40,
   "metadata": {
    "collapsed": true
   },
   "outputs": [],
   "source": [
    "lr = LogisticRegression()\n",
    "rfe = RFE(lr, verbose=2)"
   ]
  },
  {
   "cell_type": "code",
   "execution_count": 41,
   "metadata": {},
   "outputs": [
    {
     "name": "stdout",
     "output_type": "stream",
     "text": [
      "Fitting estimator with 59 features.\n",
      "Fitting estimator with 58 features.\n",
      "Fitting estimator with 57 features.\n",
      "Fitting estimator with 56 features.\n",
      "Fitting estimator with 55 features.\n",
      "Fitting estimator with 54 features.\n",
      "Fitting estimator with 53 features.\n",
      "Fitting estimator with 52 features.\n",
      "Fitting estimator with 51 features.\n",
      "Fitting estimator with 50 features.\n",
      "Fitting estimator with 49 features.\n",
      "Fitting estimator with 48 features.\n",
      "Fitting estimator with 47 features.\n",
      "Fitting estimator with 46 features.\n",
      "Fitting estimator with 45 features.\n",
      "Fitting estimator with 44 features.\n",
      "Fitting estimator with 43 features.\n",
      "Fitting estimator with 42 features.\n",
      "Fitting estimator with 41 features.\n",
      "Fitting estimator with 40 features.\n",
      "Fitting estimator with 39 features.\n",
      "Fitting estimator with 38 features.\n",
      "Fitting estimator with 37 features.\n",
      "Fitting estimator with 36 features.\n",
      "Fitting estimator with 35 features.\n",
      "Fitting estimator with 34 features.\n",
      "Fitting estimator with 33 features.\n",
      "Fitting estimator with 32 features.\n",
      "Fitting estimator with 31 features.\n",
      "Fitting estimator with 30 features.\n"
     ]
    },
    {
     "data": {
      "text/plain": [
       "RFE(estimator=LogisticRegression(C=1.0, class_weight=None, dual=False, fit_intercept=True,\n",
       "          intercept_scaling=1, max_iter=100, multi_class='ovr', n_jobs=1,\n",
       "          penalty='l2', random_state=None, solver='liblinear', tol=0.0001,\n",
       "          verbose=0, warm_start=False),\n",
       "  n_features_to_select=None, step=1, verbose=2)"
      ]
     },
     "execution_count": 41,
     "metadata": {},
     "output_type": "execute_result"
    }
   ],
   "source": [
    "rfe.fit(X_train_std, y_train)"
   ]
  },
  {
   "cell_type": "code",
   "execution_count": 42,
   "metadata": {},
   "outputs": [
    {
     "name": "stdout",
     "output_type": "stream",
     "text": [
      "timedelta dropped!\n",
      "n_tokens_title dropped!\n",
      "n_unique_tokens dropped!\n",
      "num_imgs dropped!\n",
      "num_videos dropped!\n",
      "data_channel_is_lifestyle dropped!\n",
      "data_channel_is_world dropped!\n",
      "kw_min_max dropped!\n",
      "kw_max_max dropped!\n",
      "self_reference_min_shares dropped!\n",
      "self_reference_max_shares dropped!\n",
      "weekday_is_monday dropped!\n",
      "weekday_is_tuesday dropped!\n",
      "weekday_is_wednesday dropped!\n",
      "weekday_is_thursday dropped!\n",
      "weekday_is_friday dropped!\n",
      "LDA_04 dropped!\n",
      "global_sentiment_polarity dropped!\n",
      "global_rate_positive_words dropped!\n",
      "global_rate_negative_words dropped!\n",
      "avg_positive_polarity dropped!\n",
      "min_positive_polarity dropped!\n",
      "max_positive_polarity dropped!\n",
      "avg_negative_polarity dropped!\n",
      "min_negative_polarity dropped!\n",
      "max_negative_polarity dropped!\n",
      "title_subjectivity dropped!\n",
      "title_sentiment_polarity dropped!\n",
      "abs_title_subjectivity dropped!\n",
      "abs_title_sentiment_polarity dropped!\n"
     ]
    }
   ],
   "source": [
    "for col, keep in zip(X_train.columns, rfe.support_):\n",
    "    if keep == False:\n",
    "        print(col, 'dropped!')"
   ]
  },
  {
   "cell_type": "markdown",
   "metadata": {},
   "source": [
    "```\n",
    "Instructor answer: \n",
    "\n",
    "There are some similarities here, but RFE has seemed to grab different columns generally than regularization\n",
    "```"
   ]
  },
  {
   "cell_type": "markdown",
   "metadata": {},
   "source": [
    "## 6. Feature Selection with SelectKBest\n",
    "\n",
    "Use SelectKBest and `f_classif` to select the top 30 features\n",
    "\n",
    "1. Instantiate a SelectKBest, using a `score_func` of `f_classif` and a `k` of 30\n",
    "    > Note, `f_classif` needs to be imported as well! \n",
    "2. Fit SelectKBest to your standardized features in the training set.\n",
    "3. Print out which columns are dropped in this case.\n",
    "4. Pick a set of columns (such as `LDA`, `polarity`, `weekday`, or `data_channel` -- are any columns that have been consistently dropped? \n",
    "    > Remember that after fitting, `SelectKBest.get_support()` gives you a mask of columns, where columns marked `True` are going to be kept and columns marked `False` should be dropped."
   ]
  },
  {
   "cell_type": "code",
   "execution_count": 43,
   "metadata": {
    "collapsed": true
   },
   "outputs": [],
   "source": [
    "selectkbest = SelectKBest(f_classif, k=30)"
   ]
  },
  {
   "cell_type": "code",
   "execution_count": 44,
   "metadata": {},
   "outputs": [
    {
     "data": {
      "text/plain": [
       "SelectKBest(k=30, score_func=<function f_classif at 0x11f113e18>)"
      ]
     },
     "execution_count": 44,
     "metadata": {},
     "output_type": "execute_result"
    }
   ],
   "source": [
    "selectkbest.fit(X_train_std, y_train)"
   ]
  },
  {
   "cell_type": "code",
   "execution_count": 46,
   "metadata": {},
   "outputs": [
    {
     "name": "stdout",
     "output_type": "stream",
     "text": [
      "timedelta dropped!\n",
      "n_tokens_title dropped!\n",
      "n_non_stop_words dropped!\n",
      "num_self_hrefs dropped!\n",
      "num_videos dropped!\n",
      "average_token_length dropped!\n",
      "data_channel_is_lifestyle dropped!\n",
      "data_channel_is_bus dropped!\n",
      "kw_max_min dropped!\n",
      "kw_avg_min dropped!\n",
      "kw_min_max dropped!\n",
      "kw_max_max dropped!\n",
      "kw_avg_max dropped!\n",
      "weekday_is_monday dropped!\n",
      "weekday_is_tuesday dropped!\n",
      "weekday_is_wednesday dropped!\n",
      "weekday_is_thursday dropped!\n",
      "weekday_is_friday dropped!\n",
      "global_rate_negative_words dropped!\n",
      "rate_positive_words dropped!\n",
      "avg_positive_polarity dropped!\n",
      "min_positive_polarity dropped!\n",
      "max_positive_polarity dropped!\n",
      "avg_negative_polarity dropped!\n",
      "min_negative_polarity dropped!\n",
      "max_negative_polarity dropped!\n",
      "title_subjectivity dropped!\n",
      "abs_title_subjectivity dropped!\n",
      "abs_title_sentiment_polarity dropped!\n"
     ]
    }
   ],
   "source": [
    "for col, keep in zip(X_train.columns, selectkbest.get_support()):\n",
    "    if keep == False:\n",
    "        print(col, 'dropped!')"
   ]
  },
  {
   "cell_type": "markdown",
   "metadata": {},
   "source": [
    "```\n",
    "Instructor answer: \n",
    "\n",
    "Generally, it looks like a lot of the polarity features as well as the weekday dummies seem not useful and have been frequently dropped.\n",
    "```"
   ]
  },
  {
   "cell_type": "markdown",
   "metadata": {},
   "source": [
    "## 7. Choosing a Feature Set\n",
    "\n",
    "1. Choose a set of features to keep:\n",
    "     - Features with non-zero coefficients from regularization\n",
    "     - Features kept by RFE\n",
    "     - Features kept by SelectKBest\n",
    "2. Create a new version of your training and holdout features. Drop the columns you will not be keeping from these new versions of your training and holdout features. **Do not overwrite your original training and holdout features** -- we will use those shortly.  Print out the shapes to ensure that you have successfully dropped those columns. \n",
    "    > Remember that both `RFE` and `SelectKBest` give you a mask of columns to keep and that those columns are in the same order in both your training and holdout sets!\n",
    "3. Create a correlation heatmap with your reduced feature set. Do you see any patterns? What type of features seem important? Do they relate to each other?"
   ]
  },
  {
   "cell_type": "markdown",
   "metadata": {},
   "source": [
    "```\n",
    "Instructor answer: \n",
    "\n",
    "RFE and SelectKBest give us very similar answers in this case, suggesting that either one probably have good reasons to be used. Regularization seems like it did not drop many columns here, but may be a good starting off place if we want to be more conservative. However, for our purposes, we can afford to be more dramatic in which ones we cut. \n",
    "\n",
    "I'll choose RFE, though in this case, the results are very similar.\n",
    "```"
   ]
  },
  {
   "cell_type": "code",
   "execution_count": 48,
   "metadata": {},
   "outputs": [
    {
     "name": "stdout",
     "output_type": "stream",
     "text": [
      "(26561, 29) (13083, 29)\n"
     ]
    }
   ],
   "source": [
    "X_train_fs = X_train.iloc[:, rfe.support_] # _fs for feature-selected\n",
    "X_test_fs = X_test.iloc[:, rfe.support_]\n",
    "print(X_train_fs.shape, X_test_fs.shape)"
   ]
  },
  {
   "cell_type": "code",
   "execution_count": 49,
   "metadata": {},
   "outputs": [
    {
     "data": {
      "text/plain": [
       "<matplotlib.axes._subplots.AxesSubplot at 0x11f3ccfd0>"
      ]
     },
     "execution_count": 49,
     "metadata": {},
     "output_type": "execute_result"
    },
    {
     "data": {
      "image/png": "[encoded data removed]",
      "text/plain": [
       "<matplotlib.figure.Figure at 0x11f3cc828>"
      ]
     },
     "metadata": {},
     "output_type": "display_data"
    }
   ],
   "source": [
    "sns.heatmap(X_train_fs.corr())"
   ]
  },
  {
   "cell_type": "markdown",
   "metadata": {},
   "source": [
    "```\n",
    "\n",
    "Instructor answer:\n",
    "\n",
    "Looks like weekend posting, the length of the article, certain types of articles, the positivity, and certain LDAs count.\n",
    "```"
   ]
  },
  {
   "cell_type": "markdown",
   "metadata": {},
   "source": [
    "## 8. Hyperparameter Optimization with GridSearch\n",
    "\n",
    "Fit three logistic regressions on your training set, with the following parameters:\n",
    "\n",
    "1. A logistic regression with the default hyperparameters, with all features.\n",
    "2. A logistic regression with the default hyperparameters, with only the features you selected in question 7.\n",
    "3. A logistic regression using `GridSearchCV` to optimize the following hyperparameters, with only the features you selected in question 7. Print out the hyperparameters selected by `GridSearchCV`\n",
    "  - `penalty`: should we use l1 or l2 regularization?\n",
    "  - `C`: how strong should our regularization be?\n",
    "4. Score each of your fit models against the holdout set. Which model does the best?\n",
    "5. Print out a confusion matrix for each model. Are there any trends that you see?"
   ]
  },
  {
   "cell_type": "code",
   "execution_count": 50,
   "metadata": {},
   "outputs": [
    {
     "data": {
      "text/plain": [
       "LogisticRegression(C=1.0, class_weight=None, dual=False, fit_intercept=True,\n",
       "          intercept_scaling=1, max_iter=100, multi_class='ovr', n_jobs=1,\n",
       "          penalty='l2', random_state=None, solver='liblinear', tol=0.0001,\n",
       "          verbose=0, warm_start=False)"
      ]
     },
     "execution_count": 50,
     "metadata": {},
     "output_type": "execute_result"
    }
   ],
   "source": [
    "lr_all_features = LogisticRegression()\n",
    "lr_all_features.fit(X_train, y_train)"
   ]
  },
  {
   "cell_type": "code",
   "execution_count": 56,
   "metadata": {},
   "outputs": [
    {
     "data": {
      "text/plain": [
       "LogisticRegression(C=1.0, class_weight=None, dual=False, fit_intercept=True,\n",
       "          intercept_scaling=1, max_iter=100, multi_class='ovr', n_jobs=1,\n",
       "          penalty='l2', random_state=None, solver='liblinear', tol=0.0001,\n",
       "          verbose=0, warm_start=False)"
      ]
     },
     "execution_count": 56,
     "metadata": {},
     "output_type": "execute_result"
    }
   ],
   "source": [
    "lr_selected_features = LogisticRegression()\n",
    "lr_selected_features.fit(X_train_fs, y_train)"
   ]
  },
  {
   "cell_type": "code",
   "execution_count": 57,
   "metadata": {},
   "outputs": [
    {
     "name": "stdout",
     "output_type": "stream",
     "text": [
      "Fitting 3 folds for each of 20 candidates, totalling 60 fits\n",
      "[CV] C=0.01, penalty=l1 ..............................................\n",
      "[CV] C=0.01, penalty=l1 ..............................................\n",
      "[CV] C=0.01, penalty=l1 ..............................................\n",
      "[CV] C=0.01, penalty=l2 ..............................................\n",
      "[CV] ............................... C=0.01, penalty=l1, total=   0.8s\n",
      "[CV] C=0.01, penalty=l2 ..............................................\n",
      "[CV] ............................... C=0.01, penalty=l1, total=   1.0s\n",
      "[CV] C=0.01, penalty=l2 ..............................................\n",
      "[CV] ............................... C=0.01, penalty=l1, total=   1.2s\n",
      "[CV] C=0.118888888889, penalty=l1 ....................................\n",
      "[CV] ............................... C=0.01, penalty=l2, total=   1.8s\n",
      "[CV] C=0.118888888889, penalty=l1 ....................................\n",
      "[CV] ..................... C=0.118888888889, penalty=l1, total=   1.7s\n",
      "[CV] C=0.118888888889, penalty=l1 ....................................\n",
      "[CV] ............................... C=0.01, penalty=l2, total=   2.1s\n",
      "[CV] C=0.118888888889, penalty=l2 ....................................\n",
      "[CV] ............................... C=0.01, penalty=l2, total=   2.5s\n",
      "[CV] C=0.118888888889, penalty=l2 ....................................\n",
      "[CV] ..................... C=0.118888888889, penalty=l1, total=   2.1s\n",
      "[CV] C=0.118888888889, penalty=l2 ....................................\n",
      "[CV] ..................... C=0.118888888889, penalty=l1, total=   2.2s\n",
      "[CV] C=0.227777777778, penalty=l1 ....................................\n",
      "[CV] ..................... C=0.118888888889, penalty=l2, total=   2.0s\n",
      "[CV] C=0.227777777778, penalty=l1 ....................................\n",
      "[CV] ..................... C=0.118888888889, penalty=l2, total=   2.6s\n",
      "[CV] C=0.227777777778, penalty=l1 ....................................\n",
      "[CV] ..................... C=0.118888888889, penalty=l2, total=   1.9s\n",
      "[CV] C=0.227777777778, penalty=l2 ....................................\n",
      "[CV] ..................... C=0.227777777778, penalty=l1, total=   2.1s\n",
      "[CV] C=0.227777777778, penalty=l2 ....................................\n",
      "[CV] ..................... C=0.227777777778, penalty=l1, total=   2.2s\n",
      "[CV] C=0.227777777778, penalty=l2 ....................................\n",
      "[CV] ..................... C=0.227777777778, penalty=l1, total=   2.2s\n",
      "[CV] C=0.336666666667, penalty=l1 ....................................\n",
      "[CV] ..................... C=0.227777777778, penalty=l2, total=   2.1s\n",
      "[CV] C=0.336666666667, penalty=l1 ....................................\n",
      "[CV] ..................... C=0.227777777778, penalty=l2, total=   1.9s\n",
      "[CV] C=0.336666666667, penalty=l1 ....................................\n",
      "[CV] ..................... C=0.227777777778, penalty=l2, total=   2.1s\n",
      "[CV] C=0.336666666667, penalty=l2 ....................................\n",
      "[CV] ..................... C=0.336666666667, penalty=l1, total=   2.2s\n",
      "[CV] C=0.336666666667, penalty=l2 ....................................\n",
      "[CV] ..................... C=0.336666666667, penalty=l1, total=   2.3s\n",
      "[CV] C=0.336666666667, penalty=l2 ....................................\n",
      "[CV] ..................... C=0.336666666667, penalty=l1, total=   2.4s\n",
      "[CV] C=0.445555555556, penalty=l1 ....................................\n",
      "[CV] ..................... C=0.336666666667, penalty=l2, total=   2.3s\n",
      "[CV] C=0.445555555556, penalty=l1 ....................................\n",
      "[CV] ..................... C=0.336666666667, penalty=l2, total=   2.2s\n",
      "[CV] C=0.445555555556, penalty=l1 ....................................\n",
      "[CV] ..................... C=0.336666666667, penalty=l2, total=   2.3s\n",
      "[CV] C=0.445555555556, penalty=l2 ....................................\n",
      "[CV] ..................... C=0.445555555556, penalty=l1, total=   3.2s\n",
      "[CV] C=0.445555555556, penalty=l2 ....................................\n",
      "[CV] ..................... C=0.445555555556, penalty=l1, total=   3.4s\n",
      "[CV] ..................... C=0.445555555556, penalty=l2, total=   2.5s\n",
      "[CV] C=0.445555555556, penalty=l2 ....................................\n",
      "[CV] C=0.554444444444, penalty=l1 ....................................\n",
      "[CV] ..................... C=0.445555555556, penalty=l1, total=   3.6s\n",
      "[CV] C=0.554444444444, penalty=l1 ....................................\n",
      "[CV] ..................... C=0.445555555556, penalty=l2, total=   2.1s\n",
      "[CV] C=0.554444444444, penalty=l1 ....................................\n",
      "[CV] ..................... C=0.445555555556, penalty=l2, total=   2.1s\n",
      "[CV] C=0.554444444444, penalty=l2 ....................................\n",
      "[CV] ..................... C=0.554444444444, penalty=l1, total=   2.4s\n",
      "[CV] C=0.554444444444, penalty=l2 ....................................\n",
      "[CV] ..................... C=0.554444444444, penalty=l2, total=   2.0s\n",
      "[CV] C=0.554444444444, penalty=l2 ....................................\n",
      "[CV] ..................... C=0.554444444444, penalty=l1, total=   3.5s\n",
      "[CV] C=0.663333333333, penalty=l1 ....................................\n"
     ]
    },
    {
     "name": "stderr",
     "output_type": "stream",
     "text": [
      "[Parallel(n_jobs=-1)]: Done  33 tasks      | elapsed:   19.8s\n"
     ]
    },
    {
     "name": "stdout",
     "output_type": "stream",
     "text": [
      "[CV] ..................... C=0.554444444444, penalty=l2, total=   2.1s\n",
      "[CV] C=0.663333333333, penalty=l1 ....................................\n",
      "[CV] ..................... C=0.554444444444, penalty=l1, total=   3.7s\n",
      "[CV] C=0.663333333333, penalty=l1 ....................................\n",
      "[CV] ..................... C=0.663333333333, penalty=l1, total=   2.0s\n",
      "[CV] C=0.663333333333, penalty=l2 ....................................\n",
      "[CV] ..................... C=0.554444444444, penalty=l2, total=   2.6s\n",
      "[CV] C=0.663333333333, penalty=l2 ....................................\n",
      "[CV] ..................... C=0.663333333333, penalty=l1, total=   2.5s\n",
      "[CV] C=0.663333333333, penalty=l2 ....................................\n",
      "[CV] ..................... C=0.663333333333, penalty=l2, total=   2.1s\n",
      "[CV] C=0.772222222222, penalty=l1 ....................................\n",
      "[CV] ..................... C=0.663333333333, penalty=l2, total=   1.8s\n",
      "[CV] C=0.772222222222, penalty=l1 ....................................\n",
      "[CV] ..................... C=0.663333333333, penalty=l1, total=   3.6s\n",
      "[CV] C=0.772222222222, penalty=l1 ....................................\n",
      "[CV] ..................... C=0.663333333333, penalty=l2, total=   2.4s\n",
      "[CV] C=0.772222222222, penalty=l2 ....................................\n",
      "[CV] ..................... C=0.772222222222, penalty=l1, total=   2.3s\n",
      "[CV] C=0.772222222222, penalty=l2 ....................................\n",
      "[CV] ..................... C=0.772222222222, penalty=l1, total=   2.7s\n",
      "[CV] C=0.772222222222, penalty=l2 ....................................\n",
      "[CV] ..................... C=0.772222222222, penalty=l2, total=   2.3s\n",
      "[CV] C=0.881111111111, penalty=l1 ....................................\n",
      "[CV] ..................... C=0.772222222222, penalty=l2, total=   1.6s\n",
      "[CV] C=0.881111111111, penalty=l1 ....................................\n",
      "[CV] ..................... C=0.772222222222, penalty=l2, total=   2.1s\n",
      "[CV] C=0.881111111111, penalty=l1 ....................................\n",
      "[CV] ..................... C=0.772222222222, penalty=l1, total=   4.5s\n",
      "[CV] C=0.881111111111, penalty=l2 ....................................\n",
      "[CV] ..................... C=0.881111111111, penalty=l1, total=   1.9s\n",
      "[CV] C=0.881111111111, penalty=l2 ....................................\n",
      "[CV] ..................... C=0.881111111111, penalty=l1, total=   1.9s\n",
      "[CV] C=0.881111111111, penalty=l2 ....................................\n",
      "[CV] ..................... C=0.881111111111, penalty=l2, total=   2.2s\n",
      "[CV] C=0.99, penalty=l1 ..............................................\n",
      "[CV] ..................... C=0.881111111111, penalty=l2, total=   2.0s\n",
      "[CV] C=0.99, penalty=l1 ..............................................\n",
      "[CV] ..................... C=0.881111111111, penalty=l2, total=   2.2s\n",
      "[CV] C=0.99, penalty=l1 ..............................................\n",
      "[CV] ..................... C=0.881111111111, penalty=l1, total=   4.7s\n",
      "[CV] C=0.99, penalty=l2 ..............................................\n",
      "[CV] ............................... C=0.99, penalty=l2, total=   1.8s\n",
      "[CV] C=0.99, penalty=l2 ..............................................\n",
      "[CV] ............................... C=0.99, penalty=l1, total=   4.0s\n",
      "[CV] C=0.99, penalty=l2 ..............................................\n",
      "[CV] ............................... C=0.99, penalty=l2, total=   1.6s\n",
      "[CV] ............................... C=0.99, penalty=l2, total=   2.0s\n",
      "[CV] ............................... C=0.99, penalty=l1, total=   6.1s\n",
      "[CV] ............................... C=0.99, penalty=l1, total=   5.3s\n"
     ]
    },
    {
     "name": "stderr",
     "output_type": "stream",
     "text": [
      "[Parallel(n_jobs=-1)]: Done  60 out of  60 | elapsed:   38.1s finished\n"
     ]
    },
    {
     "name": "stdout",
     "output_type": "stream",
     "text": [
      "{'C': 0.33666666666666667, 'penalty': 'l1'}\n"
     ]
    }
   ],
   "source": [
    "params = {\n",
    "    'penalty': ['l1', 'l2'],\n",
    "    'C': np.linspace(0.01, 0.99, 10)\n",
    "}\n",
    "\n",
    "grid_search = GridSearchCV(LogisticRegression(),\n",
    "                          params,\n",
    "                          verbose=2,\n",
    "                          n_jobs=-1)\n",
    "\n",
    "grid_search.fit(X_train_fs, y_train)\n",
    "print(grid_search.best_params_)\n",
    "lr_hyperparams = grid_search.best_estimator_"
   ]
  },
  {
   "cell_type": "code",
   "execution_count": 58,
   "metadata": {},
   "outputs": [
    {
     "name": "stdout",
     "output_type": "stream",
     "text": [
      "All features:  0.594206221815\n",
      "Selected features: 0.635022548345\n",
      "Selected features, grid search: 0.644041886417\n"
     ]
    }
   ],
   "source": [
    "print('All features:', lr_all_features.score(X_test, y_test))\n",
    "print('Selected features:', lr_selected_features.score(X_test_fs, y_test))\n",
    "print('Selected features, grid search:', lr_hyperparams.score(X_test_fs, y_test))"
   ]
  },
  {
   "cell_type": "code",
   "execution_count": 63,
   "metadata": {},
   "outputs": [
    {
     "name": "stdout",
     "output_type": "stream",
     "text": [
      "          Pred=0  Pred=1\n",
      "Actual=0    4327    3021\n",
      "Actual=1    2288    3447\n",
      "          Pred=0  Pred=1\n",
      "Actual=0    4387    2547\n",
      "Actual=1    2228    3921\n",
      "          Pred=0  Pred=1\n",
      "Actual=0    4385    2427\n",
      "Actual=1    2230    4041\n"
     ]
    }
   ],
   "source": [
    "all_features_pred = lr_all_features.predict(X_test)\n",
    "select_features_pred = lr_selected_features.predict(X_test_fs)\n",
    "select_features_hyper_pred = lr_hyperparams.predict(X_test_fs)\n",
    "\n",
    "def confusion_matrix_maker(pred_vals):\n",
    "    conmat = confusion_matrix(pred_vals, y_test)\n",
    "    conmat_df = pd.DataFrame(conmat, \n",
    "                             columns=['Pred=0', 'Pred=1'],\n",
    "                             index=['Actual=0', 'Actual=1'])\n",
    "    return conmat_df\n",
    "    \n",
    "print(confusion_matrix_maker(all_features_pred))\n",
    "print(confusion_matrix_maker(select_features_pred))\n",
    "print(confusion_matrix_maker(select_features_hyper_pred))"
   ]
  },
  {
   "cell_type": "markdown",
   "metadata": {},
   "source": [
    "```\n",
    "Instructor response:\n",
    "\n",
    "Looks like in my case that our predictions of class=0 have remained fairly consistent across runs. However, doing feature selection and hyperparameter optimization have helped us predict an additional 600 class=1 cases successfully!\n",
    "```"
   ]
  },
  {
   "cell_type": "markdown",
   "metadata": {},
   "source": [
    "## 9. _Bonus_ Continue Optimizing!\n",
    "\n",
    "In this lab, you're not expected to complete all (or even any) of question 9. However, if you find yourself with extra time, any of these options may lead to a higher score. Modeling is complex and often has a *number* of pathways to go down. This is a small selection  of potential next steps for this dataset.\n",
    "\n",
    "We have only scratched the surface of how to optimize a model for this dataset. With your remaining time, feel free to optimize in one of a few different ways, making sure that you are using cross-validation to check that your decisions are sound:\n",
    "\n",
    "1. **Feature Selection**: try a model with a new set of features from the following methods:\n",
    "    - A higher regularization strength for feature selection via regularization\n",
    "    - A lower / higher number of features returned by `RFE` or `SelectKBest`\n",
    "2. **Feature Engineering**: try a model with the following tweaks:\n",
    "    - Are all the features modeled correctly? Should we create dummy variables or otherwise transform any of the current features?\n",
    "    - We discarded the `url` feature very early onwards -- is there useful information we could extract from there?\n",
    "    - Is our decision to predict over/under 1500 shares correct? Do EDA on the original `shares` column to identify if there is a better cutoff.\n",
    "3. **Model Selection**: \n",
    "    - Try a different classification model such as _k_-Nearest Neighbors\n",
    "    - Is classification even a correct choice here? Could we use a regression model to predict the actual number of shares instead?\n",
    "4. **Hyperparameter Optimization**: \n",
    "    - Continue doing hyperparameter optimization through `GridSearchCV`\n",
    "    - **Double Bonus**: [`RandomizedSearchCV`](http://scikit-learn.org/stable/modules/generated/sklearn.model_selection.RandomizedSearchCV.html) performs the same parametric search that `GridSearchCV` does, but over a random distribution of hyperparameters (versus user-selected ones). This can be a helpful way to start zeroing in on an area where you may want to try some more targeted grid searching\n",
    "    - **Triple Bonus**: `GridSearchCV` automatically scores and ranks results based on the default scoring method in each model type ($R^2$ for `LinearRegression`, mean accuracy for `KNeighborsClassifier`, etc.) We can direct `GridSearchCV` to prioritize different metrics, however, such as precision or recall for class 1 or class 0, for example. Do some independent research on the [scoring parameter in sklearn](http://scikit-learn.org/stable/modules/model_evaluation.html#scoring-parameter) and try to implement it yourself. Pick two or three metrics and optimize for each. Are the hyperparameters chosen different across each case?\n",
    "    > **Note**: this is pretty advanced. Try this only if you're _exceptionally_ comfortable with the material this week."
   ]
  }
 ],
 "metadata": {
  "kernelspec": {
   "display_name": "Python 3",
   "language": "python",
   "name": "python3"
  },
  "language_info": {
   "codemirror_mode": {
    "name": "ipython",
    "version": 3
   },
   "file_extension": ".py",
   "mimetype": "text/x-python",
   "name": "python",
   "nbconvert_exporter": "python",
   "pygments_lexer": "ipython3",
   "version": "3.6.1"
  }
 },
 "nbformat": 4,
 "nbformat_minor": 2
}
