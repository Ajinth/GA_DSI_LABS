{
 "cells": [
  {
   "cell_type": "code",
   "execution_count": 804,
   "metadata": {
    "collapsed": true
   },
   "outputs": [],
   "source": [
    "import numpy as np\n",
    "import pandas as pd\n",
    "import matplotlib.pyplot as plt\n",
    "%matplotlib inline"
   ]
  },
  {
   "cell_type": "code",
   "execution_count": 805,
   "metadata": {
    "collapsed": true
   },
   "outputs": [],
   "source": [
    "'''Importing the PreProcessing Libraries'''\n",
    "\n",
    "from sklearn.linear_model import LinearRegression\n",
    "from sklearn.preprocessing import Binarizer, Imputer, \\\n",
    "    OneHotEncoder, PolynomialFeatures, StandardScaler, \\\n",
    "    MinMaxScaler, RobustScaler\n",
    "    \n",
    "from sklearn.linear_model import LinearRegression\n",
    "from sklearn.model_selection import train_test_split"
   ]
  },
  {
   "cell_type": "markdown",
   "metadata": {},
   "source": [
    "# Import the Data\n",
    "\n",
    "Import the data found in `datasets/inventory_by_county.csv`. This data comes from [realtor.com](https://research.realtor.com/data/inventory-trends/) and details housing information about the most active counties for housing stock in the US. \n",
    "\n",
    "After you import the data and run the following cell to create a \"state\" identifier: \n",
    "- take out the `Median Listing Price` as your target column.\n",
    "- use `train_test_split()` with a test size of `0.33` to create a training and test set for the features and your target column (`Median Listing Price`). You should have four objects at this point.\n",
    "- identify the number of rows and columns in all four of datasets (`train_x, train_y, test_x, test_y`)"
   ]
  },
  {
   "cell_type": "code",
   "execution_count": 806,
   "metadata": {},
   "outputs": [
    {
     "data": {
      "text/html": [
       "<div>\n",
       "<style>\n",
       "    .dataframe thead tr:only-child th {\n",
       "        text-align: right;\n",
       "    }\n",
       "\n",
       "    .dataframe thead th {\n",
       "        text-align: left;\n",
       "    }\n",
       "\n",
       "    .dataframe tbody tr th {\n",
       "        vertical-align: top;\n",
       "    }\n",
       "</style>\n",
       "<table border=\"1\" class=\"dataframe\">\n",
       "  <thead>\n",
       "    <tr style=\"text-align: right;\">\n",
       "      <th></th>\n",
       "      <th>Month</th>\n",
       "      <th>CountyFIPS</th>\n",
       "      <th>CountyName</th>\n",
       "      <th>Nielsen Rank</th>\n",
       "      <th>Footnote</th>\n",
       "      <th>Median Listing Price</th>\n",
       "      <th>Median Listing Price M/M</th>\n",
       "      <th>Median Listing Price Y/Y</th>\n",
       "      <th>Active Listing Count</th>\n",
       "      <th>Active Listing Count M/M</th>\n",
       "      <th>...</th>\n",
       "      <th>Pending Listing Count Y/Y</th>\n",
       "      <th>Avg Listing Price</th>\n",
       "      <th>Avg Listing Price M/M</th>\n",
       "      <th>Avg Listing Price Y/Y</th>\n",
       "      <th>Total Listing Count</th>\n",
       "      <th>Total Listing Count M/M</th>\n",
       "      <th>Total Listing Count Y/Y</th>\n",
       "      <th>Pending Ratio</th>\n",
       "      <th>Pending Ratio M/M</th>\n",
       "      <th>Pending Ratio Y/Y</th>\n",
       "    </tr>\n",
       "  </thead>\n",
       "  <tbody>\n",
       "    <tr>\n",
       "      <th>0</th>\n",
       "      <td>2017-09-01</td>\n",
       "      <td>6037.0</td>\n",
       "      <td>Los Angeles, CA</td>\n",
       "      <td>1.0</td>\n",
       "      <td>NaN</td>\n",
       "      <td>649900.0</td>\n",
       "      <td>-0.0002</td>\n",
       "      <td>0.0398</td>\n",
       "      <td>16464.0</td>\n",
       "      <td>-0.0261</td>\n",
       "      <td>...</td>\n",
       "      <td>-0.2008</td>\n",
       "      <td>1377900.0</td>\n",
       "      <td>-0.0035</td>\n",
       "      <td>0.1149</td>\n",
       "      <td>19577.0</td>\n",
       "      <td>-0.0306</td>\n",
       "      <td>-0.1578</td>\n",
       "      <td>0.1891</td>\n",
       "      <td>-0.0055</td>\n",
       "      <td>-0.0122</td>\n",
       "    </tr>\n",
       "    <tr>\n",
       "      <th>1</th>\n",
       "      <td>2017-09-01</td>\n",
       "      <td>17031.0</td>\n",
       "      <td>Cook, IL</td>\n",
       "      <td>2.0</td>\n",
       "      <td>NaN</td>\n",
       "      <td>277000.0</td>\n",
       "      <td>-0.0072</td>\n",
       "      <td>0.0897</td>\n",
       "      <td>26510.0</td>\n",
       "      <td>-0.0142</td>\n",
       "      <td>...</td>\n",
       "      <td>-0.2012</td>\n",
       "      <td>428900.0</td>\n",
       "      <td>-0.0046</td>\n",
       "      <td>0.0701</td>\n",
       "      <td>29420.0</td>\n",
       "      <td>-0.0202</td>\n",
       "      <td>-0.0683</td>\n",
       "      <td>0.1098</td>\n",
       "      <td>-0.0067</td>\n",
       "      <td>-0.0207</td>\n",
       "    </tr>\n",
       "    <tr>\n",
       "      <th>2</th>\n",
       "      <td>2017-09-01</td>\n",
       "      <td>48201.0</td>\n",
       "      <td>Harris, TX</td>\n",
       "      <td>3.0</td>\n",
       "      <td>NaN</td>\n",
       "      <td>299000.0</td>\n",
       "      <td>0.0007</td>\n",
       "      <td>-0.0355</td>\n",
       "      <td>15472.0</td>\n",
       "      <td>-0.1020</td>\n",
       "      <td>...</td>\n",
       "      <td>-0.0535</td>\n",
       "      <td>446900.0</td>\n",
       "      <td>0.0182</td>\n",
       "      <td>-0.0225</td>\n",
       "      <td>21676.0</td>\n",
       "      <td>-0.0888</td>\n",
       "      <td>0.0114</td>\n",
       "      <td>0.4010</td>\n",
       "      <td>0.0204</td>\n",
       "      <td>-0.0397</td>\n",
       "    </tr>\n",
       "    <tr>\n",
       "      <th>3</th>\n",
       "      <td>2017-09-01</td>\n",
       "      <td>4013.0</td>\n",
       "      <td>Maricopa, AZ</td>\n",
       "      <td>4.0</td>\n",
       "      <td>NaN</td>\n",
       "      <td>329500.0</td>\n",
       "      <td>0.0015</td>\n",
       "      <td>0.0444</td>\n",
       "      <td>18421.0</td>\n",
       "      <td>0.0013</td>\n",
       "      <td>...</td>\n",
       "      <td>-0.2857</td>\n",
       "      <td>515200.0</td>\n",
       "      <td>0.0043</td>\n",
       "      <td>0.0658</td>\n",
       "      <td>18426.0</td>\n",
       "      <td>0.0013</td>\n",
       "      <td>-0.0860</td>\n",
       "      <td>0.0003</td>\n",
       "      <td>0.0000</td>\n",
       "      <td>-0.0001</td>\n",
       "    </tr>\n",
       "    <tr>\n",
       "      <th>4</th>\n",
       "      <td>2017-09-01</td>\n",
       "      <td>6073.0</td>\n",
       "      <td>San Diego, CA</td>\n",
       "      <td>5.0</td>\n",
       "      <td>NaN</td>\n",
       "      <td>660200.0</td>\n",
       "      <td>-0.0139</td>\n",
       "      <td>0.0541</td>\n",
       "      <td>6057.0</td>\n",
       "      <td>-0.0205</td>\n",
       "      <td>...</td>\n",
       "      <td>0.1176</td>\n",
       "      <td>1147100.0</td>\n",
       "      <td>-0.0126</td>\n",
       "      <td>0.0615</td>\n",
       "      <td>6076.0</td>\n",
       "      <td>-0.0224</td>\n",
       "      <td>-0.1880</td>\n",
       "      <td>0.0031</td>\n",
       "      <td>-0.0019</td>\n",
       "      <td>0.0009</td>\n",
       "    </tr>\n",
       "  </tbody>\n",
       "</table>\n",
       "<p>5 rows × 35 columns</p>\n",
       "</div>"
      ],
      "text/plain": [
       "        Month  CountyFIPS       CountyName  Nielsen Rank Footnote  \\\n",
       "0  2017-09-01      6037.0  Los Angeles, CA           1.0      NaN   \n",
       "1  2017-09-01     17031.0         Cook, IL           2.0      NaN   \n",
       "2  2017-09-01     48201.0       Harris, TX           3.0      NaN   \n",
       "3  2017-09-01      4013.0     Maricopa, AZ           4.0      NaN   \n",
       "4  2017-09-01      6073.0    San Diego, CA           5.0      NaN   \n",
       "\n",
       "   Median Listing Price  Median Listing Price M/M  Median Listing Price Y/Y  \\\n",
       "0              649900.0                   -0.0002                    0.0398   \n",
       "1              277000.0                   -0.0072                    0.0897   \n",
       "2              299000.0                    0.0007                   -0.0355   \n",
       "3              329500.0                    0.0015                    0.0444   \n",
       "4              660200.0                   -0.0139                    0.0541   \n",
       "\n",
       "   Active Listing Count   Active Listing Count M/M        ...          \\\n",
       "0                16464.0                   -0.0261        ...           \n",
       "1                26510.0                   -0.0142        ...           \n",
       "2                15472.0                   -0.1020        ...           \n",
       "3                18421.0                    0.0013        ...           \n",
       "4                 6057.0                   -0.0205        ...           \n",
       "\n",
       "   Pending Listing Count Y/Y  Avg Listing Price  Avg Listing Price M/M  \\\n",
       "0                    -0.2008          1377900.0                -0.0035   \n",
       "1                    -0.2012           428900.0                -0.0046   \n",
       "2                    -0.0535           446900.0                 0.0182   \n",
       "3                    -0.2857           515200.0                 0.0043   \n",
       "4                     0.1176          1147100.0                -0.0126   \n",
       "\n",
       "   Avg Listing Price Y/Y  Total Listing Count  Total Listing Count M/M  \\\n",
       "0                 0.1149              19577.0                  -0.0306   \n",
       "1                 0.0701              29420.0                  -0.0202   \n",
       "2                -0.0225              21676.0                  -0.0888   \n",
       "3                 0.0658              18426.0                   0.0013   \n",
       "4                 0.0615               6076.0                  -0.0224   \n",
       "\n",
       "   Total Listing Count Y/Y  Pending Ratio  Pending Ratio M/M  \\\n",
       "0                  -0.1578         0.1891            -0.0055   \n",
       "1                  -0.0683         0.1098            -0.0067   \n",
       "2                   0.0114         0.4010             0.0204   \n",
       "3                  -0.0860         0.0003             0.0000   \n",
       "4                  -0.1880         0.0031            -0.0019   \n",
       "\n",
       "   Pending Ratio Y/Y  \n",
       "0            -0.0122  \n",
       "1            -0.0207  \n",
       "2            -0.0397  \n",
       "3            -0.0001  \n",
       "4             0.0009  \n",
       "\n",
       "[5 rows x 35 columns]"
      ]
     },
     "execution_count": 806,
     "metadata": {},
     "output_type": "execute_result"
    }
   ],
   "source": [
    "df = pd.read_csv('datasets/inventory_by_county.csv')\n",
    "\n",
    "# The last line of the csv contains extra information for the reader but not valid data\n",
    "# We will remove that line and use the .copy() method\n",
    "# To create a copy of the DataFrame itself\n",
    "# Instead of referring to a slice or a mask of the original dataframe\n",
    "\n",
    "df = df.iloc[0:1000, :].copy()\n",
    "df.head()"
   ]
  },
  {
   "cell_type": "code",
   "execution_count": 807,
   "metadata": {},
   "outputs": [
    {
     "data": {
      "text/html": [
       "<div>\n",
       "<style>\n",
       "    .dataframe thead tr:only-child th {\n",
       "        text-align: right;\n",
       "    }\n",
       "\n",
       "    .dataframe thead th {\n",
       "        text-align: left;\n",
       "    }\n",
       "\n",
       "    .dataframe tbody tr th {\n",
       "        vertical-align: top;\n",
       "    }\n",
       "</style>\n",
       "<table border=\"1\" class=\"dataframe\">\n",
       "  <thead>\n",
       "    <tr style=\"text-align: right;\">\n",
       "      <th></th>\n",
       "      <th>CountyFIPS</th>\n",
       "      <th>Nielsen Rank</th>\n",
       "      <th>Median Listing Price</th>\n",
       "      <th>Median Listing Price M/M</th>\n",
       "      <th>Median Listing Price Y/Y</th>\n",
       "      <th>Active Listing Count</th>\n",
       "      <th>Active Listing Count M/M</th>\n",
       "      <th>Active Listing Count Y/Y</th>\n",
       "      <th>Days on Market</th>\n",
       "      <th>Days on Market M/M</th>\n",
       "      <th>...</th>\n",
       "      <th>Pending Listing Count Y/Y</th>\n",
       "      <th>Avg Listing Price</th>\n",
       "      <th>Avg Listing Price M/M</th>\n",
       "      <th>Avg Listing Price Y/Y</th>\n",
       "      <th>Total Listing Count</th>\n",
       "      <th>Total Listing Count M/M</th>\n",
       "      <th>Total Listing Count Y/Y</th>\n",
       "      <th>Pending Ratio</th>\n",
       "      <th>Pending Ratio M/M</th>\n",
       "      <th>Pending Ratio Y/Y</th>\n",
       "    </tr>\n",
       "  </thead>\n",
       "  <tbody>\n",
       "    <tr>\n",
       "      <th>count</th>\n",
       "      <td>1000.000000</td>\n",
       "      <td>1000.000000</td>\n",
       "      <td>1.000000e+03</td>\n",
       "      <td>1000.000000</td>\n",
       "      <td>1000.000000</td>\n",
       "      <td>1000.000000</td>\n",
       "      <td>1000.000000</td>\n",
       "      <td>1000.000000</td>\n",
       "      <td>1000.000000</td>\n",
       "      <td>1000.000000</td>\n",
       "      <td>...</td>\n",
       "      <td>788.000000</td>\n",
       "      <td>1.000000e+03</td>\n",
       "      <td>1000.000000</td>\n",
       "      <td>1000.000000</td>\n",
       "      <td>1000.000000</td>\n",
       "      <td>1000.000000</td>\n",
       "      <td>1000.000000</td>\n",
       "      <td>1000.000000</td>\n",
       "      <td>1000.000000</td>\n",
       "      <td>1000.000000</td>\n",
       "    </tr>\n",
       "    <tr>\n",
       "      <th>mean</th>\n",
       "      <td>30431.709000</td>\n",
       "      <td>500.500000</td>\n",
       "      <td>2.622020e+05</td>\n",
       "      <td>-0.000616</td>\n",
       "      <td>0.080983</td>\n",
       "      <td>1292.680000</td>\n",
       "      <td>-0.008401</td>\n",
       "      <td>-0.080988</td>\n",
       "      <td>72.650000</td>\n",
       "      <td>0.058960</td>\n",
       "      <td>...</td>\n",
       "      <td>10.089357</td>\n",
       "      <td>3.612006e+05</td>\n",
       "      <td>0.000967</td>\n",
       "      <td>0.068558</td>\n",
       "      <td>1520.065000</td>\n",
       "      <td>-0.010671</td>\n",
       "      <td>-0.064540</td>\n",
       "      <td>0.159675</td>\n",
       "      <td>-0.004647</td>\n",
       "      <td>0.024149</td>\n",
       "    </tr>\n",
       "    <tr>\n",
       "      <th>std</th>\n",
       "      <td>15399.453847</td>\n",
       "      <td>288.819436</td>\n",
       "      <td>1.593828e+05</td>\n",
       "      <td>0.023421</td>\n",
       "      <td>0.090276</td>\n",
       "      <td>1947.774955</td>\n",
       "      <td>0.042560</td>\n",
       "      <td>0.149425</td>\n",
       "      <td>21.816908</td>\n",
       "      <td>0.073884</td>\n",
       "      <td>...</td>\n",
       "      <td>77.051395</td>\n",
       "      <td>3.040102e+05</td>\n",
       "      <td>0.029171</td>\n",
       "      <td>0.083435</td>\n",
       "      <td>2331.792788</td>\n",
       "      <td>0.054097</td>\n",
       "      <td>0.153854</td>\n",
       "      <td>0.217957</td>\n",
       "      <td>0.057351</td>\n",
       "      <td>0.141385</td>\n",
       "    </tr>\n",
       "    <tr>\n",
       "      <th>min</th>\n",
       "      <td>1001.000000</td>\n",
       "      <td>1.000000</td>\n",
       "      <td>6.900000e+04</td>\n",
       "      <td>-0.093500</td>\n",
       "      <td>-0.164200</td>\n",
       "      <td>97.000000</td>\n",
       "      <td>-0.323300</td>\n",
       "      <td>-0.540700</td>\n",
       "      <td>23.000000</td>\n",
       "      <td>-0.394700</td>\n",
       "      <td>...</td>\n",
       "      <td>-1.000000</td>\n",
       "      <td>1.006000e+05</td>\n",
       "      <td>-0.364300</td>\n",
       "      <td>-0.325800</td>\n",
       "      <td>100.000000</td>\n",
       "      <td>-0.224400</td>\n",
       "      <td>-0.519600</td>\n",
       "      <td>0.000000</td>\n",
       "      <td>-0.335500</td>\n",
       "      <td>-0.611400</td>\n",
       "    </tr>\n",
       "    <tr>\n",
       "      <th>25%</th>\n",
       "      <td>18004.500000</td>\n",
       "      <td>250.750000</td>\n",
       "      <td>1.649750e+05</td>\n",
       "      <td>-0.012625</td>\n",
       "      <td>0.026300</td>\n",
       "      <td>404.250000</td>\n",
       "      <td>-0.031125</td>\n",
       "      <td>-0.170875</td>\n",
       "      <td>57.000000</td>\n",
       "      <td>0.015675</td>\n",
       "      <td>...</td>\n",
       "      <td>-0.333300</td>\n",
       "      <td>2.129500e+05</td>\n",
       "      <td>-0.010025</td>\n",
       "      <td>0.020625</td>\n",
       "      <td>448.250000</td>\n",
       "      <td>-0.035950</td>\n",
       "      <td>-0.149025</td>\n",
       "      <td>0.001300</td>\n",
       "      <td>-0.011700</td>\n",
       "      <td>-0.005325</td>\n",
       "    </tr>\n",
       "    <tr>\n",
       "      <th>50%</th>\n",
       "      <td>34006.000000</td>\n",
       "      <td>500.500000</td>\n",
       "      <td>2.268500e+05</td>\n",
       "      <td>0.000000</td>\n",
       "      <td>0.068300</td>\n",
       "      <td>705.000000</td>\n",
       "      <td>-0.011550</td>\n",
       "      <td>-0.099000</td>\n",
       "      <td>70.000000</td>\n",
       "      <td>0.059700</td>\n",
       "      <td>...</td>\n",
       "      <td>-0.046000</td>\n",
       "      <td>2.871500e+05</td>\n",
       "      <td>0.000800</td>\n",
       "      <td>0.061450</td>\n",
       "      <td>814.500000</td>\n",
       "      <td>-0.016750</td>\n",
       "      <td>-0.087050</td>\n",
       "      <td>0.052100</td>\n",
       "      <td>-0.000300</td>\n",
       "      <td>0.000200</td>\n",
       "    </tr>\n",
       "    <tr>\n",
       "      <th>75%</th>\n",
       "      <td>42082.000000</td>\n",
       "      <td>750.250000</td>\n",
       "      <td>3.090000e+05</td>\n",
       "      <td>0.010100</td>\n",
       "      <td>0.122450</td>\n",
       "      <td>1441.500000</td>\n",
       "      <td>0.011725</td>\n",
       "      <td>-0.002075</td>\n",
       "      <td>87.000000</td>\n",
       "      <td>0.103400</td>\n",
       "      <td>...</td>\n",
       "      <td>0.213400</td>\n",
       "      <td>3.960750e+05</td>\n",
       "      <td>0.011325</td>\n",
       "      <td>0.110725</td>\n",
       "      <td>1654.000000</td>\n",
       "      <td>0.005025</td>\n",
       "      <td>0.004225</td>\n",
       "      <td>0.257150</td>\n",
       "      <td>0.000600</td>\n",
       "      <td>0.035125</td>\n",
       "    </tr>\n",
       "    <tr>\n",
       "      <th>max</th>\n",
       "      <td>56025.000000</td>\n",
       "      <td>1000.000000</td>\n",
       "      <td>2.127500e+06</td>\n",
       "      <td>0.148300</td>\n",
       "      <td>1.061800</td>\n",
       "      <td>26510.000000</td>\n",
       "      <td>0.344700</td>\n",
       "      <td>0.784900</td>\n",
       "      <td>188.000000</td>\n",
       "      <td>0.347800</td>\n",
       "      <td>...</td>\n",
       "      <td>1281.000000</td>\n",
       "      <td>4.379100e+06</td>\n",
       "      <td>0.257400</td>\n",
       "      <td>0.738300</td>\n",
       "      <td>29420.000000</td>\n",
       "      <td>0.500000</td>\n",
       "      <td>0.937500</td>\n",
       "      <td>1.705900</td>\n",
       "      <td>0.510200</td>\n",
       "      <td>1.117400</td>\n",
       "    </tr>\n",
       "  </tbody>\n",
       "</table>\n",
       "<p>8 rows × 32 columns</p>\n",
       "</div>"
      ],
      "text/plain": [
       "         CountyFIPS  Nielsen Rank  Median Listing Price  \\\n",
       "count   1000.000000   1000.000000          1.000000e+03   \n",
       "mean   30431.709000    500.500000          2.622020e+05   \n",
       "std    15399.453847    288.819436          1.593828e+05   \n",
       "min     1001.000000      1.000000          6.900000e+04   \n",
       "25%    18004.500000    250.750000          1.649750e+05   \n",
       "50%    34006.000000    500.500000          2.268500e+05   \n",
       "75%    42082.000000    750.250000          3.090000e+05   \n",
       "max    56025.000000   1000.000000          2.127500e+06   \n",
       "\n",
       "       Median Listing Price M/M  Median Listing Price Y/Y  \\\n",
       "count               1000.000000               1000.000000   \n",
       "mean                  -0.000616                  0.080983   \n",
       "std                    0.023421                  0.090276   \n",
       "min                   -0.093500                 -0.164200   \n",
       "25%                   -0.012625                  0.026300   \n",
       "50%                    0.000000                  0.068300   \n",
       "75%                    0.010100                  0.122450   \n",
       "max                    0.148300                  1.061800   \n",
       "\n",
       "       Active Listing Count   Active Listing Count M/M  \\\n",
       "count            1000.000000               1000.000000   \n",
       "mean             1292.680000                 -0.008401   \n",
       "std              1947.774955                  0.042560   \n",
       "min                97.000000                 -0.323300   \n",
       "25%               404.250000                 -0.031125   \n",
       "50%               705.000000                 -0.011550   \n",
       "75%              1441.500000                  0.011725   \n",
       "max             26510.000000                  0.344700   \n",
       "\n",
       "       Active Listing Count Y/Y  Days on Market   Days on Market M/M  \\\n",
       "count               1000.000000      1000.000000         1000.000000   \n",
       "mean                  -0.080988        72.650000            0.058960   \n",
       "std                    0.149425        21.816908            0.073884   \n",
       "min                   -0.540700        23.000000           -0.394700   \n",
       "25%                   -0.170875        57.000000            0.015675   \n",
       "50%                   -0.099000        70.000000            0.059700   \n",
       "75%                   -0.002075        87.000000            0.103400   \n",
       "max                    0.784900       188.000000            0.347800   \n",
       "\n",
       "             ...          Pending Listing Count Y/Y  Avg Listing Price  \\\n",
       "count        ...                         788.000000       1.000000e+03   \n",
       "mean         ...                          10.089357       3.612006e+05   \n",
       "std          ...                          77.051395       3.040102e+05   \n",
       "min          ...                          -1.000000       1.006000e+05   \n",
       "25%          ...                          -0.333300       2.129500e+05   \n",
       "50%          ...                          -0.046000       2.871500e+05   \n",
       "75%          ...                           0.213400       3.960750e+05   \n",
       "max          ...                        1281.000000       4.379100e+06   \n",
       "\n",
       "       Avg Listing Price M/M  Avg Listing Price Y/Y  Total Listing Count  \\\n",
       "count            1000.000000            1000.000000          1000.000000   \n",
       "mean                0.000967               0.068558          1520.065000   \n",
       "std                 0.029171               0.083435          2331.792788   \n",
       "min                -0.364300              -0.325800           100.000000   \n",
       "25%                -0.010025               0.020625           448.250000   \n",
       "50%                 0.000800               0.061450           814.500000   \n",
       "75%                 0.011325               0.110725          1654.000000   \n",
       "max                 0.257400               0.738300         29420.000000   \n",
       "\n",
       "       Total Listing Count M/M  Total Listing Count Y/Y  Pending Ratio  \\\n",
       "count              1000.000000              1000.000000    1000.000000   \n",
       "mean                 -0.010671                -0.064540       0.159675   \n",
       "std                   0.054097                 0.153854       0.217957   \n",
       "min                  -0.224400                -0.519600       0.000000   \n",
       "25%                  -0.035950                -0.149025       0.001300   \n",
       "50%                  -0.016750                -0.087050       0.052100   \n",
       "75%                   0.005025                 0.004225       0.257150   \n",
       "max                   0.500000                 0.937500       1.705900   \n",
       "\n",
       "       Pending Ratio M/M  Pending Ratio Y/Y  \n",
       "count        1000.000000        1000.000000  \n",
       "mean           -0.004647           0.024149  \n",
       "std             0.057351           0.141385  \n",
       "min            -0.335500          -0.611400  \n",
       "25%            -0.011700          -0.005325  \n",
       "50%            -0.000300           0.000200  \n",
       "75%             0.000600           0.035125  \n",
       "max             0.510200           1.117400  \n",
       "\n",
       "[8 rows x 32 columns]"
      ]
     },
     "execution_count": 807,
     "metadata": {},
     "output_type": "execute_result"
    }
   ],
   "source": [
    "df.describe()"
   ]
  },
  {
   "cell_type": "code",
   "execution_count": 808,
   "metadata": {},
   "outputs": [
    {
     "data": {
      "text/plain": [
       "Index(['Nielsen Rank', 'Median Listing Price', 'Median Listing Price M/M',\n",
       "       'Median Listing Price Y/Y', 'Active Listing Count ',\n",
       "       'Active Listing Count M/M', 'Active Listing Count Y/Y',\n",
       "       'Days on Market ', 'Days on Market M/M', 'Days on Market Y/Y',\n",
       "       'New Listing Count ', 'New Listing Count M/M', 'New Listing Count Y/Y',\n",
       "       'Price Increase Count ', 'Price Increase Count M/M',\n",
       "       'Price Increase Count Y/Y', 'Price Decrease Count ',\n",
       "       'Price Decrease Count M/M', 'Price Decrease Count Y/Y',\n",
       "       'Pending Listing Count ', 'Pending Listing Count M/M',\n",
       "       'Pending Listing Count Y/Y', 'Avg Listing Price',\n",
       "       'Avg Listing Price M/M', 'Avg Listing Price Y/Y', 'Total Listing Count',\n",
       "       'Total Listing Count M/M', 'Total Listing Count Y/Y', 'Pending Ratio',\n",
       "       'Pending Ratio M/M', 'Pending Ratio Y/Y'],\n",
       "      dtype='object')"
      ]
     },
     "execution_count": 808,
     "metadata": {},
     "output_type": "execute_result"
    }
   ],
   "source": [
    "new_df = df.loc[:,'Nielsen Rank': 'Pending Ratio Y/Y'].copy()\n",
    "del new_df['Footnote']\n",
    "new_df.columns"
   ]
  },
  {
   "cell_type": "code",
   "execution_count": 809,
   "metadata": {
    "collapsed": true
   },
   "outputs": [],
   "source": [
    "# continue here to extract Median Listing Price and to split the data using train_test_split()"
   ]
  },
  {
   "cell_type": "code",
   "execution_count": 810,
   "metadata": {},
   "outputs": [],
   "source": [
    "'''Setting up the target variable as the Median Listing Price '''\n",
    "y = new_df[['Median Listing Price']]"
   ]
  },
  {
   "cell_type": "code",
   "execution_count": 811,
   "metadata": {},
   "outputs": [
    {
     "name": "stdout",
     "output_type": "stream",
     "text": [
      "['Nielsen Rank', 'Median Listing Price', 'Median Listing Price M/M', 'Median Listing Price Y/Y', 'Active Listing Count ', 'Active Listing Count M/M', 'Active Listing Count Y/Y', 'Days on Market ', 'Days on Market M/M', 'Days on Market Y/Y', 'New Listing Count ', 'New Listing Count M/M', 'New Listing Count Y/Y', 'Price Increase Count ', 'Price Increase Count M/M', 'Price Increase Count Y/Y', 'Price Decrease Count ', 'Price Decrease Count M/M', 'Price Decrease Count Y/Y', 'Pending Listing Count ', 'Pending Listing Count M/M', 'Pending Listing Count Y/Y', 'Avg Listing Price', 'Avg Listing Price M/M', 'Avg Listing Price Y/Y', 'Total Listing Count', 'Total Listing Count M/M', 'Total Listing Count Y/Y', 'Pending Ratio', 'Pending Ratio M/M', 'Pending Ratio Y/Y']\n"
     ]
    }
   ],
   "source": [
    "count_columns_list = []\n",
    "columns = list(new_df.columns) \n",
    "for col in columns: \n",
    "    count_columns_list.append(col)\n",
    "print (count_columns_list)\n",
    "    "
   ]
  },
  {
   "cell_type": "code",
   "execution_count": 812,
   "metadata": {},
   "outputs": [],
   "source": [
    "x = new_df[count_columns_list].copy()"
   ]
  },
  {
   "cell_type": "code",
   "execution_count": 813,
   "metadata": {},
   "outputs": [
    {
     "data": {
      "text/html": [
       "<div>\n",
       "<style>\n",
       "    .dataframe thead tr:only-child th {\n",
       "        text-align: right;\n",
       "    }\n",
       "\n",
       "    .dataframe thead th {\n",
       "        text-align: left;\n",
       "    }\n",
       "\n",
       "    .dataframe tbody tr th {\n",
       "        vertical-align: top;\n",
       "    }\n",
       "</style>\n",
       "<table border=\"1\" class=\"dataframe\">\n",
       "  <thead>\n",
       "    <tr style=\"text-align: right;\">\n",
       "      <th></th>\n",
       "      <th>Nielsen Rank</th>\n",
       "      <th>Median Listing Price</th>\n",
       "      <th>Median Listing Price M/M</th>\n",
       "      <th>Median Listing Price Y/Y</th>\n",
       "      <th>Active Listing Count</th>\n",
       "      <th>Active Listing Count M/M</th>\n",
       "      <th>Active Listing Count Y/Y</th>\n",
       "      <th>Days on Market</th>\n",
       "      <th>Days on Market M/M</th>\n",
       "      <th>Days on Market Y/Y</th>\n",
       "      <th>...</th>\n",
       "      <th>Pending Listing Count Y/Y</th>\n",
       "      <th>Avg Listing Price</th>\n",
       "      <th>Avg Listing Price M/M</th>\n",
       "      <th>Avg Listing Price Y/Y</th>\n",
       "      <th>Total Listing Count</th>\n",
       "      <th>Total Listing Count M/M</th>\n",
       "      <th>Total Listing Count Y/Y</th>\n",
       "      <th>Pending Ratio</th>\n",
       "      <th>Pending Ratio M/M</th>\n",
       "      <th>Pending Ratio Y/Y</th>\n",
       "    </tr>\n",
       "  </thead>\n",
       "  <tbody>\n",
       "    <tr>\n",
       "      <th>0</th>\n",
       "      <td>1.0</td>\n",
       "      <td>649900.0</td>\n",
       "      <td>-0.0002</td>\n",
       "      <td>0.0398</td>\n",
       "      <td>16464.0</td>\n",
       "      <td>-0.0261</td>\n",
       "      <td>-0.1491</td>\n",
       "      <td>41.0</td>\n",
       "      <td>0.0250</td>\n",
       "      <td>-0.1458</td>\n",
       "      <td>...</td>\n",
       "      <td>-0.2008</td>\n",
       "      <td>1377900.0</td>\n",
       "      <td>-0.0035</td>\n",
       "      <td>0.1149</td>\n",
       "      <td>19577.0</td>\n",
       "      <td>-0.0306</td>\n",
       "      <td>-0.1578</td>\n",
       "      <td>0.1891</td>\n",
       "      <td>-0.0055</td>\n",
       "      <td>-0.0122</td>\n",
       "    </tr>\n",
       "    <tr>\n",
       "      <th>1</th>\n",
       "      <td>2.0</td>\n",
       "      <td>277000.0</td>\n",
       "      <td>-0.0072</td>\n",
       "      <td>0.0897</td>\n",
       "      <td>26510.0</td>\n",
       "      <td>-0.0142</td>\n",
       "      <td>-0.0509</td>\n",
       "      <td>51.0</td>\n",
       "      <td>0.0408</td>\n",
       "      <td>-0.1356</td>\n",
       "      <td>...</td>\n",
       "      <td>-0.2012</td>\n",
       "      <td>428900.0</td>\n",
       "      <td>-0.0046</td>\n",
       "      <td>0.0701</td>\n",
       "      <td>29420.0</td>\n",
       "      <td>-0.0202</td>\n",
       "      <td>-0.0683</td>\n",
       "      <td>0.1098</td>\n",
       "      <td>-0.0067</td>\n",
       "      <td>-0.0207</td>\n",
       "    </tr>\n",
       "    <tr>\n",
       "      <th>2</th>\n",
       "      <td>3.0</td>\n",
       "      <td>299000.0</td>\n",
       "      <td>0.0007</td>\n",
       "      <td>-0.0355</td>\n",
       "      <td>15472.0</td>\n",
       "      <td>-0.1020</td>\n",
       "      <td>0.0401</td>\n",
       "      <td>61.0</td>\n",
       "      <td>0.1731</td>\n",
       "      <td>0.0702</td>\n",
       "      <td>...</td>\n",
       "      <td>-0.0535</td>\n",
       "      <td>446900.0</td>\n",
       "      <td>0.0182</td>\n",
       "      <td>-0.0225</td>\n",
       "      <td>21676.0</td>\n",
       "      <td>-0.0888</td>\n",
       "      <td>0.0114</td>\n",
       "      <td>0.4010</td>\n",
       "      <td>0.0204</td>\n",
       "      <td>-0.0397</td>\n",
       "    </tr>\n",
       "    <tr>\n",
       "      <th>3</th>\n",
       "      <td>4.0</td>\n",
       "      <td>329500.0</td>\n",
       "      <td>0.0015</td>\n",
       "      <td>0.0444</td>\n",
       "      <td>18421.0</td>\n",
       "      <td>0.0013</td>\n",
       "      <td>-0.0859</td>\n",
       "      <td>49.0</td>\n",
       "      <td>-0.0392</td>\n",
       "      <td>-0.0755</td>\n",
       "      <td>...</td>\n",
       "      <td>-0.2857</td>\n",
       "      <td>515200.0</td>\n",
       "      <td>0.0043</td>\n",
       "      <td>0.0658</td>\n",
       "      <td>18426.0</td>\n",
       "      <td>0.0013</td>\n",
       "      <td>-0.0860</td>\n",
       "      <td>0.0003</td>\n",
       "      <td>0.0000</td>\n",
       "      <td>-0.0001</td>\n",
       "    </tr>\n",
       "    <tr>\n",
       "      <th>4</th>\n",
       "      <td>5.0</td>\n",
       "      <td>660200.0</td>\n",
       "      <td>-0.0139</td>\n",
       "      <td>0.0541</td>\n",
       "      <td>6057.0</td>\n",
       "      <td>-0.0205</td>\n",
       "      <td>-0.1887</td>\n",
       "      <td>39.0</td>\n",
       "      <td>0.0263</td>\n",
       "      <td>-0.1333</td>\n",
       "      <td>...</td>\n",
       "      <td>0.1176</td>\n",
       "      <td>1147100.0</td>\n",
       "      <td>-0.0126</td>\n",
       "      <td>0.0615</td>\n",
       "      <td>6076.0</td>\n",
       "      <td>-0.0224</td>\n",
       "      <td>-0.1880</td>\n",
       "      <td>0.0031</td>\n",
       "      <td>-0.0019</td>\n",
       "      <td>0.0009</td>\n",
       "    </tr>\n",
       "  </tbody>\n",
       "</table>\n",
       "<p>5 rows × 31 columns</p>\n",
       "</div>"
      ],
      "text/plain": [
       "   Nielsen Rank  Median Listing Price  Median Listing Price M/M  \\\n",
       "0           1.0              649900.0                   -0.0002   \n",
       "1           2.0              277000.0                   -0.0072   \n",
       "2           3.0              299000.0                    0.0007   \n",
       "3           4.0              329500.0                    0.0015   \n",
       "4           5.0              660200.0                   -0.0139   \n",
       "\n",
       "   Median Listing Price Y/Y  Active Listing Count   Active Listing Count M/M  \\\n",
       "0                    0.0398                16464.0                   -0.0261   \n",
       "1                    0.0897                26510.0                   -0.0142   \n",
       "2                   -0.0355                15472.0                   -0.1020   \n",
       "3                    0.0444                18421.0                    0.0013   \n",
       "4                    0.0541                 6057.0                   -0.0205   \n",
       "\n",
       "   Active Listing Count Y/Y  Days on Market   Days on Market M/M  \\\n",
       "0                   -0.1491             41.0              0.0250   \n",
       "1                   -0.0509             51.0              0.0408   \n",
       "2                    0.0401             61.0              0.1731   \n",
       "3                   -0.0859             49.0             -0.0392   \n",
       "4                   -0.1887             39.0              0.0263   \n",
       "\n",
       "   Days on Market Y/Y        ...          Pending Listing Count Y/Y  \\\n",
       "0             -0.1458        ...                            -0.2008   \n",
       "1             -0.1356        ...                            -0.2012   \n",
       "2              0.0702        ...                            -0.0535   \n",
       "3             -0.0755        ...                            -0.2857   \n",
       "4             -0.1333        ...                             0.1176   \n",
       "\n",
       "   Avg Listing Price  Avg Listing Price M/M  Avg Listing Price Y/Y  \\\n",
       "0          1377900.0                -0.0035                 0.1149   \n",
       "1           428900.0                -0.0046                 0.0701   \n",
       "2           446900.0                 0.0182                -0.0225   \n",
       "3           515200.0                 0.0043                 0.0658   \n",
       "4          1147100.0                -0.0126                 0.0615   \n",
       "\n",
       "   Total Listing Count  Total Listing Count M/M  Total Listing Count Y/Y  \\\n",
       "0              19577.0                  -0.0306                  -0.1578   \n",
       "1              29420.0                  -0.0202                  -0.0683   \n",
       "2              21676.0                  -0.0888                   0.0114   \n",
       "3              18426.0                   0.0013                  -0.0860   \n",
       "4               6076.0                  -0.0224                  -0.1880   \n",
       "\n",
       "   Pending Ratio  Pending Ratio M/M  Pending Ratio Y/Y  \n",
       "0         0.1891            -0.0055            -0.0122  \n",
       "1         0.1098            -0.0067            -0.0207  \n",
       "2         0.4010             0.0204            -0.0397  \n",
       "3         0.0003             0.0000            -0.0001  \n",
       "4         0.0031            -0.0019             0.0009  \n",
       "\n",
       "[5 rows x 31 columns]"
      ]
     },
     "execution_count": 813,
     "metadata": {},
     "output_type": "execute_result"
    }
   ],
   "source": [
    "'''Reviewing the X Dataframe'''\n",
    "x.head()"
   ]
  },
  {
   "cell_type": "code",
   "execution_count": 814,
   "metadata": {},
   "outputs": [
    {
     "data": {
      "text/html": [
       "<div>\n",
       "<style>\n",
       "    .dataframe thead tr:only-child th {\n",
       "        text-align: right;\n",
       "    }\n",
       "\n",
       "    .dataframe thead th {\n",
       "        text-align: left;\n",
       "    }\n",
       "\n",
       "    .dataframe tbody tr th {\n",
       "        vertical-align: top;\n",
       "    }\n",
       "</style>\n",
       "<table border=\"1\" class=\"dataframe\">\n",
       "  <thead>\n",
       "    <tr style=\"text-align: right;\">\n",
       "      <th></th>\n",
       "      <th>Median Listing Price</th>\n",
       "    </tr>\n",
       "  </thead>\n",
       "  <tbody>\n",
       "    <tr>\n",
       "      <th>0</th>\n",
       "      <td>649900.0</td>\n",
       "    </tr>\n",
       "    <tr>\n",
       "      <th>1</th>\n",
       "      <td>277000.0</td>\n",
       "    </tr>\n",
       "    <tr>\n",
       "      <th>2</th>\n",
       "      <td>299000.0</td>\n",
       "    </tr>\n",
       "    <tr>\n",
       "      <th>3</th>\n",
       "      <td>329500.0</td>\n",
       "    </tr>\n",
       "    <tr>\n",
       "      <th>4</th>\n",
       "      <td>660200.0</td>\n",
       "    </tr>\n",
       "  </tbody>\n",
       "</table>\n",
       "</div>"
      ],
      "text/plain": [
       "   Median Listing Price\n",
       "0              649900.0\n",
       "1              277000.0\n",
       "2              299000.0\n",
       "3              329500.0\n",
       "4              660200.0"
      ]
     },
     "execution_count": 814,
     "metadata": {},
     "output_type": "execute_result"
    }
   ],
   "source": [
    "'''Reviewing the Y Dataframe'''\n",
    "y.head()"
   ]
  },
  {
   "cell_type": "code",
   "execution_count": 815,
   "metadata": {},
   "outputs": [
    {
     "name": "stdout",
     "output_type": "stream",
     "text": [
      "Shape of X Train:  (670, 31)\n",
      "Shape of Y Train:  (670, 1)\n",
      "Shape of X Test:  (330, 31)\n",
      "Shape of Y Test:  (330, 1)\n"
     ]
    }
   ],
   "source": [
    "'''Implementing the Test Train Approach with the Independent Variables and the Dependent Variables'''\n",
    "x_train, x_test, y_train, y_test = train_test_split(x,y, test_size = 0.33)\n",
    "\n",
    "print ('Shape of X Train: ', x_train.shape)\n",
    "print ('Shape of Y Train: ', y_train.shape)\n",
    "print ('Shape of X Test: ', x_test.shape)\n",
    "print ('Shape of Y Test: ', y_test.shape)"
   ]
  },
  {
   "cell_type": "markdown",
   "metadata": {},
   "source": [
    "# Question 1\n",
    "\n",
    "Investigate the pattern of missing values in the dataset. What do you think should be done with those missing values? Is it appropriate to use `Imputer` to address any missing rows? Why or why not?"
   ]
  },
  {
   "cell_type": "code",
   "execution_count": 816,
   "metadata": {},
   "outputs": [
    {
     "data": {
      "text/plain": [
       "Footnote                     862\n",
       "Price Increase Count M/M     181\n",
       "Price Increase Count Y/Y     188\n",
       "Pending Listing Count M/M    198\n",
       "Pending Listing Count Y/Y    212\n",
       "dtype: int64"
      ]
     },
     "execution_count": 816,
     "metadata": {},
     "output_type": "execute_result"
    }
   ],
   "source": [
    "df.isnull().sum()[df.isnull().sum()>0]"
   ]
  },
  {
   "cell_type": "markdown",
   "metadata": {},
   "source": [
    "The below columns have null values in them \n",
    "1. Footnote\n",
    "2. Price Increase Count M/M\n",
    "3. Price Increase Count Y/Y\n",
    "4. Pending Listing Count M/M\n",
    "5. Pending Listing Count Y/Y"
   ]
  },
  {
   "cell_type": "markdown",
   "metadata": {},
   "source": [
    "Based on quickly looking at the Footnote column, the non nul values have a *. Hence it makes sense to just ignore the column for the purposes of our analysis. \n",
    "\n",
    "The remaining columns can be imputed and we could replace the NAN columns by the imputed mean value "
   ]
  },
  {
   "cell_type": "markdown",
   "metadata": {},
   "source": [
    "# Question 2\n",
    "\n",
    "Use the `Active Listing Count ` feature and the `Binarizer` preprocessing object to create a dummy variable coded 1 if the count of active listings is above 10,000 units. Store the transformed data from the training set in a variable called `training_active_listing_dummy`"
   ]
  },
  {
   "cell_type": "code",
   "execution_count": 817,
   "metadata": {},
   "outputs": [],
   "source": [
    "active_listing_count_bin = Binarizer(10000)\n",
    "active_listing_count_bin.fit(x_train['Active Listing Count '].values.reshape(-1,1))\n",
    "training_active_listing_dummy = active_listing_count_bin.transform(x_train['Active Listing Count '].values.reshape(-1,1))"
   ]
  },
  {
   "cell_type": "code",
   "execution_count": 818,
   "metadata": {},
   "outputs": [
    {
     "name": "stdout",
     "output_type": "stream",
     "text": [
      "First Five Rows in the Training Data:\n",
      " [[ 0.]\n",
      " [ 0.]\n",
      " [ 0.]\n",
      " [ 0.]\n",
      " [ 0.]]\n"
     ]
    }
   ],
   "source": [
    "print ('First Five Rows in the Training Data:\\n',training_active_listing_dummy[0:5])"
   ]
  },
  {
   "cell_type": "code",
   "execution_count": 819,
   "metadata": {},
   "outputs": [
    {
     "name": "stdout",
     "output_type": "stream",
     "text": [
      "Binarized Mean: \n",
      " 0.0089552238806\n"
     ]
    }
   ],
   "source": [
    "print ('Binarized Mean: \\n',training_active_listing_dummy.mean())"
   ]
  },
  {
   "cell_type": "markdown",
   "metadata": {},
   "source": [
    "# Question 3\n",
    "\n",
    "The Pending Ratio of a county is the proportion of houses that are under contract to be sold, but have not been finalized yet. Your boss believes that the best way to model this is by including both the ratio and the $\\text{ratio}^2$ -- this would let us investigate a non-linear relationship. \n",
    "\n",
    "Use `PolynomialFeatures` to create a pending ratio and a $\\text{pending ratio}^2$ term. Do not include an intercept term. Save this 2-dimensional array in a variable called `training_pending_ratio`"
   ]
  },
  {
   "cell_type": "code",
   "execution_count": 820,
   "metadata": {
    "collapsed": true
   },
   "outputs": [],
   "source": [
    "'''Performing Polynomial Features on the Pending Ratio Column'''\n",
    "polynomial_features = PolynomialFeatures(2, include_bias=False)\n",
    "polynomial_features.fit(x_train['Pending Ratio'].values.reshape(-1,1))\n",
    "training_pending_ratio = polynomial_features.transform(x_train['Pending Ratio'].values.reshape(-1,1))"
   ]
  },
  {
   "cell_type": "code",
   "execution_count": 821,
   "metadata": {},
   "outputs": [
    {
     "name": "stdout",
     "output_type": "stream",
     "text": [
      "First Five Rows in the Training Data:\n",
      "\n",
      " [[  1.60000000e-03   2.56000000e-06]\n",
      " [  0.00000000e+00   0.00000000e+00]\n",
      " [  1.26400000e-01   1.59769600e-02]\n",
      " [  1.73100000e-01   2.99636100e-02]\n",
      " [  3.00000000e-04   9.00000000e-08]]\n"
     ]
    }
   ],
   "source": [
    "print ('First Five Rows in the Training Data:\\n\\n',training_pending_ratio[0:5])"
   ]
  },
  {
   "cell_type": "code",
   "execution_count": 822,
   "metadata": {},
   "outputs": [
    {
     "name": "stdout",
     "output_type": "stream",
     "text": [
      "Polynomial Mean:\n",
      "\n",
      " 0.118494485134\n"
     ]
    }
   ],
   "source": [
    "print ('Polynomial Mean:\\n\\n',training_pending_ratio.mean())"
   ]
  },
  {
   "cell_type": "markdown",
   "metadata": {},
   "source": [
    "## Plotting Pending Ratios with its associated Polynomial Values"
   ]
  },
  {
   "cell_type": "code",
   "execution_count": 823,
   "metadata": {},
   "outputs": [
    {
     "data": {
      "image/png": "[encoded data removed]",
      "text/plain": [
       "<matplotlib.figure.Figure at 0x1136da6a0>"
      ]
     },
     "metadata": {},
     "output_type": "display_data"
    }
   ],
   "source": [
    "plt.scatter(training_pending_ratio[:,0], training_pending_ratio[:,1], color ='g')\n",
    "plt.xlabel('Actual Pending Ratios')\n",
    "plt.ylabel('Polynomial Pending Ratios')\n",
    "plt.title('Plotting the Pending Ratios V/s Polynomial Pending Ratios', fontweight = 'bold')\n",
    "plt.tight_layout()"
   ]
  },
  {
   "cell_type": "markdown",
   "metadata": {},
   "source": [
    "# Question 4\n",
    "\n",
    "Join the variables you have transformed in numpy. They should be the following:\n",
    "\n",
    "- `training_active_listing_dummy`\n",
    "- `training_pending_ratio`\n",
    "\n",
    "What is the shape of the new numpy array?"
   ]
  },
  {
   "cell_type": "code",
   "execution_count": 824,
   "metadata": {},
   "outputs": [
    {
     "name": "stdout",
     "output_type": "stream",
     "text": [
      "training_active_listing_dummy - Shape:  (670, 1)\n"
     ]
    }
   ],
   "source": [
    "print ('training_active_listing_dummy - Shape: ', training_active_listing_dummy.shape)"
   ]
  },
  {
   "cell_type": "code",
   "execution_count": 825,
   "metadata": {},
   "outputs": [
    {
     "name": "stdout",
     "output_type": "stream",
     "text": [
      "training_pending_ratio:  (670, 2)\n"
     ]
    }
   ],
   "source": [
    "print ('training_pending_ratio: ', training_pending_ratio.shape)"
   ]
  },
  {
   "cell_type": "markdown",
   "metadata": {},
   "source": [
    "### Joining the two variables"
   ]
  },
  {
   "cell_type": "code",
   "execution_count": 826,
   "metadata": {},
   "outputs": [
    {
     "name": "stdout",
     "output_type": "stream",
     "text": [
      "Shape of the Combined Array: \n",
      " (670, 3)\n"
     ]
    }
   ],
   "source": [
    "combined_array = np.concatenate([training_active_listing_dummy, training_pending_ratio],axis=1)\n",
    "print ('Shape of the Combined Array: \\n', combined_array.shape)"
   ]
  },
  {
   "cell_type": "markdown",
   "metadata": {},
   "source": [
    "# Question 5\n",
    "\n",
    "Instantiate a `LinearRegression` object and fit a model using the new training array above and the training target column you created when you imported the data. What is the $R^2$ score using the training data?"
   ]
  },
  {
   "cell_type": "code",
   "execution_count": 827,
   "metadata": {},
   "outputs": [
    {
     "data": {
      "text/plain": [
       "numpy.ndarray"
      ]
     },
     "execution_count": 827,
     "metadata": {},
     "output_type": "execute_result"
    }
   ],
   "source": [
    "x1 = combined_array\n",
    "type(x1)"
   ]
  },
  {
   "cell_type": "code",
   "execution_count": 828,
   "metadata": {},
   "outputs": [
    {
     "data": {
      "text/plain": [
       "array([[  0.00000000e+00,   1.60000000e-03,   2.56000000e-06],\n",
       "       [  0.00000000e+00,   0.00000000e+00,   0.00000000e+00],\n",
       "       [  0.00000000e+00,   1.26400000e-01,   1.59769600e-02],\n",
       "       ..., \n",
       "       [  0.00000000e+00,   3.06000000e-02,   9.36360000e-04],\n",
       "       [  0.00000000e+00,   4.03300000e-01,   1.62650890e-01],\n",
       "       [  0.00000000e+00,   0.00000000e+00,   0.00000000e+00]])"
      ]
     },
     "execution_count": 828,
     "metadata": {},
     "output_type": "execute_result"
    }
   ],
   "source": [
    "combined_array"
   ]
  },
  {
   "cell_type": "code",
   "execution_count": 829,
   "metadata": {},
   "outputs": [],
   "source": [
    "'''Linear Regression'''\n",
    "lr = LinearRegression()\n",
    "model= lr.fit(x1, y_train)"
   ]
  },
  {
   "cell_type": "code",
   "execution_count": 830,
   "metadata": {},
   "outputs": [
    {
     "name": "stdout",
     "output_type": "stream",
     "text": [
      "Model Score Using the Training Data:\n",
      " 0.0532821363375\n"
     ]
    }
   ],
   "source": [
    "'''Validating the Score with the training set'''\n",
    "print ('Model Score Using the Training Data:\\n',model.score(x1, y_train))"
   ]
  },
  {
   "cell_type": "markdown",
   "metadata": {},
   "source": [
    "# Question 6\n",
    "\n",
    "Using the fit objects that you created in questions 2, 3, and 4, do the following:\n",
    "\n",
    "1. Transform the holdout (test) data that you created when you imported the data\n",
    "2. Use numpy to join the transformed holdout (test) data. \n",
    "3. Score your fit `LinearRegression` object using the new holdout data. What happens to your $R^2$ value?"
   ]
  },
  {
   "cell_type": "code",
   "execution_count": 831,
   "metadata": {},
   "outputs": [],
   "source": [
    "'''Transforming the Test Active Listing Count'''\n",
    "\n",
    "transformed_test_active_listing = \\\n",
    "active_listing_count_bin.transform(x_test['Active Listing Count '].values.reshape(-1,1))"
   ]
  },
  {
   "cell_type": "code",
   "execution_count": 832,
   "metadata": {},
   "outputs": [],
   "source": [
    "'''Performing Polynomial Features on the Pending Ratio Column'''\n",
    "\n",
    "transformed_test_pending_ratio = \\\n",
    "polynomial_features.transform(x_test['Pending Ratio'].values.reshape(-1,1))"
   ]
  },
  {
   "cell_type": "code",
   "execution_count": 833,
   "metadata": {},
   "outputs": [
    {
     "name": "stdout",
     "output_type": "stream",
     "text": [
      "Shape of the Combined Array: \n",
      " (330, 3)\n"
     ]
    }
   ],
   "source": [
    "'''Combined Transformed Array'''\n",
    "\n",
    "combined_transformed_array = \\\n",
    "np.concatenate([transformed_test_active_listing, transformed_test_pending_ratio],axis=1)\n",
    "\n",
    "print ('Shape of the Combined Array: \\n', combined_transformed_array.shape)"
   ]
  },
  {
   "cell_type": "code",
   "execution_count": 834,
   "metadata": {},
   "outputs": [
    {
     "data": {
      "text/plain": [
       "0.090830038637353838"
      ]
     },
     "execution_count": 834,
     "metadata": {},
     "output_type": "execute_result"
    }
   ],
   "source": [
    "'''Evaluating the model with the Test (Hold Out) Data'''\n",
    "model.score(combined_transformed_array, y_test)"
   ]
  },
  {
   "cell_type": "markdown",
   "metadata": {},
   "source": [
    "# Bonus: Question 7\n",
    "\n",
    "This question will require external research!\n",
    "\n",
    "Import `StandardScaler` and answer the following questions:\n",
    "\n",
    "1. Scale the training data and refit the linear regression. Does your $R^2$ change? Why or why not?\n",
    "2. Compare the coefficients in your linear regression between the standardized and the unstandardized versions. What is the difference? How do you interpret the coefficients in each case?\n",
    "3. Standardize your test data and look at the $R^2$ score between the standardized and unstandardized versions of your model. Is there a difference? Why or why not?"
   ]
  },
  {
   "cell_type": "markdown",
   "metadata": {},
   "source": [
    "####  Scale the training data and refit the linear regression. Does your  R2R2  change? Why or why not?"
   ]
  },
  {
   "cell_type": "code",
   "execution_count": 835,
   "metadata": {
    "collapsed": true
   },
   "outputs": [],
   "source": [
    "ss_scaler = StandardScaler()"
   ]
  },
  {
   "cell_type": "code",
   "execution_count": 836,
   "metadata": {},
   "outputs": [
    {
     "data": {
      "text/plain": [
       "array([[-0.00807521, -0.75069622],\n",
       "       [-0.43534843, -0.7581092 ],\n",
       "       [-0.49155489, -0.17248438],\n",
       "       [-0.15067309,  0.04388175],\n",
       "       [ 1.1233401 , -0.75671926]])"
      ]
     },
     "execution_count": 836,
     "metadata": {},
     "output_type": "execute_result"
    }
   ],
   "source": [
    "active_list_pending_ratio = x_train[['Active Listing Count ', 'Pending Ratio']].values\n",
    "ss_scaler.fit(active_list_pending_ratio)\n",
    "\n",
    "active_list_pending_ratio_transform = ss_scaler.transform(active_list_pending_ratio)\n",
    "active_list_pending_ratio_transform[0:5,:]"
   ]
  },
  {
   "cell_type": "code",
   "execution_count": 837,
   "metadata": {},
   "outputs": [
    {
     "data": {
      "text/plain": [
       "<matplotlib.collections.PathCollection at 0x113803b00>"
      ]
     },
     "execution_count": 837,
     "metadata": {},
     "output_type": "execute_result"
    },
    {
     "data": {
      "image/png": "[encoded data removed]",
      "text/plain": [
       "<matplotlib.figure.Figure at 0x113554438>"
      ]
     },
     "metadata": {},
     "output_type": "display_data"
    }
   ],
   "source": [
    "plt.scatter(active_list_pending_ratio_transform[:,0], active_list_pending_ratio_transform[:,1])"
   ]
  },
  {
   "cell_type": "markdown",
   "metadata": {},
   "source": [
    "**active_list_pending_ratio_transform[:,0] - is the scaled training data**"
   ]
  },
  {
   "cell_type": "markdown",
   "metadata": {},
   "source": [
    "####  Compare the coefficients in your linear regression between the standardized and the unstandardized versions. What is the difference? How do you interpret the coefficients in each case?"
   ]
  },
  {
   "cell_type": "code",
   "execution_count": 843,
   "metadata": {},
   "outputs": [
    {
     "name": "stdout",
     "output_type": "stream",
     "text": [
      "Model Score with Standard Scalar (Training Set): \n",
      " 0.121330497632\n",
      "Model Coeff with Standard Scalar (Training Set): \n",
      " [[ 44144.45523581  30631.25077479]]\n"
     ]
    }
   ],
   "source": [
    "'''Calculating the Model Score and Coefficient for the standardized version'''\n",
    "lr2 = LinearRegression()\n",
    "model2 = lr.fit(active_list_pending_ratio_transform, y_train)\n",
    "model2_score = model2.score(active_list_pending_ratio_transform, y_train)\n",
    "print ('Model Score with Standard Scalar (Training Set): \\n', model2_score)\n",
    "print ('Model Coeff with Standard Scalar (Training Set): \\n', model2.coef_)"
   ]
  },
  {
   "cell_type": "code",
   "execution_count": 844,
   "metadata": {},
   "outputs": [
    {
     "name": "stdout",
     "output_type": "stream",
     "text": [
      "Model Score with Unstandardized (Training Set): \n",
      " -417223.911071\n",
      "Model Coeff with Unstandardized (Training Set): \n",
      " [[  3.20402971e+01   1.36477134e+05]]\n"
     ]
    }
   ],
   "source": [
    "'''Calculating the Model Score and Coefficient for the unstandardized version'''\n",
    "lr3 = LinearRegression()\n",
    "model3_score = model2.score(active_list_pending_ratio, y_train)\n",
    "print ('Model Score with Unstandardized (Training Set): \\n', model3_score)\n",
    "print ('Model Coeff with Unstandardized (Training Set): \\n', model3.coef_)"
   ]
  },
  {
   "cell_type": "markdown",
   "metadata": {},
   "source": [
    "#### Standardize your test data and look at the  R2  score between the standardized and unstandardized versions of your model. Is there a difference? Why or why not?"
   ]
  },
  {
   "cell_type": "code",
   "execution_count": 845,
   "metadata": {},
   "outputs": [
    {
     "data": {
      "text/plain": [
       "array([[-0.00807521, -0.75069622],\n",
       "       [-0.43534843, -0.7581092 ],\n",
       "       [-0.49155489, -0.17248438],\n",
       "       [-0.15067309,  0.04388175],\n",
       "       [ 1.1233401 , -0.75671926]])"
      ]
     },
     "execution_count": 845,
     "metadata": {},
     "output_type": "execute_result"
    }
   ],
   "source": [
    "'''Standardizing the Test Set with the Standard Scalar'''\n",
    "active_list_pending_ratio_test = x_test[['Active Listing Count ', 'Pending Ratio']].values\n",
    "\n",
    "'''Performing the fit and the transform method'''\n",
    "ss_scaler.fit(active_list_pending_ratio_test)\n",
    "active_list_pending_ratio_test_transform = ss_scaler.transform(active_list_pending_ratio_test)\n",
    "active_list_pending_ratio_transform[0:5,:]"
   ]
  },
  {
   "cell_type": "code",
   "execution_count": 846,
   "metadata": {},
   "outputs": [
    {
     "name": "stdout",
     "output_type": "stream",
     "text": [
      "Model Score with Standard Scalar (Training Set): \n",
      " 0.0838852356742\n",
      "Model Coeff with Standard Scalar (Training Set): \n",
      " [[ 25376.79012794  38339.01230232]]\n"
     ]
    }
   ],
   "source": [
    "'''Calculating the Model Score and Coefficient for the standardized version (Test)'''\n",
    "\n",
    "lr4 = LinearRegression()\n",
    "model4 = lr.fit(active_list_pending_ratio_test_transform, y_test)\n",
    "model4_score = model4.score(active_list_pending_ratio_test_transform, y_test)\n",
    "print ('Model Score with Standard Scalar (Training Set): \\n', model4_score)\n",
    "print ('Model Coeff with Standard Scalar (Training Set): \\n', model4.coef_)"
   ]
  },
  {
   "cell_type": "code",
   "execution_count": 847,
   "metadata": {},
   "outputs": [
    {
     "name": "stdout",
     "output_type": "stream",
     "text": [
      "Model Score with Standard Scalar (Training Set): \n",
      " 0.0838852356742\n",
      "Model Coeff with Standard Scalar (Training Set): \n",
      " [[  1.27067315e+01   1.72964987e+05]]\n"
     ]
    }
   ],
   "source": [
    "'''Calculating the Model Score and Coefficient for the unstandardized version (Test)'''\n",
    "\n",
    "lr4 = LinearRegression()\n",
    "model5 = lr.fit(active_list_pending_ratio_test, y_test)\n",
    "model5_score = model4.score(active_list_pending_ratio_test, y_test)\n",
    "print ('Model Score with Standard Scalar (Training Set): \\n', model5_score)\n",
    "print ('Model Coeff with Standard Scalar (Training Set): \\n', model5.coef_)"
   ]
  },
  {
   "cell_type": "markdown",
   "metadata": {},
   "source": [
    "# Bonus: Question 8\n",
    "\n",
    "This question is open-ended!\n",
    "\n",
    "1. Use the remaining columns in the data. Use different features and transformations to create a model with the highest $R^2$ **in the training set** that you can. Compare the differences in feature extraction, etc. using cross-validation (`cross_val_score` or `KFolds`). Do not worry about using the preprocessing library at this point.\n",
    "2. Apply these same transformations to the test dataset. How does the model score now?\n",
    "3. Once you are satisfied with your model, refactor your code where appropriate to use sklearn preprocessing libraries. "
   ]
  },
  {
   "cell_type": "code",
   "execution_count": null,
   "metadata": {
    "collapsed": true
   },
   "outputs": [],
   "source": []
  }
 ],
 "metadata": {
  "kernelspec": {
   "display_name": "Python 3",
   "language": "python",
   "name": "python3"
  },
  "language_info": {
   "codemirror_mode": {
    "name": "ipython",
    "version": 3
   },
   "file_extension": ".py",
   "mimetype": "text/x-python",
   "name": "python",
   "nbconvert_exporter": "python",
   "pygments_lexer": "ipython3",
   "version": "3.6.1"
  }
 },
 "nbformat": 4,
 "nbformat_minor": 2
}
