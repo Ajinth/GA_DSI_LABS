{
 "cells": [
  {
   "cell_type": "markdown",
   "metadata": {
    "slideshow": {
     "slide_type": "slide"
    }
   },
   "source": [
    "# ![](https://ga-dash.s3.amazonaws.com/production/assets/logo-9f88ae6c9c3871690e33280fcf557f33.png) Regression Challenge\n",
    "Week 6 | Days 4-5"
   ]
  },
  {
   "cell_type": "markdown",
   "metadata": {
    "slideshow": {
     "slide_type": "slide"
    }
   },
   "source": [
    "## The Times university ranking dataset analysis\n",
    "\n",
    "A university has chosen your consulting firm to help them understand and improve their standings in the Times rankings of universities.  Your company will be presentings your findings to a review board from the university Friday afternoon at 4pm.  The review board consists of members from across the university: both professors and administrators.  Your presentation must contain both a technical defense of your work and solid recommendations to move forward.\n",
    "\n",
    "In this challenge, you will draw on the skills you have learned over the past three weeks to create a model of university prestige using the provided predictors. Specifically, your goal is to **predict the total score for each university for the year 2016**. This score directly maps into the university ranking.\n",
    "\n",
    "You will be drawing on the following skills:\n",
    "- Basic python and pandas skills\n",
    "- Data cleaning\n",
    "- EDA\n",
    "- Modeling\n",
    "    - Regression\n",
    "    - Regularization\n",
    "    - kNN\n",
    "    - SGD\n",
    "- Cross validation"
   ]
  },
  {
   "cell_type": "markdown",
   "metadata": {
    "slideshow": {
     "slide_type": "slide"
    }
   },
   "source": [
    "## The Dataset\n",
    "\n",
    "The data is in a csv file in your repo. It contains the following columns:\n",
    "\n",
    "- **world_rank** - world rank for the university. Contains rank ranges and equal ranks (e.g. = 94 and 201-250).\n",
    "- **university_name** - name of university.\n",
    "- **country** - country of each university.\n",
    "- **teaching** - university score for teaching (the learning environment).\n",
    "- **international** - university score international outlook (staff, students, research).\n",
    "- **research** - university score for research (volume, income and reputation).\n",
    "- **citations** - university score for citations (research influence).\n",
    "- **income** - university score for industry income (knowledge transfer).\n",
    "- **total_score** - total score for university, used to determine rank.\n",
    "- **num_students** - number of students at the university.\n",
    "- **student_staff_ratio** - Number of students divided by number of staff.\n",
    "- **international_students** - Percentage of students who are international.\n",
    "- **female_male_ratio** - Female student to Male student ratio.\n",
    "- **year** - year of the ranking (2011 to 2016 included).\n",
    "\n",
    "### The target for our model is the **total score**, which directly corresponds to the final ranking.\n",
    "\n",
    "### Note: A total score reported as \"-\" should be considered a 0, and '-' entries in the submisison will be scored as  0. Consider the implications of this for calculating the loss (MSE).\n"
   ]
  },
  {
   "cell_type": "markdown",
   "metadata": {
    "slideshow": {
     "slide_type": "slide"
    }
   },
   "source": [
    "## Guidelines\n",
    "\n",
    "The analysis is up to you. **This is fully open-ended.** You are expected to:\n",
    "\n",
    "- Load the packages you need to do analysis\n",
    "- Perform EDA on variables of interest\n",
    "- Form a hypothesis on what is important for the score\n",
    "- Check your data for problems, clean and munge data into correct formats\n",
    "- Create or combine new columns/features where beneficial\n",
    "- Perform statistical analysis with regression and describe the results\n",
    "\n",
    "---\n",
    "\n",
    "We will be here in class to help, but if you do not know how to do something, we expect you to **check documentation first**.\n",
    "\n",
    "**You are not expected to know how to do things by heart. Knowing how to effectively look up the answers on the internet is a critical skill for data scientists!**"
   ]
  },
  {
   "cell_type": "markdown",
   "metadata": {},
   "source": [
    "## Deliverables\n",
    "\n",
    "- You will be provided with the data and targets from 2011 through 2015 and the data (no targets) for 2016.\n",
    "    + Final answers should be submitted by filling in the predicted values for each university in the **submission sheet**. (.to_csv() should be useful for this). Note there are three columns: Rank, Name, and Score. The row order matches the rankings list from the 2016 data.\n",
    "    + Your submission will be assessed on MSE for the Score column -- so consider your loss functions! <br><br>\n",
    "\n",
    "\n",
    "- Your team will also submit a clean and annotated version of the **analysis notebook** you used to make your model and produce predictions. <br><br>\n",
    "\n",
    "\n",
    "- Finally, you will design and deliver an **8 minute presentation** to the university review board. Your presentation must:\n",
    "    + Defend your model selection\n",
    "    + Defend your model performance\n",
    "    + Interpret the model\n",
    "    + Give clear guidelines to improve rankings\n",
    "\n",
    "\n",
    "- Remember your audience contains some experts who will want to understand the strength of your predictions, others who will want to know they are getting the best version possible, and still more who only want to know which actions will help their ranking the most.  Do your best to meet all these demands without alienating anyone."
   ]
  },
  {
   "cell_type": "markdown",
   "metadata": {
    "slideshow": {
     "slide_type": "slide"
    }
   },
   "source": [
    "## Teams\n",
    "\n",
    "You will be working as part of a team on this:\n",
    "\n",
    "<table>\n",
    "<tr>\n",
    "<th>Team 8d599</th>\n",
    "<th>Team 5d87e</th>\n",
    "<th>Team 41cfa</th>\n",
    "<th>Team c13cf</th>\n",
    "</tr>\n",
    "<tr>\n",
    "<td>Ryan</td>\n",
    "<td>Yuriy</td>\n",
    "<td>Ridhi</td>\n",
    "<td>Andrew</td>\n",
    "</tr>\n",
    "<tr>\n",
    "<td>Arafat</td>\n",
    "<td>Joe</td>\n",
    "<td>Alex</td>\n",
    "<td>Will</td>\n",
    "</tr>\n",
    "<tr>\n",
    "<td>Mark</td>\n",
    "<td>Eric</td>\n",
    "<td>Donna</td>\n",
    "<td>Tim</td>\n",
    "</tr>\n",
    "<tr>\n",
    "<td></td>\n",
    "<td>Scott</td>\n",
    "<td></td>\n",
    "<td>Marina</td>\n",
    "</tr>\n",
    "</table>\n",
    "\n",
    "\n",
    "As a team you are responsible for one copy of each deliverable to be submitted as an issue on this repo by **4 PM Friday**.  That is to say, one each of:\n",
    "- Submission csv\n",
    "- Analysis notebook\n",
    "- 8 min Presentation\n",
    "\n",
    "Every team member must speak in the final presentation, and be ready to answer questions on the process the group used to refine, choose, and interpret the model used to make predictions."
   ]
  },
  {
   "cell_type": "code",
   "execution_count": 336,
   "metadata": {
    "collapsed": true
   },
   "outputs": [],
   "source": [
    "import pandas as pd\n",
    "import numpy as np\n",
    "import matplotlib.pyplot as plt\n",
    "import seaborn as sns\n",
    "\n",
    "plt.style.use('fivethirtyeight')\n",
    "\n",
    "from ipywidgets import *\n",
    "from IPython.display import display\n",
    "\n",
    "from sklearn.svm import SVC\n",
    "\n",
    "%matplotlib inline\n",
    "%config InlineBackend.figure_format = 'retina'\n",
    "\n",
    "from sklearn import svm, linear_model\n",
    "from sklearn.linear_model import LogisticRegression\n",
    "# from sklearn.model_selection import  cross_val_score, cross_val_predict\n",
    "from sklearn.preprocessing import StandardScaler\n",
    "from sklearn.cross_validation import train_test_split"
   ]
  },
  {
   "cell_type": "code",
   "execution_count": 337,
   "metadata": {},
   "outputs": [],
   "source": [
    "all_data = pd.read_csv('datasets/challenge-dataset.csv', encoding='latin-1')\n",
    "data = all_data.loc[all_data['year'] !=2016,: ]"
   ]
  },
  {
   "cell_type": "code",
   "execution_count": null,
   "metadata": {},
   "outputs": [],
   "source": []
  },
  {
   "cell_type": "code",
   "execution_count": null,
   "metadata": {
    "collapsed": true
   },
   "outputs": [],
   "source": []
  },
  {
   "cell_type": "code",
   "execution_count": null,
   "metadata": {
    "collapsed": true
   },
   "outputs": [],
   "source": []
  },
  {
   "cell_type": "code",
   "execution_count": null,
   "metadata": {
    "collapsed": true
   },
   "outputs": [],
   "source": []
  },
  {
   "cell_type": "code",
   "execution_count": 338,
   "metadata": {},
   "outputs": [
    {
     "data": {
      "text/html": [
       "<div>\n",
       "<style>\n",
       "    .dataframe thead tr:only-child th {\n",
       "        text-align: right;\n",
       "    }\n",
       "\n",
       "    .dataframe thead th {\n",
       "        text-align: left;\n",
       "    }\n",
       "\n",
       "    .dataframe tbody tr th {\n",
       "        vertical-align: top;\n",
       "    }\n",
       "</style>\n",
       "<table border=\"1\" class=\"dataframe\">\n",
       "  <thead>\n",
       "    <tr style=\"text-align: right;\">\n",
       "      <th></th>\n",
       "      <th>world_rank</th>\n",
       "      <th>university_name</th>\n",
       "      <th>country</th>\n",
       "      <th>teaching</th>\n",
       "      <th>international</th>\n",
       "      <th>research</th>\n",
       "      <th>citations</th>\n",
       "      <th>income</th>\n",
       "      <th>total_score</th>\n",
       "      <th>num_students</th>\n",
       "      <th>student_staff_ratio</th>\n",
       "      <th>international_students</th>\n",
       "      <th>female_male_ratio</th>\n",
       "      <th>year</th>\n",
       "    </tr>\n",
       "  </thead>\n",
       "  <tbody>\n",
       "    <tr>\n",
       "      <th>0</th>\n",
       "      <td>1</td>\n",
       "      <td>Harvard University</td>\n",
       "      <td>United States of America</td>\n",
       "      <td>99.7</td>\n",
       "      <td>72.4</td>\n",
       "      <td>98.7</td>\n",
       "      <td>98.8</td>\n",
       "      <td>34.5</td>\n",
       "      <td>96.1</td>\n",
       "      <td>20,152</td>\n",
       "      <td>8.9</td>\n",
       "      <td>25%</td>\n",
       "      <td>NaN</td>\n",
       "      <td>2011</td>\n",
       "    </tr>\n",
       "    <tr>\n",
       "      <th>1</th>\n",
       "      <td>2</td>\n",
       "      <td>California Institute of Technology</td>\n",
       "      <td>United States of America</td>\n",
       "      <td>97.7</td>\n",
       "      <td>54.6</td>\n",
       "      <td>98.0</td>\n",
       "      <td>99.9</td>\n",
       "      <td>83.7</td>\n",
       "      <td>96</td>\n",
       "      <td>2,243</td>\n",
       "      <td>6.9</td>\n",
       "      <td>27%</td>\n",
       "      <td>33 : 67</td>\n",
       "      <td>2011</td>\n",
       "    </tr>\n",
       "    <tr>\n",
       "      <th>2</th>\n",
       "      <td>3</td>\n",
       "      <td>Massachusetts Institute of Technology</td>\n",
       "      <td>United States of America</td>\n",
       "      <td>97.8</td>\n",
       "      <td>82.3</td>\n",
       "      <td>91.4</td>\n",
       "      <td>99.9</td>\n",
       "      <td>87.5</td>\n",
       "      <td>95.6</td>\n",
       "      <td>11,074</td>\n",
       "      <td>9.0</td>\n",
       "      <td>33%</td>\n",
       "      <td>37 : 63</td>\n",
       "      <td>2011</td>\n",
       "    </tr>\n",
       "    <tr>\n",
       "      <th>3</th>\n",
       "      <td>4</td>\n",
       "      <td>Stanford University</td>\n",
       "      <td>United States of America</td>\n",
       "      <td>98.3</td>\n",
       "      <td>29.5</td>\n",
       "      <td>98.1</td>\n",
       "      <td>99.2</td>\n",
       "      <td>64.3</td>\n",
       "      <td>94.3</td>\n",
       "      <td>15,596</td>\n",
       "      <td>7.8</td>\n",
       "      <td>22%</td>\n",
       "      <td>42:58:00</td>\n",
       "      <td>2011</td>\n",
       "    </tr>\n",
       "    <tr>\n",
       "      <th>4</th>\n",
       "      <td>5</td>\n",
       "      <td>Princeton University</td>\n",
       "      <td>United States of America</td>\n",
       "      <td>90.9</td>\n",
       "      <td>70.3</td>\n",
       "      <td>95.4</td>\n",
       "      <td>99.9</td>\n",
       "      <td>-</td>\n",
       "      <td>94.2</td>\n",
       "      <td>7,929</td>\n",
       "      <td>8.4</td>\n",
       "      <td>27%</td>\n",
       "      <td>45:55:00</td>\n",
       "      <td>2011</td>\n",
       "    </tr>\n",
       "  </tbody>\n",
       "</table>\n",
       "</div>"
      ],
      "text/plain": [
       "  world_rank                        university_name                   country  \\\n",
       "0          1                     Harvard University  United States of America   \n",
       "1          2     California Institute of Technology  United States of America   \n",
       "2          3  Massachusetts Institute of Technology  United States of America   \n",
       "3          4                    Stanford University  United States of America   \n",
       "4          5                   Princeton University  United States of America   \n",
       "\n",
       "   teaching international  research  citations income total_score  \\\n",
       "0      99.7          72.4      98.7       98.8   34.5        96.1   \n",
       "1      97.7          54.6      98.0       99.9   83.7          96   \n",
       "2      97.8          82.3      91.4       99.9   87.5        95.6   \n",
       "3      98.3          29.5      98.1       99.2   64.3        94.3   \n",
       "4      90.9          70.3      95.4       99.9      -        94.2   \n",
       "\n",
       "  num_students  student_staff_ratio international_students female_male_ratio  \\\n",
       "0       20,152                  8.9                    25%               NaN   \n",
       "1        2,243                  6.9                    27%           33 : 67   \n",
       "2       11,074                  9.0                    33%           37 : 63   \n",
       "3       15,596                  7.8                    22%          42:58:00   \n",
       "4        7,929                  8.4                    27%          45:55:00   \n",
       "\n",
       "   year  \n",
       "0  2011  \n",
       "1  2011  \n",
       "2  2011  \n",
       "3  2011  \n",
       "4  2011  "
      ]
     },
     "execution_count": 338,
     "metadata": {},
     "output_type": "execute_result"
    }
   ],
   "source": [
    "data.head()"
   ]
  },
  {
   "cell_type": "code",
   "execution_count": 339,
   "metadata": {},
   "outputs": [
    {
     "data": {
      "text/html": [
       "<div>\n",
       "<style>\n",
       "    .dataframe thead tr:only-child th {\n",
       "        text-align: right;\n",
       "    }\n",
       "\n",
       "    .dataframe thead th {\n",
       "        text-align: left;\n",
       "    }\n",
       "\n",
       "    .dataframe tbody tr th {\n",
       "        vertical-align: top;\n",
       "    }\n",
       "</style>\n",
       "<table border=\"1\" class=\"dataframe\">\n",
       "  <thead>\n",
       "    <tr style=\"text-align: right;\">\n",
       "      <th></th>\n",
       "      <th>teaching</th>\n",
       "      <th>research</th>\n",
       "      <th>citations</th>\n",
       "      <th>student_staff_ratio</th>\n",
       "      <th>year</th>\n",
       "    </tr>\n",
       "  </thead>\n",
       "  <tbody>\n",
       "    <tr>\n",
       "      <th>count</th>\n",
       "      <td>1803.000000</td>\n",
       "      <td>1803.000000</td>\n",
       "      <td>1803.000000</td>\n",
       "      <td>1751.000000</td>\n",
       "      <td>1803.000000</td>\n",
       "    </tr>\n",
       "    <tr>\n",
       "      <th>mean</th>\n",
       "      <td>40.560233</td>\n",
       "      <td>39.363006</td>\n",
       "      <td>65.186467</td>\n",
       "      <td>18.141348</td>\n",
       "      <td>2013.221852</td>\n",
       "    </tr>\n",
       "    <tr>\n",
       "      <th>std</th>\n",
       "      <td>17.976259</td>\n",
       "      <td>21.079805</td>\n",
       "      <td>19.626047</td>\n",
       "      <td>10.933447</td>\n",
       "      <td>1.315252</td>\n",
       "    </tr>\n",
       "    <tr>\n",
       "      <th>min</th>\n",
       "      <td>10.700000</td>\n",
       "      <td>6.500000</td>\n",
       "      <td>3.100000</td>\n",
       "      <td>2.600000</td>\n",
       "      <td>2011.000000</td>\n",
       "    </tr>\n",
       "    <tr>\n",
       "      <th>25%</th>\n",
       "      <td>27.300000</td>\n",
       "      <td>22.900000</td>\n",
       "      <td>51.150000</td>\n",
       "      <td>11.800000</td>\n",
       "      <td>2012.000000</td>\n",
       "    </tr>\n",
       "    <tr>\n",
       "      <th>50%</th>\n",
       "      <td>37.000000</td>\n",
       "      <td>34.600000</td>\n",
       "      <td>65.000000</td>\n",
       "      <td>15.900000</td>\n",
       "      <td>2013.000000</td>\n",
       "    </tr>\n",
       "    <tr>\n",
       "      <th>75%</th>\n",
       "      <td>49.750000</td>\n",
       "      <td>50.600000</td>\n",
       "      <td>80.400000</td>\n",
       "      <td>20.700000</td>\n",
       "      <td>2014.000000</td>\n",
       "    </tr>\n",
       "    <tr>\n",
       "      <th>max</th>\n",
       "      <td>99.700000</td>\n",
       "      <td>99.400000</td>\n",
       "      <td>100.000000</td>\n",
       "      <td>72.500000</td>\n",
       "      <td>2015.000000</td>\n",
       "    </tr>\n",
       "  </tbody>\n",
       "</table>\n",
       "</div>"
      ],
      "text/plain": [
       "          teaching     research    citations  student_staff_ratio         year\n",
       "count  1803.000000  1803.000000  1803.000000          1751.000000  1803.000000\n",
       "mean     40.560233    39.363006    65.186467            18.141348  2013.221852\n",
       "std      17.976259    21.079805    19.626047            10.933447     1.315252\n",
       "min      10.700000     6.500000     3.100000             2.600000  2011.000000\n",
       "25%      27.300000    22.900000    51.150000            11.800000  2012.000000\n",
       "50%      37.000000    34.600000    65.000000            15.900000  2013.000000\n",
       "75%      49.750000    50.600000    80.400000            20.700000  2014.000000\n",
       "max      99.700000    99.400000   100.000000            72.500000  2015.000000"
      ]
     },
     "execution_count": 339,
     "metadata": {},
     "output_type": "execute_result"
    }
   ],
   "source": [
    "data.describe()"
   ]
  },
  {
   "cell_type": "code",
   "execution_count": 340,
   "metadata": {},
   "outputs": [
    {
     "name": "stdout",
     "output_type": "stream",
     "text": [
      "Index(['num_students', 'student_staff_ratio', 'international_students',\n",
      "       'female_male_ratio'],\n",
      "      dtype='object')\n"
     ]
    }
   ],
   "source": [
    "'''Null Columns'''\n",
    "print (data.columns[data.isnull().sum()>0])"
   ]
  },
  {
   "cell_type": "code",
   "execution_count": 341,
   "metadata": {},
   "outputs": [
    {
     "data": {
      "text/plain": [
       "world_rank                  0\n",
       "university_name             0\n",
       "country                     0\n",
       "teaching                    0\n",
       "international               0\n",
       "research                    0\n",
       "citations                   0\n",
       "income                      0\n",
       "total_score                 0\n",
       "num_students               52\n",
       "student_staff_ratio        52\n",
       "international_students     57\n",
       "female_male_ratio         172\n",
       "year                        0\n",
       "dtype: int64"
      ]
     },
     "execution_count": 341,
     "metadata": {},
     "output_type": "execute_result"
    }
   ],
   "source": [
    "data.isnull().sum()"
   ]
  },
  {
   "cell_type": "code",
   "execution_count": 342,
   "metadata": {},
   "outputs": [
    {
     "name": "stdout",
     "output_type": "stream",
     "text": [
      "<class 'pandas.core.frame.DataFrame'>\n",
      "Int64Index: 1803 entries, 0 to 1802\n",
      "Data columns (total 14 columns):\n",
      "world_rank                1803 non-null object\n",
      "university_name           1803 non-null object\n",
      "country                   1803 non-null object\n",
      "teaching                  1803 non-null float64\n",
      "international             1803 non-null object\n",
      "research                  1803 non-null float64\n",
      "citations                 1803 non-null float64\n",
      "income                    1803 non-null object\n",
      "total_score               1803 non-null object\n",
      "num_students              1751 non-null object\n",
      "student_staff_ratio       1751 non-null float64\n",
      "international_students    1746 non-null object\n",
      "female_male_ratio         1631 non-null object\n",
      "year                      1803 non-null int64\n",
      "dtypes: float64(4), int64(1), object(9)\n",
      "memory usage: 211.3+ KB\n"
     ]
    }
   ],
   "source": [
    "data.info()"
   ]
  },
  {
   "cell_type": "code",
   "execution_count": 343,
   "metadata": {},
   "outputs": [
    {
     "data": {
      "text/plain": [
       "9"
      ]
     },
     "execution_count": 343,
     "metadata": {},
     "output_type": "execute_result"
    }
   ],
   "source": [
    "'''Checking for Hyphens in the International Columns'''\n",
    "np.sum([data['international'] == '-'])"
   ]
  },
  {
   "cell_type": "code",
   "execution_count": 344,
   "metadata": {},
   "outputs": [
    {
     "name": "stderr",
     "output_type": "stream",
     "text": [
      "/Users/ajinthchristudas/anaconda/lib/python3.6/site-packages/ipykernel_launcher.py:2: SettingWithCopyWarning: \n",
      "A value is trying to be set on a copy of a slice from a DataFrame.\n",
      "Try using .loc[row_indexer,col_indexer] = value instead\n",
      "\n",
      "See the caveats in the documentation: http://pandas.pydata.org/pandas-docs/stable/indexing.html#indexing-view-versus-copy\n",
      "  \n"
     ]
    }
   ],
   "source": [
    "'''Replacing the Hyphens with the NAN to impute later'''\n",
    "data['international'] = data.international.replace('-', np.nan)"
   ]
  },
  {
   "cell_type": "code",
   "execution_count": 345,
   "metadata": {},
   "outputs": [
    {
     "name": "stderr",
     "output_type": "stream",
     "text": [
      "/Users/ajinthchristudas/anaconda/lib/python3.6/site-packages/ipykernel_launcher.py:1: SettingWithCopyWarning: \n",
      "A value is trying to be set on a copy of a slice from a DataFrame.\n",
      "Try using .loc[row_indexer,col_indexer] = value instead\n",
      "\n",
      "See the caveats in the documentation: http://pandas.pydata.org/pandas-docs/stable/indexing.html#indexing-view-versus-copy\n",
      "  \"\"\"Entry point for launching an IPython kernel.\n",
      "/Users/ajinthchristudas/anaconda/lib/python3.6/site-packages/ipykernel_launcher.py:11: SettingWithCopyWarning: \n",
      "A value is trying to be set on a copy of a slice from a DataFrame.\n",
      "Try using .loc[row_indexer,col_indexer] = value instead\n",
      "\n",
      "See the caveats in the documentation: http://pandas.pydata.org/pandas-docs/stable/indexing.html#indexing-view-versus-copy\n",
      "  # This is added back by InteractiveShellApp.init_path()\n"
     ]
    }
   ],
   "source": [
    "data['international'] = data.international.replace('-', np.nan)\n",
    "\n",
    "from sklearn.preprocessing import Imputer\n",
    "\n",
    "international_imputer = Imputer(strategy='median')\n",
    "international_imputer_fit = international_imputer.fit(data['international'].values.reshape(-1, 1))\n",
    "\n",
    "international_imputer_transform = international_imputer_fit.transform(\n",
    "    data['international'].values.reshape(-1, 1))\n",
    "\n",
    "data['international'] = international_imputer_transform"
   ]
  },
  {
   "cell_type": "code",
   "execution_count": 346,
   "metadata": {},
   "outputs": [
    {
     "name": "stdout",
     "output_type": "stream",
     "text": [
      "<class 'pandas.core.frame.DataFrame'>\n",
      "Int64Index: 1803 entries, 0 to 1802\n",
      "Data columns (total 14 columns):\n",
      "world_rank                1803 non-null object\n",
      "university_name           1803 non-null object\n",
      "country                   1803 non-null object\n",
      "teaching                  1803 non-null float64\n",
      "international             1803 non-null float64\n",
      "research                  1803 non-null float64\n",
      "citations                 1803 non-null float64\n",
      "income                    1803 non-null object\n",
      "total_score               1803 non-null object\n",
      "num_students              1751 non-null object\n",
      "student_staff_ratio       1751 non-null float64\n",
      "international_students    1746 non-null object\n",
      "female_male_ratio         1631 non-null object\n",
      "year                      1803 non-null int64\n",
      "dtypes: float64(5), int64(1), object(8)\n",
      "memory usage: 211.3+ KB\n"
     ]
    }
   ],
   "source": [
    "data.info()"
   ]
  },
  {
   "cell_type": "code",
   "execution_count": 347,
   "metadata": {},
   "outputs": [
    {
     "data": {
      "text/plain": [
       "802"
      ]
     },
     "execution_count": 347,
     "metadata": {},
     "output_type": "execute_result"
    }
   ],
   "source": [
    "'''Count of Hyphens in the Total_Score Column'''\n",
    "np.sum([data['total_score'] == '-'])"
   ]
  },
  {
   "cell_type": "code",
   "execution_count": 348,
   "metadata": {},
   "outputs": [
    {
     "data": {
      "text/plain": [
       "'Replacing the Hyphens with the NAN to impute later'"
      ]
     },
     "execution_count": 348,
     "metadata": {},
     "output_type": "execute_result"
    }
   ],
   "source": [
    "'''Replacing the Hyphens with the NAN to impute later'''\n",
    "# data['total_score'] = data.total_score.replace('-', np.nan)"
   ]
  },
  {
   "cell_type": "code",
   "execution_count": 349,
   "metadata": {
    "collapsed": true
   },
   "outputs": [],
   "source": [
    "# data['total_score'] = data.total_score.replace('-', np.nan)\n",
    "\n",
    "# from sklearn.preprocessing import Imputer\n",
    "\n",
    "# total_score_imputer = Imputer(strategy='median')\n",
    "# total_score_imputer_fit = total_score_imputer_fit.fit(data['total_score'].values.reshape(-1, 1))\n",
    "\n",
    "# total_score_imputer_transform = total_score_imputer_fit.transform(\n",
    "#     data['total_score'].values.reshape(-1, 1))\n",
    "\n",
    "# data['total_score'] = total_score_imputer_transform"
   ]
  },
  {
   "cell_type": "code",
   "execution_count": null,
   "metadata": {},
   "outputs": [],
   "source": []
  },
  {
   "cell_type": "code",
   "execution_count": 350,
   "metadata": {},
   "outputs": [
    {
     "name": "stderr",
     "output_type": "stream",
     "text": [
      "/Users/ajinthchristudas/anaconda/lib/python3.6/site-packages/ipykernel_launcher.py:8: SettingWithCopyWarning: \n",
      "A value is trying to be set on a copy of a slice from a DataFrame.\n",
      "Try using .loc[row_indexer,col_indexer] = value instead\n",
      "\n",
      "See the caveats in the documentation: http://pandas.pydata.org/pandas-docs/stable/indexing.html#indexing-view-versus-copy\n",
      "  \n",
      "/Users/ajinthchristudas/anaconda/lib/python3.6/site-packages/ipykernel_launcher.py:16: SettingWithCopyWarning: \n",
      "A value is trying to be set on a copy of a slice from a DataFrame.\n",
      "Try using .loc[row_indexer,col_indexer] = value instead\n",
      "\n",
      "See the caveats in the documentation: http://pandas.pydata.org/pandas-docs/stable/indexing.html#indexing-view-versus-copy\n",
      "  app.launch_new_instance()\n"
     ]
    }
   ],
   "source": [
    "'''Income Imputer '''\n",
    "for k, v in data['income'].items():\n",
    "    if v == '-':\n",
    "        data.set_value(k, 'income', np.nan)\n",
    "    else:\n",
    "        data.set_value(k, 'income', v)\n",
    "        \n",
    "data['income'] = data['income'].astype(float)        \n",
    "        \n",
    "income_imputer = Imputer(strategy='median')\n",
    "income_imputer_fit = income_imputer.fit(data['income'].values.reshape(-1, 1))\n",
    "\n",
    "income_imputer_transform = income_imputer_fit.transform(\n",
    "    data['international'].values.reshape(-1, 1))\n",
    "\n",
    "data['income'] = income_imputer_transform"
   ]
  },
  {
   "cell_type": "code",
   "execution_count": 351,
   "metadata": {},
   "outputs": [
    {
     "name": "stderr",
     "output_type": "stream",
     "text": [
      "/Users/ajinthchristudas/anaconda/lib/python3.6/site-packages/ipykernel_launcher.py:8: SettingWithCopyWarning: \n",
      "A value is trying to be set on a copy of a slice from a DataFrame.\n",
      "Try using .loc[row_indexer,col_indexer] = value instead\n",
      "\n",
      "See the caveats in the documentation: http://pandas.pydata.org/pandas-docs/stable/indexing.html#indexing-view-versus-copy\n",
      "  \n"
     ]
    }
   ],
   "source": [
    "'''Country'''\n",
    "for k, v in data['country'].items():\n",
    "    if v == 'United States of America':\n",
    "        data.set_value(k, 'country', 1)\n",
    "    else:\n",
    "        data.set_value(k, 'country', 0)\n",
    "\n",
    "data['country'] = data['country'].astype(float)"
   ]
  },
  {
   "cell_type": "code",
   "execution_count": 352,
   "metadata": {},
   "outputs": [
    {
     "name": "stderr",
     "output_type": "stream",
     "text": [
      "/Users/ajinthchristudas/anaconda/lib/python3.6/site-packages/ipykernel_launcher.py:2: SettingWithCopyWarning: \n",
      "A value is trying to be set on a copy of a slice from a DataFrame.\n",
      "Try using .loc[row_indexer,col_indexer] = value instead\n",
      "\n",
      "See the caveats in the documentation: http://pandas.pydata.org/pandas-docs/stable/indexing.html#indexing-view-versus-copy\n",
      "  \n"
     ]
    }
   ],
   "source": [
    "'''Num Students'''\n",
    "data['num_students'] = data['num_students'].str.replace(',', '').astype(float)"
   ]
  },
  {
   "cell_type": "code",
   "execution_count": 353,
   "metadata": {},
   "outputs": [
    {
     "name": "stderr",
     "output_type": "stream",
     "text": [
      "/Users/ajinthchristudas/anaconda/lib/python3.6/site-packages/ipykernel_launcher.py:1: SettingWithCopyWarning: \n",
      "A value is trying to be set on a copy of a slice from a DataFrame.\n",
      "Try using .loc[row_indexer,col_indexer] = value instead\n",
      "\n",
      "See the caveats in the documentation: http://pandas.pydata.org/pandas-docs/stable/indexing.html#indexing-view-versus-copy\n",
      "  \"\"\"Entry point for launching an IPython kernel.\n",
      "/Users/ajinthchristudas/anaconda/lib/python3.6/site-packages/ipykernel_launcher.py:2: SettingWithCopyWarning: \n",
      "A value is trying to be set on a copy of a slice from a DataFrame.\n",
      "Try using .loc[row_indexer,col_indexer] = value instead\n",
      "\n",
      "See the caveats in the documentation: http://pandas.pydata.org/pandas-docs/stable/indexing.html#indexing-view-versus-copy\n",
      "  \n"
     ]
    }
   ],
   "source": [
    "data['international_students']=[str(pct).split('%')[0] for pct in data['international_students']]\n",
    "data['international_students']=[float(pct) for pct in data['international_students']]"
   ]
  },
  {
   "cell_type": "code",
   "execution_count": 354,
   "metadata": {},
   "outputs": [
    {
     "name": "stderr",
     "output_type": "stream",
     "text": [
      "/Users/ajinthchristudas/anaconda/lib/python3.6/site-packages/ipykernel_launcher.py:3: SettingWithCopyWarning: \n",
      "A value is trying to be set on a copy of a slice from a DataFrame.\n",
      "Try using .loc[row_indexer,col_indexer] = value instead\n",
      "\n",
      "See the caveats in the documentation: http://pandas.pydata.org/pandas-docs/stable/indexing.html#indexing-view-versus-copy\n",
      "  This is separate from the ipykernel package so we can avoid doing imports until\n",
      "/Users/ajinthchristudas/anaconda/lib/python3.6/site-packages/ipykernel_launcher.py:4: SettingWithCopyWarning: \n",
      "A value is trying to be set on a copy of a slice from a DataFrame.\n",
      "Try using .loc[row_indexer,col_indexer] = value instead\n",
      "\n",
      "See the caveats in the documentation: http://pandas.pydata.org/pandas-docs/stable/indexing.html#indexing-view-versus-copy\n",
      "  after removing the cwd from sys.path.\n",
      "/Users/ajinthchristudas/anaconda/lib/python3.6/site-packages/ipykernel_launcher.py:6: SettingWithCopyWarning: \n",
      "A value is trying to be set on a copy of a slice from a DataFrame.\n",
      "Try using .loc[row_indexer,col_indexer] = value instead\n",
      "\n",
      "See the caveats in the documentation: http://pandas.pydata.org/pandas-docs/stable/indexing.html#indexing-view-versus-copy\n",
      "  \n",
      "/Users/ajinthchristudas/anaconda/lib/python3.6/site-packages/ipykernel_launcher.py:15: SettingWithCopyWarning: \n",
      "A value is trying to be set on a copy of a slice from a DataFrame.\n",
      "Try using .loc[row_indexer,col_indexer] = value instead\n",
      "\n",
      "See the caveats in the documentation: http://pandas.pydata.org/pandas-docs/stable/indexing.html#indexing-view-versus-copy\n",
      "  from ipykernel import kernelapp as app\n"
     ]
    }
   ],
   "source": [
    "'''International Students Imputer'''\n",
    "\n",
    "data['international_students']=[str(pct).split('%')[0] for pct in data['international_students']]\n",
    "data['international_students']=[float(pct) for pct in data['international_students']]\n",
    "\n",
    "data['international_students'] = data.international_students.replace('-', np.nan)\n",
    "from sklearn.preprocessing import Imputer\n",
    "\n",
    "international_s_imputer = Imputer(strategy='median')\n",
    "international_s_imputer_fit = international_s_imputer.fit(data['international_students'].values.reshape(-1, 1))\n",
    "\n",
    "international_s_imputer_transform = international_s_imputer_fit.transform(\n",
    "    data['international_students'].values.reshape(-1, 1))\n",
    "\n",
    "data['international_students'] = international_s_imputer_transform"
   ]
  },
  {
   "cell_type": "code",
   "execution_count": 355,
   "metadata": {},
   "outputs": [],
   "source": [
    "# '''Fixing total Score'''\n",
    "# def change_hyphen(x): \n",
    "#     if x == '-': \n",
    "#         return float(0)\n",
    "#     else: \n",
    "#         return float(x)\n",
    "    \n",
    "# data['total_score'] = data['total_score'].apply(change_hyphen)"
   ]
  },
  {
   "cell_type": "code",
   "execution_count": 356,
   "metadata": {},
   "outputs": [
    {
     "name": "stderr",
     "output_type": "stream",
     "text": [
      "/Users/ajinthchristudas/anaconda/lib/python3.6/site-packages/ipykernel_launcher.py:1: SettingWithCopyWarning: \n",
      "A value is trying to be set on a copy of a slice from a DataFrame.\n",
      "Try using .loc[row_indexer,col_indexer] = value instead\n",
      "\n",
      "See the caveats in the documentation: http://pandas.pydata.org/pandas-docs/stable/indexing.html#indexing-view-versus-copy\n",
      "  \"\"\"Entry point for launching an IPython kernel.\n"
     ]
    }
   ],
   "source": [
    "# data['total_score'] = data['total_score'].str.replace('-', '0').astype(float)"
   ]
  },
  {
   "cell_type": "code",
   "execution_count": 335,
   "metadata": {},
   "outputs": [
    {
     "name": "stdout",
     "output_type": "stream",
     "text": [
      "<class 'pandas.core.frame.DataFrame'>\n",
      "Int64Index: 1803 entries, 0 to 1802\n",
      "Data columns (total 14 columns):\n",
      "world_rank                1803 non-null object\n",
      "university_name           1803 non-null object\n",
      "country                   1803 non-null object\n",
      "teaching                  1803 non-null float64\n",
      "international             1803 non-null object\n",
      "research                  1803 non-null float64\n",
      "citations                 1803 non-null float64\n",
      "income                    1803 non-null object\n",
      "total_score               1803 non-null object\n",
      "num_students              1751 non-null object\n",
      "student_staff_ratio       1751 non-null float64\n",
      "international_students    1746 non-null object\n",
      "female_male_ratio         1631 non-null object\n",
      "year                      1803 non-null int64\n",
      "dtypes: float64(4), int64(1), object(9)\n",
      "memory usage: 211.3+ KB\n"
     ]
    }
   ],
   "source": [
    "data.info()"
   ]
  },
  {
   "cell_type": "code",
   "execution_count": null,
   "metadata": {
    "collapsed": true
   },
   "outputs": [],
   "source": []
  }
 ],
 "metadata": {
  "anaconda-cloud": {},
  "celltoolbar": "Slideshow",
  "kernelspec": {
   "display_name": "Python 3",
   "language": "python",
   "name": "python3"
  },
  "language_info": {
   "codemirror_mode": {
    "name": "ipython",
    "version": 3
   },
   "file_extension": ".py",
   "mimetype": "text/x-python",
   "name": "python",
   "nbconvert_exporter": "python",
   "pygments_lexer": "ipython3",
   "version": "3.6.1"
  }
 },
 "nbformat": 4,
 "nbformat_minor": 1
}
