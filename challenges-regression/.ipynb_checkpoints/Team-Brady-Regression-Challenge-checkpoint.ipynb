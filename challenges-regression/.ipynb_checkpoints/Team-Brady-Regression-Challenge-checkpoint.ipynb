{
 "cells": [
  {
   "cell_type": "markdown",
   "metadata": {
    "slideshow": {
     "slide_type": "slide"
    }
   },
   "source": [
    "# ![](https://ga-dash.s3.amazonaws.com/production/assets/logo-9f88ae6c9c3871690e33280fcf557f33.png) Regression Challenge\n",
    "Week 6 | Days 4-5"
   ]
  },
  {
   "cell_type": "markdown",
   "metadata": {
    "slideshow": {
     "slide_type": "slide"
    }
   },
   "source": [
    "## The Times university ranking dataset analysis\n",
    "\n",
    "A university has chosen your consulting firm to help them understand and improve their standings in the Times rankings of universities.  Your company will be presentings your findings to a review board from the university Friday afternoon at 4pm.  The review board consists of members from across the university: both professors and administrators.  Your presentation must contain both a technical defense of your work and solid recommendations to move forward.\n",
    "\n",
    "In this challenge, you will draw on the skills you have learned over the past three weeks to create a model of university prestige using the provided predictors. Specifically, your goal is to **predict the total score for each university for the year 2016**. This score directly maps into the university ranking.\n",
    "\n",
    "You will be drawing on the following skills:\n",
    "- Basic python and pandas skills\n",
    "- Data cleaning\n",
    "- EDA\n",
    "- Modeling\n",
    "    - Regression\n",
    "    - Regularization\n",
    "    - kNN\n",
    "    - SGD\n",
    "- Cross validation"
   ]
  },
  {
   "cell_type": "markdown",
   "metadata": {
    "slideshow": {
     "slide_type": "slide"
    }
   },
   "source": [
    "## The Dataset\n",
    "\n",
    "The data is in a csv file in your repo. It contains the following columns:\n",
    "\n",
    "- **world_rank** - world rank for the university. Contains rank ranges and equal ranks (e.g. = 94 and 201-250).\n",
    "- **university_name** - name of university.\n",
    "- **country** - country of each university.\n",
    "- **teaching** - university score for teaching (the learning environment).\n",
    "- **international** - university score international outlook (staff, students, research).\n",
    "- **research** - university score for research (volume, income and reputation).\n",
    "- **citations** - university score for citations (research influence).\n",
    "- **income** - university score for industry income (knowledge transfer).\n",
    "- **total_score** - total score for university, used to determine rank.\n",
    "- **num_students** - number of students at the university.\n",
    "- **student_staff_ratio** - Number of students divided by number of staff.\n",
    "- **international_students** - Percentage of students who are international.\n",
    "- **female_male_ratio** - Female student to Male student ratio.\n",
    "- **year** - year of the ranking (2011 to 2016 included).\n",
    "\n",
    "### The target for our model is the **total score**, which directly corresponds to the final ranking.\n",
    "\n",
    "### Note: A total score reported as \"-\" should be considered a 0, and '-' entries in the submisison will be scored as  0. Consider the implications of this for calculating the loss (MSE).\n"
   ]
  },
  {
   "cell_type": "markdown",
   "metadata": {
    "slideshow": {
     "slide_type": "slide"
    }
   },
   "source": [
    "## Guidelines\n",
    "\n",
    "The analysis is up to you. **This is fully open-ended.** You are expected to:\n",
    "\n",
    "- Load the packages you need to do analysis\n",
    "- Perform EDA on variables of interest\n",
    "- Form a hypothesis on what is important for the score\n",
    "- Check your data for problems, clean and munge data into correct formats\n",
    "- Create or combine new columns/features where beneficial\n",
    "- Perform statistical analysis with regression and describe the results\n",
    "\n",
    "---\n",
    "\n",
    "We will be here in class to help, but if you do not know how to do something, we expect you to **check documentation first**.\n",
    "\n",
    "**You are not expected to know how to do things by heart. Knowing how to effectively look up the answers on the internet is a critical skill for data scientists!**"
   ]
  },
  {
   "cell_type": "markdown",
   "metadata": {},
   "source": [
    "## Deliverables\n",
    "\n",
    "- You will be provided with the data and targets from 2011 through 2015 and the data (no targets) for 2016.\n",
    "    + Final answers should be submitted by filling in the predicted values for each university in the **submission sheet**. (.to_csv() should be useful for this). Note there are three columns: Rank, Name, and Score. The row order matches the rankings list from the 2016 data.\n",
    "    + Your submission will be assessed on MSE for the Score column -- so consider your loss functions! <br><br>\n",
    "\n",
    "\n",
    "- Your team will also submit a clean and annotated version of the **analysis notebook** you used to make your model and produce predictions. <br><br>\n",
    "\n",
    "\n",
    "- Finally, you will design and deliver an **8 minute presentation** to the university review board. Your presentation must:\n",
    "    + Defend your model selection\n",
    "    + Defend your model performance\n",
    "    + Interpret the model\n",
    "    + Give clear guidelines to improve rankings\n",
    "\n",
    "\n",
    "- Remember your audience contains some experts who will want to understand the strength of your predictions, others who will want to know they are getting the best version possible, and still more who only want to know which actions will help their ranking the most.  Do your best to meet all these demands without alienating anyone."
   ]
  },
  {
   "cell_type": "markdown",
   "metadata": {
    "slideshow": {
     "slide_type": "slide"
    }
   },
   "source": [
    "## Teams\n",
    "\n",
    "You will be working as part of a team on this:\n",
    "\n",
    "<table>\n",
    "<tr>\n",
    "<th>Team 8d599</th>\n",
    "<th>Team 5d87e</th>\n",
    "<th>Team 41cfa</th>\n",
    "<th>Team c13cf</th>\n",
    "</tr>\n",
    "<tr>\n",
    "<td>Ryan</td>\n",
    "<td>Yuriy</td>\n",
    "<td>Ridhi</td>\n",
    "<td>Andrew</td>\n",
    "</tr>\n",
    "<tr>\n",
    "<td>Arafat</td>\n",
    "<td>Joe</td>\n",
    "<td>Alex</td>\n",
    "<td>Will</td>\n",
    "</tr>\n",
    "<tr>\n",
    "<td>Mark</td>\n",
    "<td>Eric</td>\n",
    "<td>Donna</td>\n",
    "<td>Tim</td>\n",
    "</tr>\n",
    "<tr>\n",
    "<td></td>\n",
    "<td>Scott</td>\n",
    "<td></td>\n",
    "<td>Marina</td>\n",
    "</tr>\n",
    "</table>\n",
    "\n",
    "\n",
    "As a team you are responsible for one copy of each deliverable to be submitted as an issue on this repo by **4 PM Friday**.  That is to say, one each of:\n",
    "- Submission csv\n",
    "- Analysis notebook\n",
    "- 8 min Presentation\n",
    "\n",
    "Every team member must speak in the final presentation, and be ready to answer questions on the process the group used to refine, choose, and interpret the model used to make predictions."
   ]
  },
  {
   "cell_type": "code",
   "execution_count": 160,
   "metadata": {},
   "outputs": [],
   "source": [
    "import pandas as pd\n",
    "import numpy as np\n",
    "import matplotlib.pyplot as plt\n",
    "import seaborn as sns\n",
    "\n",
    "plt.style.use('fivethirtyeight')\n",
    "\n",
    "from ipywidgets import *\n",
    "from IPython.display import display\n",
    "\n",
    "from sklearn.svm import SVC\n",
    "\n",
    "%matplotlib inline\n",
    "%config InlineBackend.figure_format = 'retina'\n",
    "\n",
    "from sklearn import svm, linear_model\n",
    "from sklearn.linear_model import LogisticRegression\n",
    "# from sklearn.model_selection import  cross_val_score, cross_val_predict\n",
    "from sklearn.preprocessing import StandardScaler\n",
    "from sklearn.cross_validation import train_test_split\n",
    "\n",
    "\n",
    "from sklearn.linear_model import Lasso, LinearRegression, LogisticRegression, ElasticNet\n",
    "from sklearn.neighbors import KNeighborsClassifier\n",
    "from sklearn.preprocessing import StandardScaler\n",
    "from sklearn.model_selection import cross_val_score, GridSearchCV, train_test_split\n",
    "from sklearn.feature_selection import RFE, SelectKBest, f_classif, f_regression"
   ]
  },
  {
   "cell_type": "code",
   "execution_count": 3,
   "metadata": {},
   "outputs": [
    {
     "name": "stderr",
     "output_type": "stream",
     "text": [
      "/Users/ajinthchristudas/anaconda/lib/python3.6/site-packages/ipykernel_launcher.py:23: SettingWithCopyWarning: \n",
      "A value is trying to be set on a copy of a slice from a DataFrame\n",
      "\n",
      "See the caveats in the documentation: http://pandas.pydata.org/pandas-docs/stable/indexing.html#indexing-view-versus-copy\n"
     ]
    },
    {
     "name": "stdout",
     "output_type": "stream",
     "text": [
      "1760 100:00:00\n",
      "2227 100:00:00\n",
      "2322 -\n",
      "2343 -\n",
      "2405 -\n"
     ]
    }
   ],
   "source": [
    "'''Manipulating All Data'''\n",
    "\n",
    "all_data = pd.read_csv('datasets/challenge-dataset.csv', encoding='latin-1')\n",
    "\n",
    "for k, v in all_data['country'].items():\n",
    "    if v == 'United States of America':\n",
    "        all_data.set_value(k, 'country', 1)\n",
    "    else:\n",
    "        all_data.set_value(k, 'country', 0)\n",
    "\n",
    "all_data['num_students'] = all_data['num_students'].str.replace(',', '').astype(float)\n",
    "\n",
    "all_data['international_students']=[str(pct).split('%')[0] for pct in all_data['international_students']]\n",
    "all_data['international_students']=[float(pct) for pct in all_data['international_students']]\n",
    "\n",
    "all_data['country'] = all_data['country'].astype(float)\n",
    "\n",
    "for i in range(len(all_data['female_male_ratio'])):\n",
    "    data_pt = all_data['female_male_ratio'][i]\n",
    "    try:\n",
    "        if type(data_pt)==type('str') and data_pt[1] != '.':\n",
    "            split_array = data_pt.split(':')\n",
    "            all_data['female_male_ratio'][i] = float(split_array[0])/float(split_array[1])\n",
    "    except:\n",
    "        print(i, data_pt)\n",
    "\n",
    "all_data.drop([1760,2227,2322,2343,2405], inplace=True)\n",
    "\n",
    "all_data['female_male_ratio'] = all_data['female_male_ratio'].astype(float)"
   ]
  },
  {
   "cell_type": "code",
   "execution_count": 85,
   "metadata": {
    "collapsed": true
   },
   "outputs": [],
   "source": [
    "data = all_data.loc[all_data['year'] !=2016,: ].copy()"
   ]
  },
  {
   "cell_type": "code",
   "execution_count": 86,
   "metadata": {},
   "outputs": [
    {
     "data": {
      "text/html": [
       "<div>\n",
       "<style>\n",
       "    .dataframe thead tr:only-child th {\n",
       "        text-align: right;\n",
       "    }\n",
       "\n",
       "    .dataframe thead th {\n",
       "        text-align: left;\n",
       "    }\n",
       "\n",
       "    .dataframe tbody tr th {\n",
       "        vertical-align: top;\n",
       "    }\n",
       "</style>\n",
       "<table border=\"1\" class=\"dataframe\">\n",
       "  <thead>\n",
       "    <tr style=\"text-align: right;\">\n",
       "      <th></th>\n",
       "      <th>world_rank</th>\n",
       "      <th>university_name</th>\n",
       "      <th>country</th>\n",
       "      <th>teaching</th>\n",
       "      <th>international</th>\n",
       "      <th>research</th>\n",
       "      <th>citations</th>\n",
       "      <th>income</th>\n",
       "      <th>total_score</th>\n",
       "      <th>num_students</th>\n",
       "      <th>student_staff_ratio</th>\n",
       "      <th>international_students</th>\n",
       "      <th>female_male_ratio</th>\n",
       "      <th>year</th>\n",
       "    </tr>\n",
       "  </thead>\n",
       "  <tbody>\n",
       "    <tr>\n",
       "      <th>0</th>\n",
       "      <td>1</td>\n",
       "      <td>Harvard University</td>\n",
       "      <td>1.0</td>\n",
       "      <td>99.7</td>\n",
       "      <td>72.4</td>\n",
       "      <td>98.7</td>\n",
       "      <td>98.8</td>\n",
       "      <td>34.5</td>\n",
       "      <td>96.1</td>\n",
       "      <td>20152.0</td>\n",
       "      <td>8.9</td>\n",
       "      <td>25.0</td>\n",
       "      <td>NaN</td>\n",
       "      <td>2011</td>\n",
       "    </tr>\n",
       "    <tr>\n",
       "      <th>1</th>\n",
       "      <td>2</td>\n",
       "      <td>California Institute of Technology</td>\n",
       "      <td>1.0</td>\n",
       "      <td>97.7</td>\n",
       "      <td>54.6</td>\n",
       "      <td>98.0</td>\n",
       "      <td>99.9</td>\n",
       "      <td>83.7</td>\n",
       "      <td>96</td>\n",
       "      <td>2243.0</td>\n",
       "      <td>6.9</td>\n",
       "      <td>27.0</td>\n",
       "      <td>0.492537</td>\n",
       "      <td>2011</td>\n",
       "    </tr>\n",
       "    <tr>\n",
       "      <th>2</th>\n",
       "      <td>3</td>\n",
       "      <td>Massachusetts Institute of Technology</td>\n",
       "      <td>1.0</td>\n",
       "      <td>97.8</td>\n",
       "      <td>82.3</td>\n",
       "      <td>91.4</td>\n",
       "      <td>99.9</td>\n",
       "      <td>87.5</td>\n",
       "      <td>95.6</td>\n",
       "      <td>11074.0</td>\n",
       "      <td>9.0</td>\n",
       "      <td>33.0</td>\n",
       "      <td>0.587302</td>\n",
       "      <td>2011</td>\n",
       "    </tr>\n",
       "    <tr>\n",
       "      <th>3</th>\n",
       "      <td>4</td>\n",
       "      <td>Stanford University</td>\n",
       "      <td>1.0</td>\n",
       "      <td>98.3</td>\n",
       "      <td>29.5</td>\n",
       "      <td>98.1</td>\n",
       "      <td>99.2</td>\n",
       "      <td>64.3</td>\n",
       "      <td>94.3</td>\n",
       "      <td>15596.0</td>\n",
       "      <td>7.8</td>\n",
       "      <td>22.0</td>\n",
       "      <td>0.724138</td>\n",
       "      <td>2011</td>\n",
       "    </tr>\n",
       "    <tr>\n",
       "      <th>4</th>\n",
       "      <td>5</td>\n",
       "      <td>Princeton University</td>\n",
       "      <td>1.0</td>\n",
       "      <td>90.9</td>\n",
       "      <td>70.3</td>\n",
       "      <td>95.4</td>\n",
       "      <td>99.9</td>\n",
       "      <td>-</td>\n",
       "      <td>94.2</td>\n",
       "      <td>7929.0</td>\n",
       "      <td>8.4</td>\n",
       "      <td>27.0</td>\n",
       "      <td>0.818182</td>\n",
       "      <td>2011</td>\n",
       "    </tr>\n",
       "  </tbody>\n",
       "</table>\n",
       "</div>"
      ],
      "text/plain": [
       "  world_rank                        university_name  country  teaching  \\\n",
       "0          1                     Harvard University      1.0      99.7   \n",
       "1          2     California Institute of Technology      1.0      97.7   \n",
       "2          3  Massachusetts Institute of Technology      1.0      97.8   \n",
       "3          4                    Stanford University      1.0      98.3   \n",
       "4          5                   Princeton University      1.0      90.9   \n",
       "\n",
       "  international  research  citations income total_score  num_students  \\\n",
       "0          72.4      98.7       98.8   34.5        96.1       20152.0   \n",
       "1          54.6      98.0       99.9   83.7          96        2243.0   \n",
       "2          82.3      91.4       99.9   87.5        95.6       11074.0   \n",
       "3          29.5      98.1       99.2   64.3        94.3       15596.0   \n",
       "4          70.3      95.4       99.9      -        94.2        7929.0   \n",
       "\n",
       "   student_staff_ratio  international_students  female_male_ratio  year  \n",
       "0                  8.9                    25.0                NaN  2011  \n",
       "1                  6.9                    27.0           0.492537  2011  \n",
       "2                  9.0                    33.0           0.587302  2011  \n",
       "3                  7.8                    22.0           0.724138  2011  \n",
       "4                  8.4                    27.0           0.818182  2011  "
      ]
     },
     "execution_count": 86,
     "metadata": {},
     "output_type": "execute_result"
    }
   ],
   "source": [
    "data.head()"
   ]
  },
  {
   "cell_type": "code",
   "execution_count": 87,
   "metadata": {},
   "outputs": [
    {
     "data": {
      "text/html": [
       "<div>\n",
       "<style>\n",
       "    .dataframe thead tr:only-child th {\n",
       "        text-align: right;\n",
       "    }\n",
       "\n",
       "    .dataframe thead th {\n",
       "        text-align: left;\n",
       "    }\n",
       "\n",
       "    .dataframe tbody tr th {\n",
       "        vertical-align: top;\n",
       "    }\n",
       "</style>\n",
       "<table border=\"1\" class=\"dataframe\">\n",
       "  <thead>\n",
       "    <tr style=\"text-align: right;\">\n",
       "      <th></th>\n",
       "      <th>country</th>\n",
       "      <th>teaching</th>\n",
       "      <th>research</th>\n",
       "      <th>citations</th>\n",
       "      <th>num_students</th>\n",
       "      <th>student_staff_ratio</th>\n",
       "      <th>international_students</th>\n",
       "      <th>female_male_ratio</th>\n",
       "      <th>year</th>\n",
       "    </tr>\n",
       "  </thead>\n",
       "  <tbody>\n",
       "    <tr>\n",
       "      <th>count</th>\n",
       "      <td>1802.000000</td>\n",
       "      <td>1802.000000</td>\n",
       "      <td>1802.000000</td>\n",
       "      <td>1802.000000</td>\n",
       "      <td>1750.00000</td>\n",
       "      <td>1750.000000</td>\n",
       "      <td>1745.000000</td>\n",
       "      <td>1630.000000</td>\n",
       "      <td>1802.000000</td>\n",
       "    </tr>\n",
       "    <tr>\n",
       "      <th>mean</th>\n",
       "      <td>0.284684</td>\n",
       "      <td>40.569700</td>\n",
       "      <td>39.374861</td>\n",
       "      <td>65.190677</td>\n",
       "      <td>23747.04800</td>\n",
       "      <td>18.143486</td>\n",
       "      <td>16.690544</td>\n",
       "      <td>1.074983</td>\n",
       "      <td>2013.220866</td>\n",
       "    </tr>\n",
       "    <tr>\n",
       "      <th>std</th>\n",
       "      <td>0.451389</td>\n",
       "      <td>17.976753</td>\n",
       "      <td>21.079644</td>\n",
       "      <td>19.630680</td>\n",
       "      <td>14951.39761</td>\n",
       "      <td>10.936206</td>\n",
       "      <td>10.319075</td>\n",
       "      <td>0.353182</td>\n",
       "      <td>1.314950</td>\n",
       "    </tr>\n",
       "    <tr>\n",
       "      <th>min</th>\n",
       "      <td>0.000000</td>\n",
       "      <td>10.700000</td>\n",
       "      <td>6.500000</td>\n",
       "      <td>3.100000</td>\n",
       "      <td>462.00000</td>\n",
       "      <td>2.600000</td>\n",
       "      <td>0.000000</td>\n",
       "      <td>0.315789</td>\n",
       "      <td>2011.000000</td>\n",
       "    </tr>\n",
       "    <tr>\n",
       "      <th>25%</th>\n",
       "      <td>0.000000</td>\n",
       "      <td>27.300000</td>\n",
       "      <td>22.925000</td>\n",
       "      <td>51.125000</td>\n",
       "      <td>12808.25000</td>\n",
       "      <td>11.800000</td>\n",
       "      <td>9.000000</td>\n",
       "      <td>0.886792</td>\n",
       "      <td>2012.000000</td>\n",
       "    </tr>\n",
       "    <tr>\n",
       "      <th>50%</th>\n",
       "      <td>0.000000</td>\n",
       "      <td>37.000000</td>\n",
       "      <td>34.600000</td>\n",
       "      <td>65.050000</td>\n",
       "      <td>21379.00000</td>\n",
       "      <td>15.900000</td>\n",
       "      <td>15.000000</td>\n",
       "      <td>1.083333</td>\n",
       "      <td>2013.000000</td>\n",
       "    </tr>\n",
       "    <tr>\n",
       "      <th>75%</th>\n",
       "      <td>1.000000</td>\n",
       "      <td>49.775000</td>\n",
       "      <td>50.600000</td>\n",
       "      <td>80.400000</td>\n",
       "      <td>30025.00000</td>\n",
       "      <td>20.700000</td>\n",
       "      <td>23.000000</td>\n",
       "      <td>1.272727</td>\n",
       "      <td>2014.000000</td>\n",
       "    </tr>\n",
       "    <tr>\n",
       "      <th>max</th>\n",
       "      <td>1.000000</td>\n",
       "      <td>99.700000</td>\n",
       "      <td>99.400000</td>\n",
       "      <td>100.000000</td>\n",
       "      <td>137378.00000</td>\n",
       "      <td>72.500000</td>\n",
       "      <td>63.000000</td>\n",
       "      <td>2.333333</td>\n",
       "      <td>2015.000000</td>\n",
       "    </tr>\n",
       "  </tbody>\n",
       "</table>\n",
       "</div>"
      ],
      "text/plain": [
       "           country     teaching     research    citations  num_students  \\\n",
       "count  1802.000000  1802.000000  1802.000000  1802.000000    1750.00000   \n",
       "mean      0.284684    40.569700    39.374861    65.190677   23747.04800   \n",
       "std       0.451389    17.976753    21.079644    19.630680   14951.39761   \n",
       "min       0.000000    10.700000     6.500000     3.100000     462.00000   \n",
       "25%       0.000000    27.300000    22.925000    51.125000   12808.25000   \n",
       "50%       0.000000    37.000000    34.600000    65.050000   21379.00000   \n",
       "75%       1.000000    49.775000    50.600000    80.400000   30025.00000   \n",
       "max       1.000000    99.700000    99.400000   100.000000  137378.00000   \n",
       "\n",
       "       student_staff_ratio  international_students  female_male_ratio  \\\n",
       "count          1750.000000             1745.000000        1630.000000   \n",
       "mean             18.143486               16.690544           1.074983   \n",
       "std              10.936206               10.319075           0.353182   \n",
       "min               2.600000                0.000000           0.315789   \n",
       "25%              11.800000                9.000000           0.886792   \n",
       "50%              15.900000               15.000000           1.083333   \n",
       "75%              20.700000               23.000000           1.272727   \n",
       "max              72.500000               63.000000           2.333333   \n",
       "\n",
       "              year  \n",
       "count  1802.000000  \n",
       "mean   2013.220866  \n",
       "std       1.314950  \n",
       "min    2011.000000  \n",
       "25%    2012.000000  \n",
       "50%    2013.000000  \n",
       "75%    2014.000000  \n",
       "max    2015.000000  "
      ]
     },
     "execution_count": 87,
     "metadata": {},
     "output_type": "execute_result"
    }
   ],
   "source": [
    "data.describe()"
   ]
  },
  {
   "cell_type": "code",
   "execution_count": 88,
   "metadata": {},
   "outputs": [
    {
     "name": "stdout",
     "output_type": "stream",
     "text": [
      "Index(['num_students', 'student_staff_ratio', 'international_students',\n",
      "       'female_male_ratio'],\n",
      "      dtype='object')\n"
     ]
    }
   ],
   "source": [
    "'''Null Columns'''\n",
    "print (data.columns[data.isnull().sum()>0])"
   ]
  },
  {
   "cell_type": "code",
   "execution_count": 89,
   "metadata": {},
   "outputs": [],
   "source": [
    "# data.isnull().sum()"
   ]
  },
  {
   "cell_type": "code",
   "execution_count": 90,
   "metadata": {},
   "outputs": [
    {
     "name": "stdout",
     "output_type": "stream",
     "text": [
      "<class 'pandas.core.frame.DataFrame'>\n",
      "Int64Index: 1802 entries, 0 to 1802\n",
      "Data columns (total 14 columns):\n",
      "world_rank                1802 non-null object\n",
      "university_name           1802 non-null object\n",
      "country                   1802 non-null float64\n",
      "teaching                  1802 non-null float64\n",
      "international             1802 non-null object\n",
      "research                  1802 non-null float64\n",
      "citations                 1802 non-null float64\n",
      "income                    1802 non-null object\n",
      "total_score               1802 non-null object\n",
      "num_students              1750 non-null float64\n",
      "student_staff_ratio       1750 non-null float64\n",
      "international_students    1745 non-null float64\n",
      "female_male_ratio         1630 non-null float64\n",
      "year                      1802 non-null int64\n",
      "dtypes: float64(8), int64(1), object(5)\n",
      "memory usage: 211.2+ KB\n"
     ]
    }
   ],
   "source": [
    "data.info()"
   ]
  },
  {
   "cell_type": "code",
   "execution_count": 91,
   "metadata": {},
   "outputs": [
    {
     "data": {
      "text/plain": [
       "9"
      ]
     },
     "execution_count": 91,
     "metadata": {},
     "output_type": "execute_result"
    }
   ],
   "source": [
    "'''Checking for Hyphens in the International Columns'''\n",
    "np.sum([data['international'] == '-'])"
   ]
  },
  {
   "cell_type": "code",
   "execution_count": 92,
   "metadata": {},
   "outputs": [
    {
     "data": {
      "text/plain": [
       "'Replacing the Hyphens with the NAN to impute later'"
      ]
     },
     "execution_count": 92,
     "metadata": {},
     "output_type": "execute_result"
    }
   ],
   "source": [
    "'''Replacing the Hyphens with the NAN to impute later'''\n",
    "# data['international'] = data.international.replace('-', np.nan)"
   ]
  },
  {
   "cell_type": "code",
   "execution_count": 93,
   "metadata": {},
   "outputs": [],
   "source": [
    "data['international'] = data.international.replace('-', np.nan)\n",
    "\n",
    "from sklearn.preprocessing import Imputer\n",
    "\n",
    "international_imputer = Imputer(strategy='median')\n",
    "international_imputer_fit = international_imputer.fit(data['international'].values.reshape(-1, 1))\n",
    "\n",
    "international_imputer_transform = international_imputer_fit.transform(\n",
    "    data['international'].values.reshape(-1, 1))\n",
    "\n",
    "data['international'] = international_imputer_transform"
   ]
  },
  {
   "cell_type": "code",
   "execution_count": 94,
   "metadata": {},
   "outputs": [
    {
     "data": {
      "text/plain": [
       "801"
      ]
     },
     "execution_count": 94,
     "metadata": {},
     "output_type": "execute_result"
    }
   ],
   "source": [
    "'''Count of Hyphens in the Total_Score Column'''\n",
    "np.sum([data['total_score'] == '-'])"
   ]
  },
  {
   "cell_type": "code",
   "execution_count": 95,
   "metadata": {},
   "outputs": [],
   "source": [
    "'''Replacing the Hyphens with the NAN to impute later'''\n",
    "data['total_score'] = data.total_score.replace('-', '0').astype(float)"
   ]
  },
  {
   "cell_type": "code",
   "execution_count": 122,
   "metadata": {},
   "outputs": [],
   "source": [
    "'''Imputer for Total Score'''\n",
    "\n",
    "from sklearn.preprocessing import Imputer\n",
    "\n",
    "total_score_imputer = Imputer(strategy='median')\n",
    "total_score_imputer_fit = total_score_imputer.fit(data['total_score'].values.reshape(-1, 1))\n",
    "\n",
    "total_score_imputer_transform = total_score_imputer_fit.transform(\n",
    "    data['total_score'].values.reshape(-1, 1))\n",
    "\n",
    "data['total_score'] = total_score_imputer_transform"
   ]
  },
  {
   "cell_type": "code",
   "execution_count": null,
   "metadata": {
    "collapsed": true
   },
   "outputs": [],
   "source": []
  },
  {
   "cell_type": "code",
   "execution_count": 97,
   "metadata": {},
   "outputs": [],
   "source": [
    "'''Income Imputer '''\n",
    "for k, v in data['income'].items():\n",
    "    if v == '-':\n",
    "        data.set_value(k, 'income', np.nan)\n",
    "    else:\n",
    "        data.set_value(k, 'income', v)\n",
    "        \n",
    "data['income'] = data['income'].astype(float)        \n",
    "        \n",
    "income_imputer = Imputer(strategy='median')\n",
    "income_imputer_fit = income_imputer.fit(data['income'].values.reshape(-1, 1))\n",
    "\n",
    "income_imputer_transform = income_imputer_fit.transform(\n",
    "    data['international'].values.reshape(-1, 1))\n",
    "\n",
    "data['income'] = income_imputer_transform"
   ]
  },
  {
   "cell_type": "code",
   "execution_count": 98,
   "metadata": {},
   "outputs": [],
   "source": [
    "# '''Country'''\n",
    "# for k, v in data['country'].items():\n",
    "#     if v == 'United States of America':\n",
    "#         data.set_value(k, 'country', 1)\n",
    "#     else:\n",
    "#         data.set_value(k, 'country', 0)\n",
    "\n",
    "# data['country'] = data['country'].astype(float)"
   ]
  },
  {
   "cell_type": "code",
   "execution_count": 99,
   "metadata": {},
   "outputs": [
    {
     "data": {
      "text/plain": [
       "'Num Students'"
      ]
     },
     "execution_count": 99,
     "metadata": {},
     "output_type": "execute_result"
    }
   ],
   "source": [
    "'''Num Students'''\n",
    "# data['num_students'] = data['num_students'].str.replace(',', '').astype(float)"
   ]
  },
  {
   "cell_type": "code",
   "execution_count": 100,
   "metadata": {},
   "outputs": [],
   "source": [
    "# data['international_students']=[str(pct).split('%')[0] for pct in data['international_students']]\n",
    "# data['international_students']=[float(pct) for pct in data['international_students']]"
   ]
  },
  {
   "cell_type": "code",
   "execution_count": 101,
   "metadata": {},
   "outputs": [],
   "source": [
    "'''International Students Imputer'''\n",
    "\n",
    "data['international_students']=[str(pct).split('%')[0] for pct in data['international_students']]\n",
    "data['international_students']=[float(pct) for pct in data['international_students']]\n",
    "\n",
    "data['international_students'] = data.international_students.replace('-', np.nan)\n",
    "from sklearn.preprocessing import Imputer\n",
    "\n",
    "international_s_imputer = Imputer(strategy='median')\n",
    "international_s_imputer_fit = international_s_imputer.fit(data['international_students'].values.reshape(-1, 1))\n",
    "\n",
    "international_s_imputer_transform = international_s_imputer_fit.transform(\n",
    "    data['international_students'].values.reshape(-1, 1))\n",
    "\n",
    "data['international_students'] = international_s_imputer_transform"
   ]
  },
  {
   "cell_type": "code",
   "execution_count": 115,
   "metadata": {
    "collapsed": true
   },
   "outputs": [],
   "source": [
    "'''Female Male Imputer'''\n",
    "female_male_imputer = Imputer(strategy='median')\n",
    "female_male_fit = female_male_imputer.fit(data['female_male_ratio'].values.reshape(-1, 1))\n",
    "\n",
    "female_male_transform = female_male_fit.transform(\n",
    "    data['female_male_ratio'].values.reshape(-1, 1))\n",
    "\n",
    "data['female_male_ratio'] = female_male_transform"
   ]
  },
  {
   "cell_type": "code",
   "execution_count": 167,
   "metadata": {
    "collapsed": true
   },
   "outputs": [],
   "source": [
    "num_students_imputer = Imputer(strategy='median')\n",
    "num_students_fit = num_students_imputer.fit(data['num_students'].values.reshape(-1, 1))\n",
    "\n",
    "num_students_transform = num_students_fit.transform(\n",
    "    data['num_students'].values.reshape(-1, 1))\n",
    "\n",
    "data['num_students'] = num_students_transform\n",
    "\n",
    "student_staff_imputer = Imputer(strategy='median')\n",
    "student_staff_fit = student_staff_imputer.fit(data['student_staff_ratio'].values.reshape(-1, 1))\n",
    "\n",
    "student_staff_transform = student_staff_fit.transform(\n",
    "    data['student_staff_ratio'].values.reshape(-1, 1))\n",
    "\n",
    "data['student_staff_ratio'] = student_staff_transform"
   ]
  },
  {
   "cell_type": "code",
   "execution_count": 168,
   "metadata": {
    "collapsed": true
   },
   "outputs": [],
   "source": [
    "# '''Fixing total Score'''\n",
    "# def change_hyphen(x): \n",
    "#     if x == '-': \n",
    "#         return float(0)\n",
    "#     else: \n",
    "#         return float(x)\n",
    "    \n",
    "# data['total_score'] = data['total_score'].apply(change_hyphen)"
   ]
  },
  {
   "cell_type": "code",
   "execution_count": 169,
   "metadata": {},
   "outputs": [],
   "source": [
    "# data['total_score'] = data['total_score'].str.replace('-', '0').astype(float)"
   ]
  },
  {
   "cell_type": "code",
   "execution_count": 170,
   "metadata": {},
   "outputs": [
    {
     "data": {
      "text/html": [
       "<div>\n",
       "<style>\n",
       "    .dataframe thead tr:only-child th {\n",
       "        text-align: right;\n",
       "    }\n",
       "\n",
       "    .dataframe thead th {\n",
       "        text-align: left;\n",
       "    }\n",
       "\n",
       "    .dataframe tbody tr th {\n",
       "        vertical-align: top;\n",
       "    }\n",
       "</style>\n",
       "<table border=\"1\" class=\"dataframe\">\n",
       "  <thead>\n",
       "    <tr style=\"text-align: right;\">\n",
       "      <th></th>\n",
       "      <th>world_rank</th>\n",
       "      <th>university_name</th>\n",
       "      <th>country</th>\n",
       "      <th>teaching</th>\n",
       "      <th>international</th>\n",
       "      <th>research</th>\n",
       "      <th>citations</th>\n",
       "      <th>income</th>\n",
       "      <th>total_score</th>\n",
       "      <th>num_students</th>\n",
       "      <th>student_staff_ratio</th>\n",
       "      <th>international_students</th>\n",
       "      <th>female_male_ratio</th>\n",
       "      <th>year</th>\n",
       "    </tr>\n",
       "  </thead>\n",
       "  <tbody>\n",
       "    <tr>\n",
       "      <th>0</th>\n",
       "      <td>1</td>\n",
       "      <td>Harvard University</td>\n",
       "      <td>1.0</td>\n",
       "      <td>99.7</td>\n",
       "      <td>72.4</td>\n",
       "      <td>98.7</td>\n",
       "      <td>98.8</td>\n",
       "      <td>72.4</td>\n",
       "      <td>96.1</td>\n",
       "      <td>20152.0</td>\n",
       "      <td>8.9</td>\n",
       "      <td>25.0</td>\n",
       "      <td>1.083333</td>\n",
       "      <td>2011</td>\n",
       "    </tr>\n",
       "    <tr>\n",
       "      <th>1</th>\n",
       "      <td>2</td>\n",
       "      <td>California Institute of Technology</td>\n",
       "      <td>1.0</td>\n",
       "      <td>97.7</td>\n",
       "      <td>54.6</td>\n",
       "      <td>98.0</td>\n",
       "      <td>99.9</td>\n",
       "      <td>54.6</td>\n",
       "      <td>96.0</td>\n",
       "      <td>2243.0</td>\n",
       "      <td>6.9</td>\n",
       "      <td>27.0</td>\n",
       "      <td>0.492537</td>\n",
       "      <td>2011</td>\n",
       "    </tr>\n",
       "    <tr>\n",
       "      <th>2</th>\n",
       "      <td>3</td>\n",
       "      <td>Massachusetts Institute of Technology</td>\n",
       "      <td>1.0</td>\n",
       "      <td>97.8</td>\n",
       "      <td>82.3</td>\n",
       "      <td>91.4</td>\n",
       "      <td>99.9</td>\n",
       "      <td>82.3</td>\n",
       "      <td>95.6</td>\n",
       "      <td>11074.0</td>\n",
       "      <td>9.0</td>\n",
       "      <td>33.0</td>\n",
       "      <td>0.587302</td>\n",
       "      <td>2011</td>\n",
       "    </tr>\n",
       "    <tr>\n",
       "      <th>3</th>\n",
       "      <td>4</td>\n",
       "      <td>Stanford University</td>\n",
       "      <td>1.0</td>\n",
       "      <td>98.3</td>\n",
       "      <td>29.5</td>\n",
       "      <td>98.1</td>\n",
       "      <td>99.2</td>\n",
       "      <td>29.5</td>\n",
       "      <td>94.3</td>\n",
       "      <td>15596.0</td>\n",
       "      <td>7.8</td>\n",
       "      <td>22.0</td>\n",
       "      <td>0.724138</td>\n",
       "      <td>2011</td>\n",
       "    </tr>\n",
       "    <tr>\n",
       "      <th>4</th>\n",
       "      <td>5</td>\n",
       "      <td>Princeton University</td>\n",
       "      <td>1.0</td>\n",
       "      <td>90.9</td>\n",
       "      <td>70.3</td>\n",
       "      <td>95.4</td>\n",
       "      <td>99.9</td>\n",
       "      <td>70.3</td>\n",
       "      <td>94.2</td>\n",
       "      <td>7929.0</td>\n",
       "      <td>8.4</td>\n",
       "      <td>27.0</td>\n",
       "      <td>0.818182</td>\n",
       "      <td>2011</td>\n",
       "    </tr>\n",
       "  </tbody>\n",
       "</table>\n",
       "</div>"
      ],
      "text/plain": [
       "  world_rank                        university_name  country  teaching  \\\n",
       "0          1                     Harvard University      1.0      99.7   \n",
       "1          2     California Institute of Technology      1.0      97.7   \n",
       "2          3  Massachusetts Institute of Technology      1.0      97.8   \n",
       "3          4                    Stanford University      1.0      98.3   \n",
       "4          5                   Princeton University      1.0      90.9   \n",
       "\n",
       "   international  research  citations  income  total_score  num_students  \\\n",
       "0           72.4      98.7       98.8    72.4         96.1       20152.0   \n",
       "1           54.6      98.0       99.9    54.6         96.0        2243.0   \n",
       "2           82.3      91.4       99.9    82.3         95.6       11074.0   \n",
       "3           29.5      98.1       99.2    29.5         94.3       15596.0   \n",
       "4           70.3      95.4       99.9    70.3         94.2        7929.0   \n",
       "\n",
       "   student_staff_ratio  international_students  female_male_ratio  year  \n",
       "0                  8.9                    25.0           1.083333  2011  \n",
       "1                  6.9                    27.0           0.492537  2011  \n",
       "2                  9.0                    33.0           0.587302  2011  \n",
       "3                  7.8                    22.0           0.724138  2011  \n",
       "4                  8.4                    27.0           0.818182  2011  "
      ]
     },
     "execution_count": 170,
     "metadata": {},
     "output_type": "execute_result"
    }
   ],
   "source": [
    "data.head()"
   ]
  },
  {
   "cell_type": "code",
   "execution_count": 171,
   "metadata": {},
   "outputs": [
    {
     "name": "stdout",
     "output_type": "stream",
     "text": [
      "<class 'pandas.core.frame.DataFrame'>\n",
      "Int64Index: 1802 entries, 0 to 1802\n",
      "Data columns (total 14 columns):\n",
      "world_rank                1802 non-null object\n",
      "university_name           1802 non-null object\n",
      "country                   1802 non-null float64\n",
      "teaching                  1802 non-null float64\n",
      "international             1802 non-null float64\n",
      "research                  1802 non-null float64\n",
      "citations                 1802 non-null float64\n",
      "income                    1802 non-null float64\n",
      "total_score               1802 non-null float64\n",
      "num_students              1802 non-null float64\n",
      "student_staff_ratio       1802 non-null float64\n",
      "international_students    1802 non-null float64\n",
      "female_male_ratio         1802 non-null float64\n",
      "year                      1802 non-null int64\n",
      "dtypes: float64(11), int64(1), object(2)\n",
      "memory usage: 291.2+ KB\n"
     ]
    }
   ],
   "source": [
    "data.info()"
   ]
  },
  {
   "cell_type": "code",
   "execution_count": 172,
   "metadata": {},
   "outputs": [],
   "source": [
    "corr_column = []\n",
    "for col in data.columns: \n",
    "    if col not in ['world_rank', 'university_name']: \n",
    "        corr_column.append(col)\n",
    "    else: \n",
    "        continue\n",
    "        "
   ]
  },
  {
   "cell_type": "code",
   "execution_count": null,
   "metadata": {
    "collapsed": true
   },
   "outputs": [],
   "source": []
  },
  {
   "cell_type": "code",
   "execution_count": 173,
   "metadata": {
    "collapsed": true
   },
   "outputs": [],
   "source": [
    "input_column = []\n",
    "for col in data.columns: \n",
    "    if col not in ['world_rank', 'university_name', 'total_score']: \n",
    "        input_column.append(col)\n",
    "    else: \n",
    "        continue\n",
    "        "
   ]
  },
  {
   "cell_type": "code",
   "execution_count": 174,
   "metadata": {},
   "outputs": [
    {
     "data": {
      "text/html": [
       "<div>\n",
       "<style>\n",
       "    .dataframe thead tr:only-child th {\n",
       "        text-align: right;\n",
       "    }\n",
       "\n",
       "    .dataframe thead th {\n",
       "        text-align: left;\n",
       "    }\n",
       "\n",
       "    .dataframe tbody tr th {\n",
       "        vertical-align: top;\n",
       "    }\n",
       "</style>\n",
       "<table border=\"1\" class=\"dataframe\">\n",
       "  <thead>\n",
       "    <tr style=\"text-align: right;\">\n",
       "      <th></th>\n",
       "      <th>country</th>\n",
       "      <th>teaching</th>\n",
       "      <th>international</th>\n",
       "      <th>research</th>\n",
       "      <th>citations</th>\n",
       "      <th>income</th>\n",
       "      <th>total_score</th>\n",
       "      <th>num_students</th>\n",
       "      <th>student_staff_ratio</th>\n",
       "      <th>international_students</th>\n",
       "      <th>female_male_ratio</th>\n",
       "      <th>year</th>\n",
       "    </tr>\n",
       "  </thead>\n",
       "  <tbody>\n",
       "    <tr>\n",
       "      <th>0</th>\n",
       "      <td>1.0</td>\n",
       "      <td>99.7</td>\n",
       "      <td>72.4</td>\n",
       "      <td>98.7</td>\n",
       "      <td>98.8</td>\n",
       "      <td>72.4</td>\n",
       "      <td>96.1</td>\n",
       "      <td>20152.0</td>\n",
       "      <td>8.9</td>\n",
       "      <td>25.0</td>\n",
       "      <td>1.083333</td>\n",
       "      <td>2011</td>\n",
       "    </tr>\n",
       "    <tr>\n",
       "      <th>1</th>\n",
       "      <td>1.0</td>\n",
       "      <td>97.7</td>\n",
       "      <td>54.6</td>\n",
       "      <td>98.0</td>\n",
       "      <td>99.9</td>\n",
       "      <td>54.6</td>\n",
       "      <td>96.0</td>\n",
       "      <td>2243.0</td>\n",
       "      <td>6.9</td>\n",
       "      <td>27.0</td>\n",
       "      <td>0.492537</td>\n",
       "      <td>2011</td>\n",
       "    </tr>\n",
       "    <tr>\n",
       "      <th>2</th>\n",
       "      <td>1.0</td>\n",
       "      <td>97.8</td>\n",
       "      <td>82.3</td>\n",
       "      <td>91.4</td>\n",
       "      <td>99.9</td>\n",
       "      <td>82.3</td>\n",
       "      <td>95.6</td>\n",
       "      <td>11074.0</td>\n",
       "      <td>9.0</td>\n",
       "      <td>33.0</td>\n",
       "      <td>0.587302</td>\n",
       "      <td>2011</td>\n",
       "    </tr>\n",
       "    <tr>\n",
       "      <th>3</th>\n",
       "      <td>1.0</td>\n",
       "      <td>98.3</td>\n",
       "      <td>29.5</td>\n",
       "      <td>98.1</td>\n",
       "      <td>99.2</td>\n",
       "      <td>29.5</td>\n",
       "      <td>94.3</td>\n",
       "      <td>15596.0</td>\n",
       "      <td>7.8</td>\n",
       "      <td>22.0</td>\n",
       "      <td>0.724138</td>\n",
       "      <td>2011</td>\n",
       "    </tr>\n",
       "    <tr>\n",
       "      <th>4</th>\n",
       "      <td>1.0</td>\n",
       "      <td>90.9</td>\n",
       "      <td>70.3</td>\n",
       "      <td>95.4</td>\n",
       "      <td>99.9</td>\n",
       "      <td>70.3</td>\n",
       "      <td>94.2</td>\n",
       "      <td>7929.0</td>\n",
       "      <td>8.4</td>\n",
       "      <td>27.0</td>\n",
       "      <td>0.818182</td>\n",
       "      <td>2011</td>\n",
       "    </tr>\n",
       "  </tbody>\n",
       "</table>\n",
       "</div>"
      ],
      "text/plain": [
       "   country  teaching  international  research  citations  income  total_score  \\\n",
       "0      1.0      99.7           72.4      98.7       98.8    72.4         96.1   \n",
       "1      1.0      97.7           54.6      98.0       99.9    54.6         96.0   \n",
       "2      1.0      97.8           82.3      91.4       99.9    82.3         95.6   \n",
       "3      1.0      98.3           29.5      98.1       99.2    29.5         94.3   \n",
       "4      1.0      90.9           70.3      95.4       99.9    70.3         94.2   \n",
       "\n",
       "   num_students  student_staff_ratio  international_students  \\\n",
       "0       20152.0                  8.9                    25.0   \n",
       "1        2243.0                  6.9                    27.0   \n",
       "2       11074.0                  9.0                    33.0   \n",
       "3       15596.0                  7.8                    22.0   \n",
       "4        7929.0                  8.4                    27.0   \n",
       "\n",
       "   female_male_ratio  year  \n",
       "0           1.083333  2011  \n",
       "1           0.492537  2011  \n",
       "2           0.587302  2011  \n",
       "3           0.724138  2011  \n",
       "4           0.818182  2011  "
      ]
     },
     "execution_count": 174,
     "metadata": {},
     "output_type": "execute_result"
    }
   ],
   "source": [
    "X_for_corr = data[corr_column]\n",
    "X_for_corr.head()"
   ]
  },
  {
   "cell_type": "code",
   "execution_count": 175,
   "metadata": {},
   "outputs": [
    {
     "data": {
      "text/html": [
       "<div>\n",
       "<style>\n",
       "    .dataframe thead tr:only-child th {\n",
       "        text-align: right;\n",
       "    }\n",
       "\n",
       "    .dataframe thead th {\n",
       "        text-align: left;\n",
       "    }\n",
       "\n",
       "    .dataframe tbody tr th {\n",
       "        vertical-align: top;\n",
       "    }\n",
       "</style>\n",
       "<table border=\"1\" class=\"dataframe\">\n",
       "  <thead>\n",
       "    <tr style=\"text-align: right;\">\n",
       "      <th></th>\n",
       "      <th>country</th>\n",
       "      <th>teaching</th>\n",
       "      <th>international</th>\n",
       "      <th>research</th>\n",
       "      <th>citations</th>\n",
       "      <th>income</th>\n",
       "      <th>num_students</th>\n",
       "      <th>student_staff_ratio</th>\n",
       "      <th>international_students</th>\n",
       "      <th>female_male_ratio</th>\n",
       "      <th>year</th>\n",
       "    </tr>\n",
       "  </thead>\n",
       "  <tbody>\n",
       "    <tr>\n",
       "      <th>0</th>\n",
       "      <td>1.0</td>\n",
       "      <td>99.7</td>\n",
       "      <td>72.4</td>\n",
       "      <td>98.7</td>\n",
       "      <td>98.8</td>\n",
       "      <td>72.4</td>\n",
       "      <td>20152.0</td>\n",
       "      <td>8.9</td>\n",
       "      <td>25.0</td>\n",
       "      <td>1.083333</td>\n",
       "      <td>2011</td>\n",
       "    </tr>\n",
       "    <tr>\n",
       "      <th>1</th>\n",
       "      <td>1.0</td>\n",
       "      <td>97.7</td>\n",
       "      <td>54.6</td>\n",
       "      <td>98.0</td>\n",
       "      <td>99.9</td>\n",
       "      <td>54.6</td>\n",
       "      <td>2243.0</td>\n",
       "      <td>6.9</td>\n",
       "      <td>27.0</td>\n",
       "      <td>0.492537</td>\n",
       "      <td>2011</td>\n",
       "    </tr>\n",
       "    <tr>\n",
       "      <th>2</th>\n",
       "      <td>1.0</td>\n",
       "      <td>97.8</td>\n",
       "      <td>82.3</td>\n",
       "      <td>91.4</td>\n",
       "      <td>99.9</td>\n",
       "      <td>82.3</td>\n",
       "      <td>11074.0</td>\n",
       "      <td>9.0</td>\n",
       "      <td>33.0</td>\n",
       "      <td>0.587302</td>\n",
       "      <td>2011</td>\n",
       "    </tr>\n",
       "    <tr>\n",
       "      <th>3</th>\n",
       "      <td>1.0</td>\n",
       "      <td>98.3</td>\n",
       "      <td>29.5</td>\n",
       "      <td>98.1</td>\n",
       "      <td>99.2</td>\n",
       "      <td>29.5</td>\n",
       "      <td>15596.0</td>\n",
       "      <td>7.8</td>\n",
       "      <td>22.0</td>\n",
       "      <td>0.724138</td>\n",
       "      <td>2011</td>\n",
       "    </tr>\n",
       "    <tr>\n",
       "      <th>4</th>\n",
       "      <td>1.0</td>\n",
       "      <td>90.9</td>\n",
       "      <td>70.3</td>\n",
       "      <td>95.4</td>\n",
       "      <td>99.9</td>\n",
       "      <td>70.3</td>\n",
       "      <td>7929.0</td>\n",
       "      <td>8.4</td>\n",
       "      <td>27.0</td>\n",
       "      <td>0.818182</td>\n",
       "      <td>2011</td>\n",
       "    </tr>\n",
       "  </tbody>\n",
       "</table>\n",
       "</div>"
      ],
      "text/plain": [
       "   country  teaching  international  research  citations  income  \\\n",
       "0      1.0      99.7           72.4      98.7       98.8    72.4   \n",
       "1      1.0      97.7           54.6      98.0       99.9    54.6   \n",
       "2      1.0      97.8           82.3      91.4       99.9    82.3   \n",
       "3      1.0      98.3           29.5      98.1       99.2    29.5   \n",
       "4      1.0      90.9           70.3      95.4       99.9    70.3   \n",
       "\n",
       "   num_students  student_staff_ratio  international_students  \\\n",
       "0       20152.0                  8.9                    25.0   \n",
       "1        2243.0                  6.9                    27.0   \n",
       "2       11074.0                  9.0                    33.0   \n",
       "3       15596.0                  7.8                    22.0   \n",
       "4        7929.0                  8.4                    27.0   \n",
       "\n",
       "   female_male_ratio  year  \n",
       "0           1.083333  2011  \n",
       "1           0.492537  2011  \n",
       "2           0.587302  2011  \n",
       "3           0.724138  2011  \n",
       "4           0.818182  2011  "
      ]
     },
     "execution_count": 175,
     "metadata": {},
     "output_type": "execute_result"
    }
   ],
   "source": [
    "X = data[input_column]\n",
    "X.head()"
   ]
  },
  {
   "cell_type": "code",
   "execution_count": 176,
   "metadata": {},
   "outputs": [
    {
     "data": {
      "text/plain": [
       "0    96.1\n",
       "1    96.0\n",
       "2    95.6\n",
       "3    94.3\n",
       "4    94.2\n",
       "Name: total_score, dtype: float64"
      ]
     },
     "execution_count": 176,
     "metadata": {},
     "output_type": "execute_result"
    }
   ],
   "source": [
    "Y = data['total_score']\n",
    "Y.head()"
   ]
  },
  {
   "cell_type": "code",
   "execution_count": 177,
   "metadata": {},
   "outputs": [],
   "source": [
    "# data.info()"
   ]
  },
  {
   "cell_type": "code",
   "execution_count": 178,
   "metadata": {},
   "outputs": [
    {
     "data": {
      "text/plain": [
       "<matplotlib.axes._subplots.AxesSubplot at 0x126c21978>"
      ]
     },
     "execution_count": 178,
     "metadata": {},
     "output_type": "execute_result"
    },
    {
     "data": {
      "image/png": "[encoded data removed]",
      "text/plain": [
       "<matplotlib.figure.Figure at 0x1263a30f0>"
      ]
     },
     "metadata": {
      "image/png": {
       "height": 336,
       "width": 476
      }
     },
     "output_type": "display_data"
    }
   ],
   "source": [
    "sns.heatmap(X_for_corr.corr())"
   ]
  },
  {
   "cell_type": "markdown",
   "metadata": {},
   "source": [
    "# Model "
   ]
  },
  {
   "cell_type": "code",
   "execution_count": 184,
   "metadata": {},
   "outputs": [],
   "source": [
    "lr = LinearRegression()\n",
    "rfe = RFE(lr, n_features_to_select=5, verbose=2)"
   ]
  },
  {
   "cell_type": "code",
   "execution_count": 214,
   "metadata": {},
   "outputs": [
    {
     "name": "stdout",
     "output_type": "stream",
     "text": [
      "Fitting estimator with 11 features.\n",
      "Fitting estimator with 10 features.\n",
      "Fitting estimator with 9 features.\n",
      "Fitting estimator with 8 features.\n",
      "Fitting estimator with 7 features.\n",
      "Fitting estimator with 6 features.\n"
     ]
    },
    {
     "data": {
      "text/plain": [
       "RFE(estimator=LinearRegression(copy_X=True, fit_intercept=True, n_jobs=1, normalize=False),\n",
       "  n_features_to_select=5, step=1, verbose=2)"
      ]
     },
     "execution_count": 214,
     "metadata": {},
     "output_type": "execute_result"
    }
   ],
   "source": [
    "X_train, X_test, y_train, y_test = train_test_split(X,Y, test_size = 0.33)\n",
    "rfe.fit(X_train, y_train)"
   ]
  },
  {
   "cell_type": "code",
   "execution_count": 215,
   "metadata": {},
   "outputs": [
    {
     "name": "stdout",
     "output_type": "stream",
     "text": [
      "country selected for model\n",
      "teaching selected for model\n",
      "research selected for model\n",
      "citations selected for model\n",
      "year selected for model\n"
     ]
    }
   ],
   "source": [
    "for i, col in enumerate(input_column):\n",
    "    if rfe.support_[i] == True:\n",
    "        print(col, 'selected for model')"
   ]
  },
  {
   "cell_type": "code",
   "execution_count": 216,
   "metadata": {},
   "outputs": [],
   "source": [
    "X_train_select_features = data[['country', 'teaching', 'research', 'citations', 'year']]"
   ]
  },
  {
   "cell_type": "code",
   "execution_count": 198,
   "metadata": {
    "collapsed": true
   },
   "outputs": [],
   "source": [
    "X_train, X_test, y_train, y_test = train_test_split(X_train_select_features,Y, test_size = 0.33)"
   ]
  },
  {
   "cell_type": "code",
   "execution_count": 202,
   "metadata": {},
   "outputs": [
    {
     "data": {
      "text/plain": [
       "LinearRegression(copy_X=True, fit_intercept=True, n_jobs=1, normalize=False)"
      ]
     },
     "execution_count": 202,
     "metadata": {},
     "output_type": "execute_result"
    }
   ],
   "source": [
    "lr.fit(X_train, y_train)"
   ]
  },
  {
   "cell_type": "code",
   "execution_count": 204,
   "metadata": {},
   "outputs": [
    {
     "name": "stdout",
     "output_type": "stream",
     "text": [
      "Training Score:  0.828443707336\n"
     ]
    }
   ],
   "source": [
    "print ('Training Score: ', lr.score(X_train, y_train))"
   ]
  },
  {
   "cell_type": "code",
   "execution_count": 205,
   "metadata": {},
   "outputs": [
    {
     "name": "stdout",
     "output_type": "stream",
     "text": [
      "Training Score:  0.813476665996\n"
     ]
    }
   ],
   "source": [
    "print ('Training Score: ', lr.score(X_test, y_test))"
   ]
  },
  {
   "cell_type": "code",
   "execution_count": 208,
   "metadata": {},
   "outputs": [],
   "source": [
    "y_pred = lr.predict(X_test)"
   ]
  },
  {
   "cell_type": "code",
   "execution_count": 213,
   "metadata": {},
   "outputs": [],
   "source": [
    "data_2016 = all_data.loc[all_data['year'] == 2016,:]\n",
    "y_total_score_2016  = data_2016['total_score']"
   ]
  },
  {
   "cell_type": "code",
   "execution_count": null,
   "metadata": {
    "collapsed": true
   },
   "outputs": [],
   "source": [
    "y_total_score_2016_predict = lr.predict()"
   ]
  },
  {
   "cell_type": "code",
   "execution_count": 217,
   "metadata": {
    "collapsed": true
   },
   "outputs": [],
   "source": [
    "X_train_select_features = data_2016[['country', 'teaching', 'research', 'citations', 'year']]"
   ]
  },
  {
   "cell_type": "code",
   "execution_count": 218,
   "metadata": {
    "collapsed": true
   },
   "outputs": [],
   "source": [
    "y_total_score_2016 = lr.predict(X_train_select_features)"
   ]
  },
  {
   "cell_type": "code",
   "execution_count": 219,
   "metadata": {},
   "outputs": [
    {
     "data": {
      "text/html": [
       "<div>\n",
       "<style>\n",
       "    .dataframe thead tr:only-child th {\n",
       "        text-align: right;\n",
       "    }\n",
       "\n",
       "    .dataframe thead th {\n",
       "        text-align: left;\n",
       "    }\n",
       "\n",
       "    .dataframe tbody tr th {\n",
       "        vertical-align: top;\n",
       "    }\n",
       "</style>\n",
       "<table border=\"1\" class=\"dataframe\">\n",
       "  <thead>\n",
       "    <tr style=\"text-align: right;\">\n",
       "      <th></th>\n",
       "      <th>world_rank</th>\n",
       "      <th>university_name</th>\n",
       "      <th>country</th>\n",
       "      <th>teaching</th>\n",
       "      <th>international</th>\n",
       "      <th>research</th>\n",
       "      <th>citations</th>\n",
       "      <th>income</th>\n",
       "      <th>total_score</th>\n",
       "      <th>num_students</th>\n",
       "      <th>student_staff_ratio</th>\n",
       "      <th>international_students</th>\n",
       "      <th>female_male_ratio</th>\n",
       "      <th>year</th>\n",
       "    </tr>\n",
       "  </thead>\n",
       "  <tbody>\n",
       "    <tr>\n",
       "      <th>0</th>\n",
       "      <td>1</td>\n",
       "      <td>Harvard University</td>\n",
       "      <td>1.0</td>\n",
       "      <td>99.7</td>\n",
       "      <td>72.4</td>\n",
       "      <td>98.7</td>\n",
       "      <td>98.8</td>\n",
       "      <td>34.5</td>\n",
       "      <td>96.1</td>\n",
       "      <td>20152.0</td>\n",
       "      <td>8.9</td>\n",
       "      <td>25.0</td>\n",
       "      <td>NaN</td>\n",
       "      <td>2011</td>\n",
       "    </tr>\n",
       "    <tr>\n",
       "      <th>1</th>\n",
       "      <td>2</td>\n",
       "      <td>California Institute of Technology</td>\n",
       "      <td>1.0</td>\n",
       "      <td>97.7</td>\n",
       "      <td>54.6</td>\n",
       "      <td>98.0</td>\n",
       "      <td>99.9</td>\n",
       "      <td>83.7</td>\n",
       "      <td>96</td>\n",
       "      <td>2243.0</td>\n",
       "      <td>6.9</td>\n",
       "      <td>27.0</td>\n",
       "      <td>0.492537</td>\n",
       "      <td>2011</td>\n",
       "    </tr>\n",
       "    <tr>\n",
       "      <th>2</th>\n",
       "      <td>3</td>\n",
       "      <td>Massachusetts Institute of Technology</td>\n",
       "      <td>1.0</td>\n",
       "      <td>97.8</td>\n",
       "      <td>82.3</td>\n",
       "      <td>91.4</td>\n",
       "      <td>99.9</td>\n",
       "      <td>87.5</td>\n",
       "      <td>95.6</td>\n",
       "      <td>11074.0</td>\n",
       "      <td>9.0</td>\n",
       "      <td>33.0</td>\n",
       "      <td>0.587302</td>\n",
       "      <td>2011</td>\n",
       "    </tr>\n",
       "    <tr>\n",
       "      <th>3</th>\n",
       "      <td>4</td>\n",
       "      <td>Stanford University</td>\n",
       "      <td>1.0</td>\n",
       "      <td>98.3</td>\n",
       "      <td>29.5</td>\n",
       "      <td>98.1</td>\n",
       "      <td>99.2</td>\n",
       "      <td>64.3</td>\n",
       "      <td>94.3</td>\n",
       "      <td>15596.0</td>\n",
       "      <td>7.8</td>\n",
       "      <td>22.0</td>\n",
       "      <td>0.724138</td>\n",
       "      <td>2011</td>\n",
       "    </tr>\n",
       "    <tr>\n",
       "      <th>4</th>\n",
       "      <td>5</td>\n",
       "      <td>Princeton University</td>\n",
       "      <td>1.0</td>\n",
       "      <td>90.9</td>\n",
       "      <td>70.3</td>\n",
       "      <td>95.4</td>\n",
       "      <td>99.9</td>\n",
       "      <td>-</td>\n",
       "      <td>94.2</td>\n",
       "      <td>7929.0</td>\n",
       "      <td>8.4</td>\n",
       "      <td>27.0</td>\n",
       "      <td>0.818182</td>\n",
       "      <td>2011</td>\n",
       "    </tr>\n",
       "  </tbody>\n",
       "</table>\n",
       "</div>"
      ],
      "text/plain": [
       "  world_rank                        university_name  country  teaching  \\\n",
       "0          1                     Harvard University      1.0      99.7   \n",
       "1          2     California Institute of Technology      1.0      97.7   \n",
       "2          3  Massachusetts Institute of Technology      1.0      97.8   \n",
       "3          4                    Stanford University      1.0      98.3   \n",
       "4          5                   Princeton University      1.0      90.9   \n",
       "\n",
       "  international  research  citations income total_score  num_students  \\\n",
       "0          72.4      98.7       98.8   34.5        96.1       20152.0   \n",
       "1          54.6      98.0       99.9   83.7          96        2243.0   \n",
       "2          82.3      91.4       99.9   87.5        95.6       11074.0   \n",
       "3          29.5      98.1       99.2   64.3        94.3       15596.0   \n",
       "4          70.3      95.4       99.9      -        94.2        7929.0   \n",
       "\n",
       "   student_staff_ratio  international_students  female_male_ratio  year  \n",
       "0                  8.9                    25.0                NaN  2011  \n",
       "1                  6.9                    27.0           0.492537  2011  \n",
       "2                  9.0                    33.0           0.587302  2011  \n",
       "3                  7.8                    22.0           0.724138  2011  \n",
       "4                  8.4                    27.0           0.818182  2011  "
      ]
     },
     "execution_count": 219,
     "metadata": {},
     "output_type": "execute_result"
    }
   ],
   "source": [
    "all_data.head()"
   ]
  },
  {
   "cell_type": "code",
   "execution_count": 222,
   "metadata": {},
   "outputs": [
    {
     "name": "stderr",
     "output_type": "stream",
     "text": [
      "/Users/ajinthchristudas/anaconda/lib/python3.6/site-packages/ipykernel_launcher.py:1: SettingWithCopyWarning: \n",
      "A value is trying to be set on a copy of a slice from a DataFrame.\n",
      "Try using .loc[row_indexer,col_indexer] = value instead\n",
      "\n",
      "See the caveats in the documentation: http://pandas.pydata.org/pandas-docs/stable/indexing.html#indexing-view-versus-copy\n",
      "  \"\"\"Entry point for launching an IPython kernel.\n"
     ]
    }
   ],
   "source": [
    "data_2016['total_score'] = y_total_score_2016.copy()"
   ]
  },
  {
   "cell_type": "code",
   "execution_count": 241,
   "metadata": {},
   "outputs": [
    {
     "data": {
      "text/html": [
       "<div>\n",
       "<style>\n",
       "    .dataframe thead tr:only-child th {\n",
       "        text-align: right;\n",
       "    }\n",
       "\n",
       "    .dataframe thead th {\n",
       "        text-align: left;\n",
       "    }\n",
       "\n",
       "    .dataframe tbody tr th {\n",
       "        vertical-align: top;\n",
       "    }\n",
       "</style>\n",
       "<table border=\"1\" class=\"dataframe\">\n",
       "  <thead>\n",
       "    <tr style=\"text-align: right;\">\n",
       "      <th></th>\n",
       "      <th>university_name</th>\n",
       "      <th>total_score</th>\n",
       "    </tr>\n",
       "  </thead>\n",
       "  <tbody>\n",
       "    <tr>\n",
       "      <th>1803</th>\n",
       "      <td>California Institute of Technology</td>\n",
       "      <td>103.793158</td>\n",
       "    </tr>\n",
       "    <tr>\n",
       "      <th>1804</th>\n",
       "      <td>University of Oxford</td>\n",
       "      <td>102.422328</td>\n",
       "    </tr>\n",
       "    <tr>\n",
       "      <th>1805</th>\n",
       "      <td>Stanford University</td>\n",
       "      <td>101.866874</td>\n",
       "    </tr>\n",
       "    <tr>\n",
       "      <th>1806</th>\n",
       "      <td>University of Cambridge</td>\n",
       "      <td>100.380612</td>\n",
       "    </tr>\n",
       "    <tr>\n",
       "      <th>1807</th>\n",
       "      <td>Massachusetts Institute of Technology</td>\n",
       "      <td>95.502285</td>\n",
       "    </tr>\n",
       "    <tr>\n",
       "      <th>1808</th>\n",
       "      <td>Harvard University</td>\n",
       "      <td>100.782347</td>\n",
       "    </tr>\n",
       "    <tr>\n",
       "      <th>1809</th>\n",
       "      <td>Princeton University</td>\n",
       "      <td>96.101142</td>\n",
       "    </tr>\n",
       "    <tr>\n",
       "      <th>1810</th>\n",
       "      <td>Imperial College London</td>\n",
       "      <td>92.947593</td>\n",
       "    </tr>\n",
       "    <tr>\n",
       "      <th>1811</th>\n",
       "      <td>ETH Zurich Ð Swiss Federal Institute of Techno...</td>\n",
       "      <td>91.920005</td>\n",
       "    </tr>\n",
       "    <tr>\n",
       "      <th>1812</th>\n",
       "      <td>University of Chicago</td>\n",
       "      <td>94.179620</td>\n",
       "    </tr>\n",
       "    <tr>\n",
       "      <th>1813</th>\n",
       "      <td>Johns Hopkins University</td>\n",
       "      <td>91.920396</td>\n",
       "    </tr>\n",
       "    <tr>\n",
       "      <th>1814</th>\n",
       "      <td>Yale University</td>\n",
       "      <td>92.473521</td>\n",
       "    </tr>\n",
       "    <tr>\n",
       "      <th>1815</th>\n",
       "      <td>University of California, Berkeley</td>\n",
       "      <td>94.239517</td>\n",
       "    </tr>\n",
       "    <tr>\n",
       "      <th>1816</th>\n",
       "      <td>University College London</td>\n",
       "      <td>91.422818</td>\n",
       "    </tr>\n",
       "    <tr>\n",
       "      <th>1817</th>\n",
       "      <td>Columbia University</td>\n",
       "      <td>88.977970</td>\n",
       "    </tr>\n",
       "    <tr>\n",
       "      <th>1818</th>\n",
       "      <td>University of California, Los Angeles</td>\n",
       "      <td>91.926327</td>\n",
       "    </tr>\n",
       "    <tr>\n",
       "      <th>1819</th>\n",
       "      <td>University of Pennsylvania</td>\n",
       "      <td>91.217350</td>\n",
       "    </tr>\n",
       "    <tr>\n",
       "      <th>1820</th>\n",
       "      <td>Cornell University</td>\n",
       "      <td>88.460094</td>\n",
       "    </tr>\n",
       "    <tr>\n",
       "      <th>1821</th>\n",
       "      <td>University of Toronto</td>\n",
       "      <td>87.521626</td>\n",
       "    </tr>\n",
       "    <tr>\n",
       "      <th>1822</th>\n",
       "      <td>Duke University</td>\n",
       "      <td>83.365269</td>\n",
       "    </tr>\n",
       "  </tbody>\n",
       "</table>\n",
       "</div>"
      ],
      "text/plain": [
       "                                        university_name  total_score\n",
       "1803                 California Institute of Technology   103.793158\n",
       "1804                               University of Oxford   102.422328\n",
       "1805                                Stanford University   101.866874\n",
       "1806                            University of Cambridge   100.380612\n",
       "1807              Massachusetts Institute of Technology    95.502285\n",
       "1808                                 Harvard University   100.782347\n",
       "1809                               Princeton University    96.101142\n",
       "1810                            Imperial College London    92.947593\n",
       "1811  ETH Zurich Ð Swiss Federal Institute of Techno...    91.920005\n",
       "1812                              University of Chicago    94.179620\n",
       "1813                           Johns Hopkins University    91.920396\n",
       "1814                                    Yale University    92.473521\n",
       "1815                 University of California, Berkeley    94.239517\n",
       "1816                          University College London    91.422818\n",
       "1817                                Columbia University    88.977970\n",
       "1818              University of California, Los Angeles    91.926327\n",
       "1819                         University of Pennsylvania    91.217350\n",
       "1820                                 Cornell University    88.460094\n",
       "1821                              University of Toronto    87.521626\n",
       "1822                                    Duke University    83.365269"
      ]
     },
     "execution_count": 241,
     "metadata": {},
     "output_type": "execute_result"
    }
   ],
   "source": [
    "university_score_2016 = data_2016[['university_name', 'total_score']]\n",
    "university_score_2016.head(20)"
   ]
  },
  {
   "cell_type": "code",
   "execution_count": 230,
   "metadata": {},
   "outputs": [
    {
     "data": {
      "text/html": [
       "<div>\n",
       "<style>\n",
       "    .dataframe thead tr:only-child th {\n",
       "        text-align: right;\n",
       "    }\n",
       "\n",
       "    .dataframe thead th {\n",
       "        text-align: left;\n",
       "    }\n",
       "\n",
       "    .dataframe tbody tr th {\n",
       "        vertical-align: top;\n",
       "    }\n",
       "</style>\n",
       "<table border=\"1\" class=\"dataframe\">\n",
       "  <thead>\n",
       "    <tr style=\"text-align: right;\">\n",
       "      <th></th>\n",
       "      <th>university_name</th>\n",
       "      <th>total_score</th>\n",
       "    </tr>\n",
       "  </thead>\n",
       "  <tbody>\n",
       "    <tr>\n",
       "      <th>0</th>\n",
       "      <td>Harvard University</td>\n",
       "      <td>96.1</td>\n",
       "    </tr>\n",
       "    <tr>\n",
       "      <th>1</th>\n",
       "      <td>California Institute of Technology</td>\n",
       "      <td>96.0</td>\n",
       "    </tr>\n",
       "    <tr>\n",
       "      <th>2</th>\n",
       "      <td>Massachusetts Institute of Technology</td>\n",
       "      <td>95.6</td>\n",
       "    </tr>\n",
       "    <tr>\n",
       "      <th>3</th>\n",
       "      <td>Stanford University</td>\n",
       "      <td>94.3</td>\n",
       "    </tr>\n",
       "    <tr>\n",
       "      <th>4</th>\n",
       "      <td>Princeton University</td>\n",
       "      <td>94.2</td>\n",
       "    </tr>\n",
       "  </tbody>\n",
       "</table>\n",
       "</div>"
      ],
      "text/plain": [
       "                         university_name  total_score\n",
       "0                     Harvard University         96.1\n",
       "1     California Institute of Technology         96.0\n",
       "2  Massachusetts Institute of Technology         95.6\n",
       "3                    Stanford University         94.3\n",
       "4                   Princeton University         94.2"
      ]
     },
     "execution_count": 230,
     "metadata": {},
     "output_type": "execute_result"
    }
   ],
   "source": [
    "university_score_pre_2016 = data[['university_name', 'total_score']]\n",
    "university_score_pre_2016.head()"
   ]
  },
  {
   "cell_type": "code",
   "execution_count": null,
   "metadata": {},
   "outputs": [],
   "source": []
  },
  {
   "cell_type": "code",
   "execution_count": null,
   "metadata": {
    "collapsed": true
   },
   "outputs": [],
   "source": []
  }
 ],
 "metadata": {
  "anaconda-cloud": {},
  "celltoolbar": "Slideshow",
  "kernelspec": {
   "display_name": "Python 3",
   "language": "python",
   "name": "python3"
  },
  "language_info": {
   "codemirror_mode": {
    "name": "ipython",
    "version": 3
   },
   "file_extension": ".py",
   "mimetype": "text/x-python",
   "name": "python",
   "nbconvert_exporter": "python",
   "pygments_lexer": "ipython3",
   "version": "3.6.1"
  }
 },
 "nbformat": 4,
 "nbformat_minor": 1
}
