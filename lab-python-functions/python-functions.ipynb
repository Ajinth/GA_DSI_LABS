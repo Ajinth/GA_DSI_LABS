{
 "cells": [
  {
   "cell_type": "markdown",
   "metadata": {},
   "source": [
    "<img src=\"http://imgur.com/1ZcRyrc.png\" style=\"float: left; margin: 20px; height: 55px\">\n",
    "\n",
    "## Practice Python Functions\n",
    "\n",
    "_Author: Ryan Dunlap | DSI-SF_\n",
    "\n",
    "---"
   ]
  },
  {
   "cell_type": "markdown",
   "metadata": {},
   "source": [
    "### Resources - Potentially Helpful Functions\n",
    "\n",
    "* [Dictionary Comprehension](https://docs.python.org/2/tutorial/datastructures.html#dictionaries)\n",
    "* [Enumerate](https://docs.python.org/2/library/functions.html#enumerate)\n",
    "* [Length](https://docs.python.org/2/library/functions.html#len)\n",
    "* [Int](https://docs.python.org/2/library/functions.html#int)\n",
    "* [List](https://docs.python.org/2/library/functions.html#list)"
   ]
  },
  {
   "cell_type": "markdown",
   "metadata": {},
   "source": [
    "Now-a-days, most of the components of the `String` module are already built into python however, it still has several [constant values](https://docs.python.org/2/library/string.html#string-constants) which can be useful, such as:\n",
    "```python\n",
    "string.ascii_uppercase\n",
    "```"
   ]
  },
  {
   "cell_type": "code",
   "execution_count": 2,
   "metadata": {},
   "outputs": [
    {
     "data": {
      "text/plain": [
       "'ABCDEFGHIJKLMNOPQRSTUVWXYZ'"
      ]
     },
     "execution_count": 2,
     "metadata": {},
     "output_type": "execute_result"
    }
   ],
   "source": [
    "import string\n",
    "\n",
    "string.ascii_uppercase"
   ]
  },
  {
   "cell_type": "markdown",
   "metadata": {},
   "source": [
    "---\n",
    "\n",
    "### 1. Write a function that takes the length of a side of a square as an argument and returns the area of the square."
   ]
  },
  {
   "cell_type": "code",
   "execution_count": 7,
   "metadata": {},
   "outputs": [
    {
     "name": "stdout",
     "output_type": "stream",
     "text": [
      "16\n"
     ]
    }
   ],
   "source": [
    "def square(side): \n",
    "    return side**2 \n",
    "\n",
    "print (square(4))"
   ]
  },
  {
   "cell_type": "markdown",
   "metadata": {},
   "source": [
    "---\n",
    "\n",
    "### 2. Write a function that takes the base and height of a triangle and returns the area."
   ]
  },
  {
   "cell_type": "code",
   "execution_count": 8,
   "metadata": {},
   "outputs": [
    {
     "name": "stdout",
     "output_type": "stream",
     "text": [
      "50.0\n",
      "100.0\n"
     ]
    }
   ],
   "source": [
    "def area_of_triangle(base, height): \n",
    "    return 0.5*base*height\n",
    "\n",
    "print (area_of_triangle(10,10))\n",
    "print (area_of_triangle(10,20))"
   ]
  },
  {
   "cell_type": "markdown",
   "metadata": {},
   "source": [
    "---\n",
    "\n",
    "### 3. Write a function that takes a string as an argument and returns a dictionary of each character with its corresponding count:\n",
    "For example, `count_letters(\"General Assembly\")` returns the following dictionary:\n",
    "```python\n",
    "{'e': 3, 'l': 2, 's': 2, 'G': 1, 'n': 1, 'r': 1, 'a': 1, ' ': 1, 'A': 1, 'm': 1, 'b': 1, 'y': 1}\n",
    "```\n",
    "\n",
    "Note the space is in the dictionary, and that capital and lower case letters are counted separately.\n",
    "\n",
    "Hint: You can run a for loop on a string:\n",
    "```python\n",
    "for letter in \"General Assembly\":\n",
    "    print(letter)\n",
    "```"
   ]
  },
  {
   "cell_type": "code",
   "execution_count": 6,
   "metadata": {},
   "outputs": [
    {
     "name": "stdout",
     "output_type": "stream",
     "text": [
      "{'a': 2, 'j': 2, 'i': 2, 'n': 2, 't': 2, 'h': 2}\n"
     ]
    }
   ],
   "source": [
    "\n",
    "my_dict = {} \n",
    "\n",
    "def string_to_dict(word):\n",
    "    word = word.lower()\n",
    "    for letter in word: \n",
    "        if letter not in my_dict: \n",
    "            my_dict[letter] = 1 \n",
    "        else: \n",
    "            my_dict[letter] += 1 \n",
    "    return my_dict\n",
    "\n",
    "print (string_to_dict('ajinthAJinth'))\n",
    "\n"
   ]
  },
  {
   "cell_type": "markdown",
   "metadata": {},
   "source": [
    "---\n",
    "\n",
    "### 4. Write a function that takes two integers, passed as strings, and returns the sum, difference, and product as a tuple (all values as integers)."
   ]
  },
  {
   "cell_type": "code",
   "execution_count": 3,
   "metadata": {},
   "outputs": [
    {
     "name": "stdout",
     "output_type": "stream",
     "text": [
      "(11, 1, 30)\n",
      "<class 'tuple'>\n"
     ]
    }
   ],
   "source": [
    "def two_integers(a, b): \n",
    "    \n",
    "    s = int(a) + int(b)\n",
    "    d = int(a) - int (b) \n",
    "    p = int(a) * int(b)\n",
    "    \n",
    "    return (int(s),int(d),int(p))\n",
    "\n",
    "print (two_integers('6', '5'))\n",
    "print (type(two_integers('6', '5')))\n",
    "    "
   ]
  },
  {
   "cell_type": "markdown",
   "metadata": {},
   "source": [
    "---\n",
    "\n",
    "### 5. Write a function that takes a list as the argument and returns a tuple consisting of two elements:\n",
    "- **A list with the items in reverse order.**  \n",
    "- **A list of the items in the original list that have an odd index.**"
   ]
  },
  {
   "cell_type": "code",
   "execution_count": 11,
   "metadata": {},
   "outputs": [
    {
     "name": "stdout",
     "output_type": "stream",
     "text": [
      "([10, 9, 8, 7, 6, 5, 4, 3, 2, 1], [1, 3, 5, 7, 9])\n"
     ]
    }
   ],
   "source": [
    "odd_list = []\n",
    "\n",
    "def list_to_tuple(mylist): \n",
    "    reverse_list = mylist[::-1]\n",
    "    for key, item in enumerate(mylist): \n",
    "        if key % 2 != 0: \n",
    "            odd_list.append(key)\n",
    "        else: \n",
    "            continue \n",
    "    return (reverse_list, odd_list)\n",
    "\n",
    "print (list_to_tuple([1,2,3,4,5,6,7,8,9,10]))\n"
   ]
  },
  {
   "cell_type": "markdown",
   "metadata": {},
   "source": [
    "---\n",
    "\n",
    "### Challenge Problem: Write a function that returns the score for a word.  The score of the word is the sum of the scores of its letters. Each letter's score is equal to it's position in the alphabet.\n",
    "\n",
    "So, for example:\n",
    "\n",
    "* A = 1, B = 2, C = 3, D = 4, E = 5\n",
    "* abe = 8 = (1 + 2 + 5)\n",
    "\n",
    "\n",
    "_Hint: The string library has a property_ `ascii_lowercase` _that can save some typing here._\n"
   ]
  },
  {
   "cell_type": "code",
   "execution_count": 58,
   "metadata": {},
   "outputs": [
    {
     "data": {
      "text/plain": [
       "'abcdefghijklmnopqrstuvwxyz'"
      ]
     },
     "execution_count": 58,
     "metadata": {},
     "output_type": "execute_result"
    }
   ],
   "source": [
    "import string\n",
    "\n",
    "string.ascii_lowercase"
   ]
  },
  {
   "cell_type": "code",
   "execution_count": 79,
   "metadata": {},
   "outputs": [
    {
     "name": "stdout",
     "output_type": "stream",
     "text": [
      "{'a': 1, 'b': 2, 'c': 3, 'd': 4, 'e': 5, 'f': 6, 'g': 7, 'h': 8, 'i': 9, 'j': 10, 'k': 11, 'l': 12, 'm': 13, 'n': 14, 'o': 15, 'p': 16, 'q': 17, 'r': 18, 's': 19, 't': 20, 'u': 21, 'v': 22, 'w': 23, 'x': 24, 'y': 25, 'z': 26}\n",
      "1\n",
      "<class 'int'>\n"
     ]
    }
   ],
   "source": [
    "import string\n",
    "my_dict = {}\n",
    "for k, v in enumerate(string.ascii_lowercase):\n",
    "    my_dict[v] = k+1 \n",
    "print (my_dict)\n",
    "print (my_dict['a'])\n",
    "print (type(my_dict['a']))"
   ]
  },
  {
   "cell_type": "code",
   "execution_count": 17,
   "metadata": {},
   "outputs": [
    {
     "data": {
      "text/plain": [
       "78"
      ]
     },
     "execution_count": 17,
     "metadata": {},
     "output_type": "execute_result"
    }
   ],
   "source": [
    "import string\n",
    "\n",
    "my_dict = {}\n",
    "\n",
    "for k, v in enumerate(string.ascii_lowercase):\n",
    "    my_dict[v] = k+1 \n",
    "\n",
    "def word_score(word): \n",
    "    score = 0 \n",
    "    for letter in word: \n",
    "        letter = letter.lower()\n",
    "        score += my_dict[letter]\n",
    "    return score\n",
    "\n",
    "word_score('zzz')"
   ]
  },
  {
   "cell_type": "code",
   "execution_count": null,
   "metadata": {
    "collapsed": true
   },
   "outputs": [],
   "source": []
  }
 ],
 "metadata": {
  "anaconda-cloud": {},
  "kernelspec": {
   "display_name": "Python 3",
   "language": "python",
   "name": "python3"
  },
  "language_info": {
   "codemirror_mode": {
    "name": "ipython",
    "version": 3
   },
   "file_extension": ".py",
   "mimetype": "text/x-python",
   "name": "python",
   "nbconvert_exporter": "python",
   "pygments_lexer": "ipython3",
   "version": "3.6.1"
  }
 },
 "nbformat": 4,
 "nbformat_minor": 1
}
