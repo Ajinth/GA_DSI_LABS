{
 "cells": [
  {
   "cell_type": "code",
   "execution_count": 4,
   "metadata": {},
   "outputs": [
    {
     "name": "stdout",
     "output_type": "stream",
     "text": [
      "Probability of Winning without a Switch:  0.3349\n",
      "Probability of Winning with a Switch:  0.6651\n"
     ]
    }
   ],
   "source": [
    "'''Importing the Random Library'''\n",
    "import random\n",
    "\n",
    "'''Setting up a Door Dictionary. There are three doors, but two goats and one car. Hence there are three possible door combinations. We are storing them in a dictionary'''\n",
    "\n",
    "door_dict = {\n",
    "    1: ['Car', 'Goat', 'Goat' ], \n",
    "    2: ['Goat', 'Car', 'Goat'], \n",
    "    3: ['Goat', 'Goat', 'Car']\n",
    "}\n",
    "\n",
    "'''This is a custom function to select a different door by the user in the event the user plans to switch the door in the second attempt'''\n",
    "def user_selection_with_switch(lst): \n",
    "    for k1, v1 in enumerate(lst): \n",
    "        if v1 == first_selected_door or v1 == host_selected_door: \n",
    "            continue \n",
    "        else: \n",
    "            return v1\n",
    "        \n",
    "\n",
    "'''Initializing Variables'''\n",
    "win_without_switch = 0 \n",
    "lose_without_switch = 0 \n",
    "win_with_switch = 0 \n",
    "lose_with_switch = 0 \n",
    "\n",
    "'''Setting up the iterator to execute the simulation 10000 times with a for loop'''\n",
    "for _ in range(10000): \n",
    "    \n",
    "    '''Using the random range function to select a random iterator between 1 and 3'''\n",
    "    door_combination_selection = random.randrange(1,4)\n",
    "\n",
    "    '''Using the random iterator generated in the previous step to select the possible door combination'''\n",
    "    door_dict_selected = door_dict[door_combination_selection]\n",
    "\n",
    "    '''Initializing a list to store the three doors '''\n",
    "    doors = [1,2,3]\n",
    "    \n",
    "    '''Randomly selecting one of the door choices using the random function'''\n",
    "    first_selected_door = random.choice(doors)\n",
    "\n",
    "    '''Using a for loop to iterate through the doors list and assigning a door to be selected by the host'''\n",
    "    for k, v in enumerate(doors):\n",
    "        if v == first_selected_door or door_dict_selected[k]=='Car': \n",
    "            continue \n",
    "        else: \n",
    "            host_selected_door = v \n",
    "            break \n",
    "\n",
    "\n",
    "    '''Using random choice operator to select either 0 or 1. 0 indicates no switch and a 1 indicates a switch'''\n",
    "    switch = random.choice([0,1]) \n",
    "    \n",
    "    \n",
    "    '''Based on the value of the switch the if statemements below check if the user wins or loses'''\n",
    "    if switch == 0: \n",
    "        user_final_selected_door = first_selected_door\n",
    "        if door_dict_selected[user_final_selected_door - 1] =='Car': \n",
    "            win_without_switch += 1 \n",
    "        else: \n",
    "            lose_without_switch += 1 \n",
    "    else: \n",
    "        user_final_selected_door = user_selection_with_switch(doors)\n",
    "        if door_dict_selected[user_final_selected_door - 1] =='Car':\n",
    "            win_with_switch += 1 \n",
    "        else: \n",
    "            lose_with_switch += 1 \n",
    "        \n",
    "\n",
    "print ('Probability of Winning without a Switch: ', (win_without_switch + lose_with_switch)/10000)\n",
    "print ('Probability of Winning with a Switch: ', (win_with_switch+lose_without_switch)/10000)\n"
   ]
  },
  {
   "cell_type": "code",
   "execution_count": null,
   "metadata": {
    "collapsed": true
   },
   "outputs": [],
   "source": []
  }
 ],
 "metadata": {
  "anaconda-cloud": {},
  "kernelspec": {
   "display_name": "Python 3",
   "language": "python",
   "name": "python3"
  },
  "language_info": {
   "codemirror_mode": {
    "name": "ipython",
    "version": 3
   },
   "file_extension": ".py",
   "mimetype": "text/x-python",
   "name": "python",
   "nbconvert_exporter": "python",
   "pygments_lexer": "ipython3",
   "version": "3.6.1"
  }
 },
 "nbformat": 4,
 "nbformat_minor": 1
}
