{
 "cells": [
  {
   "cell_type": "markdown",
   "metadata": {},
   "source": [
    "<img src=\"http://imgur.com/1ZcRyrc.png\" style=\"float: left; margin: 20px; height: 55px\">\n",
    "\n",
    "# Predicting shots made per game by Kobe Bryant\n",
    "\n",
    "_Authors: Kiefer Katovich (SF)_\n",
    "\n",
    "---\n",
    "\n",
    "In this lab you'll be using regularized regression penalties Ridge, Lasso, and Elastic Net to try and predict how many shots Kobe Bryant made per game in his career.\n",
    "\n",
    "The Kobe shots dataset has hundreds of columns representing different characteristics of each basketball game. Fitting an ordinary linear regression using every predictor would dramatically overfit the model considering the limited number of observations (games) we have available. Furthermore, many of the predictors have significant multicollinearity. \n",
    "\n",
    "**Warning:** Some of these calculations are computationally expensive and may take a while to execute.  It may be worth while to only use a portion of the data to perform these calculations, especially if you have experienced kernel issues in the past.\n",
    "\n",
    "---\n",
    "\n",
    "### 1. Load packages and data"
   ]
  },
  {
   "cell_type": "code",
   "execution_count": 170,
   "metadata": {
    "collapsed": true
   },
   "outputs": [],
   "source": [
    "import numpy as np\n",
    "import pandas as pd\n",
    "import patsy\n",
    "\n",
    "from sklearn.linear_model import Ridge, Lasso, ElasticNet, LinearRegression, RidgeCV, LassoCV, ElasticNetCV\n",
    "from sklearn.model_selection import cross_val_score\n",
    "\n",
    "import matplotlib\n",
    "import matplotlib.pyplot as plt\n",
    "import seaborn as sns\n",
    "plt.style.use('fivethirtyeight')\n",
    "\n",
    "%config InlineBackend.figure_format = 'retina'\n",
    "%matplotlib inline"
   ]
  },
  {
   "cell_type": "code",
   "execution_count": 171,
   "metadata": {
    "collapsed": true
   },
   "outputs": [],
   "source": [
    "df = pd.read_csv('./datasets/kobe_superwide_games.csv')"
   ]
  },
  {
   "cell_type": "markdown",
   "metadata": {},
   "source": [
    "---\n",
    "\n",
    "### 2. Examine the data\n",
    "\n",
    "- How many columns are there?\n",
    "- Examine what the observations (rows) and columns represent.\n",
    "- Why is this data that regularization might be particularly useful for?"
   ]
  },
  {
   "cell_type": "code",
   "execution_count": 172,
   "metadata": {},
   "outputs": [
    {
     "name": "stdout",
     "output_type": "stream",
     "text": [
      "Number of Columns: 645\n"
     ]
    }
   ],
   "source": [
    "print ('Number of Columns:', df.shape[1])"
   ]
  },
  {
   "cell_type": "code",
   "execution_count": 173,
   "metadata": {},
   "outputs": [
    {
     "name": "stdout",
     "output_type": "stream",
     "text": [
      "['SHOTS_MADE', 'AWAY_GAME', 'SEASON_OPPONENT:atl:1996-97', 'SEASON_OPPONENT:atl:1997-98', 'SEASON_OPPONENT:atl:1999-00', 'SEASON_OPPONENT:atl:2000-01', 'SEASON_OPPONENT:atl:2001-02', 'SEASON_OPPONENT:atl:2002-03', 'SEASON_OPPONENT:atl:2003-04', 'SEASON_OPPONENT:atl:2004-05', 'SEASON_OPPONENT:atl:2005-06', 'SEASON_OPPONENT:atl:2006-07', 'SEASON_OPPONENT:atl:2007-08', 'SEASON_OPPONENT:atl:2008-09', 'SEASON_OPPONENT:atl:2009-10', 'SEASON_OPPONENT:atl:2010-11', 'SEASON_OPPONENT:atl:2011-12', 'SEASON_OPPONENT:atl:2012-13', 'SEASON_OPPONENT:atl:2013-14', 'SEASON_OPPONENT:atl:2014-15', 'SEASON_OPPONENT:atl:2015-16', 'SEASON_OPPONENT:bkn:2012-13', 'SEASON_OPPONENT:bkn:2015-16', 'SEASON_OPPONENT:bos:1996-97', 'SEASON_OPPONENT:bos:1997-98', 'SEASON_OPPONENT:bos:1999-00', 'SEASON_OPPONENT:bos:2001-02', 'SEASON_OPPONENT:bos:2002-03', 'SEASON_OPPONENT:bos:2003-04', 'SEASON_OPPONENT:bos:2004-05', 'SEASON_OPPONENT:bos:2005-06', 'SEASON_OPPONENT:bos:2006-07', 'SEASON_OPPONENT:bos:2007-08', 'SEASON_OPPONENT:bos:2008-09', 'SEASON_OPPONENT:bos:2009-10', 'SEASON_OPPONENT:bos:2010-11', 'SEASON_OPPONENT:bos:2011-12', 'SEASON_OPPONENT:bos:2012-13', 'SEASON_OPPONENT:bos:2014-15', 'SEASON_OPPONENT:bos:2015-16', 'SEASON_OPPONENT:cha:1996-97', 'SEASON_OPPONENT:cha:1997-98', 'SEASON_OPPONENT:cha:1998-99', 'SEASON_OPPONENT:cha:1999-00', 'SEASON_OPPONENT:cha:2000-01', 'SEASON_OPPONENT:cha:2001-02', 'SEASON_OPPONENT:cha:2004-05', 'SEASON_OPPONENT:cha:2005-06', 'SEASON_OPPONENT:cha:2006-07', 'SEASON_OPPONENT:cha:2007-08', 'SEASON_OPPONENT:cha:2008-09', 'SEASON_OPPONENT:cha:2009-10', 'SEASON_OPPONENT:cha:2010-11', 'SEASON_OPPONENT:cha:2011-12', 'SEASON_OPPONENT:cha:2012-13', 'SEASON_OPPONENT:cha:2013-14', 'SEASON_OPPONENT:cha:2014-15', 'SEASON_OPPONENT:cha:2015-16', 'SEASON_OPPONENT:chi:1996-97', 'SEASON_OPPONENT:chi:1997-98', 'SEASON_OPPONENT:chi:1999-00', 'SEASON_OPPONENT:chi:2000-01', 'SEASON_OPPONENT:chi:2001-02', 'SEASON_OPPONENT:chi:2002-03', 'SEASON_OPPONENT:chi:2003-04', 'SEASON_OPPONENT:chi:2004-05', 'SEASON_OPPONENT:chi:2005-06', 'SEASON_OPPONENT:chi:2006-07', 'SEASON_OPPONENT:chi:2007-08', 'SEASON_OPPONENT:chi:2008-09', 'SEASON_OPPONENT:chi:2009-10', 'SEASON_OPPONENT:chi:2010-11', 'SEASON_OPPONENT:chi:2011-12', 'SEASON_OPPONENT:chi:2012-13', 'SEASON_OPPONENT:chi:2015-16', 'SEASON_OPPONENT:cle:1996-97', 'SEASON_OPPONENT:cle:1997-98', 'SEASON_OPPONENT:cle:1998-99', 'SEASON_OPPONENT:cle:1999-00', 'SEASON_OPPONENT:cle:2000-01', 'SEASON_OPPONENT:cle:2001-02', 'SEASON_OPPONENT:cle:2002-03', 'SEASON_OPPONENT:cle:2003-04', 'SEASON_OPPONENT:cle:2004-05', 'SEASON_OPPONENT:cle:2005-06', 'SEASON_OPPONENT:cle:2006-07', 'SEASON_OPPONENT:cle:2007-08', 'SEASON_OPPONENT:cle:2008-09', 'SEASON_OPPONENT:cle:2009-10', 'SEASON_OPPONENT:cle:2010-11', 'SEASON_OPPONENT:cle:2011-12', 'SEASON_OPPONENT:cle:2012-13', 'SEASON_OPPONENT:cle:2014-15', 'SEASON_OPPONENT:cle:2015-16', 'SEASON_OPPONENT:dal:1996-97', 'SEASON_OPPONENT:dal:1997-98', 'SEASON_OPPONENT:dal:1998-99', 'SEASON_OPPONENT:dal:1999-00', 'SEASON_OPPONENT:dal:2000-01', 'SEASON_OPPONENT:dal:2001-02', 'SEASON_OPPONENT:dal:2002-03', 'SEASON_OPPONENT:dal:2003-04', 'SEASON_OPPONENT:dal:2004-05', 'SEASON_OPPONENT:dal:2005-06', 'SEASON_OPPONENT:dal:2006-07', 'SEASON_OPPONENT:dal:2007-08', 'SEASON_OPPONENT:dal:2008-09', 'SEASON_OPPONENT:dal:2009-10', 'SEASON_OPPONENT:dal:2010-11', 'SEASON_OPPONENT:dal:2011-12', 'SEASON_OPPONENT:dal:2012-13', 'SEASON_OPPONENT:dal:2014-15', 'SEASON_OPPONENT:dal:2015-16', 'SEASON_OPPONENT:den:1996-97', 'SEASON_OPPONENT:den:1997-98', 'SEASON_OPPONENT:den:1998-99', 'SEASON_OPPONENT:den:1999-00', 'SEASON_OPPONENT:den:2000-01', 'SEASON_OPPONENT:den:2001-02', 'SEASON_OPPONENT:den:2002-03', 'SEASON_OPPONENT:den:2003-04', 'SEASON_OPPONENT:den:2004-05', 'SEASON_OPPONENT:den:2005-06', 'SEASON_OPPONENT:den:2006-07', 'SEASON_OPPONENT:den:2007-08', 'SEASON_OPPONENT:den:2008-09', 'SEASON_OPPONENT:den:2009-10', 'SEASON_OPPONENT:den:2010-11', 'SEASON_OPPONENT:den:2011-12', 'SEASON_OPPONENT:den:2012-13', 'SEASON_OPPONENT:den:2014-15', 'SEASON_OPPONENT:den:2015-16', 'SEASON_OPPONENT:det:1996-97', 'SEASON_OPPONENT:det:1997-98', 'SEASON_OPPONENT:det:1999-00', 'SEASON_OPPONENT:det:2000-01', 'SEASON_OPPONENT:det:2001-02', 'SEASON_OPPONENT:det:2002-03', 'SEASON_OPPONENT:det:2003-04', 'SEASON_OPPONENT:det:2004-05', 'SEASON_OPPONENT:det:2005-06', 'SEASON_OPPONENT:det:2006-07', 'SEASON_OPPONENT:det:2007-08', 'SEASON_OPPONENT:det:2008-09', 'SEASON_OPPONENT:det:2009-10', 'SEASON_OPPONENT:det:2010-11', 'SEASON_OPPONENT:det:2011-12', 'SEASON_OPPONENT:det:2012-13', 'SEASON_OPPONENT:det:2014-15', 'SEASON_OPPONENT:det:2015-16', 'SEASON_OPPONENT:gsw:1996-97', 'SEASON_OPPONENT:gsw:1997-98', 'SEASON_OPPONENT:gsw:1998-99', 'SEASON_OPPONENT:gsw:1999-00', 'SEASON_OPPONENT:gsw:2000-01', 'SEASON_OPPONENT:gsw:2001-02', 'SEASON_OPPONENT:gsw:2002-03', 'SEASON_OPPONENT:gsw:2003-04', 'SEASON_OPPONENT:gsw:2004-05', 'SEASON_OPPONENT:gsw:2005-06', 'SEASON_OPPONENT:gsw:2006-07', 'SEASON_OPPONENT:gsw:2007-08', 'SEASON_OPPONENT:gsw:2008-09', 'SEASON_OPPONENT:gsw:2009-10', 'SEASON_OPPONENT:gsw:2010-11', 'SEASON_OPPONENT:gsw:2011-12', 'SEASON_OPPONENT:gsw:2012-13', 'SEASON_OPPONENT:gsw:2014-15', 'SEASON_OPPONENT:gsw:2015-16', 'SEASON_OPPONENT:hou:1996-97', 'SEASON_OPPONENT:hou:1997-98', 'SEASON_OPPONENT:hou:1998-99', 'SEASON_OPPONENT:hou:1999-00', 'SEASON_OPPONENT:hou:2000-01', 'SEASON_OPPONENT:hou:2001-02', 'SEASON_OPPONENT:hou:2002-03', 'SEASON_OPPONENT:hou:2003-04', 'SEASON_OPPONENT:hou:2004-05', 'SEASON_OPPONENT:hou:2005-06', 'SEASON_OPPONENT:hou:2006-07', 'SEASON_OPPONENT:hou:2007-08', 'SEASON_OPPONENT:hou:2008-09', 'SEASON_OPPONENT:hou:2009-10', 'SEASON_OPPONENT:hou:2010-11', 'SEASON_OPPONENT:hou:2011-12', 'SEASON_OPPONENT:hou:2012-13', 'SEASON_OPPONENT:hou:2014-15', 'SEASON_OPPONENT:hou:2015-16', 'SEASON_OPPONENT:ind:1996-97', 'SEASON_OPPONENT:ind:1997-98', 'SEASON_OPPONENT:ind:1998-99', 'SEASON_OPPONENT:ind:1999-00', 'SEASON_OPPONENT:ind:2000-01', 'SEASON_OPPONENT:ind:2001-02', 'SEASON_OPPONENT:ind:2002-03', 'SEASON_OPPONENT:ind:2003-04', 'SEASON_OPPONENT:ind:2004-05', 'SEASON_OPPONENT:ind:2005-06', 'SEASON_OPPONENT:ind:2006-07', 'SEASON_OPPONENT:ind:2007-08', 'SEASON_OPPONENT:ind:2008-09', 'SEASON_OPPONENT:ind:2009-10', 'SEASON_OPPONENT:ind:2010-11', 'SEASON_OPPONENT:ind:2011-12', 'SEASON_OPPONENT:ind:2012-13', 'SEASON_OPPONENT:ind:2014-15', 'SEASON_OPPONENT:ind:2015-16', 'SEASON_OPPONENT:lac:1996-97', 'SEASON_OPPONENT:lac:1997-98', 'SEASON_OPPONENT:lac:1998-99', 'SEASON_OPPONENT:lac:1999-00', 'SEASON_OPPONENT:lac:2000-01', 'SEASON_OPPONENT:lac:2001-02', 'SEASON_OPPONENT:lac:2002-03', 'SEASON_OPPONENT:lac:2003-04', 'SEASON_OPPONENT:lac:2004-05', 'SEASON_OPPONENT:lac:2005-06', 'SEASON_OPPONENT:lac:2006-07', 'SEASON_OPPONENT:lac:2007-08', 'SEASON_OPPONENT:lac:2008-09', 'SEASON_OPPONENT:lac:2009-10', 'SEASON_OPPONENT:lac:2010-11', 'SEASON_OPPONENT:lac:2011-12', 'SEASON_OPPONENT:lac:2012-13', 'SEASON_OPPONENT:lac:2014-15', 'SEASON_OPPONENT:lac:2015-16', 'SEASON_OPPONENT:mem:2001-02', 'SEASON_OPPONENT:mem:2002-03', 'SEASON_OPPONENT:mem:2003-04', 'SEASON_OPPONENT:mem:2004-05', 'SEASON_OPPONENT:mem:2005-06', 'SEASON_OPPONENT:mem:2006-07', 'SEASON_OPPONENT:mem:2007-08', 'SEASON_OPPONENT:mem:2008-09', 'SEASON_OPPONENT:mem:2009-10', 'SEASON_OPPONENT:mem:2010-11', 'SEASON_OPPONENT:mem:2011-12', 'SEASON_OPPONENT:mem:2012-13', 'SEASON_OPPONENT:mem:2013-14', 'SEASON_OPPONENT:mem:2014-15', 'SEASON_OPPONENT:mem:2015-16', 'SEASON_OPPONENT:mia:1996-97', 'SEASON_OPPONENT:mia:1997-98', 'SEASON_OPPONENT:mia:1999-00', 'SEASON_OPPONENT:mia:2000-01', 'SEASON_OPPONENT:mia:2001-02', 'SEASON_OPPONENT:mia:2002-03', 'SEASON_OPPONENT:mia:2003-04', 'SEASON_OPPONENT:mia:2004-05', 'SEASON_OPPONENT:mia:2005-06', 'SEASON_OPPONENT:mia:2006-07', 'SEASON_OPPONENT:mia:2007-08', 'SEASON_OPPONENT:mia:2008-09', 'SEASON_OPPONENT:mia:2009-10', 'SEASON_OPPONENT:mia:2010-11', 'SEASON_OPPONENT:mia:2011-12', 'SEASON_OPPONENT:mia:2012-13', 'SEASON_OPPONENT:mia:2014-15', 'SEASON_OPPONENT:mia:2015-16', 'SEASON_OPPONENT:mil:1996-97', 'SEASON_OPPONENT:mil:1997-98', 'SEASON_OPPONENT:mil:1999-00', 'SEASON_OPPONENT:mil:2000-01', 'SEASON_OPPONENT:mil:2001-02', 'SEASON_OPPONENT:mil:2002-03', 'SEASON_OPPONENT:mil:2003-04', 'SEASON_OPPONENT:mil:2004-05', 'SEASON_OPPONENT:mil:2005-06', 'SEASON_OPPONENT:mil:2006-07', 'SEASON_OPPONENT:mil:2007-08', 'SEASON_OPPONENT:mil:2008-09', 'SEASON_OPPONENT:mil:2009-10', 'SEASON_OPPONENT:mil:2010-11', 'SEASON_OPPONENT:mil:2011-12', 'SEASON_OPPONENT:mil:2012-13', 'SEASON_OPPONENT:mil:2015-16', 'SEASON_OPPONENT:min:1996-97', 'SEASON_OPPONENT:min:1997-98', 'SEASON_OPPONENT:min:1998-99', 'SEASON_OPPONENT:min:1999-00', 'SEASON_OPPONENT:min:2000-01', 'SEASON_OPPONENT:min:2001-02', 'SEASON_OPPONENT:min:2002-03', 'SEASON_OPPONENT:min:2003-04', 'SEASON_OPPONENT:min:2004-05', 'SEASON_OPPONENT:min:2005-06', 'SEASON_OPPONENT:min:2006-07', 'SEASON_OPPONENT:min:2007-08', 'SEASON_OPPONENT:min:2008-09', 'SEASON_OPPONENT:min:2009-10', 'SEASON_OPPONENT:min:2010-11', 'SEASON_OPPONENT:min:2011-12', 'SEASON_OPPONENT:min:2012-13', 'SEASON_OPPONENT:min:2014-15', 'SEASON_OPPONENT:min:2015-16', 'SEASON_OPPONENT:njn:1996-97', 'SEASON_OPPONENT:njn:1997-98', 'SEASON_OPPONENT:njn:1999-00', 'SEASON_OPPONENT:njn:2000-01', 'SEASON_OPPONENT:njn:2001-02', 'SEASON_OPPONENT:njn:2002-03', 'SEASON_OPPONENT:njn:2003-04', 'SEASON_OPPONENT:njn:2005-06', 'SEASON_OPPONENT:njn:2006-07', 'SEASON_OPPONENT:njn:2007-08', 'SEASON_OPPONENT:njn:2008-09', 'SEASON_OPPONENT:njn:2009-10', 'SEASON_OPPONENT:njn:2010-11', 'SEASON_OPPONENT:njn:2011-12', 'SEASON_OPPONENT:noh:2002-03', 'SEASON_OPPONENT:noh:2003-04', 'SEASON_OPPONENT:noh:2007-08', 'SEASON_OPPONENT:noh:2008-09', 'SEASON_OPPONENT:noh:2009-10', 'SEASON_OPPONENT:noh:2010-11', 'SEASON_OPPONENT:noh:2011-12', 'SEASON_OPPONENT:noh:2012-13', 'SEASON_OPPONENT:nop:2004-05', 'SEASON_OPPONENT:nop:2005-06', 'SEASON_OPPONENT:nop:2006-07', 'SEASON_OPPONENT:nop:2014-15', 'SEASON_OPPONENT:nop:2015-16', 'SEASON_OPPONENT:nyk:1996-97', 'SEASON_OPPONENT:nyk:1997-98', 'SEASON_OPPONENT:nyk:1998-99', 'SEASON_OPPONENT:nyk:1999-00', 'SEASON_OPPONENT:nyk:2000-01', 'SEASON_OPPONENT:nyk:2001-02', 'SEASON_OPPONENT:nyk:2002-03', 'SEASON_OPPONENT:nyk:2003-04', 'SEASON_OPPONENT:nyk:2004-05', 'SEASON_OPPONENT:nyk:2005-06', 'SEASON_OPPONENT:nyk:2006-07', 'SEASON_OPPONENT:nyk:2007-08', 'SEASON_OPPONENT:nyk:2008-09', 'SEASON_OPPONENT:nyk:2009-10', 'SEASON_OPPONENT:nyk:2010-11', 'SEASON_OPPONENT:nyk:2011-12', 'SEASON_OPPONENT:nyk:2012-13', 'SEASON_OPPONENT:nyk:2015-16', 'SEASON_OPPONENT:okc:2008-09', 'SEASON_OPPONENT:okc:2009-10', 'SEASON_OPPONENT:okc:2010-11', 'SEASON_OPPONENT:okc:2011-12', 'SEASON_OPPONENT:okc:2012-13', 'SEASON_OPPONENT:okc:2013-14', 'SEASON_OPPONENT:okc:2014-15', 'SEASON_OPPONENT:okc:2015-16', 'SEASON_OPPONENT:orl:1996-97', 'SEASON_OPPONENT:orl:1997-98', 'SEASON_OPPONENT:orl:1998-99', 'SEASON_OPPONENT:orl:1999-00', 'SEASON_OPPONENT:orl:2000-01', 'SEASON_OPPONENT:orl:2001-02', 'SEASON_OPPONENT:orl:2002-03', 'SEASON_OPPONENT:orl:2003-04', 'SEASON_OPPONENT:orl:2004-05', 'SEASON_OPPONENT:orl:2005-06', 'SEASON_OPPONENT:orl:2006-07', 'SEASON_OPPONENT:orl:2007-08', 'SEASON_OPPONENT:orl:2008-09', 'SEASON_OPPONENT:orl:2009-10', 'SEASON_OPPONENT:orl:2010-11', 'SEASON_OPPONENT:orl:2011-12', 'SEASON_OPPONENT:orl:2012-13', 'SEASON_OPPONENT:phi:1996-97', 'SEASON_OPPONENT:phi:1997-98', 'SEASON_OPPONENT:phi:1998-99', 'SEASON_OPPONENT:phi:1999-00', 'SEASON_OPPONENT:phi:2000-01', 'SEASON_OPPONENT:phi:2001-02', 'SEASON_OPPONENT:phi:2002-03', 'SEASON_OPPONENT:phi:2003-04', 'SEASON_OPPONENT:phi:2004-05', 'SEASON_OPPONENT:phi:2005-06', 'SEASON_OPPONENT:phi:2006-07', 'SEASON_OPPONENT:phi:2007-08', 'SEASON_OPPONENT:phi:2008-09', 'SEASON_OPPONENT:phi:2009-10', 'SEASON_OPPONENT:phi:2010-11', 'SEASON_OPPONENT:phi:2011-12', 'SEASON_OPPONENT:phi:2012-13', 'SEASON_OPPONENT:phi:2015-16', 'SEASON_OPPONENT:phx:1996-97', 'SEASON_OPPONENT:phx:1997-98', 'SEASON_OPPONENT:phx:1998-99', 'SEASON_OPPONENT:phx:1999-00', 'SEASON_OPPONENT:phx:2000-01', 'SEASON_OPPONENT:phx:2001-02', 'SEASON_OPPONENT:phx:2002-03', 'SEASON_OPPONENT:phx:2003-04', 'SEASON_OPPONENT:phx:2004-05', 'SEASON_OPPONENT:phx:2005-06', 'SEASON_OPPONENT:phx:2006-07', 'SEASON_OPPONENT:phx:2007-08', 'SEASON_OPPONENT:phx:2008-09', 'SEASON_OPPONENT:phx:2009-10', 'SEASON_OPPONENT:phx:2010-11', 'SEASON_OPPONENT:phx:2011-12', 'SEASON_OPPONENT:phx:2012-13', 'SEASON_OPPONENT:phx:2013-14', 'SEASON_OPPONENT:phx:2014-15', 'SEASON_OPPONENT:phx:2015-16', 'SEASON_OPPONENT:por:1996-97', 'SEASON_OPPONENT:por:1997-98', 'SEASON_OPPONENT:por:1998-99', 'SEASON_OPPONENT:por:1999-00', 'SEASON_OPPONENT:por:2000-01', 'SEASON_OPPONENT:por:2001-02', 'SEASON_OPPONENT:por:2002-03', 'SEASON_OPPONENT:por:2003-04', 'SEASON_OPPONENT:por:2004-05', 'SEASON_OPPONENT:por:2005-06', 'SEASON_OPPONENT:por:2006-07', 'SEASON_OPPONENT:por:2007-08', 'SEASON_OPPONENT:por:2008-09', 'SEASON_OPPONENT:por:2009-10', 'SEASON_OPPONENT:por:2010-11', 'SEASON_OPPONENT:por:2011-12', 'SEASON_OPPONENT:por:2012-13', 'SEASON_OPPONENT:por:2015-16', 'SEASON_OPPONENT:sac:1996-97', 'SEASON_OPPONENT:sac:1997-98', 'SEASON_OPPONENT:sac:1998-99', 'SEASON_OPPONENT:sac:1999-00', 'SEASON_OPPONENT:sac:2000-01', 'SEASON_OPPONENT:sac:2001-02', 'SEASON_OPPONENT:sac:2002-03', 'SEASON_OPPONENT:sac:2003-04', 'SEASON_OPPONENT:sac:2004-05', 'SEASON_OPPONENT:sac:2005-06', 'SEASON_OPPONENT:sac:2006-07', 'SEASON_OPPONENT:sac:2007-08', 'SEASON_OPPONENT:sac:2008-09', 'SEASON_OPPONENT:sac:2009-10', 'SEASON_OPPONENT:sac:2010-11', 'SEASON_OPPONENT:sac:2011-12', 'SEASON_OPPONENT:sac:2012-13', 'SEASON_OPPONENT:sac:2014-15', 'SEASON_OPPONENT:sac:2015-16', 'SEASON_OPPONENT:sas:1996-97', 'SEASON_OPPONENT:sas:1997-98', 'SEASON_OPPONENT:sas:1998-99', 'SEASON_OPPONENT:sas:1999-00', 'SEASON_OPPONENT:sas:2000-01', 'SEASON_OPPONENT:sas:2001-02', 'SEASON_OPPONENT:sas:2002-03', 'SEASON_OPPONENT:sas:2003-04', 'SEASON_OPPONENT:sas:2004-05', 'SEASON_OPPONENT:sas:2005-06', 'SEASON_OPPONENT:sas:2006-07', 'SEASON_OPPONENT:sas:2007-08', 'SEASON_OPPONENT:sas:2008-09', 'SEASON_OPPONENT:sas:2009-10', 'SEASON_OPPONENT:sas:2010-11', 'SEASON_OPPONENT:sas:2011-12', 'SEASON_OPPONENT:sas:2012-13', 'SEASON_OPPONENT:sas:2014-15', 'SEASON_OPPONENT:sas:2015-16', 'SEASON_OPPONENT:sea:1996-97', 'SEASON_OPPONENT:sea:1997-98', 'SEASON_OPPONENT:sea:1998-99', 'SEASON_OPPONENT:sea:1999-00', 'SEASON_OPPONENT:sea:2000-01', 'SEASON_OPPONENT:sea:2001-02', 'SEASON_OPPONENT:sea:2002-03', 'SEASON_OPPONENT:sea:2003-04', 'SEASON_OPPONENT:sea:2004-05', 'SEASON_OPPONENT:sea:2005-06', 'SEASON_OPPONENT:sea:2006-07', 'SEASON_OPPONENT:sea:2007-08', 'SEASON_OPPONENT:tor:1996-97', 'SEASON_OPPONENT:tor:1997-98', 'SEASON_OPPONENT:tor:1999-00', 'SEASON_OPPONENT:tor:2000-01', 'SEASON_OPPONENT:tor:2001-02', 'SEASON_OPPONENT:tor:2002-03', 'SEASON_OPPONENT:tor:2003-04', 'SEASON_OPPONENT:tor:2004-05', 'SEASON_OPPONENT:tor:2005-06', 'SEASON_OPPONENT:tor:2006-07', 'SEASON_OPPONENT:tor:2007-08', 'SEASON_OPPONENT:tor:2008-09', 'SEASON_OPPONENT:tor:2009-10', 'SEASON_OPPONENT:tor:2010-11', 'SEASON_OPPONENT:tor:2011-12', 'SEASON_OPPONENT:tor:2012-13', 'SEASON_OPPONENT:tor:2013-14', 'SEASON_OPPONENT:tor:2014-15', 'SEASON_OPPONENT:tor:2015-16', 'SEASON_OPPONENT:uta:1996-97', 'SEASON_OPPONENT:uta:1997-98', 'SEASON_OPPONENT:uta:1998-99', 'SEASON_OPPONENT:uta:1999-00', 'SEASON_OPPONENT:uta:2000-01', 'SEASON_OPPONENT:uta:2001-02', 'SEASON_OPPONENT:uta:2002-03', 'SEASON_OPPONENT:uta:2003-04', 'SEASON_OPPONENT:uta:2004-05', 'SEASON_OPPONENT:uta:2005-06', 'SEASON_OPPONENT:uta:2006-07', 'SEASON_OPPONENT:uta:2007-08', 'SEASON_OPPONENT:uta:2008-09', 'SEASON_OPPONENT:uta:2009-10', 'SEASON_OPPONENT:uta:2010-11', 'SEASON_OPPONENT:uta:2011-12', 'SEASON_OPPONENT:uta:2012-13', 'SEASON_OPPONENT:uta:2015-16', 'SEASON_OPPONENT:van:1996-97', 'SEASON_OPPONENT:van:1997-98', 'SEASON_OPPONENT:van:1998-99', 'SEASON_OPPONENT:van:1999-00', 'SEASON_OPPONENT:van:2000-01', 'SEASON_OPPONENT:was:1996-97', 'SEASON_OPPONENT:was:1997-98', 'SEASON_OPPONENT:was:1999-00', 'SEASON_OPPONENT:was:2000-01', 'SEASON_OPPONENT:was:2001-02', 'SEASON_OPPONENT:was:2002-03', 'SEASON_OPPONENT:was:2003-04', 'SEASON_OPPONENT:was:2004-05', 'SEASON_OPPONENT:was:2005-06', 'SEASON_OPPONENT:was:2006-07', 'SEASON_OPPONENT:was:2007-08', 'SEASON_OPPONENT:was:2008-09', 'SEASON_OPPONENT:was:2009-10', 'SEASON_OPPONENT:was:2010-11', 'SEASON_OPPONENT:was:2011-12', 'SEASON_OPPONENT:was:2012-13', 'SEASON_OPPONENT:was:2014-15', 'SEASON_OPPONENT:was:2015-16', 'SEASON:1996-97', 'SEASON:1997-98', 'SEASON:1998-99', 'SEASON:1999-00', 'SEASON:2000-01', 'SEASON:2001-02', 'SEASON:2002-03', 'SEASON:2003-04', 'SEASON:2004-05', 'SEASON:2005-06', 'SEASON:2006-07', 'SEASON:2007-08', 'SEASON:2008-09', 'SEASON:2009-10', 'SEASON:2010-11', 'SEASON:2011-12', 'SEASON:2012-13', 'SEASON:2013-14', 'SEASON:2014-15', 'SEASON:2015-16', 'MONTH', 'PLAYOFFS', 'MEAN_X_POSITION', 'MEAN_Y_POSITION', 'MEAN_SHOT_DISTANCE', 'MEAN_SHOT_ANGLE', 'SHOT_ZONE_RANGE:16-24_ft.', 'SHOT_ZONE_RANGE:24+_ft.', 'SHOT_ZONE_RANGE:8-16_ft.', 'SHOT_ZONE_RANGE:back_court_shot', 'SHOT_ZONE_RANGE:less_than_8_ft.', 'SHOT_ZONE_BASIC:above_the_break_3', 'SHOT_ZONE_BASIC:backcourt', 'SHOT_ZONE_BASIC:in_the_paint_(non-ra)', 'SHOT_ZONE_BASIC:left_corner_3', 'SHOT_ZONE_BASIC:mid-range', 'SHOT_ZONE_BASIC:restricted_area', 'SHOT_ZONE_BASIC:right_corner_3', 'SHOT_ZONE_AREA:back_court(bc)', 'SHOT_ZONE_AREA:center(c)', 'SHOT_ZONE_AREA:left_side_center(lc)', 'SHOT_ZONE_AREA:left_side(l)', 'SHOT_ZONE_AREA:right_side_center(rc)', 'SHOT_ZONE_AREA:right_side(r)', 'SHOT_TYPE:2pt_field_goal', 'SHOT_TYPE:3pt_field_goal', 'COMBINED_SHOT_TYPE:bank_shot', 'COMBINED_SHOT_TYPE:dunk', 'COMBINED_SHOT_TYPE:hook_shot', 'COMBINED_SHOT_TYPE:jump_shot', 'COMBINED_SHOT_TYPE:layup', 'COMBINED_SHOT_TYPE:tip_shot', 'SECONDS_REMAINING', 'MINUTES_REMAINING', 'PERIOD', 'ACTION_TYPE:alley_oop_dunk_shot', 'ACTION_TYPE:alley_oop_layup_shot', 'ACTION_TYPE:cutting_finger_roll_layup_shot', 'ACTION_TYPE:cutting_layup_shot', 'ACTION_TYPE:driving_bank_shot', 'ACTION_TYPE:driving_dunk_shot', 'ACTION_TYPE:driving_finger_roll_layup_shot', 'ACTION_TYPE:driving_finger_roll_shot', 'ACTION_TYPE:driving_floating_bank_jump_shot', 'ACTION_TYPE:driving_floating_jump_shot', 'ACTION_TYPE:driving_hook_shot', 'ACTION_TYPE:driving_jump_shot', 'ACTION_TYPE:driving_layup_shot', 'ACTION_TYPE:driving_reverse_layup_shot', 'ACTION_TYPE:driving_slam_dunk_shot', 'ACTION_TYPE:dunk_shot', 'ACTION_TYPE:fadeaway_bank_shot', 'ACTION_TYPE:fadeaway_jump_shot', 'ACTION_TYPE:finger_roll_layup_shot', 'ACTION_TYPE:finger_roll_shot', 'ACTION_TYPE:floating_jump_shot', 'ACTION_TYPE:follow_up_dunk_shot', 'ACTION_TYPE:hook_bank_shot', 'ACTION_TYPE:hook_shot', 'ACTION_TYPE:jump_bank_shot', 'ACTION_TYPE:jump_hook_shot', 'ACTION_TYPE:jump_shot', 'ACTION_TYPE:layup_shot', 'ACTION_TYPE:pullup_bank_shot', 'ACTION_TYPE:pullup_jump_shot', 'ACTION_TYPE:putback_dunk_shot', 'ACTION_TYPE:putback_layup_shot', 'ACTION_TYPE:putback_slam_dunk_shot', 'ACTION_TYPE:reverse_dunk_shot', 'ACTION_TYPE:reverse_layup_shot', 'ACTION_TYPE:reverse_slam_dunk_shot', 'ACTION_TYPE:running_bank_shot', 'ACTION_TYPE:running_dunk_shot', 'ACTION_TYPE:running_finger_roll_layup_shot', 'ACTION_TYPE:running_finger_roll_shot', 'ACTION_TYPE:running_hook_shot', 'ACTION_TYPE:running_jump_shot', 'ACTION_TYPE:running_layup_shot', 'ACTION_TYPE:running_pull-up_jump_shot', 'ACTION_TYPE:running_reverse_layup_shot', 'ACTION_TYPE:running_slam_dunk_shot', 'ACTION_TYPE:running_tip_shot', 'ACTION_TYPE:slam_dunk_shot', 'ACTION_TYPE:step_back_jump_shot', 'ACTION_TYPE:tip_layup_shot', 'ACTION_TYPE:tip_shot', 'ACTION_TYPE:turnaround_bank_shot', 'ACTION_TYPE:turnaround_fadeaway_bank_jump_shot', 'ACTION_TYPE:turnaround_fadeaway_shot', 'ACTION_TYPE:turnaround_finger_roll_shot', 'ACTION_TYPE:turnaround_hook_shot', 'ACTION_TYPE:turnaround_jump_shot', 'SEASON_GAME_NUMBER', 'CAREER_GAME_NUMBER']\n"
     ]
    }
   ],
   "source": [
    "df_columns_list = list(df.columns)\n",
    "print (df_columns_list)"
   ]
  },
  {
   "cell_type": "code",
   "execution_count": 174,
   "metadata": {},
   "outputs": [
    {
     "data": {
      "text/html": [
       "<div>\n",
       "<style>\n",
       "    .dataframe thead tr:only-child th {\n",
       "        text-align: right;\n",
       "    }\n",
       "\n",
       "    .dataframe thead th {\n",
       "        text-align: left;\n",
       "    }\n",
       "\n",
       "    .dataframe tbody tr th {\n",
       "        vertical-align: top;\n",
       "    }\n",
       "</style>\n",
       "<table border=\"1\" class=\"dataframe\">\n",
       "  <thead>\n",
       "    <tr style=\"text-align: right;\">\n",
       "      <th></th>\n",
       "      <th>SHOTS_MADE</th>\n",
       "      <th>AWAY_GAME</th>\n",
       "      <th>SEASON_OPPONENT:atl:1996-97</th>\n",
       "      <th>SEASON_OPPONENT:atl:1997-98</th>\n",
       "      <th>SEASON_OPPONENT:atl:1999-00</th>\n",
       "      <th>SEASON_OPPONENT:atl:2000-01</th>\n",
       "      <th>SEASON_OPPONENT:atl:2001-02</th>\n",
       "      <th>SEASON_OPPONENT:atl:2002-03</th>\n",
       "      <th>SEASON_OPPONENT:atl:2003-04</th>\n",
       "      <th>SEASON_OPPONENT:atl:2004-05</th>\n",
       "      <th>...</th>\n",
       "      <th>ACTION_TYPE:tip_layup_shot</th>\n",
       "      <th>ACTION_TYPE:tip_shot</th>\n",
       "      <th>ACTION_TYPE:turnaround_bank_shot</th>\n",
       "      <th>ACTION_TYPE:turnaround_fadeaway_bank_jump_shot</th>\n",
       "      <th>ACTION_TYPE:turnaround_fadeaway_shot</th>\n",
       "      <th>ACTION_TYPE:turnaround_finger_roll_shot</th>\n",
       "      <th>ACTION_TYPE:turnaround_hook_shot</th>\n",
       "      <th>ACTION_TYPE:turnaround_jump_shot</th>\n",
       "      <th>SEASON_GAME_NUMBER</th>\n",
       "      <th>CAREER_GAME_NUMBER</th>\n",
       "    </tr>\n",
       "  </thead>\n",
       "  <tbody>\n",
       "    <tr>\n",
       "      <th>0</th>\n",
       "      <td>0.0</td>\n",
       "      <td>0</td>\n",
       "      <td>0.0</td>\n",
       "      <td>0.0</td>\n",
       "      <td>0.0</td>\n",
       "      <td>0.0</td>\n",
       "      <td>0.0</td>\n",
       "      <td>0.0</td>\n",
       "      <td>0.0</td>\n",
       "      <td>0.0</td>\n",
       "      <td>...</td>\n",
       "      <td>0.0</td>\n",
       "      <td>0.0</td>\n",
       "      <td>0.0</td>\n",
       "      <td>0.0</td>\n",
       "      <td>0.0</td>\n",
       "      <td>0.0</td>\n",
       "      <td>0.0</td>\n",
       "      <td>0.0</td>\n",
       "      <td>1</td>\n",
       "      <td>1</td>\n",
       "    </tr>\n",
       "    <tr>\n",
       "      <th>1</th>\n",
       "      <td>0.0</td>\n",
       "      <td>1</td>\n",
       "      <td>0.0</td>\n",
       "      <td>0.0</td>\n",
       "      <td>0.0</td>\n",
       "      <td>0.0</td>\n",
       "      <td>0.0</td>\n",
       "      <td>0.0</td>\n",
       "      <td>0.0</td>\n",
       "      <td>0.0</td>\n",
       "      <td>...</td>\n",
       "      <td>0.0</td>\n",
       "      <td>0.0</td>\n",
       "      <td>0.0</td>\n",
       "      <td>0.0</td>\n",
       "      <td>0.0</td>\n",
       "      <td>0.0</td>\n",
       "      <td>0.0</td>\n",
       "      <td>0.0</td>\n",
       "      <td>2</td>\n",
       "      <td>2</td>\n",
       "    </tr>\n",
       "    <tr>\n",
       "      <th>2</th>\n",
       "      <td>2.0</td>\n",
       "      <td>1</td>\n",
       "      <td>0.0</td>\n",
       "      <td>0.0</td>\n",
       "      <td>0.0</td>\n",
       "      <td>0.0</td>\n",
       "      <td>0.0</td>\n",
       "      <td>0.0</td>\n",
       "      <td>0.0</td>\n",
       "      <td>0.0</td>\n",
       "      <td>...</td>\n",
       "      <td>0.0</td>\n",
       "      <td>0.0</td>\n",
       "      <td>0.0</td>\n",
       "      <td>0.0</td>\n",
       "      <td>0.0</td>\n",
       "      <td>0.0</td>\n",
       "      <td>0.0</td>\n",
       "      <td>0.0</td>\n",
       "      <td>3</td>\n",
       "      <td>3</td>\n",
       "    </tr>\n",
       "    <tr>\n",
       "      <th>3</th>\n",
       "      <td>2.0</td>\n",
       "      <td>1</td>\n",
       "      <td>0.0</td>\n",
       "      <td>0.0</td>\n",
       "      <td>0.0</td>\n",
       "      <td>0.0</td>\n",
       "      <td>0.0</td>\n",
       "      <td>0.0</td>\n",
       "      <td>0.0</td>\n",
       "      <td>0.0</td>\n",
       "      <td>...</td>\n",
       "      <td>0.0</td>\n",
       "      <td>0.0</td>\n",
       "      <td>0.0</td>\n",
       "      <td>0.0</td>\n",
       "      <td>0.0</td>\n",
       "      <td>0.0</td>\n",
       "      <td>0.0</td>\n",
       "      <td>0.0</td>\n",
       "      <td>4</td>\n",
       "      <td>4</td>\n",
       "    </tr>\n",
       "    <tr>\n",
       "      <th>4</th>\n",
       "      <td>0.0</td>\n",
       "      <td>0</td>\n",
       "      <td>1.0</td>\n",
       "      <td>0.0</td>\n",
       "      <td>0.0</td>\n",
       "      <td>0.0</td>\n",
       "      <td>0.0</td>\n",
       "      <td>0.0</td>\n",
       "      <td>0.0</td>\n",
       "      <td>0.0</td>\n",
       "      <td>...</td>\n",
       "      <td>0.0</td>\n",
       "      <td>0.0</td>\n",
       "      <td>0.0</td>\n",
       "      <td>0.0</td>\n",
       "      <td>0.0</td>\n",
       "      <td>0.0</td>\n",
       "      <td>0.0</td>\n",
       "      <td>0.0</td>\n",
       "      <td>5</td>\n",
       "      <td>5</td>\n",
       "    </tr>\n",
       "    <tr>\n",
       "      <th>5</th>\n",
       "      <td>1.0</td>\n",
       "      <td>1</td>\n",
       "      <td>0.0</td>\n",
       "      <td>0.0</td>\n",
       "      <td>0.0</td>\n",
       "      <td>0.0</td>\n",
       "      <td>0.0</td>\n",
       "      <td>0.0</td>\n",
       "      <td>0.0</td>\n",
       "      <td>0.0</td>\n",
       "      <td>...</td>\n",
       "      <td>0.0</td>\n",
       "      <td>0.0</td>\n",
       "      <td>0.0</td>\n",
       "      <td>0.0</td>\n",
       "      <td>0.0</td>\n",
       "      <td>0.0</td>\n",
       "      <td>0.0</td>\n",
       "      <td>0.0</td>\n",
       "      <td>6</td>\n",
       "      <td>6</td>\n",
       "    </tr>\n",
       "    <tr>\n",
       "      <th>6</th>\n",
       "      <td>2.0</td>\n",
       "      <td>1</td>\n",
       "      <td>0.0</td>\n",
       "      <td>0.0</td>\n",
       "      <td>0.0</td>\n",
       "      <td>0.0</td>\n",
       "      <td>0.0</td>\n",
       "      <td>0.0</td>\n",
       "      <td>0.0</td>\n",
       "      <td>0.0</td>\n",
       "      <td>...</td>\n",
       "      <td>0.0</td>\n",
       "      <td>0.0</td>\n",
       "      <td>0.0</td>\n",
       "      <td>0.0</td>\n",
       "      <td>0.0</td>\n",
       "      <td>0.0</td>\n",
       "      <td>0.0</td>\n",
       "      <td>0.0</td>\n",
       "      <td>7</td>\n",
       "      <td>7</td>\n",
       "    </tr>\n",
       "    <tr>\n",
       "      <th>7</th>\n",
       "      <td>1.0</td>\n",
       "      <td>0</td>\n",
       "      <td>0.0</td>\n",
       "      <td>0.0</td>\n",
       "      <td>0.0</td>\n",
       "      <td>0.0</td>\n",
       "      <td>0.0</td>\n",
       "      <td>0.0</td>\n",
       "      <td>0.0</td>\n",
       "      <td>0.0</td>\n",
       "      <td>...</td>\n",
       "      <td>0.0</td>\n",
       "      <td>0.0</td>\n",
       "      <td>0.0</td>\n",
       "      <td>0.0</td>\n",
       "      <td>0.0</td>\n",
       "      <td>0.0</td>\n",
       "      <td>0.0</td>\n",
       "      <td>0.0</td>\n",
       "      <td>8</td>\n",
       "      <td>8</td>\n",
       "    </tr>\n",
       "    <tr>\n",
       "      <th>8</th>\n",
       "      <td>4.0</td>\n",
       "      <td>1</td>\n",
       "      <td>0.0</td>\n",
       "      <td>0.0</td>\n",
       "      <td>0.0</td>\n",
       "      <td>0.0</td>\n",
       "      <td>0.0</td>\n",
       "      <td>0.0</td>\n",
       "      <td>0.0</td>\n",
       "      <td>0.0</td>\n",
       "      <td>...</td>\n",
       "      <td>0.0</td>\n",
       "      <td>0.0</td>\n",
       "      <td>0.0</td>\n",
       "      <td>0.0</td>\n",
       "      <td>0.0</td>\n",
       "      <td>0.0</td>\n",
       "      <td>0.0</td>\n",
       "      <td>0.0</td>\n",
       "      <td>9</td>\n",
       "      <td>9</td>\n",
       "    </tr>\n",
       "    <tr>\n",
       "      <th>9</th>\n",
       "      <td>0.0</td>\n",
       "      <td>1</td>\n",
       "      <td>0.0</td>\n",
       "      <td>0.0</td>\n",
       "      <td>0.0</td>\n",
       "      <td>0.0</td>\n",
       "      <td>0.0</td>\n",
       "      <td>0.0</td>\n",
       "      <td>0.0</td>\n",
       "      <td>0.0</td>\n",
       "      <td>...</td>\n",
       "      <td>0.0</td>\n",
       "      <td>0.0</td>\n",
       "      <td>0.0</td>\n",
       "      <td>0.0</td>\n",
       "      <td>0.0</td>\n",
       "      <td>0.0</td>\n",
       "      <td>0.0</td>\n",
       "      <td>0.0</td>\n",
       "      <td>10</td>\n",
       "      <td>10</td>\n",
       "    </tr>\n",
       "  </tbody>\n",
       "</table>\n",
       "<p>10 rows × 645 columns</p>\n",
       "</div>"
      ],
      "text/plain": [
       "   SHOTS_MADE  AWAY_GAME  SEASON_OPPONENT:atl:1996-97  \\\n",
       "0         0.0          0                          0.0   \n",
       "1         0.0          1                          0.0   \n",
       "2         2.0          1                          0.0   \n",
       "3         2.0          1                          0.0   \n",
       "4         0.0          0                          1.0   \n",
       "5         1.0          1                          0.0   \n",
       "6         2.0          1                          0.0   \n",
       "7         1.0          0                          0.0   \n",
       "8         4.0          1                          0.0   \n",
       "9         0.0          1                          0.0   \n",
       "\n",
       "   SEASON_OPPONENT:atl:1997-98  SEASON_OPPONENT:atl:1999-00  \\\n",
       "0                          0.0                          0.0   \n",
       "1                          0.0                          0.0   \n",
       "2                          0.0                          0.0   \n",
       "3                          0.0                          0.0   \n",
       "4                          0.0                          0.0   \n",
       "5                          0.0                          0.0   \n",
       "6                          0.0                          0.0   \n",
       "7                          0.0                          0.0   \n",
       "8                          0.0                          0.0   \n",
       "9                          0.0                          0.0   \n",
       "\n",
       "   SEASON_OPPONENT:atl:2000-01  SEASON_OPPONENT:atl:2001-02  \\\n",
       "0                          0.0                          0.0   \n",
       "1                          0.0                          0.0   \n",
       "2                          0.0                          0.0   \n",
       "3                          0.0                          0.0   \n",
       "4                          0.0                          0.0   \n",
       "5                          0.0                          0.0   \n",
       "6                          0.0                          0.0   \n",
       "7                          0.0                          0.0   \n",
       "8                          0.0                          0.0   \n",
       "9                          0.0                          0.0   \n",
       "\n",
       "   SEASON_OPPONENT:atl:2002-03  SEASON_OPPONENT:atl:2003-04  \\\n",
       "0                          0.0                          0.0   \n",
       "1                          0.0                          0.0   \n",
       "2                          0.0                          0.0   \n",
       "3                          0.0                          0.0   \n",
       "4                          0.0                          0.0   \n",
       "5                          0.0                          0.0   \n",
       "6                          0.0                          0.0   \n",
       "7                          0.0                          0.0   \n",
       "8                          0.0                          0.0   \n",
       "9                          0.0                          0.0   \n",
       "\n",
       "   SEASON_OPPONENT:atl:2004-05         ...          \\\n",
       "0                          0.0         ...           \n",
       "1                          0.0         ...           \n",
       "2                          0.0         ...           \n",
       "3                          0.0         ...           \n",
       "4                          0.0         ...           \n",
       "5                          0.0         ...           \n",
       "6                          0.0         ...           \n",
       "7                          0.0         ...           \n",
       "8                          0.0         ...           \n",
       "9                          0.0         ...           \n",
       "\n",
       "   ACTION_TYPE:tip_layup_shot  ACTION_TYPE:tip_shot  \\\n",
       "0                         0.0                   0.0   \n",
       "1                         0.0                   0.0   \n",
       "2                         0.0                   0.0   \n",
       "3                         0.0                   0.0   \n",
       "4                         0.0                   0.0   \n",
       "5                         0.0                   0.0   \n",
       "6                         0.0                   0.0   \n",
       "7                         0.0                   0.0   \n",
       "8                         0.0                   0.0   \n",
       "9                         0.0                   0.0   \n",
       "\n",
       "   ACTION_TYPE:turnaround_bank_shot  \\\n",
       "0                               0.0   \n",
       "1                               0.0   \n",
       "2                               0.0   \n",
       "3                               0.0   \n",
       "4                               0.0   \n",
       "5                               0.0   \n",
       "6                               0.0   \n",
       "7                               0.0   \n",
       "8                               0.0   \n",
       "9                               0.0   \n",
       "\n",
       "   ACTION_TYPE:turnaround_fadeaway_bank_jump_shot  \\\n",
       "0                                             0.0   \n",
       "1                                             0.0   \n",
       "2                                             0.0   \n",
       "3                                             0.0   \n",
       "4                                             0.0   \n",
       "5                                             0.0   \n",
       "6                                             0.0   \n",
       "7                                             0.0   \n",
       "8                                             0.0   \n",
       "9                                             0.0   \n",
       "\n",
       "   ACTION_TYPE:turnaround_fadeaway_shot  \\\n",
       "0                                   0.0   \n",
       "1                                   0.0   \n",
       "2                                   0.0   \n",
       "3                                   0.0   \n",
       "4                                   0.0   \n",
       "5                                   0.0   \n",
       "6                                   0.0   \n",
       "7                                   0.0   \n",
       "8                                   0.0   \n",
       "9                                   0.0   \n",
       "\n",
       "   ACTION_TYPE:turnaround_finger_roll_shot  ACTION_TYPE:turnaround_hook_shot  \\\n",
       "0                                      0.0                               0.0   \n",
       "1                                      0.0                               0.0   \n",
       "2                                      0.0                               0.0   \n",
       "3                                      0.0                               0.0   \n",
       "4                                      0.0                               0.0   \n",
       "5                                      0.0                               0.0   \n",
       "6                                      0.0                               0.0   \n",
       "7                                      0.0                               0.0   \n",
       "8                                      0.0                               0.0   \n",
       "9                                      0.0                               0.0   \n",
       "\n",
       "   ACTION_TYPE:turnaround_jump_shot  SEASON_GAME_NUMBER  CAREER_GAME_NUMBER  \n",
       "0                               0.0                   1                   1  \n",
       "1                               0.0                   2                   2  \n",
       "2                               0.0                   3                   3  \n",
       "3                               0.0                   4                   4  \n",
       "4                               0.0                   5                   5  \n",
       "5                               0.0                   6                   6  \n",
       "6                               0.0                   7                   7  \n",
       "7                               0.0                   8                   8  \n",
       "8                               0.0                   9                   9  \n",
       "9                               0.0                  10                  10  \n",
       "\n",
       "[10 rows x 645 columns]"
      ]
     },
     "execution_count": 174,
     "metadata": {},
     "output_type": "execute_result"
    }
   ],
   "source": [
    "df.head(10)"
   ]
  },
  {
   "cell_type": "code",
   "execution_count": 175,
   "metadata": {},
   "outputs": [
    {
     "data": {
      "text/plain": [
       "Series([], dtype: int64)"
      ]
     },
     "execution_count": 175,
     "metadata": {},
     "output_type": "execute_result"
    }
   ],
   "source": [
    "df.isnull().sum()[df.isnull().sum()>0]"
   ]
  },
  {
   "cell_type": "code",
   "execution_count": 176,
   "metadata": {},
   "outputs": [
    {
     "data": {
      "text/plain": [
       "Index([], dtype='object')"
      ]
     },
     "execution_count": 176,
     "metadata": {},
     "output_type": "execute_result"
    }
   ],
   "source": [
    "df.columns[df.isnull().sum()>0]"
   ]
  },
  {
   "cell_type": "code",
   "execution_count": 177,
   "metadata": {},
   "outputs": [
    {
     "data": {
      "text/html": [
       "<div>\n",
       "<style>\n",
       "    .dataframe thead tr:only-child th {\n",
       "        text-align: right;\n",
       "    }\n",
       "\n",
       "    .dataframe thead th {\n",
       "        text-align: left;\n",
       "    }\n",
       "\n",
       "    .dataframe tbody tr th {\n",
       "        vertical-align: top;\n",
       "    }\n",
       "</style>\n",
       "<table border=\"1\" class=\"dataframe\">\n",
       "  <thead>\n",
       "    <tr style=\"text-align: right;\">\n",
       "      <th></th>\n",
       "      <th>count</th>\n",
       "      <th>mean</th>\n",
       "      <th>std</th>\n",
       "      <th>min</th>\n",
       "      <th>25%</th>\n",
       "      <th>50%</th>\n",
       "      <th>75%</th>\n",
       "      <th>max</th>\n",
       "    </tr>\n",
       "  </thead>\n",
       "  <tbody>\n",
       "    <tr>\n",
       "      <th>SHOTS_MADE</th>\n",
       "      <td>1558.0</td>\n",
       "      <td>7.358793</td>\n",
       "      <td>3.471180</td>\n",
       "      <td>0.0</td>\n",
       "      <td>5.00</td>\n",
       "      <td>7.0</td>\n",
       "      <td>10.000000</td>\n",
       "      <td>22.000000</td>\n",
       "    </tr>\n",
       "    <tr>\n",
       "      <th>AWAY_GAME</th>\n",
       "      <td>1558.0</td>\n",
       "      <td>0.500642</td>\n",
       "      <td>0.500160</td>\n",
       "      <td>0.0</td>\n",
       "      <td>0.00</td>\n",
       "      <td>1.0</td>\n",
       "      <td>1.000000</td>\n",
       "      <td>1.000000</td>\n",
       "    </tr>\n",
       "    <tr>\n",
       "      <th>SEASON_OPPONENT:atl:1996-97</th>\n",
       "      <td>1558.0</td>\n",
       "      <td>0.001284</td>\n",
       "      <td>0.035817</td>\n",
       "      <td>0.0</td>\n",
       "      <td>0.00</td>\n",
       "      <td>0.0</td>\n",
       "      <td>0.000000</td>\n",
       "      <td>1.000000</td>\n",
       "    </tr>\n",
       "    <tr>\n",
       "      <th>SEASON_OPPONENT:atl:1997-98</th>\n",
       "      <td>1558.0</td>\n",
       "      <td>0.001284</td>\n",
       "      <td>0.035817</td>\n",
       "      <td>0.0</td>\n",
       "      <td>0.00</td>\n",
       "      <td>0.0</td>\n",
       "      <td>0.000000</td>\n",
       "      <td>1.000000</td>\n",
       "    </tr>\n",
       "    <tr>\n",
       "      <th>SEASON_OPPONENT:atl:1999-00</th>\n",
       "      <td>1558.0</td>\n",
       "      <td>0.000642</td>\n",
       "      <td>0.025335</td>\n",
       "      <td>0.0</td>\n",
       "      <td>0.00</td>\n",
       "      <td>0.0</td>\n",
       "      <td>0.000000</td>\n",
       "      <td>1.000000</td>\n",
       "    </tr>\n",
       "    <tr>\n",
       "      <th>SEASON_OPPONENT:atl:2000-01</th>\n",
       "      <td>1558.0</td>\n",
       "      <td>0.000642</td>\n",
       "      <td>0.025335</td>\n",
       "      <td>0.0</td>\n",
       "      <td>0.00</td>\n",
       "      <td>0.0</td>\n",
       "      <td>0.000000</td>\n",
       "      <td>1.000000</td>\n",
       "    </tr>\n",
       "    <tr>\n",
       "      <th>SEASON_OPPONENT:atl:2001-02</th>\n",
       "      <td>1558.0</td>\n",
       "      <td>0.001284</td>\n",
       "      <td>0.035817</td>\n",
       "      <td>0.0</td>\n",
       "      <td>0.00</td>\n",
       "      <td>0.0</td>\n",
       "      <td>0.000000</td>\n",
       "      <td>1.000000</td>\n",
       "    </tr>\n",
       "    <tr>\n",
       "      <th>SEASON_OPPONENT:atl:2002-03</th>\n",
       "      <td>1558.0</td>\n",
       "      <td>0.001284</td>\n",
       "      <td>0.035817</td>\n",
       "      <td>0.0</td>\n",
       "      <td>0.00</td>\n",
       "      <td>0.0</td>\n",
       "      <td>0.000000</td>\n",
       "      <td>1.000000</td>\n",
       "    </tr>\n",
       "    <tr>\n",
       "      <th>SEASON_OPPONENT:atl:2003-04</th>\n",
       "      <td>1558.0</td>\n",
       "      <td>0.000642</td>\n",
       "      <td>0.025335</td>\n",
       "      <td>0.0</td>\n",
       "      <td>0.00</td>\n",
       "      <td>0.0</td>\n",
       "      <td>0.000000</td>\n",
       "      <td>1.000000</td>\n",
       "    </tr>\n",
       "    <tr>\n",
       "      <th>SEASON_OPPONENT:atl:2004-05</th>\n",
       "      <td>1558.0</td>\n",
       "      <td>0.000642</td>\n",
       "      <td>0.025335</td>\n",
       "      <td>0.0</td>\n",
       "      <td>0.00</td>\n",
       "      <td>0.0</td>\n",
       "      <td>0.000000</td>\n",
       "      <td>1.000000</td>\n",
       "    </tr>\n",
       "    <tr>\n",
       "      <th>SEASON_OPPONENT:atl:2005-06</th>\n",
       "      <td>1558.0</td>\n",
       "      <td>0.001284</td>\n",
       "      <td>0.035817</td>\n",
       "      <td>0.0</td>\n",
       "      <td>0.00</td>\n",
       "      <td>0.0</td>\n",
       "      <td>0.000000</td>\n",
       "      <td>1.000000</td>\n",
       "    </tr>\n",
       "    <tr>\n",
       "      <th>SEASON_OPPONENT:atl:2006-07</th>\n",
       "      <td>1558.0</td>\n",
       "      <td>0.000642</td>\n",
       "      <td>0.025335</td>\n",
       "      <td>0.0</td>\n",
       "      <td>0.00</td>\n",
       "      <td>0.0</td>\n",
       "      <td>0.000000</td>\n",
       "      <td>1.000000</td>\n",
       "    </tr>\n",
       "    <tr>\n",
       "      <th>SEASON_OPPONENT:atl:2007-08</th>\n",
       "      <td>1558.0</td>\n",
       "      <td>0.001284</td>\n",
       "      <td>0.035817</td>\n",
       "      <td>0.0</td>\n",
       "      <td>0.00</td>\n",
       "      <td>0.0</td>\n",
       "      <td>0.000000</td>\n",
       "      <td>1.000000</td>\n",
       "    </tr>\n",
       "    <tr>\n",
       "      <th>SEASON_OPPONENT:atl:2008-09</th>\n",
       "      <td>1558.0</td>\n",
       "      <td>0.001284</td>\n",
       "      <td>0.035817</td>\n",
       "      <td>0.0</td>\n",
       "      <td>0.00</td>\n",
       "      <td>0.0</td>\n",
       "      <td>0.000000</td>\n",
       "      <td>1.000000</td>\n",
       "    </tr>\n",
       "    <tr>\n",
       "      <th>SEASON_OPPONENT:atl:2009-10</th>\n",
       "      <td>1558.0</td>\n",
       "      <td>0.001284</td>\n",
       "      <td>0.035817</td>\n",
       "      <td>0.0</td>\n",
       "      <td>0.00</td>\n",
       "      <td>0.0</td>\n",
       "      <td>0.000000</td>\n",
       "      <td>1.000000</td>\n",
       "    </tr>\n",
       "    <tr>\n",
       "      <th>SEASON_OPPONENT:atl:2010-11</th>\n",
       "      <td>1558.0</td>\n",
       "      <td>0.001284</td>\n",
       "      <td>0.035817</td>\n",
       "      <td>0.0</td>\n",
       "      <td>0.00</td>\n",
       "      <td>0.0</td>\n",
       "      <td>0.000000</td>\n",
       "      <td>1.000000</td>\n",
       "    </tr>\n",
       "    <tr>\n",
       "      <th>SEASON_OPPONENT:atl:2011-12</th>\n",
       "      <td>1558.0</td>\n",
       "      <td>0.000642</td>\n",
       "      <td>0.025335</td>\n",
       "      <td>0.0</td>\n",
       "      <td>0.00</td>\n",
       "      <td>0.0</td>\n",
       "      <td>0.000000</td>\n",
       "      <td>1.000000</td>\n",
       "    </tr>\n",
       "    <tr>\n",
       "      <th>SEASON_OPPONENT:atl:2012-13</th>\n",
       "      <td>1558.0</td>\n",
       "      <td>0.001284</td>\n",
       "      <td>0.035817</td>\n",
       "      <td>0.0</td>\n",
       "      <td>0.00</td>\n",
       "      <td>0.0</td>\n",
       "      <td>0.000000</td>\n",
       "      <td>1.000000</td>\n",
       "    </tr>\n",
       "    <tr>\n",
       "      <th>SEASON_OPPONENT:atl:2013-14</th>\n",
       "      <td>1558.0</td>\n",
       "      <td>0.000642</td>\n",
       "      <td>0.025335</td>\n",
       "      <td>0.0</td>\n",
       "      <td>0.00</td>\n",
       "      <td>0.0</td>\n",
       "      <td>0.000000</td>\n",
       "      <td>1.000000</td>\n",
       "    </tr>\n",
       "    <tr>\n",
       "      <th>SEASON_OPPONENT:atl:2014-15</th>\n",
       "      <td>1558.0</td>\n",
       "      <td>0.000642</td>\n",
       "      <td>0.025335</td>\n",
       "      <td>0.0</td>\n",
       "      <td>0.00</td>\n",
       "      <td>0.0</td>\n",
       "      <td>0.000000</td>\n",
       "      <td>1.000000</td>\n",
       "    </tr>\n",
       "    <tr>\n",
       "      <th>SEASON_OPPONENT:atl:2015-16</th>\n",
       "      <td>1558.0</td>\n",
       "      <td>0.000642</td>\n",
       "      <td>0.025335</td>\n",
       "      <td>0.0</td>\n",
       "      <td>0.00</td>\n",
       "      <td>0.0</td>\n",
       "      <td>0.000000</td>\n",
       "      <td>1.000000</td>\n",
       "    </tr>\n",
       "    <tr>\n",
       "      <th>SEASON_OPPONENT:bkn:2012-13</th>\n",
       "      <td>1558.0</td>\n",
       "      <td>0.001284</td>\n",
       "      <td>0.035817</td>\n",
       "      <td>0.0</td>\n",
       "      <td>0.00</td>\n",
       "      <td>0.0</td>\n",
       "      <td>0.000000</td>\n",
       "      <td>1.000000</td>\n",
       "    </tr>\n",
       "    <tr>\n",
       "      <th>SEASON_OPPONENT:bkn:2015-16</th>\n",
       "      <td>1558.0</td>\n",
       "      <td>0.000642</td>\n",
       "      <td>0.025335</td>\n",
       "      <td>0.0</td>\n",
       "      <td>0.00</td>\n",
       "      <td>0.0</td>\n",
       "      <td>0.000000</td>\n",
       "      <td>1.000000</td>\n",
       "    </tr>\n",
       "    <tr>\n",
       "      <th>SEASON_OPPONENT:bos:1996-97</th>\n",
       "      <td>1558.0</td>\n",
       "      <td>0.000642</td>\n",
       "      <td>0.025335</td>\n",
       "      <td>0.0</td>\n",
       "      <td>0.00</td>\n",
       "      <td>0.0</td>\n",
       "      <td>0.000000</td>\n",
       "      <td>1.000000</td>\n",
       "    </tr>\n",
       "    <tr>\n",
       "      <th>SEASON_OPPONENT:bos:1997-98</th>\n",
       "      <td>1558.0</td>\n",
       "      <td>0.001284</td>\n",
       "      <td>0.035817</td>\n",
       "      <td>0.0</td>\n",
       "      <td>0.00</td>\n",
       "      <td>0.0</td>\n",
       "      <td>0.000000</td>\n",
       "      <td>1.000000</td>\n",
       "    </tr>\n",
       "    <tr>\n",
       "      <th>SEASON_OPPONENT:bos:1999-00</th>\n",
       "      <td>1558.0</td>\n",
       "      <td>0.001284</td>\n",
       "      <td>0.035817</td>\n",
       "      <td>0.0</td>\n",
       "      <td>0.00</td>\n",
       "      <td>0.0</td>\n",
       "      <td>0.000000</td>\n",
       "      <td>1.000000</td>\n",
       "    </tr>\n",
       "    <tr>\n",
       "      <th>SEASON_OPPONENT:bos:2001-02</th>\n",
       "      <td>1558.0</td>\n",
       "      <td>0.001284</td>\n",
       "      <td>0.035817</td>\n",
       "      <td>0.0</td>\n",
       "      <td>0.00</td>\n",
       "      <td>0.0</td>\n",
       "      <td>0.000000</td>\n",
       "      <td>1.000000</td>\n",
       "    </tr>\n",
       "    <tr>\n",
       "      <th>SEASON_OPPONENT:bos:2002-03</th>\n",
       "      <td>1558.0</td>\n",
       "      <td>0.001284</td>\n",
       "      <td>0.035817</td>\n",
       "      <td>0.0</td>\n",
       "      <td>0.00</td>\n",
       "      <td>0.0</td>\n",
       "      <td>0.000000</td>\n",
       "      <td>1.000000</td>\n",
       "    </tr>\n",
       "    <tr>\n",
       "      <th>SEASON_OPPONENT:bos:2003-04</th>\n",
       "      <td>1558.0</td>\n",
       "      <td>0.001284</td>\n",
       "      <td>0.035817</td>\n",
       "      <td>0.0</td>\n",
       "      <td>0.00</td>\n",
       "      <td>0.0</td>\n",
       "      <td>0.000000</td>\n",
       "      <td>1.000000</td>\n",
       "    </tr>\n",
       "    <tr>\n",
       "      <th>SEASON_OPPONENT:bos:2004-05</th>\n",
       "      <td>1558.0</td>\n",
       "      <td>0.001284</td>\n",
       "      <td>0.035817</td>\n",
       "      <td>0.0</td>\n",
       "      <td>0.00</td>\n",
       "      <td>0.0</td>\n",
       "      <td>0.000000</td>\n",
       "      <td>1.000000</td>\n",
       "    </tr>\n",
       "    <tr>\n",
       "      <th>...</th>\n",
       "      <td>...</td>\n",
       "      <td>...</td>\n",
       "      <td>...</td>\n",
       "      <td>...</td>\n",
       "      <td>...</td>\n",
       "      <td>...</td>\n",
       "      <td>...</td>\n",
       "      <td>...</td>\n",
       "    </tr>\n",
       "    <tr>\n",
       "      <th>ACTION_TYPE:pullup_jump_shot</th>\n",
       "      <td>1558.0</td>\n",
       "      <td>0.015442</td>\n",
       "      <td>0.047105</td>\n",
       "      <td>0.0</td>\n",
       "      <td>0.00</td>\n",
       "      <td>0.0</td>\n",
       "      <td>0.000000</td>\n",
       "      <td>0.500000</td>\n",
       "    </tr>\n",
       "    <tr>\n",
       "      <th>ACTION_TYPE:putback_dunk_shot</th>\n",
       "      <td>1558.0</td>\n",
       "      <td>0.000164</td>\n",
       "      <td>0.002972</td>\n",
       "      <td>0.0</td>\n",
       "      <td>0.00</td>\n",
       "      <td>0.0</td>\n",
       "      <td>0.000000</td>\n",
       "      <td>0.071429</td>\n",
       "    </tr>\n",
       "    <tr>\n",
       "      <th>ACTION_TYPE:putback_layup_shot</th>\n",
       "      <td>1558.0</td>\n",
       "      <td>0.000389</td>\n",
       "      <td>0.003994</td>\n",
       "      <td>0.0</td>\n",
       "      <td>0.00</td>\n",
       "      <td>0.0</td>\n",
       "      <td>0.000000</td>\n",
       "      <td>0.052632</td>\n",
       "    </tr>\n",
       "    <tr>\n",
       "      <th>ACTION_TYPE:putback_slam_dunk_shot</th>\n",
       "      <td>1558.0</td>\n",
       "      <td>0.000046</td>\n",
       "      <td>0.001810</td>\n",
       "      <td>0.0</td>\n",
       "      <td>0.00</td>\n",
       "      <td>0.0</td>\n",
       "      <td>0.000000</td>\n",
       "      <td>0.071429</td>\n",
       "    </tr>\n",
       "    <tr>\n",
       "      <th>ACTION_TYPE:reverse_dunk_shot</th>\n",
       "      <td>1558.0</td>\n",
       "      <td>0.002247</td>\n",
       "      <td>0.010696</td>\n",
       "      <td>0.0</td>\n",
       "      <td>0.00</td>\n",
       "      <td>0.0</td>\n",
       "      <td>0.000000</td>\n",
       "      <td>0.111111</td>\n",
       "    </tr>\n",
       "    <tr>\n",
       "      <th>ACTION_TYPE:reverse_layup_shot</th>\n",
       "      <td>1558.0</td>\n",
       "      <td>0.012085</td>\n",
       "      <td>0.027005</td>\n",
       "      <td>0.0</td>\n",
       "      <td>0.00</td>\n",
       "      <td>0.0</td>\n",
       "      <td>0.000000</td>\n",
       "      <td>0.238095</td>\n",
       "    </tr>\n",
       "    <tr>\n",
       "      <th>ACTION_TYPE:reverse_slam_dunk_shot</th>\n",
       "      <td>1558.0</td>\n",
       "      <td>0.000569</td>\n",
       "      <td>0.005872</td>\n",
       "      <td>0.0</td>\n",
       "      <td>0.00</td>\n",
       "      <td>0.0</td>\n",
       "      <td>0.000000</td>\n",
       "      <td>0.100000</td>\n",
       "    </tr>\n",
       "    <tr>\n",
       "      <th>ACTION_TYPE:running_bank_shot</th>\n",
       "      <td>1558.0</td>\n",
       "      <td>0.001574</td>\n",
       "      <td>0.009781</td>\n",
       "      <td>0.0</td>\n",
       "      <td>0.00</td>\n",
       "      <td>0.0</td>\n",
       "      <td>0.000000</td>\n",
       "      <td>0.133333</td>\n",
       "    </tr>\n",
       "    <tr>\n",
       "      <th>ACTION_TYPE:running_dunk_shot</th>\n",
       "      <td>1558.0</td>\n",
       "      <td>0.000586</td>\n",
       "      <td>0.005432</td>\n",
       "      <td>0.0</td>\n",
       "      <td>0.00</td>\n",
       "      <td>0.0</td>\n",
       "      <td>0.000000</td>\n",
       "      <td>0.076923</td>\n",
       "    </tr>\n",
       "    <tr>\n",
       "      <th>ACTION_TYPE:running_finger_roll_layup_shot</th>\n",
       "      <td>1558.0</td>\n",
       "      <td>0.000171</td>\n",
       "      <td>0.002807</td>\n",
       "      <td>0.0</td>\n",
       "      <td>0.00</td>\n",
       "      <td>0.0</td>\n",
       "      <td>0.000000</td>\n",
       "      <td>0.062500</td>\n",
       "    </tr>\n",
       "    <tr>\n",
       "      <th>ACTION_TYPE:running_finger_roll_shot</th>\n",
       "      <td>1558.0</td>\n",
       "      <td>0.000151</td>\n",
       "      <td>0.003050</td>\n",
       "      <td>0.0</td>\n",
       "      <td>0.00</td>\n",
       "      <td>0.0</td>\n",
       "      <td>0.000000</td>\n",
       "      <td>0.076923</td>\n",
       "    </tr>\n",
       "    <tr>\n",
       "      <th>ACTION_TYPE:running_hook_shot</th>\n",
       "      <td>1558.0</td>\n",
       "      <td>0.001203</td>\n",
       "      <td>0.007963</td>\n",
       "      <td>0.0</td>\n",
       "      <td>0.00</td>\n",
       "      <td>0.0</td>\n",
       "      <td>0.000000</td>\n",
       "      <td>0.095238</td>\n",
       "    </tr>\n",
       "    <tr>\n",
       "      <th>ACTION_TYPE:running_jump_shot</th>\n",
       "      <td>1558.0</td>\n",
       "      <td>0.031293</td>\n",
       "      <td>0.052515</td>\n",
       "      <td>0.0</td>\n",
       "      <td>0.00</td>\n",
       "      <td>0.0</td>\n",
       "      <td>0.052632</td>\n",
       "      <td>0.500000</td>\n",
       "    </tr>\n",
       "    <tr>\n",
       "      <th>ACTION_TYPE:running_layup_shot</th>\n",
       "      <td>1558.0</td>\n",
       "      <td>0.002205</td>\n",
       "      <td>0.011775</td>\n",
       "      <td>0.0</td>\n",
       "      <td>0.00</td>\n",
       "      <td>0.0</td>\n",
       "      <td>0.000000</td>\n",
       "      <td>0.181818</td>\n",
       "    </tr>\n",
       "    <tr>\n",
       "      <th>ACTION_TYPE:running_pull-up_jump_shot</th>\n",
       "      <td>1558.0</td>\n",
       "      <td>0.000144</td>\n",
       "      <td>0.003342</td>\n",
       "      <td>0.0</td>\n",
       "      <td>0.00</td>\n",
       "      <td>0.0</td>\n",
       "      <td>0.000000</td>\n",
       "      <td>0.095238</td>\n",
       "    </tr>\n",
       "    <tr>\n",
       "      <th>ACTION_TYPE:running_reverse_layup_shot</th>\n",
       "      <td>1558.0</td>\n",
       "      <td>0.000357</td>\n",
       "      <td>0.005687</td>\n",
       "      <td>0.0</td>\n",
       "      <td>0.00</td>\n",
       "      <td>0.0</td>\n",
       "      <td>0.000000</td>\n",
       "      <td>0.150000</td>\n",
       "    </tr>\n",
       "    <tr>\n",
       "      <th>ACTION_TYPE:running_slam_dunk_shot</th>\n",
       "      <td>1558.0</td>\n",
       "      <td>0.000029</td>\n",
       "      <td>0.001152</td>\n",
       "      <td>0.0</td>\n",
       "      <td>0.00</td>\n",
       "      <td>0.0</td>\n",
       "      <td>0.000000</td>\n",
       "      <td>0.045455</td>\n",
       "    </tr>\n",
       "    <tr>\n",
       "      <th>ACTION_TYPE:running_tip_shot</th>\n",
       "      <td>1558.0</td>\n",
       "      <td>0.000063</td>\n",
       "      <td>0.001876</td>\n",
       "      <td>0.0</td>\n",
       "      <td>0.00</td>\n",
       "      <td>0.0</td>\n",
       "      <td>0.000000</td>\n",
       "      <td>0.066667</td>\n",
       "    </tr>\n",
       "    <tr>\n",
       "      <th>ACTION_TYPE:slam_dunk_shot</th>\n",
       "      <td>1558.0</td>\n",
       "      <td>0.015188</td>\n",
       "      <td>0.036864</td>\n",
       "      <td>0.0</td>\n",
       "      <td>0.00</td>\n",
       "      <td>0.0</td>\n",
       "      <td>0.000000</td>\n",
       "      <td>0.333333</td>\n",
       "    </tr>\n",
       "    <tr>\n",
       "      <th>ACTION_TYPE:step_back_jump_shot</th>\n",
       "      <td>1558.0</td>\n",
       "      <td>0.003643</td>\n",
       "      <td>0.015250</td>\n",
       "      <td>0.0</td>\n",
       "      <td>0.00</td>\n",
       "      <td>0.0</td>\n",
       "      <td>0.000000</td>\n",
       "      <td>0.166667</td>\n",
       "    </tr>\n",
       "    <tr>\n",
       "      <th>ACTION_TYPE:tip_layup_shot</th>\n",
       "      <td>1558.0</td>\n",
       "      <td>0.000064</td>\n",
       "      <td>0.001791</td>\n",
       "      <td>0.0</td>\n",
       "      <td>0.00</td>\n",
       "      <td>0.0</td>\n",
       "      <td>0.000000</td>\n",
       "      <td>0.050000</td>\n",
       "    </tr>\n",
       "    <tr>\n",
       "      <th>ACTION_TYPE:tip_shot</th>\n",
       "      <td>1558.0</td>\n",
       "      <td>0.006207</td>\n",
       "      <td>0.022033</td>\n",
       "      <td>0.0</td>\n",
       "      <td>0.00</td>\n",
       "      <td>0.0</td>\n",
       "      <td>0.000000</td>\n",
       "      <td>0.250000</td>\n",
       "    </tr>\n",
       "    <tr>\n",
       "      <th>ACTION_TYPE:turnaround_bank_shot</th>\n",
       "      <td>1558.0</td>\n",
       "      <td>0.002047</td>\n",
       "      <td>0.011133</td>\n",
       "      <td>0.0</td>\n",
       "      <td>0.00</td>\n",
       "      <td>0.0</td>\n",
       "      <td>0.000000</td>\n",
       "      <td>0.133333</td>\n",
       "    </tr>\n",
       "    <tr>\n",
       "      <th>ACTION_TYPE:turnaround_fadeaway_bank_jump_shot</th>\n",
       "      <td>1558.0</td>\n",
       "      <td>0.000032</td>\n",
       "      <td>0.001267</td>\n",
       "      <td>0.0</td>\n",
       "      <td>0.00</td>\n",
       "      <td>0.0</td>\n",
       "      <td>0.000000</td>\n",
       "      <td>0.050000</td>\n",
       "    </tr>\n",
       "    <tr>\n",
       "      <th>ACTION_TYPE:turnaround_fadeaway_shot</th>\n",
       "      <td>1558.0</td>\n",
       "      <td>0.014149</td>\n",
       "      <td>0.041313</td>\n",
       "      <td>0.0</td>\n",
       "      <td>0.00</td>\n",
       "      <td>0.0</td>\n",
       "      <td>0.000000</td>\n",
       "      <td>0.533333</td>\n",
       "    </tr>\n",
       "    <tr>\n",
       "      <th>ACTION_TYPE:turnaround_finger_roll_shot</th>\n",
       "      <td>1558.0</td>\n",
       "      <td>0.000050</td>\n",
       "      <td>0.001390</td>\n",
       "      <td>0.0</td>\n",
       "      <td>0.00</td>\n",
       "      <td>0.0</td>\n",
       "      <td>0.000000</td>\n",
       "      <td>0.041667</td>\n",
       "    </tr>\n",
       "    <tr>\n",
       "      <th>ACTION_TYPE:turnaround_hook_shot</th>\n",
       "      <td>1558.0</td>\n",
       "      <td>0.000433</td>\n",
       "      <td>0.004902</td>\n",
       "      <td>0.0</td>\n",
       "      <td>0.00</td>\n",
       "      <td>0.0</td>\n",
       "      <td>0.000000</td>\n",
       "      <td>0.111111</td>\n",
       "    </tr>\n",
       "    <tr>\n",
       "      <th>ACTION_TYPE:turnaround_jump_shot</th>\n",
       "      <td>1558.0</td>\n",
       "      <td>0.031766</td>\n",
       "      <td>0.049402</td>\n",
       "      <td>0.0</td>\n",
       "      <td>0.00</td>\n",
       "      <td>0.0</td>\n",
       "      <td>0.052632</td>\n",
       "      <td>0.352941</td>\n",
       "    </tr>\n",
       "    <tr>\n",
       "      <th>SEASON_GAME_NUMBER</th>\n",
       "      <td>1558.0</td>\n",
       "      <td>42.946727</td>\n",
       "      <td>26.048206</td>\n",
       "      <td>1.0</td>\n",
       "      <td>21.00</td>\n",
       "      <td>42.0</td>\n",
       "      <td>63.000000</td>\n",
       "      <td>105.000000</td>\n",
       "    </tr>\n",
       "    <tr>\n",
       "      <th>CAREER_GAME_NUMBER</th>\n",
       "      <td>1558.0</td>\n",
       "      <td>780.486521</td>\n",
       "      <td>449.923227</td>\n",
       "      <td>1.0</td>\n",
       "      <td>391.25</td>\n",
       "      <td>780.5</td>\n",
       "      <td>1169.750000</td>\n",
       "      <td>1559.000000</td>\n",
       "    </tr>\n",
       "  </tbody>\n",
       "</table>\n",
       "<p>645 rows × 8 columns</p>\n",
       "</div>"
      ],
      "text/plain": [
       "                                                 count        mean  \\\n",
       "SHOTS_MADE                                      1558.0    7.358793   \n",
       "AWAY_GAME                                       1558.0    0.500642   \n",
       "SEASON_OPPONENT:atl:1996-97                     1558.0    0.001284   \n",
       "SEASON_OPPONENT:atl:1997-98                     1558.0    0.001284   \n",
       "SEASON_OPPONENT:atl:1999-00                     1558.0    0.000642   \n",
       "SEASON_OPPONENT:atl:2000-01                     1558.0    0.000642   \n",
       "SEASON_OPPONENT:atl:2001-02                     1558.0    0.001284   \n",
       "SEASON_OPPONENT:atl:2002-03                     1558.0    0.001284   \n",
       "SEASON_OPPONENT:atl:2003-04                     1558.0    0.000642   \n",
       "SEASON_OPPONENT:atl:2004-05                     1558.0    0.000642   \n",
       "SEASON_OPPONENT:atl:2005-06                     1558.0    0.001284   \n",
       "SEASON_OPPONENT:atl:2006-07                     1558.0    0.000642   \n",
       "SEASON_OPPONENT:atl:2007-08                     1558.0    0.001284   \n",
       "SEASON_OPPONENT:atl:2008-09                     1558.0    0.001284   \n",
       "SEASON_OPPONENT:atl:2009-10                     1558.0    0.001284   \n",
       "SEASON_OPPONENT:atl:2010-11                     1558.0    0.001284   \n",
       "SEASON_OPPONENT:atl:2011-12                     1558.0    0.000642   \n",
       "SEASON_OPPONENT:atl:2012-13                     1558.0    0.001284   \n",
       "SEASON_OPPONENT:atl:2013-14                     1558.0    0.000642   \n",
       "SEASON_OPPONENT:atl:2014-15                     1558.0    0.000642   \n",
       "SEASON_OPPONENT:atl:2015-16                     1558.0    0.000642   \n",
       "SEASON_OPPONENT:bkn:2012-13                     1558.0    0.001284   \n",
       "SEASON_OPPONENT:bkn:2015-16                     1558.0    0.000642   \n",
       "SEASON_OPPONENT:bos:1996-97                     1558.0    0.000642   \n",
       "SEASON_OPPONENT:bos:1997-98                     1558.0    0.001284   \n",
       "SEASON_OPPONENT:bos:1999-00                     1558.0    0.001284   \n",
       "SEASON_OPPONENT:bos:2001-02                     1558.0    0.001284   \n",
       "SEASON_OPPONENT:bos:2002-03                     1558.0    0.001284   \n",
       "SEASON_OPPONENT:bos:2003-04                     1558.0    0.001284   \n",
       "SEASON_OPPONENT:bos:2004-05                     1558.0    0.001284   \n",
       "...                                                ...         ...   \n",
       "ACTION_TYPE:pullup_jump_shot                    1558.0    0.015442   \n",
       "ACTION_TYPE:putback_dunk_shot                   1558.0    0.000164   \n",
       "ACTION_TYPE:putback_layup_shot                  1558.0    0.000389   \n",
       "ACTION_TYPE:putback_slam_dunk_shot              1558.0    0.000046   \n",
       "ACTION_TYPE:reverse_dunk_shot                   1558.0    0.002247   \n",
       "ACTION_TYPE:reverse_layup_shot                  1558.0    0.012085   \n",
       "ACTION_TYPE:reverse_slam_dunk_shot              1558.0    0.000569   \n",
       "ACTION_TYPE:running_bank_shot                   1558.0    0.001574   \n",
       "ACTION_TYPE:running_dunk_shot                   1558.0    0.000586   \n",
       "ACTION_TYPE:running_finger_roll_layup_shot      1558.0    0.000171   \n",
       "ACTION_TYPE:running_finger_roll_shot            1558.0    0.000151   \n",
       "ACTION_TYPE:running_hook_shot                   1558.0    0.001203   \n",
       "ACTION_TYPE:running_jump_shot                   1558.0    0.031293   \n",
       "ACTION_TYPE:running_layup_shot                  1558.0    0.002205   \n",
       "ACTION_TYPE:running_pull-up_jump_shot           1558.0    0.000144   \n",
       "ACTION_TYPE:running_reverse_layup_shot          1558.0    0.000357   \n",
       "ACTION_TYPE:running_slam_dunk_shot              1558.0    0.000029   \n",
       "ACTION_TYPE:running_tip_shot                    1558.0    0.000063   \n",
       "ACTION_TYPE:slam_dunk_shot                      1558.0    0.015188   \n",
       "ACTION_TYPE:step_back_jump_shot                 1558.0    0.003643   \n",
       "ACTION_TYPE:tip_layup_shot                      1558.0    0.000064   \n",
       "ACTION_TYPE:tip_shot                            1558.0    0.006207   \n",
       "ACTION_TYPE:turnaround_bank_shot                1558.0    0.002047   \n",
       "ACTION_TYPE:turnaround_fadeaway_bank_jump_shot  1558.0    0.000032   \n",
       "ACTION_TYPE:turnaround_fadeaway_shot            1558.0    0.014149   \n",
       "ACTION_TYPE:turnaround_finger_roll_shot         1558.0    0.000050   \n",
       "ACTION_TYPE:turnaround_hook_shot                1558.0    0.000433   \n",
       "ACTION_TYPE:turnaround_jump_shot                1558.0    0.031766   \n",
       "SEASON_GAME_NUMBER                              1558.0   42.946727   \n",
       "CAREER_GAME_NUMBER                              1558.0  780.486521   \n",
       "\n",
       "                                                       std  min     25%  \\\n",
       "SHOTS_MADE                                        3.471180  0.0    5.00   \n",
       "AWAY_GAME                                         0.500160  0.0    0.00   \n",
       "SEASON_OPPONENT:atl:1996-97                       0.035817  0.0    0.00   \n",
       "SEASON_OPPONENT:atl:1997-98                       0.035817  0.0    0.00   \n",
       "SEASON_OPPONENT:atl:1999-00                       0.025335  0.0    0.00   \n",
       "SEASON_OPPONENT:atl:2000-01                       0.025335  0.0    0.00   \n",
       "SEASON_OPPONENT:atl:2001-02                       0.035817  0.0    0.00   \n",
       "SEASON_OPPONENT:atl:2002-03                       0.035817  0.0    0.00   \n",
       "SEASON_OPPONENT:atl:2003-04                       0.025335  0.0    0.00   \n",
       "SEASON_OPPONENT:atl:2004-05                       0.025335  0.0    0.00   \n",
       "SEASON_OPPONENT:atl:2005-06                       0.035817  0.0    0.00   \n",
       "SEASON_OPPONENT:atl:2006-07                       0.025335  0.0    0.00   \n",
       "SEASON_OPPONENT:atl:2007-08                       0.035817  0.0    0.00   \n",
       "SEASON_OPPONENT:atl:2008-09                       0.035817  0.0    0.00   \n",
       "SEASON_OPPONENT:atl:2009-10                       0.035817  0.0    0.00   \n",
       "SEASON_OPPONENT:atl:2010-11                       0.035817  0.0    0.00   \n",
       "SEASON_OPPONENT:atl:2011-12                       0.025335  0.0    0.00   \n",
       "SEASON_OPPONENT:atl:2012-13                       0.035817  0.0    0.00   \n",
       "SEASON_OPPONENT:atl:2013-14                       0.025335  0.0    0.00   \n",
       "SEASON_OPPONENT:atl:2014-15                       0.025335  0.0    0.00   \n",
       "SEASON_OPPONENT:atl:2015-16                       0.025335  0.0    0.00   \n",
       "SEASON_OPPONENT:bkn:2012-13                       0.035817  0.0    0.00   \n",
       "SEASON_OPPONENT:bkn:2015-16                       0.025335  0.0    0.00   \n",
       "SEASON_OPPONENT:bos:1996-97                       0.025335  0.0    0.00   \n",
       "SEASON_OPPONENT:bos:1997-98                       0.035817  0.0    0.00   \n",
       "SEASON_OPPONENT:bos:1999-00                       0.035817  0.0    0.00   \n",
       "SEASON_OPPONENT:bos:2001-02                       0.035817  0.0    0.00   \n",
       "SEASON_OPPONENT:bos:2002-03                       0.035817  0.0    0.00   \n",
       "SEASON_OPPONENT:bos:2003-04                       0.035817  0.0    0.00   \n",
       "SEASON_OPPONENT:bos:2004-05                       0.035817  0.0    0.00   \n",
       "...                                                    ...  ...     ...   \n",
       "ACTION_TYPE:pullup_jump_shot                      0.047105  0.0    0.00   \n",
       "ACTION_TYPE:putback_dunk_shot                     0.002972  0.0    0.00   \n",
       "ACTION_TYPE:putback_layup_shot                    0.003994  0.0    0.00   \n",
       "ACTION_TYPE:putback_slam_dunk_shot                0.001810  0.0    0.00   \n",
       "ACTION_TYPE:reverse_dunk_shot                     0.010696  0.0    0.00   \n",
       "ACTION_TYPE:reverse_layup_shot                    0.027005  0.0    0.00   \n",
       "ACTION_TYPE:reverse_slam_dunk_shot                0.005872  0.0    0.00   \n",
       "ACTION_TYPE:running_bank_shot                     0.009781  0.0    0.00   \n",
       "ACTION_TYPE:running_dunk_shot                     0.005432  0.0    0.00   \n",
       "ACTION_TYPE:running_finger_roll_layup_shot        0.002807  0.0    0.00   \n",
       "ACTION_TYPE:running_finger_roll_shot              0.003050  0.0    0.00   \n",
       "ACTION_TYPE:running_hook_shot                     0.007963  0.0    0.00   \n",
       "ACTION_TYPE:running_jump_shot                     0.052515  0.0    0.00   \n",
       "ACTION_TYPE:running_layup_shot                    0.011775  0.0    0.00   \n",
       "ACTION_TYPE:running_pull-up_jump_shot             0.003342  0.0    0.00   \n",
       "ACTION_TYPE:running_reverse_layup_shot            0.005687  0.0    0.00   \n",
       "ACTION_TYPE:running_slam_dunk_shot                0.001152  0.0    0.00   \n",
       "ACTION_TYPE:running_tip_shot                      0.001876  0.0    0.00   \n",
       "ACTION_TYPE:slam_dunk_shot                        0.036864  0.0    0.00   \n",
       "ACTION_TYPE:step_back_jump_shot                   0.015250  0.0    0.00   \n",
       "ACTION_TYPE:tip_layup_shot                        0.001791  0.0    0.00   \n",
       "ACTION_TYPE:tip_shot                              0.022033  0.0    0.00   \n",
       "ACTION_TYPE:turnaround_bank_shot                  0.011133  0.0    0.00   \n",
       "ACTION_TYPE:turnaround_fadeaway_bank_jump_shot    0.001267  0.0    0.00   \n",
       "ACTION_TYPE:turnaround_fadeaway_shot              0.041313  0.0    0.00   \n",
       "ACTION_TYPE:turnaround_finger_roll_shot           0.001390  0.0    0.00   \n",
       "ACTION_TYPE:turnaround_hook_shot                  0.004902  0.0    0.00   \n",
       "ACTION_TYPE:turnaround_jump_shot                  0.049402  0.0    0.00   \n",
       "SEASON_GAME_NUMBER                               26.048206  1.0   21.00   \n",
       "CAREER_GAME_NUMBER                              449.923227  1.0  391.25   \n",
       "\n",
       "                                                  50%          75%  \\\n",
       "SHOTS_MADE                                        7.0    10.000000   \n",
       "AWAY_GAME                                         1.0     1.000000   \n",
       "SEASON_OPPONENT:atl:1996-97                       0.0     0.000000   \n",
       "SEASON_OPPONENT:atl:1997-98                       0.0     0.000000   \n",
       "SEASON_OPPONENT:atl:1999-00                       0.0     0.000000   \n",
       "SEASON_OPPONENT:atl:2000-01                       0.0     0.000000   \n",
       "SEASON_OPPONENT:atl:2001-02                       0.0     0.000000   \n",
       "SEASON_OPPONENT:atl:2002-03                       0.0     0.000000   \n",
       "SEASON_OPPONENT:atl:2003-04                       0.0     0.000000   \n",
       "SEASON_OPPONENT:atl:2004-05                       0.0     0.000000   \n",
       "SEASON_OPPONENT:atl:2005-06                       0.0     0.000000   \n",
       "SEASON_OPPONENT:atl:2006-07                       0.0     0.000000   \n",
       "SEASON_OPPONENT:atl:2007-08                       0.0     0.000000   \n",
       "SEASON_OPPONENT:atl:2008-09                       0.0     0.000000   \n",
       "SEASON_OPPONENT:atl:2009-10                       0.0     0.000000   \n",
       "SEASON_OPPONENT:atl:2010-11                       0.0     0.000000   \n",
       "SEASON_OPPONENT:atl:2011-12                       0.0     0.000000   \n",
       "SEASON_OPPONENT:atl:2012-13                       0.0     0.000000   \n",
       "SEASON_OPPONENT:atl:2013-14                       0.0     0.000000   \n",
       "SEASON_OPPONENT:atl:2014-15                       0.0     0.000000   \n",
       "SEASON_OPPONENT:atl:2015-16                       0.0     0.000000   \n",
       "SEASON_OPPONENT:bkn:2012-13                       0.0     0.000000   \n",
       "SEASON_OPPONENT:bkn:2015-16                       0.0     0.000000   \n",
       "SEASON_OPPONENT:bos:1996-97                       0.0     0.000000   \n",
       "SEASON_OPPONENT:bos:1997-98                       0.0     0.000000   \n",
       "SEASON_OPPONENT:bos:1999-00                       0.0     0.000000   \n",
       "SEASON_OPPONENT:bos:2001-02                       0.0     0.000000   \n",
       "SEASON_OPPONENT:bos:2002-03                       0.0     0.000000   \n",
       "SEASON_OPPONENT:bos:2003-04                       0.0     0.000000   \n",
       "SEASON_OPPONENT:bos:2004-05                       0.0     0.000000   \n",
       "...                                               ...          ...   \n",
       "ACTION_TYPE:pullup_jump_shot                      0.0     0.000000   \n",
       "ACTION_TYPE:putback_dunk_shot                     0.0     0.000000   \n",
       "ACTION_TYPE:putback_layup_shot                    0.0     0.000000   \n",
       "ACTION_TYPE:putback_slam_dunk_shot                0.0     0.000000   \n",
       "ACTION_TYPE:reverse_dunk_shot                     0.0     0.000000   \n",
       "ACTION_TYPE:reverse_layup_shot                    0.0     0.000000   \n",
       "ACTION_TYPE:reverse_slam_dunk_shot                0.0     0.000000   \n",
       "ACTION_TYPE:running_bank_shot                     0.0     0.000000   \n",
       "ACTION_TYPE:running_dunk_shot                     0.0     0.000000   \n",
       "ACTION_TYPE:running_finger_roll_layup_shot        0.0     0.000000   \n",
       "ACTION_TYPE:running_finger_roll_shot              0.0     0.000000   \n",
       "ACTION_TYPE:running_hook_shot                     0.0     0.000000   \n",
       "ACTION_TYPE:running_jump_shot                     0.0     0.052632   \n",
       "ACTION_TYPE:running_layup_shot                    0.0     0.000000   \n",
       "ACTION_TYPE:running_pull-up_jump_shot             0.0     0.000000   \n",
       "ACTION_TYPE:running_reverse_layup_shot            0.0     0.000000   \n",
       "ACTION_TYPE:running_slam_dunk_shot                0.0     0.000000   \n",
       "ACTION_TYPE:running_tip_shot                      0.0     0.000000   \n",
       "ACTION_TYPE:slam_dunk_shot                        0.0     0.000000   \n",
       "ACTION_TYPE:step_back_jump_shot                   0.0     0.000000   \n",
       "ACTION_TYPE:tip_layup_shot                        0.0     0.000000   \n",
       "ACTION_TYPE:tip_shot                              0.0     0.000000   \n",
       "ACTION_TYPE:turnaround_bank_shot                  0.0     0.000000   \n",
       "ACTION_TYPE:turnaround_fadeaway_bank_jump_shot    0.0     0.000000   \n",
       "ACTION_TYPE:turnaround_fadeaway_shot              0.0     0.000000   \n",
       "ACTION_TYPE:turnaround_finger_roll_shot           0.0     0.000000   \n",
       "ACTION_TYPE:turnaround_hook_shot                  0.0     0.000000   \n",
       "ACTION_TYPE:turnaround_jump_shot                  0.0     0.052632   \n",
       "SEASON_GAME_NUMBER                               42.0    63.000000   \n",
       "CAREER_GAME_NUMBER                              780.5  1169.750000   \n",
       "\n",
       "                                                        max  \n",
       "SHOTS_MADE                                        22.000000  \n",
       "AWAY_GAME                                          1.000000  \n",
       "SEASON_OPPONENT:atl:1996-97                        1.000000  \n",
       "SEASON_OPPONENT:atl:1997-98                        1.000000  \n",
       "SEASON_OPPONENT:atl:1999-00                        1.000000  \n",
       "SEASON_OPPONENT:atl:2000-01                        1.000000  \n",
       "SEASON_OPPONENT:atl:2001-02                        1.000000  \n",
       "SEASON_OPPONENT:atl:2002-03                        1.000000  \n",
       "SEASON_OPPONENT:atl:2003-04                        1.000000  \n",
       "SEASON_OPPONENT:atl:2004-05                        1.000000  \n",
       "SEASON_OPPONENT:atl:2005-06                        1.000000  \n",
       "SEASON_OPPONENT:atl:2006-07                        1.000000  \n",
       "SEASON_OPPONENT:atl:2007-08                        1.000000  \n",
       "SEASON_OPPONENT:atl:2008-09                        1.000000  \n",
       "SEASON_OPPONENT:atl:2009-10                        1.000000  \n",
       "SEASON_OPPONENT:atl:2010-11                        1.000000  \n",
       "SEASON_OPPONENT:atl:2011-12                        1.000000  \n",
       "SEASON_OPPONENT:atl:2012-13                        1.000000  \n",
       "SEASON_OPPONENT:atl:2013-14                        1.000000  \n",
       "SEASON_OPPONENT:atl:2014-15                        1.000000  \n",
       "SEASON_OPPONENT:atl:2015-16                        1.000000  \n",
       "SEASON_OPPONENT:bkn:2012-13                        1.000000  \n",
       "SEASON_OPPONENT:bkn:2015-16                        1.000000  \n",
       "SEASON_OPPONENT:bos:1996-97                        1.000000  \n",
       "SEASON_OPPONENT:bos:1997-98                        1.000000  \n",
       "SEASON_OPPONENT:bos:1999-00                        1.000000  \n",
       "SEASON_OPPONENT:bos:2001-02                        1.000000  \n",
       "SEASON_OPPONENT:bos:2002-03                        1.000000  \n",
       "SEASON_OPPONENT:bos:2003-04                        1.000000  \n",
       "SEASON_OPPONENT:bos:2004-05                        1.000000  \n",
       "...                                                     ...  \n",
       "ACTION_TYPE:pullup_jump_shot                       0.500000  \n",
       "ACTION_TYPE:putback_dunk_shot                      0.071429  \n",
       "ACTION_TYPE:putback_layup_shot                     0.052632  \n",
       "ACTION_TYPE:putback_slam_dunk_shot                 0.071429  \n",
       "ACTION_TYPE:reverse_dunk_shot                      0.111111  \n",
       "ACTION_TYPE:reverse_layup_shot                     0.238095  \n",
       "ACTION_TYPE:reverse_slam_dunk_shot                 0.100000  \n",
       "ACTION_TYPE:running_bank_shot                      0.133333  \n",
       "ACTION_TYPE:running_dunk_shot                      0.076923  \n",
       "ACTION_TYPE:running_finger_roll_layup_shot         0.062500  \n",
       "ACTION_TYPE:running_finger_roll_shot               0.076923  \n",
       "ACTION_TYPE:running_hook_shot                      0.095238  \n",
       "ACTION_TYPE:running_jump_shot                      0.500000  \n",
       "ACTION_TYPE:running_layup_shot                     0.181818  \n",
       "ACTION_TYPE:running_pull-up_jump_shot              0.095238  \n",
       "ACTION_TYPE:running_reverse_layup_shot             0.150000  \n",
       "ACTION_TYPE:running_slam_dunk_shot                 0.045455  \n",
       "ACTION_TYPE:running_tip_shot                       0.066667  \n",
       "ACTION_TYPE:slam_dunk_shot                         0.333333  \n",
       "ACTION_TYPE:step_back_jump_shot                    0.166667  \n",
       "ACTION_TYPE:tip_layup_shot                         0.050000  \n",
       "ACTION_TYPE:tip_shot                               0.250000  \n",
       "ACTION_TYPE:turnaround_bank_shot                   0.133333  \n",
       "ACTION_TYPE:turnaround_fadeaway_bank_jump_shot     0.050000  \n",
       "ACTION_TYPE:turnaround_fadeaway_shot               0.533333  \n",
       "ACTION_TYPE:turnaround_finger_roll_shot            0.041667  \n",
       "ACTION_TYPE:turnaround_hook_shot                   0.111111  \n",
       "ACTION_TYPE:turnaround_jump_shot                   0.352941  \n",
       "SEASON_GAME_NUMBER                               105.000000  \n",
       "CAREER_GAME_NUMBER                              1559.000000  \n",
       "\n",
       "[645 rows x 8 columns]"
      ]
     },
     "execution_count": 177,
     "metadata": {},
     "output_type": "execute_result"
    }
   ],
   "source": [
    "df.describe().T"
   ]
  },
  {
   "cell_type": "markdown",
   "metadata": {},
   "source": [
    "---\n",
    "\n",
    "### 3. Make predictor and target variables. Standardize the predictors.\n",
    "\n",
    "Why is normalization necessary for regularized regressions?\n",
    "\n",
    "Use the `sklearn.preprocessing` class `StandardScaler` to standardize the predictors."
   ]
  },
  {
   "cell_type": "code",
   "execution_count": 178,
   "metadata": {
    "collapsed": true
   },
   "outputs": [],
   "source": [
    "'''Importing Standard Scaler from sklearn Library'''\n",
    "\n",
    "from sklearn.preprocessing import StandardScaler\n",
    "ss = StandardScaler()"
   ]
  },
  {
   "cell_type": "code",
   "execution_count": 179,
   "metadata": {},
   "outputs": [
    {
     "data": {
      "text/html": [
       "<div>\n",
       "<style>\n",
       "    .dataframe thead tr:only-child th {\n",
       "        text-align: right;\n",
       "    }\n",
       "\n",
       "    .dataframe thead th {\n",
       "        text-align: left;\n",
       "    }\n",
       "\n",
       "    .dataframe tbody tr th {\n",
       "        vertical-align: top;\n",
       "    }\n",
       "</style>\n",
       "<table border=\"1\" class=\"dataframe\">\n",
       "  <thead>\n",
       "    <tr style=\"text-align: right;\">\n",
       "      <th></th>\n",
       "      <th>AWAY_GAME</th>\n",
       "      <th>SEASON_OPPONENT:atl:1996-97</th>\n",
       "      <th>SEASON_OPPONENT:atl:1997-98</th>\n",
       "      <th>SEASON_OPPONENT:atl:1999-00</th>\n",
       "      <th>SEASON_OPPONENT:atl:2000-01</th>\n",
       "      <th>SEASON_OPPONENT:atl:2001-02</th>\n",
       "      <th>SEASON_OPPONENT:atl:2002-03</th>\n",
       "      <th>SEASON_OPPONENT:atl:2003-04</th>\n",
       "      <th>SEASON_OPPONENT:atl:2004-05</th>\n",
       "      <th>SEASON_OPPONENT:atl:2005-06</th>\n",
       "      <th>...</th>\n",
       "      <th>ACTION_TYPE:tip_layup_shot</th>\n",
       "      <th>ACTION_TYPE:tip_shot</th>\n",
       "      <th>ACTION_TYPE:turnaround_bank_shot</th>\n",
       "      <th>ACTION_TYPE:turnaround_fadeaway_bank_jump_shot</th>\n",
       "      <th>ACTION_TYPE:turnaround_fadeaway_shot</th>\n",
       "      <th>ACTION_TYPE:turnaround_finger_roll_shot</th>\n",
       "      <th>ACTION_TYPE:turnaround_hook_shot</th>\n",
       "      <th>ACTION_TYPE:turnaround_jump_shot</th>\n",
       "      <th>SEASON_GAME_NUMBER</th>\n",
       "      <th>CAREER_GAME_NUMBER</th>\n",
       "    </tr>\n",
       "  </thead>\n",
       "  <tbody>\n",
       "    <tr>\n",
       "      <th>0</th>\n",
       "      <td>0</td>\n",
       "      <td>0.0</td>\n",
       "      <td>0.0</td>\n",
       "      <td>0.0</td>\n",
       "      <td>0.0</td>\n",
       "      <td>0.0</td>\n",
       "      <td>0.0</td>\n",
       "      <td>0.0</td>\n",
       "      <td>0.0</td>\n",
       "      <td>0.0</td>\n",
       "      <td>...</td>\n",
       "      <td>0.0</td>\n",
       "      <td>0.0</td>\n",
       "      <td>0.0</td>\n",
       "      <td>0.0</td>\n",
       "      <td>0.0</td>\n",
       "      <td>0.0</td>\n",
       "      <td>0.0</td>\n",
       "      <td>0.0</td>\n",
       "      <td>1</td>\n",
       "      <td>1</td>\n",
       "    </tr>\n",
       "    <tr>\n",
       "      <th>1</th>\n",
       "      <td>1</td>\n",
       "      <td>0.0</td>\n",
       "      <td>0.0</td>\n",
       "      <td>0.0</td>\n",
       "      <td>0.0</td>\n",
       "      <td>0.0</td>\n",
       "      <td>0.0</td>\n",
       "      <td>0.0</td>\n",
       "      <td>0.0</td>\n",
       "      <td>0.0</td>\n",
       "      <td>...</td>\n",
       "      <td>0.0</td>\n",
       "      <td>0.0</td>\n",
       "      <td>0.0</td>\n",
       "      <td>0.0</td>\n",
       "      <td>0.0</td>\n",
       "      <td>0.0</td>\n",
       "      <td>0.0</td>\n",
       "      <td>0.0</td>\n",
       "      <td>2</td>\n",
       "      <td>2</td>\n",
       "    </tr>\n",
       "    <tr>\n",
       "      <th>2</th>\n",
       "      <td>1</td>\n",
       "      <td>0.0</td>\n",
       "      <td>0.0</td>\n",
       "      <td>0.0</td>\n",
       "      <td>0.0</td>\n",
       "      <td>0.0</td>\n",
       "      <td>0.0</td>\n",
       "      <td>0.0</td>\n",
       "      <td>0.0</td>\n",
       "      <td>0.0</td>\n",
       "      <td>...</td>\n",
       "      <td>0.0</td>\n",
       "      <td>0.0</td>\n",
       "      <td>0.0</td>\n",
       "      <td>0.0</td>\n",
       "      <td>0.0</td>\n",
       "      <td>0.0</td>\n",
       "      <td>0.0</td>\n",
       "      <td>0.0</td>\n",
       "      <td>3</td>\n",
       "      <td>3</td>\n",
       "    </tr>\n",
       "    <tr>\n",
       "      <th>3</th>\n",
       "      <td>1</td>\n",
       "      <td>0.0</td>\n",
       "      <td>0.0</td>\n",
       "      <td>0.0</td>\n",
       "      <td>0.0</td>\n",
       "      <td>0.0</td>\n",
       "      <td>0.0</td>\n",
       "      <td>0.0</td>\n",
       "      <td>0.0</td>\n",
       "      <td>0.0</td>\n",
       "      <td>...</td>\n",
       "      <td>0.0</td>\n",
       "      <td>0.0</td>\n",
       "      <td>0.0</td>\n",
       "      <td>0.0</td>\n",
       "      <td>0.0</td>\n",
       "      <td>0.0</td>\n",
       "      <td>0.0</td>\n",
       "      <td>0.0</td>\n",
       "      <td>4</td>\n",
       "      <td>4</td>\n",
       "    </tr>\n",
       "    <tr>\n",
       "      <th>4</th>\n",
       "      <td>0</td>\n",
       "      <td>1.0</td>\n",
       "      <td>0.0</td>\n",
       "      <td>0.0</td>\n",
       "      <td>0.0</td>\n",
       "      <td>0.0</td>\n",
       "      <td>0.0</td>\n",
       "      <td>0.0</td>\n",
       "      <td>0.0</td>\n",
       "      <td>0.0</td>\n",
       "      <td>...</td>\n",
       "      <td>0.0</td>\n",
       "      <td>0.0</td>\n",
       "      <td>0.0</td>\n",
       "      <td>0.0</td>\n",
       "      <td>0.0</td>\n",
       "      <td>0.0</td>\n",
       "      <td>0.0</td>\n",
       "      <td>0.0</td>\n",
       "      <td>5</td>\n",
       "      <td>5</td>\n",
       "    </tr>\n",
       "  </tbody>\n",
       "</table>\n",
       "<p>5 rows × 644 columns</p>\n",
       "</div>"
      ],
      "text/plain": [
       "   AWAY_GAME  SEASON_OPPONENT:atl:1996-97  SEASON_OPPONENT:atl:1997-98  \\\n",
       "0          0                          0.0                          0.0   \n",
       "1          1                          0.0                          0.0   \n",
       "2          1                          0.0                          0.0   \n",
       "3          1                          0.0                          0.0   \n",
       "4          0                          1.0                          0.0   \n",
       "\n",
       "   SEASON_OPPONENT:atl:1999-00  SEASON_OPPONENT:atl:2000-01  \\\n",
       "0                          0.0                          0.0   \n",
       "1                          0.0                          0.0   \n",
       "2                          0.0                          0.0   \n",
       "3                          0.0                          0.0   \n",
       "4                          0.0                          0.0   \n",
       "\n",
       "   SEASON_OPPONENT:atl:2001-02  SEASON_OPPONENT:atl:2002-03  \\\n",
       "0                          0.0                          0.0   \n",
       "1                          0.0                          0.0   \n",
       "2                          0.0                          0.0   \n",
       "3                          0.0                          0.0   \n",
       "4                          0.0                          0.0   \n",
       "\n",
       "   SEASON_OPPONENT:atl:2003-04  SEASON_OPPONENT:atl:2004-05  \\\n",
       "0                          0.0                          0.0   \n",
       "1                          0.0                          0.0   \n",
       "2                          0.0                          0.0   \n",
       "3                          0.0                          0.0   \n",
       "4                          0.0                          0.0   \n",
       "\n",
       "   SEASON_OPPONENT:atl:2005-06         ...          \\\n",
       "0                          0.0         ...           \n",
       "1                          0.0         ...           \n",
       "2                          0.0         ...           \n",
       "3                          0.0         ...           \n",
       "4                          0.0         ...           \n",
       "\n",
       "   ACTION_TYPE:tip_layup_shot  ACTION_TYPE:tip_shot  \\\n",
       "0                         0.0                   0.0   \n",
       "1                         0.0                   0.0   \n",
       "2                         0.0                   0.0   \n",
       "3                         0.0                   0.0   \n",
       "4                         0.0                   0.0   \n",
       "\n",
       "   ACTION_TYPE:turnaround_bank_shot  \\\n",
       "0                               0.0   \n",
       "1                               0.0   \n",
       "2                               0.0   \n",
       "3                               0.0   \n",
       "4                               0.0   \n",
       "\n",
       "   ACTION_TYPE:turnaround_fadeaway_bank_jump_shot  \\\n",
       "0                                             0.0   \n",
       "1                                             0.0   \n",
       "2                                             0.0   \n",
       "3                                             0.0   \n",
       "4                                             0.0   \n",
       "\n",
       "   ACTION_TYPE:turnaround_fadeaway_shot  \\\n",
       "0                                   0.0   \n",
       "1                                   0.0   \n",
       "2                                   0.0   \n",
       "3                                   0.0   \n",
       "4                                   0.0   \n",
       "\n",
       "   ACTION_TYPE:turnaround_finger_roll_shot  ACTION_TYPE:turnaround_hook_shot  \\\n",
       "0                                      0.0                               0.0   \n",
       "1                                      0.0                               0.0   \n",
       "2                                      0.0                               0.0   \n",
       "3                                      0.0                               0.0   \n",
       "4                                      0.0                               0.0   \n",
       "\n",
       "   ACTION_TYPE:turnaround_jump_shot  SEASON_GAME_NUMBER  CAREER_GAME_NUMBER  \n",
       "0                               0.0                   1                   1  \n",
       "1                               0.0                   2                   2  \n",
       "2                               0.0                   3                   3  \n",
       "3                               0.0                   4                   4  \n",
       "4                               0.0                   5                   5  \n",
       "\n",
       "[5 rows x 644 columns]"
      ]
     },
     "execution_count": 179,
     "metadata": {},
     "output_type": "execute_result"
    }
   ],
   "source": [
    "'''Setting up the X Variables or the Predictor Variables'''\n",
    "\n",
    "X = df.iloc[:,1:]\n",
    "X.head()"
   ]
  },
  {
   "cell_type": "code",
   "execution_count": 180,
   "metadata": {},
   "outputs": [
    {
     "data": {
      "text/plain": [
       "0    0.0\n",
       "1    0.0\n",
       "2    2.0\n",
       "3    2.0\n",
       "4    0.0\n",
       "Name: SHOTS_MADE, dtype: float64"
      ]
     },
     "execution_count": 180,
     "metadata": {},
     "output_type": "execute_result"
    }
   ],
   "source": [
    "'''Setting up the Y Variable or the Targer Variable'''\n",
    "\n",
    "Y = df['SHOTS_MADE']\n",
    "Y.head()"
   ]
  },
  {
   "cell_type": "code",
   "execution_count": 181,
   "metadata": {},
   "outputs": [
    {
     "name": "stdout",
     "output_type": "stream",
     "text": [
      "(1043, 644)\n",
      "(1043,)\n",
      "(515, 644)\n",
      "(515,)\n"
     ]
    }
   ],
   "source": [
    "'''Split the data into the Training and the Test Set for further processing'''\n",
    "\n",
    "from sklearn.cross_validation import train_test_split\n",
    "\n",
    "x_train, x_test, y_train, y_test = train_test_split(X,Y, test_size = 0.33)\n",
    "\n",
    "print (x_train.shape)\n",
    "print (y_train.shape)\n",
    "print (x_test.shape)\n",
    "print (y_test.shape)"
   ]
  },
  {
   "cell_type": "code",
   "execution_count": 182,
   "metadata": {},
   "outputs": [
    {
     "data": {
      "text/plain": [
       "array([[-0.98572035, -0.03097891, -0.04383183, ...,  0.16213828,\n",
       "        -0.16217154,  0.60079104],\n",
       "       [-0.98572035, -0.03097891, -0.04383183, ..., -0.62860012,\n",
       "        -1.01370201, -1.18584004],\n",
       "       [-0.98572035, -0.03097891, -0.04383183, ...,  1.24041793,\n",
       "         0.96030044, -0.4764748 ],\n",
       "       [-0.98572035, -0.03097891, -0.04383183, ...,  0.03459983,\n",
       "        -1.55558503, -0.07773223],\n",
       "       [-0.98572035, -0.03097891, -0.04383183, ..., -0.62860012,\n",
       "         0.10876997, -0.92808932]])"
      ]
     },
     "execution_count": 182,
     "metadata": {},
     "output_type": "execute_result"
    }
   ],
   "source": [
    "'''Applying the standardizer and transform to the Training Set'''\n",
    "\n",
    "ss = StandardScaler()\n",
    "ss.fit(x_train)\n",
    "x_train_ss = ss.transform(x_train)\n",
    "x_train_ss[0:5]"
   ]
  },
  {
   "cell_type": "markdown",
   "metadata": {},
   "source": [
    "---\n",
    "\n",
    "### 4. Build a linear regression predicting `SHOTS_MADE` from the rest of the columns.\n",
    "\n",
    "Cross-validate the $R^2$ of an ordinary linear regression model with 10 cross-validation folds.\n",
    "\n",
    "How does it perform?"
   ]
  },
  {
   "cell_type": "code",
   "execution_count": 183,
   "metadata": {},
   "outputs": [
    {
     "name": "stdout",
     "output_type": "stream",
     "text": [
      "Model Score on the Training Data:  0.825962869216\n"
     ]
    }
   ],
   "source": [
    "'''Setting up the Linear Regression'''\n",
    "\n",
    "lr = LinearRegression()\n",
    "model = lr.fit(x_train_ss, y_train)\n",
    "\n",
    "'''Calculating the R2 on the Training Data'''\n",
    "\n",
    "model.score(x_train_ss, y_train)\n",
    "\n",
    "print ('Model Score on the Training Data: ', model.score(x_train_ss, y_train))"
   ]
  },
  {
   "cell_type": "code",
   "execution_count": 184,
   "metadata": {},
   "outputs": [
    {
     "data": {
      "text/plain": [
       "array([ -1.66504393e-01,   6.86459123e+10,   2.93553815e+12,\n",
       "        -2.29762330e+12,  -3.90429097e+12,   1.91928424e+12,\n",
       "        -1.49382934e+12,   9.15977687e+12,  -2.82544232e+13,\n",
       "         4.21488937e+12,  -1.88148161e+11,   3.72813017e+11,\n",
       "        -1.47360903e+12,   3.01909616e+12,   2.93726426e+13,\n",
       "        -9.36850747e+12,  -4.24761038e+12,   1.83112341e+13,\n",
       "         1.39799426e+12,   8.75590155e+11,  -4.24761038e+12,\n",
       "         1.97791918e+13,   6.86459123e+10,   2.93553815e+12,\n",
       "        -3.24777048e+12,   1.91928424e+12,  -1.49382934e+12,\n",
       "        -2.40642650e+12,   3.61679523e+12,   4.21488937e+12,\n",
       "        -2.65953973e+11,   5.88619146e+11,  -1.47360903e+12,\n",
       "         7.37748083e+12,  -9.05556981e+11,  -1.37616439e+12,\n",
       "        -3.00495637e+12,   1.39799426e+12,  -2.06814066e+13,\n",
       "        -3.27384058e+12,   2.07673569e+12,   1.46628819e+13,\n",
       "        -3.24777048e+12,  -5.51885114e+12,   2.18234288e+13,\n",
       "         2.55868851e+12,   4.21488937e+12,  -2.65953973e+11,\n",
       "         2.63745200e+11,  -1.47360903e+12,   3.01909616e+12,\n",
       "        -6.40632961e+11,  -1.37616439e+12,  -3.00495637e+12,\n",
       "         1.83112341e+13,   1.39799426e+12,   8.75590155e+11,\n",
       "         6.86459123e+10,  -8.85754071e+12,  -2.29762330e+12,\n",
       "        -3.90429097e+12,   1.91928424e+12,  -1.05680408e+12,\n",
       "         2.36167971e+13,   3.61679523e+12,  -9.82614470e+12,\n",
       "        -1.88148161e+11,   2.63745200e+11,  -2.08299764e+12,\n",
       "         4.26759747e+12,  -9.05556981e+11,   1.69008553e+13,\n",
       "        -3.00495637e+12,   8.75590155e+11,   6.86459123e+10,\n",
       "         2.93553815e+12,  -1.43164291e+12,  -3.24777048e+12,\n",
       "         1.31392542e+13,   1.91928424e+12,  -1.49382934e+12,\n",
       "        -2.40642650e+12,  -1.79083244e+13,   2.98180801e+12,\n",
       "        -1.88148161e+11,   3.72813017e+11,  -1.47360903e+12,\n",
       "         3.01909616e+12,  -6.40632961e+11,  -1.37616439e+12,\n",
       "        -3.00495637e+12,   1.39799426e+12,   1.23767715e+12,\n",
       "         4.19931173e+12,   2.07673569e+12,  -2.47729739e+12,\n",
       "        -3.24777048e+12,  -6.75593736e+12,   2.34950423e+12,\n",
       "        -1.82868087e+12,  -3.40156759e+12,   2.55868851e+12,\n",
       "         4.21488937e+12,  -3.25569278e+11,   3.72813017e+11,\n",
       "        -2.08299764e+12,   5.22420708e+12,  -1.69006854e+12,\n",
       "        -2.38129804e+12,  -6.00125499e+12,  -3.30273041e+13,\n",
       "         8.75590155e+11,   1.18784047e+11,   2.93553815e+12,\n",
       "        -2.02367707e+12,  -3.97577927e+12,  -3.90429097e+12,\n",
       "         1.91928424e+12,  -1.49382934e+12,  -5.19447207e+12,\n",
       "         4.42752331e+12,   4.21488937e+12,  -2.65953973e+11,\n",
       "         5.88619146e+11,  -3.60091954e+12,   4.26759747e+12,\n",
       "        -1.10854344e+12,  -3.63049092e+12,  -4.24761038e+12,\n",
       "         1.08370814e+13,   1.23767715e+12,   9.70333855e+10,\n",
       "         2.93553815e+12,  -2.29762330e+12,  -5.51885114e+12,\n",
       "         1.91928424e+12,  -1.49382934e+12,  -4.16405099e+12,\n",
       "         2.55868851e+12,   4.21488937e+12,  -2.65953973e+11,\n",
       "        -1.20150774e+13,  -1.47360903e+12,   3.01909616e+12,\n",
       "        -6.40632961e+11,   1.45629164e+13,  -3.00495637e+12,\n",
       "         1.39799426e+12,   8.75590155e+11,   1.37094045e+11,\n",
       "         3.59355804e+12,  -2.02367707e+12,  -3.97577927e+12,\n",
       "        -6.75593736e+12,   1.35779059e+12,  -2.11056335e+12,\n",
       "        -3.40156759e+12,   3.61679523e+12,   5.15968411e+12,\n",
       "        -2.65953973e+11,   4.56381470e+11,  -2.08299764e+12,\n",
       "         5.22420708e+12,  -1.27942016e+12,  -1.94525625e+12,\n",
       "        -6.00125499e+12,   1.97611352e+12,   1.23767715e+12,\n",
       "         6.86459123e+10,   2.93553815e+12,  -3.19510053e+12,\n",
       "        -3.24777048e+12,  -5.51885114e+12,   1.91928424e+12,\n",
       "        -1.82868087e+12,  -4.80591972e+12,   3.61679523e+12,\n",
       "         5.15968411e+12,  -2.65953973e+11,   3.72813017e+11,\n",
       "        -3.60091954e+12,   6.02949384e+12,  -1.10854344e+12,\n",
       "        -2.38129804e+12,  -4.24761038e+12,   1.39799426e+12,\n",
       "         8.75590155e+11,   6.86459123e+10,   2.07673569e+12,\n",
       "        -1.43164291e+12,  -4.58862680e+12,  -5.51885114e+12,\n",
       "         1.91928424e+12,  -1.05680408e+12,  -8.10483002e+12,\n",
       "         3.61679523e+12,   4.21488937e+12,  -1.40583471e+13,\n",
       "         2.63745200e+11,  -1.47360903e+12,   1.71275925e+13,\n",
       "        -6.40632961e+11,  -1.37616439e+12,  -4.24761038e+12,\n",
       "         1.39799426e+12,   1.23767715e+12,   6.86459123e+10,\n",
       "         3.59355804e+12,  -2.85916105e+12,  -3.97577927e+12,\n",
       "        -6.75593736e+12,   1.35779059e+12,  -2.11056335e+12,\n",
       "        -4.16405099e+12,   2.55868851e+12,   5.15968411e+12,\n",
       "        -2.65953973e+11,   3.72813017e+11,  -2.94297236e+12,\n",
       "         5.22420708e+12,  -1.10854344e+12,  -2.38129804e+12,\n",
       "        -5.19973975e+12,   1.97611352e+12,   1.51511050e+12,\n",
       "         2.34950423e+12,  -1.49382934e+12,  -4.16405099e+12,\n",
       "         2.55868851e+12,   5.15968411e+12,  -3.75754239e+11,\n",
       "         3.72813017e+11,  -2.54991505e+12,   4.26759747e+12,\n",
       "        -1.10854344e+12,  -1.94525625e+12,  -3.00495637e+12,\n",
       "         1.83112341e+13,   1.97611352e+12,   1.23767715e+12,\n",
       "         6.86459123e+10,   2.93553815e+12,  -3.24777048e+12,\n",
       "        -5.51885114e+12,   1.91928424e+12,  -1.05680408e+12,\n",
       "        -2.40642650e+12,   3.61679523e+12,   4.21488937e+12,\n",
       "        -2.65953973e+11,   2.63745200e+11,  -2.08299764e+12,\n",
       "         4.26759747e+12,  -9.05556981e+11,  -1.94525625e+12,\n",
       "        -4.24761038e+12,  -1.16320363e+13,  -6.51079084e+12,\n",
       "        -1.15739188e+12,   2.07673569e+12,  -2.29762330e+12,\n",
       "        -5.51885114e+12,   1.91928424e+12,  -1.05680408e+12,\n",
       "        -2.40642650e+12,   2.55868851e+12,   2.98180801e+12,\n",
       "        -1.52505160e+13,   2.63745200e+11,   2.06006660e+13,\n",
       "         3.01909616e+12,  -6.40632961e+11,  -1.37616439e+12,\n",
       "        -3.00495637e+12,   1.23767715e+12,   6.86459123e+10,\n",
       "         4.14748798e+12,  -2.02367707e+12,  -4.58862680e+12,\n",
       "        -3.90429097e+12,   1.91928424e+12,  -2.35854574e+12,\n",
       "        -5.88035771e+12,   3.61679523e+12,   4.21488937e+12,\n",
       "        -3.25569278e+11,   3.72813017e+11,  -2.54991505e+12,\n",
       "         3.01909616e+12,  -9.05556981e+11,  -1.94525625e+12,\n",
       "        -4.24761038e+12,   1.97611352e+12,   1.51511050e+12,\n",
       "         9.70333855e+10,   2.93553815e+12,  -2.29762330e+12,\n",
       "        -5.51885114e+12,   2.34950423e+12,  -1.05680408e+12,\n",
       "         1.04883207e+13,   2.98180801e+12,  -1.88148161e+11,\n",
       "        -3.08327248e+11,  -2.08299764e+12,   2.07918911e+12,\n",
       "        -6.40632961e+11,   1.23738519e+13,  -1.49382934e+12,\n",
       "        -2.40642650e+12,   4.56381470e+11,  -2.08299764e+12,\n",
       "         3.01909616e+12,  -1.42974669e+12,  -1.94525625e+12,\n",
       "        -4.24761038e+12,   2.55868851e+12,   4.21488937e+12,\n",
       "        -1.88148161e+11,   2.41907217e+12,   1.51511050e+12,\n",
       "         9.70333855e+10,   2.93553815e+12,  -1.43164291e+12,\n",
       "        -2.29762330e+12,  -3.90429097e+12,   1.35779059e+12,\n",
       "        -5.41180997e+10,  -3.40156759e+12,   6.32952087e+12,\n",
       "         2.98180801e+12,  -1.52041663e+12,   3.72813017e+11,\n",
       "        -1.47360903e+12,   4.26759747e+12,  -6.40632961e+11,\n",
       "        -1.94525625e+12,  -4.24761038e+12,   8.75590155e+11,\n",
       "        -1.47360903e+12,   8.51056229e+12,  -1.10854344e+12,\n",
       "        -3.36280327e+12,  -4.24761038e+12,   6.75220076e+12,\n",
       "         1.39799426e+12,   1.23767715e+12,   6.86459123e+10,\n",
       "         2.93553815e+12,  -1.43164291e+12,  -3.24777048e+12,\n",
       "        -3.90429097e+12,   1.91928424e+12,  -1.05680408e+12,\n",
       "        -7.70371460e+12,   2.55868851e+12,   2.98180801e+12,\n",
       "        -1.88148161e+11,   3.72813017e+11,  -3.28875933e+12,\n",
       "         3.01909616e+12,  -6.40632961e+11,  -1.37616439e+12,\n",
       "        -3.00495637e+12,   6.40721550e+12,  -4.79715266e+13,\n",
       "        -1.43164291e+12,  -3.24777048e+12,  -8.71348717e+12,\n",
       "         1.91928424e+12,  -2.92208919e+13,  -2.40642650e+12,\n",
       "         3.61679523e+12,   2.98180801e+12,  -2.65953973e+11,\n",
       "         2.63745200e+11,  -1.47360903e+12,   3.01909616e+12,\n",
       "        -9.05556981e+11,   2.21578189e+13,  -4.24761038e+12,\n",
       "        -3.22144147e+12,   6.86459123e+10,   3.59355804e+12,\n",
       "        -1.43164291e+12,  -5.12777129e+12,  -3.90429097e+12,\n",
       "         2.34950423e+12,  -1.82868087e+12,  -4.16405099e+12,\n",
       "         3.61679523e+12,   7.86637624e+12,  -4.19903793e+11,\n",
       "         2.63745200e+11,  -2.54991505e+12,   7.37748083e+12,\n",
       "        -6.40632961e+11,  -2.38129804e+12,  -4.24761038e+12,\n",
       "         1.83112341e+13,   1.97611352e+12,   1.96240550e+13,\n",
       "         1.18784047e+11,   4.63480051e+12,  -2.47729739e+12,\n",
       "        -5.61448559e+12,  -5.51885114e+12,   3.03027898e+12,\n",
       "        -1.49382934e+12,  -4.16405099e+12,   2.55868851e+12,\n",
       "         5.95502496e+12,  -2.65953973e+11,   3.72813017e+11,\n",
       "        -2.94297236e+12,   4.26759747e+12,  -9.05556981e+11,\n",
       "        -1.37616439e+12,  -5.19973975e+12,   1.23767715e+12,\n",
       "         1.18784047e+11,   3.59355804e+12,  -2.47729739e+12,\n",
       "        -6.86635877e+12,  -8.71348717e+12,   3.58201857e+12,\n",
       "        -1.49382934e+12,  -4.16405099e+12,   3.61679523e+12,\n",
       "         5.15968411e+12,  -3.25569278e+11,   2.63745200e+11,\n",
       "        -2.94297236e+12,   5.22420708e+12,  -9.05556981e+11,\n",
       "        -1.83639786e+13,  -3.00495637e+12,   1.97611352e+12,\n",
       "         1.51511050e+12,   9.70333855e+10,   2.07673569e+12,\n",
       "        -3.19510053e+12,  -4.58862680e+12,  -1.02999998e+13,\n",
       "         3.58201857e+12,  -2.11056335e+12,  -5.37059522e+12,\n",
       "        -4.72249374e+12,   5.15968411e+12,  -3.25569278e+11,\n",
       "         6.95792276e+11,  -2.08299764e+12,   5.22420708e+12,\n",
       "        -9.05556981e+11,  -1.37616439e+12,  -4.24761038e+12,\n",
       "         1.97611352e+12,   1.23767715e+12,   1.18784047e+11,\n",
       "         2.93553815e+12,  -2.47729739e+12,  -3.97577927e+12,\n",
       "        -5.51885114e+12,   1.91928424e+12,  -1.49382934e+12,\n",
       "        -4.16405099e+12,   3.61679523e+12,   4.21488937e+12,\n",
       "        -2.65953973e+11,   4.56381470e+11,   6.86459123e+10,\n",
       "         2.93553815e+12,   9.21873670e+12,  -3.90429097e+12,\n",
       "         1.35779059e+12,  -1.05680408e+12,  -2.40642650e+12,\n",
       "         2.55868851e+12,   4.21488937e+12,  -2.65953973e+11,\n",
       "         2.63745200e+11,  -1.47360903e+12,   4.26759747e+12,\n",
       "        -6.40632961e+11,  -8.22831469e+12,  -3.00495637e+12,\n",
       "         1.83112341e+13,   1.39799426e+12,   1.98666770e+11,\n",
       "         1.67743548e+11,   4.63480051e+12,  -2.47729739e+12,\n",
       "        -3.24777048e+12,  -6.75593736e+12,   2.34950423e+12,\n",
       "        -1.49382934e+12,  -3.40156759e+12,   3.61679523e+12,\n",
       "         4.21488937e+12,  -1.88148161e+11,   7.43474151e+11,\n",
       "        -3.60091954e+12,   6.73793420e+12,  -9.05556981e+11,\n",
       "        -1.94525625e+12,  -5.19973975e+12,   1.51511050e+12,\n",
       "         6.86459123e+10,   4.14748798e+12,  -2.47729739e+12,\n",
       "        -3.24777048e+12,  -6.75593736e+12,   6.86459123e+10,\n",
       "         2.93553815e+12,  -3.24777048e+12,  -3.90429097e+12,\n",
       "         1.35779059e+12,  -1.49382934e+12,  -4.37137950e+11,\n",
       "         2.55868851e+12,  -2.69035232e+13,  -1.88148161e+11,\n",
       "         2.63745200e+11,  -1.47360903e+12,   4.26759747e+12,\n",
       "        -6.40632961e+11,  -1.37616439e+12,  -3.00495637e+12,\n",
       "         1.39799426e+12,   7.61389587e+12,   2.13089810e+13,\n",
       "         8.26213858e+12,   2.84532359e+13,   4.18174722e+13,\n",
       "         4.84963645e+13,   8.15936000e+12,   2.35227323e+13,\n",
       "         3.01232169e+13,  -5.15767031e+12,  -1.08891135e+13,\n",
       "         1.07962217e+13,   6.74144579e+12,   1.89154998e+13,\n",
       "        -1.92238103e+13,   7.76196781e+12,   1.04440622e+13,\n",
       "         2.14816480e+13,  -4.13011643e+13,  -8.24744618e+12,\n",
       "        -7.26260940e+12,  -4.54101562e-02,   9.81445312e-02,\n",
       "         8.64257812e-02,   2.39257812e-02,  -5.62805176e-01,\n",
       "        -3.12500000e-02,   4.40642074e+12,   2.53693064e+13,\n",
       "         3.33435609e+12,   2.47296200e+12,   4.09105363e+12,\n",
       "        -1.64611526e+13,  -1.21849657e+12,   2.74602149e+12,\n",
       "        -2.76870380e+12,   5.76344357e+12,   3.52687685e+12,\n",
       "        -3.17467030e+12,  -2.76723836e+12,  -3.99290822e+13,\n",
       "        -2.00052468e+13,  -1.81398518e+13,  -2.21876594e+13,\n",
       "        -2.19023555e+13,  -7.52772105e+11,  -3.42221072e+11,\n",
       "         2.59126349e+12,   7.68112616e+12,   2.54059835e+12,\n",
       "         4.89075947e+13,   1.76553419e+13,   3.07683320e+12,\n",
       "        -1.90673828e-01,  -2.36328125e-01,  -6.02172852e-01,\n",
       "        -1.35232882e+07,  -1.03249268e+07,  -2.18520406e+06,\n",
       "        -3.26177284e+06,  -3.15159458e+06,  -2.57621265e+07,\n",
       "        -1.23607385e+07,  -1.26284284e+07,  -5.37893405e+12,\n",
       "        -4.12467888e+06,  -4.50260969e+06,  -8.00985938e+06,\n",
       "        -7.96961359e+07,  -1.14159794e+07,  -8.90202559e+06,\n",
       "        -3.97141188e+07,  -8.58823524e+06,  -4.97055403e+07,\n",
       "        -8.32508681e+06,  -6.33339301e+06,  -1.48362854e+07,\n",
       "        -4.63857808e+06,  -3.19607330e+06,  -1.46960346e+07,\n",
       "        -2.35617932e+07,  -8.48508118e+06,  -1.55464427e+08,\n",
       "        -9.21007562e+07,  -4.29088002e+06,  -4.60085085e+07,\n",
       "        -3.58691494e+06,  -3.72111211e+06,  -2.18520418e+06,\n",
       "        -1.04884888e+07,  -2.68579610e+07,  -6.19899553e+06,\n",
       "        -9.94613019e+06,  -5.11866852e+06,  -2.54278557e+06,\n",
       "        -2.83487806e+06,  -8.75252312e+06,  -5.12524153e+07,\n",
       "        -1.20688199e+07,  -2.91360555e+06,  -5.10130023e+06,\n",
       "         0.00000000e+00,  -2.26488404e+06,  -3.60503245e+07,\n",
       "        -1.55733524e+07,  -1.52964277e+06,  -2.29478787e+07,\n",
       "        -1.11294910e+07,   0.00000000e+00,  -4.27381082e+07,\n",
       "        -1.67808592e+06,  -3.57150915e+06,  -4.80799847e+07,\n",
       "        -2.03766457e+12,   3.58010839e+13])"
      ]
     },
     "execution_count": 184,
     "metadata": {},
     "output_type": "execute_result"
    }
   ],
   "source": [
    "'''Calculating the different beta coefficients'''\n",
    "model.coef_"
   ]
  },
  {
   "cell_type": "code",
   "execution_count": 185,
   "metadata": {},
   "outputs": [
    {
     "name": "stdout",
     "output_type": "stream",
     "text": [
      "Model score on the Test Data:  -1.17399140604e+26\n"
     ]
    }
   ],
   "source": [
    "'''Tranforming the Test Data'''\n",
    "\n",
    "x_test_ss = ss.transform(x_test)\n",
    "test_score = model.score(x_test_ss, y_test)\n",
    "print ('Model score on the Test Data: ', test_score)"
   ]
  },
  {
   "cell_type": "code",
   "execution_count": 186,
   "metadata": {
    "collapsed": true
   },
   "outputs": [],
   "source": [
    "'''Function to print the top 50 coefficients'''\n",
    "def top_coefs(columns, coefficients, n=50):\n",
    "    columns = columns[1:]\n",
    "    coefs = [(columns[i], coef) for i, coef in enumerate(coefficients)]\n",
    "    return list(sorted(coefs, key=lambda x: abs(x[1]), reverse=True))[:n]"
   ]
  },
  {
   "cell_type": "code",
   "execution_count": 187,
   "metadata": {},
   "outputs": [
    {
     "data": {
      "text/plain": [
       "[('COMBINED_SHOT_TYPE:jump_shot', 48907594733790.32),\n",
       " ('SEASON:2000-01', 48496364530449.078),\n",
       " ('SEASON_OPPONENT:phi:1997-98', -47971526606044.211),\n",
       " ('SEASON:1999-00', 41817472206096.578),\n",
       " ('SEASON:2013-14', -41301164262796.195),\n",
       " ('SHOT_ZONE_AREA:center(c)', -39929082212117.859),\n",
       " ('CAREER_GAME_NUMBER', 35801083863907.609),\n",
       " ('SEASON_OPPONENT:dal:2014-15', -33027304148219.648),\n",
       " ('SEASON:2003-04', 30123216912275.902),\n",
       " ('SEASON_OPPONENT:atl:2010-11', 29372642642217.949),\n",
       " ('SEASON_OPPONENT:phi:2002-03', -29220891869055.516),\n",
       " ('SEASON:1998-99', 28453235869640.066),\n",
       " ('SEASON_OPPONENT:atl:2004-05', -28254423241562.352),\n",
       " ('SEASON_OPPONENT:was:2005-06', -26903523239918.988),\n",
       " ('SHOT_ZONE_RANGE:24+_ft.', 25369306417574.547),\n",
       " ('SEASON_OPPONENT:chi:2003-04', 23616797085921.883),\n",
       " ('SEASON:2002-03', 23522732346567.18),\n",
       " ('SHOT_ZONE_AREA:right_side_center(rc)', -22187659416537.328),\n",
       " ('SEASON_OPPONENT:phi:2011-12', 22157818944600.105),\n",
       " ('SHOT_ZONE_AREA:right_side(r)', -21902355472102.391),\n",
       " ('SEASON_OPPONENT:cha:2001-02', 21823428792887.297),\n",
       " ('SEASON:2012-13', 21481648035768.809),\n",
       " ('SEASON:1996-97', 21308980972923.484),\n",
       " ('SEASON_OPPONENT:bos:2015-16', -20681406621800.941),\n",
       " ('SEASON_OPPONENT:mil:2008-09', 20600666013402.488),\n",
       " ('SHOT_ZONE_AREA:left_side_center(lc)', -20005246785502.027),\n",
       " ('SEASON_OPPONENT:bkn:2015-16', 19779191842321.801),\n",
       " ('SEASON_OPPONENT:phx:2015-16', 19624055009807.805),\n",
       " ('SEASON:2009-10', -19223810307922.5),\n",
       " ('SEASON:2008-09', 18915499778236.156),\n",
       " ('SEASON_OPPONENT:sac:2011-12', -18363978588874.777),\n",
       " ('SEASON_OPPONENT:cha:2013-14', 18311234051242.539),\n",
       " ('SEASON_OPPONENT:mem:2013-14', 18311234051242.508),\n",
       " ('SEASON_OPPONENT:tor:2013-14', 18311234051242.41),\n",
       " ('SEASON_OPPONENT:phx:2013-14', 18311234051242.402),\n",
       " ('SEASON_OPPONENT:atl:2013-14', 18311234051242.379),\n",
       " ('SHOT_ZONE_AREA:left_side(l)', -18139851836497.547),\n",
       " ('SEASON_OPPONENT:cle:2004-05', -17908324435781.051),\n",
       " ('COMBINED_SHOT_TYPE:layup', 17655341949429.16),\n",
       " ('SEASON_OPPONENT:ind:2009-10', 17127592459749.471),\n",
       " ('SEASON_OPPONENT:chi:2011-12', 16900855286831.904),\n",
       " ('SHOT_ZONE_BASIC:above_the_break_3', -16461152568775.197),\n",
       " ('SEASON_OPPONENT:mil:2006-07', -15250515972220.299),\n",
       " ('SEASON_OPPONENT:cha:1998-99', 14662881918627.467),\n",
       " ('SEASON_OPPONENT:det:2011-12', 14562916371230.971),\n",
       " ('SEASON_OPPONENT:ind:2006-07', -14058347055191.281),\n",
       " ('SEASON_OPPONENT:cle:2000-01', 13139254155739.543),\n",
       " ('SEASON_OPPONENT:njn:2011-12', 12373851940589.898),\n",
       " ('SEASON_OPPONENT:det:2007-08', -12015077350658.893),\n",
       " ('SEASON_OPPONENT:mia:2014-15', -11632036337303.719)]"
      ]
     },
     "execution_count": 187,
     "metadata": {},
     "output_type": "execute_result"
    }
   ],
   "source": [
    "'''Checking the Coefficients for the top 25 coefficients'''\n",
    "top_coefs(df.columns, model.coef_)"
   ]
  },
  {
   "cell_type": "markdown",
   "metadata": {},
   "source": [
    "**Results of Linear Regression:** The model scores pretty well with the training data. However when we execute the same test with the training data, the model does not perform well. Hence this is classic case of overfitting. "
   ]
  },
  {
   "cell_type": "code",
   "execution_count": 188,
   "metadata": {},
   "outputs": [
    {
     "name": "stdout",
     "output_type": "stream",
     "text": [
      "Training Scores:  [ -5.16317550e+28  -3.45985437e+28  -4.53889460e+28  -2.40847491e+28\n",
      "  -1.45385772e+28]\n",
      "Average Training Scores:  -3.40485142093e+28\n"
     ]
    }
   ],
   "source": [
    "'''Performing the same test with the Cross Fold'''\n",
    "\n",
    "from sklearn.model_selection import cross_val_predict, cross_val_score\n",
    "lr = LinearRegression()\n",
    "c = cross_val_score(lr, x_train_ss, y_train, cv=5)\n",
    "\n",
    "print ('Training Scores: ', c)\n",
    "print ('Average Training Scores: ', c.mean())"
   ]
  },
  {
   "cell_type": "markdown",
   "metadata": {},
   "source": [
    "The model performs pretty bad. It has a huge negative value "
   ]
  },
  {
   "cell_type": "markdown",
   "metadata": {},
   "source": [
    "---\n",
    "\n",
    "### 5. Find an optimal value for Ridge regression alpha using `RidgeCV`.\n",
    "\n",
    "[Go to the documentation and read how RidgeCV works.](http://scikit-learn.org/stable/modules/generated/sklearn.linear_model.RidgeCV.html)\n",
    "\n",
    "> *Hint: once the RidgeCV is fit, the attribute `.alpha_` contains the best alpha parameter it found through cross-validation.*\n",
    "\n",
    "Recall that Ridge performs best searching alphas through logarithmic space (`np.logspace`). This may take awhile to fit!\n"
   ]
  },
  {
   "cell_type": "code",
   "execution_count": 189,
   "metadata": {},
   "outputs": [
    {
     "name": "stdout",
     "output_type": "stream",
     "text": [
      "1162.32246868\n"
     ]
    }
   ],
   "source": [
    "'''Importing the Sklearn Ridge Model'''\n",
    "from sklearn.linear_model import RidgeCV\n",
    "\n",
    "\n",
    "'''Setting up the Alpha Values'''\n",
    "alpha = np.logspace(0,5,200)\n",
    "\n",
    "'''Setting up the Ridge and Calculating the Optimal Alpha Value'''\n",
    "ridge = RidgeCV(alphas=alpha, cv=10)\n",
    "ridgecv_fit = ridge.fit(x_train_ss, y_train)\n",
    "optimal_ridge_alpha = ridgecv_fit.alpha_\n",
    "\n",
    "print (optimal_ridge_alpha)"
   ]
  },
  {
   "cell_type": "markdown",
   "metadata": {},
   "source": [
    "---\n",
    "\n",
    "### 6. Cross-validate the Ridge regression $R^2$ with the optimal alpha.\n",
    "\n",
    "Is it better than the Linear regression? If so, why might this be?"
   ]
  },
  {
   "cell_type": "code",
   "execution_count": 190,
   "metadata": {},
   "outputs": [
    {
     "name": "stdout",
     "output_type": "stream",
     "text": [
      "Train Score with Ridge:  0.777718289209\n",
      "Test Score with Ridge:  0.612253077461\n"
     ]
    }
   ],
   "source": [
    "ridge = Ridge(alpha=optimal_ridge_alpha)\n",
    "ridge.fit(x_train_ss, y_train)\n",
    "ridge_train_score = ridge.score(x_train_ss, y_train)\n",
    "ridge_test_score = ridge.score(x_test_ss, y_test)\n",
    "print ('Train Score with Ridge: ', ridge_train_score)\n",
    "print ('Test Score with Ridge: ', ridge_test_score)"
   ]
  },
  {
   "cell_type": "markdown",
   "metadata": {},
   "source": [
    "Yes, the ridge score is a lot better than linear regression. In the case of linear regression, we see that there was overfitting with the training data, which could be seen with the high R score. However when we fit the model with the test score it was not a good model.\n",
    "\n",
    "With Ridge regression, we see that the model fits well with both the training set and the test set"
   ]
  },
  {
   "cell_type": "markdown",
   "metadata": {},
   "source": [
    "---\n",
    "\n",
    "### 7. Find an optimal value for Lasso regression alpha using `LassoCV`.\n",
    "\n",
    "[Go to the documentation and read how LassoCV works.](http://scikit-learn.org/stable/modules/generated/sklearn.linear_model.LassoCV.html) It is very similar to `RidgeCV`.\n",
    "\n",
    "> *Hint: again, once the `LassoCV` is fit, the attribute `.alpha_` contains the best alpha parameter it found through cross-validation.*\n",
    "\n",
    "Recall that Lasso, unlike Ridge, performs best searching for alpha through linear space (`np.linspace`). However, you can actually let the LassoCV decide itself what alphas to use by instead setting the keyword argument `n_alphas=` to however many alphas you want it to search over. It is recommended to let sklearn choose the range of alphas.\n",
    "\n",
    "_**Tip:** If you find your CV taking a long time and you're not sure if its working set `verbose =1`._"
   ]
  },
  {
   "cell_type": "code",
   "execution_count": 191,
   "metadata": {},
   "outputs": [
    {
     "name": "stderr",
     "output_type": "stream",
     "text": [
      "..............................................................................................................................................................................................................................................................................................................................................................................................................................................................................................................................................................................................................................................................................................................................................................................................................................................................................................................................................................................................................................................................................................................................................................................................................................................................................................................................................................................................................................................................................................................................................................................................................................................................................................................................................................................................................................................................................................................................................................................................................................................................................................................................................................................................................................................................................................................................................................................................................................................................................................................................................................................................................................................................................................................................................................................................................................................................................................................................................................................................................................................................................................................................................................................................................................................................................................................................................................................................................................................................................................................................................................................................................................................................................................................................................................................................................................................................................................................................................................................................................................................................................................................................................................................................................................................................................................................................................................................................................................................................................................................................................................................................................................................................................................................................................................................................................................................................................................................................................................................................................................................................................................................................................................................................................................................................................................................................................................................................................................................................................................................................................................................................................................................................................................................................................................................................................................................................................................................................................................................................................................................................................................................................................................................................................................................................................................................................................................................................................................................................................................................................................................................................................................................................................................................................................................................................................................................................................................................................................................................................................................................................................................................................................................................................................................................................................................................................................................................................................................................................................................................................................................................................................................................................................................................................................................................................................................................................................................................................................................................................................................................................................................................................................................................................................................................................................................................................................................................................................................................................................................................................................................................................................................................................................................................................."
     ]
    },
    {
     "name": "stderr",
     "output_type": "stream",
     "text": [
      ".................................................................................................................................................................................................................................................................................................................................................................................................................................................................................................................................................................................................................................................................................................................................................................................................................................................................................................................................................................................................................................................................................................................................................................................................................................................................................................................................................................................................................................................................................................................................................................................................................................................................................[Parallel(n_jobs=1)]: Done  10 out of  10 | elapsed:   28.0s finished\n"
     ]
    }
   ],
   "source": [
    "from sklearn.linear_model import LassoCV \n",
    "\n",
    "lassoCV = LassoCV(n_alphas=1000, cv=10, verbose=1)\n",
    "lassoCV_fit = lassoCV.fit(x_train_ss, y_train)\n"
   ]
  },
  {
   "cell_type": "code",
   "execution_count": 192,
   "metadata": {},
   "outputs": [
    {
     "name": "stdout",
     "output_type": "stream",
     "text": [
      "Optimal Value with Alpha:  0.0912808566054\n"
     ]
    }
   ],
   "source": [
    "optimal_lasso_alpha = lassoCV_fit.alpha_\n",
    "print ('Optimal Value with Alpha: ', optimal_lasso_alpha)"
   ]
  },
  {
   "cell_type": "markdown",
   "metadata": {},
   "source": [
    "---\n",
    "\n",
    "### 8. Cross-validate the Lasso $R^2$ with the optimal alpha.\n",
    "\n",
    "Is it better than the Linear regression? Is it better than Ridge? What do the differences in results imply about the issues with the dataset?"
   ]
  },
  {
   "cell_type": "code",
   "execution_count": 193,
   "metadata": {},
   "outputs": [
    {
     "name": "stdout",
     "output_type": "stream",
     "text": [
      "Train  Score with Lasso:  0.707372991935\n",
      "Test Score with Lasso:  0.646647954396\n"
     ]
    }
   ],
   "source": [
    "lasso = Lasso(alpha = optimal_lasso_alpha)\n",
    "lasso_fit = lasso.fit(x_train_ss, y_train)\n",
    "lasso_train_score = lasso.score(x_train_ss, y_train)\n",
    "lasso_test_score = lasso.score(x_test_ss, y_test)\n",
    "\n",
    "print ('Train  Score with Lasso: ', lasso_train_score)\n",
    "print ('Test Score with Lasso: ', lasso_test_score)"
   ]
  },
  {
   "cell_type": "markdown",
   "metadata": {},
   "source": [
    "Both Lasso and Ridge scores are better than the Linear Regression for sure. The R2 values are more consistent on the train and the test set. That said, in this case with so many features variables I beleive it makes sesne to go with Lasson Regression because Lasso actually makes a lot of variables to 0 instead of just minimizing them "
   ]
  },
  {
   "cell_type": "markdown",
   "metadata": {},
   "source": [
    "---\n",
    "\n",
    "### 9. Look at the coefficients for variables in the Lasso.\n",
    "\n",
    "1. Show the coefficient for variables, ordered from largest to smallest coefficient by absolute value.\n",
    "2. What percent of the variables in the original dataset are \"zeroed-out\" by the lasso?\n",
    "3. What are the most important predictors for how many shots Kobe made in a game?\n",
    "\n",
    "> **Note:** if you only fit the Lasso within `cross_val_score`, you will have to refit it outside of that\n",
    "function to pull out the coefficients."
   ]
  },
  {
   "cell_type": "code",
   "execution_count": 194,
   "metadata": {},
   "outputs": [
    {
     "data": {
      "text/plain": [
       "Lasso(alpha=0.091280856605353539, copy_X=True, fit_intercept=True,\n",
       "   max_iter=1000, normalize=False, positive=False, precompute=False,\n",
       "   random_state=None, selection='cyclic', tol=0.0001, warm_start=False)"
      ]
     },
     "execution_count": 194,
     "metadata": {},
     "output_type": "execute_result"
    }
   ],
   "source": [
    "lasso.fit(x_train_ss, y_train)"
   ]
  },
  {
   "cell_type": "code",
   "execution_count": 210,
   "metadata": {},
   "outputs": [
    {
     "data": {
      "text/html": [
       "<div>\n",
       "<style>\n",
       "    .dataframe thead tr:only-child th {\n",
       "        text-align: right;\n",
       "    }\n",
       "\n",
       "    .dataframe thead th {\n",
       "        text-align: left;\n",
       "    }\n",
       "\n",
       "    .dataframe tbody tr th {\n",
       "        vertical-align: top;\n",
       "    }\n",
       "</style>\n",
       "<table border=\"1\" class=\"dataframe\">\n",
       "  <thead>\n",
       "    <tr style=\"text-align: right;\">\n",
       "      <th></th>\n",
       "      <th>Abs Coeff:</th>\n",
       "      <th>Real Coeff:</th>\n",
       "      <th>columns:</th>\n",
       "    </tr>\n",
       "  </thead>\n",
       "  <tbody>\n",
       "    <tr>\n",
       "      <th>0</th>\n",
       "      <td>0.064796</td>\n",
       "      <td>-0.064796</td>\n",
       "      <td>AWAY_GAME</td>\n",
       "    </tr>\n",
       "    <tr>\n",
       "      <th>5</th>\n",
       "      <td>0.003244</td>\n",
       "      <td>0.003244</td>\n",
       "      <td>SEASON_OPPONENT:atl:2001-02</td>\n",
       "    </tr>\n",
       "    <tr>\n",
       "      <th>25</th>\n",
       "      <td>0.005958</td>\n",
       "      <td>-0.005958</td>\n",
       "      <td>SEASON_OPPONENT:bos:2001-02</td>\n",
       "    </tr>\n",
       "    <tr>\n",
       "      <th>26</th>\n",
       "      <td>0.071565</td>\n",
       "      <td>-0.071565</td>\n",
       "      <td>SEASON_OPPONENT:bos:2002-03</td>\n",
       "    </tr>\n",
       "    <tr>\n",
       "      <th>32</th>\n",
       "      <td>0.017332</td>\n",
       "      <td>-0.017332</td>\n",
       "      <td>SEASON_OPPONENT:bos:2008-09</td>\n",
       "    </tr>\n",
       "  </tbody>\n",
       "</table>\n",
       "</div>"
      ],
      "text/plain": [
       "    Abs Coeff:   Real Coeff:                     columns: \n",
       "0      0.064796     -0.064796                    AWAY_GAME\n",
       "5      0.003244      0.003244  SEASON_OPPONENT:atl:2001-02\n",
       "25     0.005958     -0.005958  SEASON_OPPONENT:bos:2001-02\n",
       "26     0.071565     -0.071565  SEASON_OPPONENT:bos:2002-03\n",
       "32     0.017332     -0.017332  SEASON_OPPONENT:bos:2008-09"
      ]
     },
     "execution_count": 210,
     "metadata": {},
     "output_type": "execute_result"
    }
   ],
   "source": [
    "lasso_coeff_df = pd.DataFrame({\n",
    "    'columns: ' : x_train.columns, \n",
    "    'Real Coeff: ': lasso.coef_, \n",
    "    'Abs Coeff: ': np.abs(lasso.coef_)\n",
    "    \n",
    "})\n",
    "\n",
    "lasso_coeff_df_g0 = lasso_coeff_df[lasso_coeff_df['Abs Coeff: ']>0]\n",
    "lasso_coeff_df_g0.head()"
   ]
  },
  {
   "cell_type": "code",
   "execution_count": 211,
   "metadata": {},
   "outputs": [],
   "source": [
    "lasso_coeff_df_g0_sorted = lasso_coeff_df_g0.sort_values(by='Abs Coeff: ', ascending=False)"
   ]
  },
  {
   "cell_type": "code",
   "execution_count": 212,
   "metadata": {},
   "outputs": [
    {
     "data": {
      "text/html": [
       "<div>\n",
       "<style>\n",
       "    .dataframe thead tr:only-child th {\n",
       "        text-align: right;\n",
       "    }\n",
       "\n",
       "    .dataframe thead th {\n",
       "        text-align: left;\n",
       "    }\n",
       "\n",
       "    .dataframe tbody tr th {\n",
       "        vertical-align: top;\n",
       "    }\n",
       "</style>\n",
       "<table border=\"1\" class=\"dataframe\">\n",
       "  <thead>\n",
       "    <tr style=\"text-align: right;\">\n",
       "      <th></th>\n",
       "      <th>Abs Coeff:</th>\n",
       "      <th>Real Coeff:</th>\n",
       "      <th>columns:</th>\n",
       "    </tr>\n",
       "  </thead>\n",
       "  <tbody>\n",
       "    <tr>\n",
       "      <th>574</th>\n",
       "      <td>1.421817</td>\n",
       "      <td>1.421817</td>\n",
       "      <td>SHOT_TYPE:2pt_field_goal</td>\n",
       "    </tr>\n",
       "    <tr>\n",
       "      <th>579</th>\n",
       "      <td>0.631000</td>\n",
       "      <td>0.631000</td>\n",
       "      <td>COMBINED_SHOT_TYPE:jump_shot</td>\n",
       "    </tr>\n",
       "    <tr>\n",
       "      <th>575</th>\n",
       "      <td>0.320205</td>\n",
       "      <td>0.320205</td>\n",
       "      <td>SHOT_TYPE:3pt_field_goal</td>\n",
       "    </tr>\n",
       "    <tr>\n",
       "      <th>566</th>\n",
       "      <td>0.309320</td>\n",
       "      <td>0.309320</td>\n",
       "      <td>SHOT_ZONE_BASIC:restricted_area</td>\n",
       "    </tr>\n",
       "    <tr>\n",
       "      <th>557</th>\n",
       "      <td>0.290945</td>\n",
       "      <td>0.290945</td>\n",
       "      <td>SHOT_ZONE_RANGE:24+_ft.</td>\n",
       "    </tr>\n",
       "  </tbody>\n",
       "</table>\n",
       "</div>"
      ],
      "text/plain": [
       "     Abs Coeff:   Real Coeff:                         columns: \n",
       "574     1.421817      1.421817         SHOT_TYPE:2pt_field_goal\n",
       "579     0.631000      0.631000     COMBINED_SHOT_TYPE:jump_shot\n",
       "575     0.320205      0.320205         SHOT_TYPE:3pt_field_goal\n",
       "566     0.309320      0.309320  SHOT_ZONE_BASIC:restricted_area\n",
       "557     0.290945      0.290945          SHOT_ZONE_RANGE:24+_ft."
      ]
     },
     "execution_count": 212,
     "metadata": {},
     "output_type": "execute_result"
    }
   ],
   "source": [
    "lasso_coeff_df_g0_sorted.head()"
   ]
  },
  {
   "cell_type": "code",
   "execution_count": 213,
   "metadata": {},
   "outputs": [
    {
     "data": {
      "text/plain": [
       "552"
      ]
     },
     "execution_count": 213,
     "metadata": {},
     "output_type": "execute_result"
    }
   ],
   "source": [
    "zero_coeff = np.sum([lasso_coeff_df['Abs Coeff: '] == 0])\n",
    "zero_coeff"
   ]
  },
  {
   "cell_type": "code",
   "execution_count": 216,
   "metadata": {},
   "outputs": [
    {
     "data": {
      "text/plain": [
       "644"
      ]
     },
     "execution_count": 216,
     "metadata": {},
     "output_type": "execute_result"
    }
   ],
   "source": [
    "total_lasso_coeff = len(lasso_coeff_df)\n",
    "total_lasso_coeff"
   ]
  },
  {
   "cell_type": "code",
   "execution_count": 217,
   "metadata": {},
   "outputs": [
    {
     "data": {
      "text/plain": [
       "85.714285714285708"
      ]
     },
     "execution_count": 217,
     "metadata": {},
     "output_type": "execute_result"
    }
   ],
   "source": [
    "zeroed_out_percentage = zero_coeff/total_lasso_coeff\n",
    "zeroed_out_percentage*100"
   ]
  },
  {
   "cell_type": "markdown",
   "metadata": {},
   "source": [
    "The most important predictors are the variables with the highest coefficient values "
   ]
  },
  {
   "cell_type": "markdown",
   "metadata": {},
   "source": [
    "---\n",
    "\n",
    "### 10. Find an optimal value for Elastic Net regression alpha using `ElasticNetCV`.\n",
    "\n",
    "[Go to the documentation and read how LassoCV works.](http://scikit-learn.org/stable/modules/generated/sklearn.linear_model.ElasticNetCV.html).\n",
    "\n",
    "Note here that you will be optimizing both the alpha parameter and the l1_ratio:\n",
    "- `alpha`: strength of regularization\n",
    "- `l1_ratio`: amount of ridge vs. lasso (0 = all ridge, 1 = all lasso)\n",
    "    \n",
    "Do not include 0 in the search for `l1_ratio`: it will not allow it and break!\n",
    "\n",
    "You can use `n_alphas` for the alpha parameters instead of setting your own values: highly recommended!\n",
    "\n",
    "Also - be careful setting too many l1_ratios over cross-validation folds in your search. It can take a very long time if you choose too many combinations and for the most part there are diminishing returns in this data."
   ]
  },
  {
   "cell_type": "code",
   "execution_count": 233,
   "metadata": {},
   "outputs": [
    {
     "name": "stderr",
     "output_type": "stream",
     "text": [
      "..................................................................................................................................................................................................................................................................................................................................................................................................................................................................................................................................................................................................................................................................................................................................................................................................................................................................................................................................................................................................................................................................................................................................................................................................................................................................................................................................................................................................................................................................................................................................................................................................................................................................................................................................................................................................................................................................................................................................................................................................................................................................................................................................................................................................................................................................................................................................................................................................................................................................................................................................................................................................................................................................................................................................................................................................................................................................................................................................................................................................................................................................................................................................................................................................................................................................................................................................................................................................................................................................................................................................................................................................................................................................................................................................................................................................................................................................................................................................................................................................................................................................................................................................................................................................................................................................................................................................................................................................................................................................................................................................................................................................................................................................................................................................................................................................................................................................................................................................................................................................................................................................................................................................................................................................................................................................................................................................................................................................................................................................................................................................................................................................................................................................................................................................................................................................................................................................................................................................................................................................................................................................................................................................................................................................................................................................................................................................................................................................................................................................................................................................................................................................................................................................................................................................................................................................................................................................................................................................................................................................................................................................................................................................................................................................................................................................................................................................................................................................................................................................................................................................................................................................................................................................................................................................................................................................................................................................................................................................................................................................................................................................................................................................................................................................................................................................................................................................................................................................................................................................................................................................."
     ]
    },
    {
     "name": "stderr",
     "output_type": "stream",
     "text": [
      "........................................................................................................................................................................................................................................................................................................................................................................................................................................................................................................................................................................................................................................................................................................................................................................................................................................................................................................................................................................................................................................................................................................................................................................................................................................................................................................................................................................................................................................................................................................................................................................................................................................................................................................................................................................................................................................................................................................................................................................................................................................................................................................................................................................................................................................................................................................................................................................................................................................................................................................................................................................................................................................................................................................................................................................................................................................................................................................................................................................................................................................................................................................................................................................................................................................................................................................................................................................................................................................................................................................................................................................................................................................................................................................................................................................................................................................................................................................................................................................................................................................................................................................................................................................................................................................................................................................................................................................................................................................................................................................................................................................................................................................................................................................................................................................................................................................................................................................................................................................................................................................................................................................................................................................................................................................................................................................................................................................................................................................................................................................................................................................................................................................................................................................................................................................................................................................................................................................................................................................................................................................................................................................................................................................................................................................................................................................................................................................................................................................................................................................................................................................................................................................................................................................................................................................................................................................................................................................................................................................................................................................................................................................................................................................................................................................................................................................................................................................................................................................................................................................................................................................................................................................................................................................................................................................................................................................................................................................................................................................................................................................................................................................................................................................................................................................................................................................................................................................................................................................................................................................................................"
     ]
    },
    {
     "name": "stderr",
     "output_type": "stream",
     "text": [
      "............................................................................................................................................................................................................................................................................................................................................................................................................................................................................................................................................................................................................................................................................................................................................................................................................................................................................................................................................................................................................................................................................................................................................................................................................................................................................................................................................................................................................................................................................................................................................................................................................................................................................................................................................................................................................................................................................................................................................................................................................................................................................................................................................................................................................................................................................................................................................................................................................................................................................................................................................................................................................................................................................................................................................................................................................................................................................................................................................................................................................................................................................................................................................................................................................................................................................................................................................................................................................................................................................................................................................................................................................................................................................................................................................................................................................................................................................................................................................................................................................................................................................................................................................................................................................................................................................................................................................................................................................................................................................................................................................................................................................................................................................................................................................................................................................................................................................................................................................................................................................................................................................................................................................................................................................................................................................................................................................................................................................................................................................................................................................................................................................................................................................................................................................................................................................................................................................................................................................................................................................................................................................................................................................................................................................................................................................................................................................................................................................................................................................................................................................................................................................................................................................................................................................................................................................................................................................................................................................................................................................................................................................................................................................................................................................................................................................................................................................................................................../Users/ajinthchristudas/anaconda/lib/python3.6/site-packages/sklearn/linear_model/coordinate_descent.py:484: ConvergenceWarning: Objective did not converge. You might want to increase the number of iterations. Fitting data with very small alpha may cause precision problems.\n",
      "  ConvergenceWarning)\n"
     ]
    },
    {
     "name": "stderr",
     "output_type": "stream",
     "text": [
      "...............................................................................................................................................................................................................................................................................................................................................................................................................................................................................................................................................................................................................................................................................................................................................................................................................................................................................................................................................................................................................................................................................................................................................................................................................................................................................................................................................................................................................................................................................................................................................................[Parallel(n_jobs=1)]: Done 250 out of 250 | elapsed:  2.7min finished\n"
     ]
    }
   ],
   "source": [
    "optimal_elastic_net = \\\n",
    "elastic_net = ElasticNetCV(l1_ratio = np.linspace(0.01, 1.0, 25), n_alphas= 100, cv = 10, verbose = 1 )\n",
    "optimal_en_fit = elastic_net.fit(x_train_ss, y_train)"
   ]
  },
  {
   "cell_type": "code",
   "execution_count": 237,
   "metadata": {},
   "outputs": [
    {
     "data": {
      "text/plain": [
       "0.095628057041206666"
      ]
     },
     "execution_count": 237,
     "metadata": {},
     "output_type": "execute_result"
    }
   ],
   "source": [
    "optimal_en_alpha = optimal_en_fit.alpha_\n",
    "optimal_en_alpha"
   ]
  },
  {
   "cell_type": "code",
   "execution_count": 238,
   "metadata": {},
   "outputs": [
    {
     "data": {
      "text/plain": [
       "0.9587500000000001"
      ]
     },
     "execution_count": 238,
     "metadata": {},
     "output_type": "execute_result"
    }
   ],
   "source": [
    "optimal_en_l1_ratio = optimal_en_fit.l1_ratio_\n",
    "optimal_en_l1_ratio"
   ]
  },
  {
   "cell_type": "markdown",
   "metadata": {},
   "source": [
    "---\n",
    "\n",
    "### 11. Cross-validate the ElasticNet $R^2$ with the optimal alpha and l1_ratio.\n",
    "\n",
    "How does it compare to the Ridge and Lasso regularized regressions?"
   ]
  },
  {
   "cell_type": "code",
   "execution_count": 242,
   "metadata": {},
   "outputs": [],
   "source": [
    "elastic_net = ElasticNet(alpha=optimal_en_alpha, l1_ratio=optimal_en_l1_ratio)\n",
    "elastic_net.fit(x_train_ss, y_train)\n",
    "elastic_train_score = elastic_net.score(x_train_ss, y_train)\n",
    "elastic_test_score = elastic_net.score(x_test_ss, y_test)"
   ]
  },
  {
   "cell_type": "code",
   "execution_count": 243,
   "metadata": {},
   "outputs": [
    {
     "name": "stdout",
     "output_type": "stream",
     "text": [
      "Elastic Train Score:  0.706685198663\n",
      "Elastic Test Score:  0.646654374895\n"
     ]
    }
   ],
   "source": [
    "print ('Elastic Train Score: ', elastic_train_score)\n",
    "print ('Elastic Test Score: ', elastic_test_score)"
   ]
  },
  {
   "cell_type": "markdown",
   "metadata": {},
   "source": [
    "---\n",
    "\n",
    "### 12. [Bonus] Compare the residuals for the Ridge and Lasso visually.\n"
   ]
  },
  {
   "cell_type": "code",
   "execution_count": 247,
   "metadata": {
    "collapsed": true
   },
   "outputs": [],
   "source": [
    "lasso_fit = lasso.fit(x_train_ss, y_train)"
   ]
  },
  {
   "cell_type": "code",
   "execution_count": 248,
   "metadata": {
    "collapsed": true
   },
   "outputs": [],
   "source": [
    "ridge_fit = ridge.fit(x_train_ss, y_train)"
   ]
  },
  {
   "cell_type": "code",
   "execution_count": 249,
   "metadata": {
    "collapsed": true
   },
   "outputs": [],
   "source": [
    "y_lasso_predict = lasso_fit.predict(x_train_ss)"
   ]
  },
  {
   "cell_type": "code",
   "execution_count": 250,
   "metadata": {
    "collapsed": true
   },
   "outputs": [],
   "source": [
    "y_ridge_predict = ridge_fit.predict(x_train_ss)"
   ]
  },
  {
   "cell_type": "code",
   "execution_count": 252,
   "metadata": {
    "collapsed": true
   },
   "outputs": [],
   "source": [
    "y_lasso_residual = y_train - y_lasso_predict"
   ]
  },
  {
   "cell_type": "code",
   "execution_count": 253,
   "metadata": {
    "collapsed": true
   },
   "outputs": [],
   "source": [
    "y_ridge_residual = y_train - y_ridge_predict"
   ]
  },
  {
   "cell_type": "code",
   "execution_count": 254,
   "metadata": {},
   "outputs": [
    {
     "data": {
      "text/plain": [
       "<seaborn.axisgrid.JointGrid at 0x1101472b0>"
      ]
     },
     "execution_count": 254,
     "metadata": {},
     "output_type": "execute_result"
    },
    {
     "data": {
      "image/png": "[encoded data removed]",
      "text/plain": [
       "<matplotlib.figure.Figure at 0x1101470b8>"
      ]
     },
     "metadata": {
      "image/png": {
       "height": 426,
       "width": 423
      }
     },
     "output_type": "display_data"
    }
   ],
   "source": [
    "import seaborn as sns \n",
    "sns.jointplot(y_lasso_residual, y_ridge_residual)"
   ]
  },
  {
   "cell_type": "markdown",
   "metadata": {},
   "source": [
    "### From Carl's practice ### "
   ]
  },
  {
   "cell_type": "code",
   "execution_count": 86,
   "metadata": {},
   "outputs": [
    {
     "ename": "NameError",
     "evalue": "name 'kobe' is not defined",
     "output_type": "error",
     "traceback": [
      "\u001b[0;31m---------------------------------------------------------------------------\u001b[0m",
      "\u001b[0;31mNameError\u001b[0m                                 Traceback (most recent call last)",
      "\u001b[0;32m<ipython-input-86-caea352bfcbf>\u001b[0m in \u001b[0;36m<module>\u001b[0;34m()\u001b[0m\n\u001b[1;32m      1\u001b[0m \u001b[0;32mfrom\u001b[0m \u001b[0msklearn\u001b[0m\u001b[0;34m.\u001b[0m\u001b[0mpreprocessing\u001b[0m \u001b[0;32mimport\u001b[0m \u001b[0mStandardScaler\u001b[0m\u001b[0;34m\u001b[0m\u001b[0m\n\u001b[1;32m      2\u001b[0m \u001b[0;34m\u001b[0m\u001b[0m\n\u001b[0;32m----> 3\u001b[0;31m \u001b[0my\u001b[0m \u001b[0;34m=\u001b[0m \u001b[0mkobe\u001b[0m\u001b[0;34m[\u001b[0m\u001b[0;34m'SHOTS_MADE'\u001b[0m\u001b[0;34m]\u001b[0m\u001b[0;34m.\u001b[0m\u001b[0mvalues\u001b[0m\u001b[0;34m\u001b[0m\u001b[0m\n\u001b[0m\u001b[1;32m      4\u001b[0m \u001b[0mx\u001b[0m \u001b[0;34m=\u001b[0m \u001b[0mdf\u001b[0m\u001b[0;34m.\u001b[0m\u001b[0miloc\u001b[0m\u001b[0;34m[\u001b[0m\u001b[0;34m:\u001b[0m\u001b[0;34m,\u001b[0m\u001b[0;36m1\u001b[0m\u001b[0;34m:\u001b[0m\u001b[0;34m]\u001b[0m\u001b[0;34m\u001b[0m\u001b[0m\n\u001b[1;32m      5\u001b[0m \u001b[0;34m\u001b[0m\u001b[0m\n",
      "\u001b[0;31mNameError\u001b[0m: name 'kobe' is not defined"
     ]
    }
   ],
   "source": [
    "from sklearn.preprocessing import StandardScaler\n",
    "\n",
    "y = kobe['SHOTS_MADE'].values\n",
    "x = df.iloc[:,1:]\n",
    "\n",
    "\n",
    "ss=StandardScaler()\n",
    "xs = pd.DataFrame(ss.fit_transform(x), columns = x.columns)\n",
    "xs.head()\n"
   ]
  },
  {
   "cell_type": "code",
   "execution_count": null,
   "metadata": {
    "collapsed": true
   },
   "outputs": [],
   "source": [
    "def top_coefs(columns, coefficients, n=25):\n",
    "    columns = columns[1:]\n",
    "    coefs = [(columns[i], coef) for i, coef in enumerate(coefficients)]\n",
    "    return list(sorted(coefs, key=lambda x: abs(x[1]), reverse=True))[:n]"
   ]
  },
  {
   "cell_type": "code",
   "execution_count": null,
   "metadata": {
    "collapsed": true
   },
   "outputs": [],
   "source": [
    "lr = LinearRegression()\n",
    "lr.fit(xs, y)\n",
    "coef_lst = top_coefs(df.columns, lr.coef_)"
   ]
  },
  {
   "cell_type": "code",
   "execution_count": null,
   "metadata": {
    "collapsed": true
   },
   "outputs": [],
   "source": [
    "coef_lst"
   ]
  },
  {
   "cell_type": "code",
   "execution_count": null,
   "metadata": {
    "collapsed": true
   },
   "outputs": [],
   "source": [
    "def plot_coefficients(top_coef_lst, n_features, feature_names):\n",
    "    plt.barh(range(n_features), [item[1] for item in top_coef_lst], align='center')\n",
    "    plt.yticks(np.arange(n_features), feature_names)\n",
    "    plt.xlabel(\"Coefficient Value\")\n",
    "    plt.ylabel(\"Feature\")\n",
    "    plt.ylim(-1, n_features)\n",
    "\n",
    "plot_coefficients(coef_lst, len(coef_lst), [item[0] for item in coef_lst])"
   ]
  },
  {
   "cell_type": "code",
   "execution_count": 87,
   "metadata": {
    "collapsed": true
   },
   "outputs": [],
   "source": [
    "from sklearn.cross_validation import train_test_split"
   ]
  },
  {
   "cell_type": "code",
   "execution_count": 88,
   "metadata": {
    "collapsed": true
   },
   "outputs": [],
   "source": [
    "X_Train, X_Test, y_train, y_test = train_test_split(x,y, test_size = 0.33)"
   ]
  },
  {
   "cell_type": "code",
   "execution_count": 89,
   "metadata": {
    "collapsed": true
   },
   "outputs": [],
   "source": [
    "y = df['SHOTS_MADE'].values\n",
    "x = df.iloc[:,1:]\n",
    "X_train, X_test, y_train, y_test = train_test_split(x,y,test_size=.33)"
   ]
  },
  {
   "cell_type": "code",
   "execution_count": 90,
   "metadata": {
    "collapsed": true
   },
   "outputs": [],
   "source": [
    "from sklearn.preprocessing import StandardScaler\n",
    "\n",
    "ss = StandardScaler()\n",
    "X_train_ss = pd.DataFrame(ss.fit_transform(X_train),columns=x.columns)"
   ]
  },
  {
   "cell_type": "code",
   "execution_count": 91,
   "metadata": {},
   "outputs": [
    {
     "ename": "NameError",
     "evalue": "name 'lr' is not defined",
     "output_type": "error",
     "traceback": [
      "\u001b[0;31m---------------------------------------------------------------------------\u001b[0m",
      "\u001b[0;31mNameError\u001b[0m                                 Traceback (most recent call last)",
      "\u001b[0;32m<ipython-input-91-e5048f8f6a82>\u001b[0m in \u001b[0;36m<module>\u001b[0;34m()\u001b[0m\n\u001b[0;32m----> 1\u001b[0;31m \u001b[0mlr\u001b[0m\u001b[0;34m.\u001b[0m\u001b[0mscore\u001b[0m\u001b[0;34m(\u001b[0m\u001b[0mX_Train\u001b[0m\u001b[0;34m,\u001b[0m \u001b[0my_train\u001b[0m\u001b[0;34m)\u001b[0m\u001b[0;34m\u001b[0m\u001b[0m\n\u001b[0m",
      "\u001b[0;31mNameError\u001b[0m: name 'lr' is not defined"
     ]
    }
   ],
   "source": [
    "lr.score(X_Train, y_train)"
   ]
  },
  {
   "cell_type": "code",
   "execution_count": 51,
   "metadata": {},
   "outputs": [
    {
     "data": {
      "text/plain": [
       "-4.8239841315918249e+31"
      ]
     },
     "execution_count": 51,
     "metadata": {},
     "output_type": "execute_result"
    }
   ],
   "source": [
    "lr.score(X_Test, y_test)"
   ]
  },
  {
   "cell_type": "code",
   "execution_count": 59,
   "metadata": {},
   "outputs": [
    {
     "name": "stdout",
     "output_type": "stream",
     "text": [
      "0.857487622199\n",
      "-1.0018378003\n"
     ]
    },
    {
     "data": {
      "text/plain": [
       "[('SHOT_ZONE_BASIC:restricted_area', 1.2401183026183638),\n",
       " ('COMBINED_SHOT_TYPE:jump_shot', 0.86184405322508162),\n",
       " ('COMBINED_SHOT_TYPE:layup', -0.77722481174333269),\n",
       " ('MEAN_SHOT_DISTANCE', 0.74348755580979498),\n",
       " ('SHOT_TYPE:2pt_field_goal', 0.68809836982602512),\n",
       " ('SHOT_ZONE_RANGE:8-16_ft.', 0.4706423007662584),\n",
       " ('SHOT_ZONE_AREA:right_side_center(rc)', 0.43246310025836393),\n",
       " ('SHOT_ZONE_RANGE:16-24_ft.', 0.43035743860348497),\n",
       " ('ACTION_TYPE:jump_shot', -0.42410895072601928),\n",
       " ('SHOT_ZONE_AREA:center(c)', 0.37547433523257751),\n",
       " ('ACTION_TYPE:jump_bank_shot', 0.32222848728793102),\n",
       " ('SHOT_ZONE_AREA:right_side(r)', 0.29716986869204987),\n",
       " ('SHOT_TYPE:3pt_field_goal', -0.29028463454838599),\n",
       " ('SHOT_ZONE_BASIC:above_the_break_3', 0.28883620666995452),\n",
       " ('COMBINED_SHOT_TYPE:bank_shot', -0.2781053688972015),\n",
       " ('COMBINED_SHOT_TYPE:tip_shot', -0.27639847613753171),\n",
       " ('SHOT_ZONE_RANGE:24+_ft.', 0.26400206853949076),\n",
       " ('ACTION_TYPE:turnaround_bank_shot', 0.25226740592669145),\n",
       " ('ACTION_TYPE:driving_finger_roll_layup_shot', 0.24350557416850621),\n",
       " ('ACTION_TYPE:driving_layup_shot', 0.2277793146925767),\n",
       " ('SEASON_OPPONENT:sac:1999-00', 0.2249155562058851),\n",
       " ('ACTION_TYPE:driving_finger_roll_shot', 0.19607281212636629),\n",
       " ('SEASON_OPPONENT:cle:2004-05', -0.19507338756361456),\n",
       " ('ACTION_TYPE:running_finger_roll_layup_shot', 0.19143080430203885),\n",
       " ('SEASON_OPPONENT:mem:2009-10', 0.1896538481597774)]"
      ]
     },
     "execution_count": 59,
     "metadata": {},
     "output_type": "execute_result"
    }
   ],
   "source": [
    "ridge = Ridge(alpha=1.0)\n",
    "ridge.fit(X_train_ss, y_train)\n",
    "print(ridge.score(X_train_ss, y_train))\n",
    "print (ridge.score(X_test_ss, y_test))\n",
    "top_coefs(df.columns, ridge.coef_)"
   ]
  },
  {
   "cell_type": "code",
   "execution_count": 53,
   "metadata": {},
   "outputs": [
    {
     "name": "stdout",
     "output_type": "stream",
     "text": [
      "0.804233559503\n",
      "[('SHOT_ZONE_BASIC:restricted_area', 1.1069584988781884), ('COMBINED_SHOT_TYPE:jump_shot', 0.74429225954910061), ('SHOT_ZONE_RANGE:16-24_ft.', 0.60867227921111411), ('COMBINED_SHOT_TYPE:layup', -0.54795758700807307), ('SHOT_ZONE_AREA:center(c)', 0.4630226022519362), ('COMBINED_SHOT_TYPE:bank_shot', -0.4068671527903408), ('SHOT_TYPE:2pt_field_goal', 0.38993551091311679), ('ACTION_TYPE:turnaround_bank_shot', 0.38906968234334072), ('SHOT_ZONE_RANGE:8-16_ft.', 0.34031860143424875), ('MEAN_SHOT_DISTANCE', 0.34014799298522408), ('SHOT_ZONE_AREA:right_side(r)', 0.32358569308911522), ('SHOT_TYPE:3pt_field_goal', 0.31677208869479251), ('ACTION_TYPE:jump_shot', -0.28931360863443317), ('ACTION_TYPE:jump_bank_shot', 0.27943621660426776), ('COMBINED_SHOT_TYPE:tip_shot', -0.24800871584718356), ('ACTION_TYPE:running_bank_shot', 0.24097881769748511), ('SHOT_ZONE_AREA:right_side_center(rc)', 0.22269849805274755), ('COMBINED_SHOT_TYPE:dunk', 0.20837168593709063), ('SEASON_OPPONENT:sac:1999-00', 0.20755173250653133), ('SEASON_OPPONENT:nyk:2008-09', 0.1767667753468958), ('SEASON_OPPONENT:bos:2015-16', -0.17578581350357006), ('PERIOD', -0.17125808119602243), ('SEASON_OPPONENT:sea:2004-05', 0.16761010956105241), ('SHOT_ZONE_BASIC:in_the_paint_(non-ra)', 0.16631910695831972), ('ACTION_TYPE:driving_hook_shot', -0.16270187230246408)]\n"
     ]
    }
   ],
   "source": [
    "ridge = Ridge(alpha=0.00001)\n",
    "ridge.fit(xs, y)\n",
    "print(ridge.score(X_train_ss, y_train))\n",
    "print(top_coefs(df.columns, ridge.coef_))"
   ]
  },
  {
   "cell_type": "code",
   "execution_count": 54,
   "metadata": {},
   "outputs": [
    {
     "name": "stdout",
     "output_type": "stream",
     "text": [
      "0.799743649713\n",
      "[('SHOT_ZONE_BASIC:restricted_area', 0.36753386597747856), ('COMBINED_SHOT_TYPE:jump_shot', 0.36664911681164869), ('SHOT_ZONE_RANGE:16-24_ft.', 0.36162101816819864), ('SHOT_ZONE_AREA:center(c)', 0.34974880834009664), ('SHOT_TYPE:2pt_field_goal', 0.33718545543700074), ('COMBINED_SHOT_TYPE:dunk', 0.32214446228382776), ('SHOT_ZONE_AREA:right_side(r)', 0.26218841224604544), ('ACTION_TYPE:jump_bank_shot', 0.24501485400796941), ('SHOT_ZONE_RANGE:8-16_ft.', 0.21865306298478013), ('SHOT_ZONE_BASIC:mid-range', 0.21609037532999131), ('SEASON_OPPONENT:sac:1999-00', 0.18797399254397895), ('SEASON_OPPONENT:nyk:2008-09', 0.16788634510114808), ('SHOT_TYPE:3pt_field_goal', 0.166474099057006), ('SEASON_OPPONENT:mem:2009-10', 0.16568375951858672), ('SECONDS_REMAINING', 0.16170413751104548), ('ACTION_TYPE:jump_shot', -0.1607426653304076), ('ACTION_TYPE:fadeaway_jump_shot', 0.15813744942500096), ('SHOT_ZONE_AREA:right_side_center(rc)', 0.15692884241164412), ('SEASON_OPPONENT:sea:2004-05', 0.15479275666483192), ('SEASON_OPPONENT:bos:2015-16', -0.15466411308979308), ('SHOT_ZONE_BASIC:above_the_break_3', 0.15280511215737072), ('SHOT_ZONE_RANGE:24+_ft.', 0.14945516381391594), ('SEASON_OPPONENT:phx:2009-10', 0.14253609530044006), ('SHOT_ZONE_AREA:left_side_center(lc)', 0.14112648864464594), ('ACTION_TYPE:reverse_dunk_shot', 0.13855731136385538)]\n"
     ]
    }
   ],
   "source": [
    "ridge = Ridge(alpha=100.00)\n",
    "ridge.fit(xs, y)\n",
    "print(ridge.score(X_train_ss, y_train))\n",
    "print(top_coefs(df.columns, ridge.coef_))"
   ]
  },
  {
   "cell_type": "code",
   "execution_count": 55,
   "metadata": {},
   "outputs": [
    {
     "data": {
      "text/plain": [
       "-2.235361253536081e+25"
      ]
     },
     "execution_count": 55,
     "metadata": {},
     "output_type": "execute_result"
    }
   ],
   "source": [
    "lr.score(X_train_ss, y_train)"
   ]
  },
  {
   "cell_type": "code",
   "execution_count": 56,
   "metadata": {
    "collapsed": true
   },
   "outputs": [],
   "source": [
    "X_test_ss = ss.transform(X_Test)"
   ]
  },
  {
   "cell_type": "code",
   "execution_count": 58,
   "metadata": {},
   "outputs": [
    {
     "data": {
      "text/plain": [
       "-9.8495153868063536e+25"
      ]
     },
     "execution_count": 58,
     "metadata": {},
     "output_type": "execute_result"
    }
   ],
   "source": [
    "lr.score(X_test_ss, y_test)"
   ]
  },
  {
   "cell_type": "code",
   "execution_count": 60,
   "metadata": {},
   "outputs": [
    {
     "name": "stdout",
     "output_type": "stream",
     "text": [
      "0.849947403735\n",
      "-0.926731364479\n"
     ]
    },
    {
     "data": {
      "text/plain": [
       "[('SHOT_TYPE:2pt_field_goal', 0.34363899382425039),\n",
       " ('COMBINED_SHOT_TYPE:jump_shot', 0.32947376639117959),\n",
       " ('SHOT_ZONE_RANGE:8-16_ft.', 0.31003897173228356),\n",
       " ('SHOT_ZONE_BASIC:restricted_area', 0.30760794887336357),\n",
       " ('COMBINED_SHOT_TYPE:dunk', 0.30390966432941996),\n",
       " ('SHOT_ZONE_RANGE:16-24_ft.', 0.28582956250623159),\n",
       " ('SHOT_ZONE_AREA:center(c)', 0.27370562952805294),\n",
       " ('SHOT_ZONE_AREA:right_side_center(rc)', 0.27162288311038507),\n",
       " ('SHOT_ZONE_BASIC:mid-range', 0.23982769334161438),\n",
       " ('ACTION_TYPE:jump_bank_shot', 0.23563803954479948),\n",
       " ('SHOT_ZONE_AREA:right_side(r)', 0.20126290989559922),\n",
       " ('SEASON_OPPONENT:sac:1999-00', 0.18944751491309311),\n",
       " ('SEASON_OPPONENT:nyk:2008-09', 0.18355449613270702),\n",
       " ('SEASON_OPPONENT:mem:2009-10', 0.18081820561468273),\n",
       " ('SEASON_OPPONENT:sas:2014-15', -0.16478966267848041),\n",
       " ('ACTION_TYPE:driving_finger_roll_layup_shot', 0.16375607940478779),\n",
       " ('ACTION_TYPE:jump_shot', -0.15804874920727416),\n",
       " ('PERIOD', 0.15630057047822393),\n",
       " ('SEASON_OPPONENT:gsw:2015-16', -0.15468512787780814),\n",
       " ('SEASON_OPPONENT:mil:2005-06', 0.15280786642505931),\n",
       " ('SEASON_OPPONENT:uta:2006-07', 0.15238047568579499),\n",
       " ('SEASON_OPPONENT:mem:2001-02', 0.15151260025720681),\n",
       " ('SEASON_OPPONENT:cle:2015-16', 0.15146299137447214),\n",
       " ('SEASON_OPPONENT:phx:2011-12', 0.15128987427340898),\n",
       " ('SEASON_OPPONENT:sas:2010-11', -0.14963111397850798)]"
      ]
     },
     "execution_count": 60,
     "metadata": {},
     "output_type": "execute_result"
    }
   ],
   "source": [
    "ridge = Ridge(alpha=100.00)\n",
    "ridge.fit(X_train_ss, y_train)\n",
    "print(ridge.score(X_train_ss, y_train))\n",
    "print(ridge.score(X_test_ss, y_test))\n",
    "top_coefs(df.columns, ridge.coef_)"
   ]
  },
  {
   "cell_type": "code",
   "execution_count": 63,
   "metadata": {},
   "outputs": [
    {
     "name": "stdout",
     "output_type": "stream",
     "text": [
      "0.0\n",
      "-0.00560779733172\n"
     ]
    },
    {
     "data": {
      "text/plain": [
       "[('SHOT_TYPE:2pt_field_goal', 0.34363899382425039),\n",
       " ('COMBINED_SHOT_TYPE:jump_shot', 0.32947376639117959),\n",
       " ('SHOT_ZONE_RANGE:8-16_ft.', 0.31003897173228356),\n",
       " ('SHOT_ZONE_BASIC:restricted_area', 0.30760794887336357),\n",
       " ('COMBINED_SHOT_TYPE:dunk', 0.30390966432941996),\n",
       " ('SHOT_ZONE_RANGE:16-24_ft.', 0.28582956250623159),\n",
       " ('SHOT_ZONE_AREA:center(c)', 0.27370562952805294),\n",
       " ('SHOT_ZONE_AREA:right_side_center(rc)', 0.27162288311038507),\n",
       " ('SHOT_ZONE_BASIC:mid-range', 0.23982769334161438),\n",
       " ('ACTION_TYPE:jump_bank_shot', 0.23563803954479948),\n",
       " ('SHOT_ZONE_AREA:right_side(r)', 0.20126290989559922),\n",
       " ('SEASON_OPPONENT:sac:1999-00', 0.18944751491309311),\n",
       " ('SEASON_OPPONENT:nyk:2008-09', 0.18355449613270702),\n",
       " ('SEASON_OPPONENT:mem:2009-10', 0.18081820561468273),\n",
       " ('SEASON_OPPONENT:sas:2014-15', -0.16478966267848041),\n",
       " ('ACTION_TYPE:driving_finger_roll_layup_shot', 0.16375607940478779),\n",
       " ('ACTION_TYPE:jump_shot', -0.15804874920727416),\n",
       " ('PERIOD', 0.15630057047822393),\n",
       " ('SEASON_OPPONENT:gsw:2015-16', -0.15468512787780814),\n",
       " ('SEASON_OPPONENT:mil:2005-06', 0.15280786642505931),\n",
       " ('SEASON_OPPONENT:uta:2006-07', 0.15238047568579499),\n",
       " ('SEASON_OPPONENT:mem:2001-02', 0.15151260025720681),\n",
       " ('SEASON_OPPONENT:cle:2015-16', 0.15146299137447214),\n",
       " ('SEASON_OPPONENT:phx:2011-12', 0.15128987427340898),\n",
       " ('SEASON_OPPONENT:sas:2010-11', -0.14963111397850798)]"
      ]
     },
     "execution_count": 63,
     "metadata": {},
     "output_type": "execute_result"
    }
   ],
   "source": [
    "lasso = Lasso(alpha=10.00)\n",
    "lasso.fit(X_train_ss, y_train)\n",
    "print(lasso.score(X_train_ss, y_train))\n",
    "print(lasso.score(X_test_ss, y_test))\n",
    "top_coefs(df.columns, ridge.coef_)"
   ]
  },
  {
   "cell_type": "code",
   "execution_count": 64,
   "metadata": {},
   "outputs": [
    {
     "name": "stdout",
     "output_type": "stream",
     "text": [
      "0.53163272999\n",
      "-0.32098256836\n"
     ]
    },
    {
     "data": {
      "text/plain": [
       "[('SHOT_TYPE:2pt_field_goal', 0.88110140849005658),\n",
       " ('SECONDS_REMAINING', 0.59699839049676851),\n",
       " ('PERIOD', 0.27960619280889004),\n",
       " ('AWAY_GAME', -0.0),\n",
       " ('SEASON_OPPONENT:atl:1996-97', 0.0),\n",
       " ('SEASON_OPPONENT:atl:1997-98', -0.0),\n",
       " ('SEASON_OPPONENT:atl:1999-00', 0.0),\n",
       " ('SEASON_OPPONENT:atl:2000-01', 0.0),\n",
       " ('SEASON_OPPONENT:atl:2001-02', 0.0),\n",
       " ('SEASON_OPPONENT:atl:2002-03', 0.0),\n",
       " ('SEASON_OPPONENT:atl:2003-04', 0.0),\n",
       " ('SEASON_OPPONENT:atl:2004-05', 0.0),\n",
       " ('SEASON_OPPONENT:atl:2005-06', -0.0),\n",
       " ('SEASON_OPPONENT:atl:2006-07', 0.0),\n",
       " ('SEASON_OPPONENT:atl:2007-08', -0.0),\n",
       " ('SEASON_OPPONENT:atl:2008-09', -0.0),\n",
       " ('SEASON_OPPONENT:atl:2009-10', 0.0),\n",
       " ('SEASON_OPPONENT:atl:2010-11', 0.0),\n",
       " ('SEASON_OPPONENT:atl:2011-12', -0.0),\n",
       " ('SEASON_OPPONENT:atl:2012-13', 0.0),\n",
       " ('SEASON_OPPONENT:atl:2013-14', 0.0),\n",
       " ('SEASON_OPPONENT:atl:2014-15', 0.0),\n",
       " ('SEASON_OPPONENT:atl:2015-16', -0.0),\n",
       " ('SEASON_OPPONENT:bkn:2012-13', -0.0),\n",
       " ('SEASON_OPPONENT:bkn:2015-16', 0.0)]"
      ]
     },
     "execution_count": 64,
     "metadata": {},
     "output_type": "execute_result"
    }
   ],
   "source": [
    "lasso = Lasso(alpha=1.0)\n",
    "lasso.fit(X_train_ss, y_train)\n",
    "print(lasso.score(X_train_ss, y_train))\n",
    "print(lasso.score(X_test_ss,y_test))\n",
    "top_coefs(df.columns, lasso.coef_)"
   ]
  },
  {
   "cell_type": "code",
   "execution_count": 66,
   "metadata": {},
   "outputs": [
    {
     "name": "stdout",
     "output_type": "stream",
     "text": [
      "0.53163272999\n",
      "-0.32098256836\n"
     ]
    },
    {
     "data": {
      "text/plain": [
       "[('SHOT_TYPE:2pt_field_goal', 0.88110140849005658),\n",
       " ('SECONDS_REMAINING', 0.59699839049676851),\n",
       " ('PERIOD', 0.27960619280889004),\n",
       " ('AWAY_GAME', -0.0),\n",
       " ('SEASON_OPPONENT:atl:1996-97', 0.0),\n",
       " ('SEASON_OPPONENT:atl:1997-98', -0.0),\n",
       " ('SEASON_OPPONENT:atl:1999-00', 0.0),\n",
       " ('SEASON_OPPONENT:atl:2000-01', 0.0),\n",
       " ('SEASON_OPPONENT:atl:2001-02', 0.0),\n",
       " ('SEASON_OPPONENT:atl:2002-03', 0.0),\n",
       " ('SEASON_OPPONENT:atl:2003-04', 0.0),\n",
       " ('SEASON_OPPONENT:atl:2004-05', 0.0),\n",
       " ('SEASON_OPPONENT:atl:2005-06', -0.0),\n",
       " ('SEASON_OPPONENT:atl:2006-07', 0.0),\n",
       " ('SEASON_OPPONENT:atl:2007-08', -0.0),\n",
       " ('SEASON_OPPONENT:atl:2008-09', -0.0),\n",
       " ('SEASON_OPPONENT:atl:2009-10', 0.0),\n",
       " ('SEASON_OPPONENT:atl:2010-11', 0.0),\n",
       " ('SEASON_OPPONENT:atl:2011-12', -0.0),\n",
       " ('SEASON_OPPONENT:atl:2012-13', 0.0),\n",
       " ('SEASON_OPPONENT:atl:2013-14', 0.0),\n",
       " ('SEASON_OPPONENT:atl:2014-15', 0.0),\n",
       " ('SEASON_OPPONENT:atl:2015-16', -0.0),\n",
       " ('SEASON_OPPONENT:bkn:2012-13', -0.0),\n",
       " ('SEASON_OPPONENT:bkn:2015-16', 0.0)]"
      ]
     },
     "execution_count": 66,
     "metadata": {},
     "output_type": "execute_result"
    }
   ],
   "source": [
    "lasso = Lasso(alpha=1.0)\n",
    "lasso.fit(X_train_ss, y_train)\n",
    "print(lasso.score(X_train_ss, y_train))\n",
    "print(lasso.score(X_test_ss,y_test))\n",
    "top_coefs(df.columns, lasso.coef_)"
   ]
  },
  {
   "cell_type": "code",
   "execution_count": 68,
   "metadata": {},
   "outputs": [
    {
     "name": "stdout",
     "output_type": "stream",
     "text": [
      "0.584714001267\n",
      "-0.420538438066\n"
     ]
    },
    {
     "data": {
      "text/plain": [
       "[('SHOT_TYPE:2pt_field_goal', 0.45295012149304076),\n",
       " ('SECONDS_REMAINING', 0.40939680408065759),\n",
       " ('PERIOD', 0.35605401527747921),\n",
       " ('COMBINED_SHOT_TYPE:jump_shot', 0.34374235088927141),\n",
       " ('MINUTES_REMAINING', 0.25292527494688904),\n",
       " ('SHOT_ZONE_AREA:center(c)', 0.1945003683311288),\n",
       " ('SHOT_ZONE_BASIC:mid-range', 0.10742714033246925),\n",
       " ('SHOT_ZONE_BASIC:restricted_area', 0.098404643484274287),\n",
       " ('COMBINED_SHOT_TYPE:dunk', 0.015405372061100181),\n",
       " ('SHOT_ZONE_RANGE:16-24_ft.', 0.013376861001677476),\n",
       " ('SHOT_ZONE_AREA:right_side_center(rc)', 0.010488049840943786),\n",
       " ('AWAY_GAME', -0.0),\n",
       " ('SEASON_OPPONENT:atl:1996-97', 0.0),\n",
       " ('SEASON_OPPONENT:atl:1997-98', -0.0),\n",
       " ('SEASON_OPPONENT:atl:1999-00', 0.0),\n",
       " ('SEASON_OPPONENT:atl:2000-01', 0.0),\n",
       " ('SEASON_OPPONENT:atl:2001-02', 0.0),\n",
       " ('SEASON_OPPONENT:atl:2002-03', 0.0),\n",
       " ('SEASON_OPPONENT:atl:2003-04', 0.0),\n",
       " ('SEASON_OPPONENT:atl:2004-05', 0.0),\n",
       " ('SEASON_OPPONENT:atl:2005-06', -0.0),\n",
       " ('SEASON_OPPONENT:atl:2006-07', 0.0),\n",
       " ('SEASON_OPPONENT:atl:2007-08', -0.0),\n",
       " ('SEASON_OPPONENT:atl:2008-09', -0.0),\n",
       " ('SEASON_OPPONENT:atl:2009-10', 0.0)]"
      ]
     },
     "execution_count": 68,
     "metadata": {},
     "output_type": "execute_result"
    }
   ],
   "source": [
    "elastic = ElasticNet(alpha=1.0)\n",
    "elastic.fit(X_train_ss, y_train)\n",
    "print(elastic.score(X_train_ss, y_train))\n",
    "print(elastic.score(X_test_ss,y_test))\n",
    "top_coefs(df.columns, elastic.coef_)"
   ]
  },
  {
   "cell_type": "code",
   "execution_count": 69,
   "metadata": {},
   "outputs": [
    {
     "name": "stdout",
     "output_type": "stream",
     "text": [
      "0.857422750642\n",
      "-0.997780972087\n"
     ]
    },
    {
     "name": "stderr",
     "output_type": "stream",
     "text": [
      "/Users/ajinthchristudas/anaconda/lib/python3.6/site-packages/sklearn/linear_model/coordinate_descent.py:484: ConvergenceWarning: Objective did not converge. You might want to increase the number of iterations. Fitting data with very small alpha may cause precision problems.\n",
      "  ConvergenceWarning)\n"
     ]
    },
    {
     "data": {
      "text/plain": [
       "[('SHOT_ZONE_BASIC:restricted_area', 1.4544439005502123),\n",
       " ('SHOT_ZONE_RANGE:16-24_ft.', 1.0328242380813282),\n",
       " ('COMBINED_SHOT_TYPE:layup', -0.9971613132942948),\n",
       " ('SHOT_ZONE_RANGE:8-16_ft.', 0.93298297342932091),\n",
       " ('SHOT_ZONE_RANGE:24+_ft.', 0.71947285877312384),\n",
       " ('MEAN_SHOT_DISTANCE', 0.71066017084527699),\n",
       " ('SHOT_ZONE_RANGE:less_than_8_ft.', 0.60356469238652355),\n",
       " ('ACTION_TYPE:jump_shot', -0.5097736495482319),\n",
       " ('SHOT_ZONE_BASIC:above_the_break_3', 0.38693103832021364),\n",
       " ('SHOT_TYPE:3pt_field_goal', -0.38419686041529039),\n",
       " ('SHOT_ZONE_BASIC:in_the_paint_(non-ra)', 0.322187366058652),\n",
       " ('COMBINED_SHOT_TYPE:tip_shot', -0.30648578315919195),\n",
       " ('ACTION_TYPE:jump_bank_shot', 0.30442662553161459),\n",
       " ('SHOT_ZONE_AREA:right_side_center(rc)', 0.29188327947992365),\n",
       " ('COMBINED_SHOT_TYPE:bank_shot', -0.27377831620035326),\n",
       " ('SEASON_OPPONENT:sac:1999-00', 0.23198169096155177),\n",
       " ('ACTION_TYPE:driving_finger_roll_layup_shot', 0.23139726047842396),\n",
       " ('ACTION_TYPE:turnaround_bank_shot', 0.22143279927483944),\n",
       " ('COMBINED_SHOT_TYPE:jump_shot', 0.2200408787945822),\n",
       " ('CAREER_GAME_NUMBER', -0.21600482078600924),\n",
       " ('SEASON_OPPONENT:cle:2004-05', -0.203801144313664),\n",
       " ('SEASON_OPPONENT:mem:2009-10', 0.19323388826851082),\n",
       " ('SEASON_OPPONENT:nyk:2008-09', 0.19205369145369508),\n",
       " ('SEASON_OPPONENT:gsw:2015-16', -0.18753953984179933),\n",
       " ('ACTION_TYPE:running_finger_roll_layup_shot', 0.18610551557851629)]"
      ]
     },
     "execution_count": 69,
     "metadata": {},
     "output_type": "execute_result"
    }
   ],
   "source": [
    "elastic = ElasticNet(alpha=0.001)\n",
    "elastic.fit(X_train_ss, y_train)\n",
    "print(elastic.score(X_train_ss, y_train))\n",
    "print(elastic.score(X_test_ss,y_test))\n",
    "top_coefs(df.columns, elastic.coef_)"
   ]
  },
  {
   "cell_type": "code",
   "execution_count": null,
   "metadata": {
    "collapsed": true
   },
   "outputs": [],
   "source": []
  }
 ],
 "metadata": {
  "kernelspec": {
   "display_name": "Python 3",
   "language": "python",
   "name": "python3"
  },
  "language_info": {
   "codemirror_mode": {
    "name": "ipython",
    "version": 3
   },
   "file_extension": ".py",
   "mimetype": "text/x-python",
   "name": "python",
   "nbconvert_exporter": "python",
   "pygments_lexer": "ipython3",
   "version": "3.6.1"
  }
 },
 "nbformat": 4,
 "nbformat_minor": 1
}
